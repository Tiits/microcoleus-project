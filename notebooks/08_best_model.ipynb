{
 "cells": [
  {
   "metadata": {},
   "cell_type": "markdown",
   "source": [
    "# Improved EfficientNet-B0 Training Pipeline\n",
    "This notebook implements several best practices to boost EfficientNet-B0 performance:\n",
    "1. Weighted sampling for class balance\n",
    "2. RandAugment + MixUp + CutMix augmentations\n",
    "3. Label smoothing\n",
    "4. CosineAnnealingLR with warm restarts\n",
    "5. Progressive unfreezing\n",
    "6. Validation threshold tuning for F1"
   ],
   "id": "2abdb858c02ba57c"
  },
  {
   "metadata": {},
   "cell_type": "markdown",
   "source": "## 1. Imports & Config",
   "id": "92326a6d3b0a028a"
  },
  {
   "metadata": {
    "ExecuteTime": {
     "end_time": "2025-07-31T13:22:05.078293Z",
     "start_time": "2025-07-31T13:22:05.041136Z"
    }
   },
   "cell_type": "code",
   "source": [
    "import collections\n",
    "import copy\n",
    "import os\n",
    "import subprocess\n",
    "from datetime import date\n",
    "import random\n",
    "\n",
    "import matplotlib.pyplot as plt\n",
    "from IPython.display import display as IPythonDisplay\n",
    "import numpy as np\n",
    "import pandas as pd\n",
    "import seaborn as sns\n",
    "import torch\n",
    "import torch.nn as nn\n",
    "import torch.nn.functional as F\n",
    "import torch.optim as optim\n",
    "import yaml\n",
    "from sklearn.metrics import accuracy_score, f1_score, roc_auc_score\n",
    "from sklearn.metrics import average_precision_score, classification_report, confusion_matrix\n",
    "from sklearn.model_selection import StratifiedGroupKFold\n",
    "from tensorboard.notebook import display\n",
    "from torch.utils.data import DataLoader, Subset, WeightedRandomSampler\n",
    "from torchvision import datasets, transforms, models\n",
    "from torchvision.datasets import ImageFolder\n",
    "from torchvision.models import EfficientNet_B0_Weights\n",
    "\n",
    "# load base config and override\n",
    "with open('../configs/config_best_model.yaml') as f:\n",
    "    cfg = yaml.safe_load(f)\n",
    "\n",
    "# Build inference threshold list from config\n",
    "cfg['inference']['thresholds'] = list(\n",
    "    np.linspace(\n",
    "        cfg['inference']['thresholds']['start'],\n",
    "        cfg['inference']['thresholds']['end'],\n",
    "        cfg['inference']['thresholds']['num']\n",
    "    )\n",
    ")\n",
    "\n",
    "# device\n",
    "device = torch.device('cuda' if torch.cuda.is_available() else 'mps' if torch.backends.mps.is_available() else 'cpu')\n",
    "print(\"Using device:\", device)\n",
    "\n",
    "# Reproducibility\n",
    "seed = cfg.get('seed', 42)\n",
    "random.seed(seed)\n",
    "np.random.seed(seed)\n",
    "torch.manual_seed(seed)\n",
    "\n",
    "if torch.cuda.is_available():\n",
    "    torch.cuda.manual_seed_all(seed)\n",
    "torch.backends.cudnn.deterministic = True\n",
    "torch.backends.cudnn.benchmark = False\n",
    "\n",
    "def clear_memory():\n",
    "    \"\"\"Clear GPU memory for both CUDA and MPS\"\"\"\n",
    "    if torch.cuda.is_available():\n",
    "        torch.cuda.empty_cache()\n",
    "    elif torch.backends.mps.is_available():\n",
    "        torch.mps.empty_cache()\n",
    "\n",
    "FIG_OUT = os.path.join('..', 'outputs', 'figures', 'Switzerland', 'finetune_efficientnet_b0')\n",
    "os.makedirs(FIG_OUT, exist_ok=True)\n",
    "CP_OUT = os.path.join('..', 'outputs', 'checkpoints', 'Switzerland', 'finetune_efficientnet_b0')\n",
    "os.makedirs(CP_OUT, exist_ok=True)\n",
    "CFG_OUT = os.path.join('..', 'outputs', 'configs', 'Switzerland')\n",
    "os.makedirs(CFG_OUT, exist_ok=True)\n",
    "\n",
    "today = date.today().isoformat()\n",
    "commit = subprocess.check_output([\"git\",\"rev-parse\",\"--short\",\"HEAD\"]).decode().strip()\n",
    "run_id = f\"{today}_{commit}\"\n",
    "\n",
    "print(\"Run ID :\", run_id)"
   ],
   "id": "8e34ac4b99ed96f8",
   "outputs": [
    {
     "name": "stdout",
     "output_type": "stream",
     "text": [
      "Using device: mps\n",
      "Run ID : 2025-07-31_a40e6c4\n"
     ]
    }
   ],
   "execution_count": 4
  },
  {
   "metadata": {},
   "cell_type": "markdown",
   "source": "## 2. Transforms & Dataset",
   "id": "d3d56c3e5502357e"
  },
  {
   "metadata": {
    "ExecuteTime": {
     "end_time": "2025-07-31T13:22:07.151928Z",
     "start_time": "2025-07-31T13:22:07.132052Z"
    }
   },
   "cell_type": "code",
   "source": [
    "# stronger augmentations\n",
    "train_transform = transforms.Compose([\n",
    "    transforms.RandomResizedCrop(tuple(cfg['augmentation']['resize']), scale=(0.7,1.0)),\n",
    "    transforms.RandomHorizontalFlip(),\n",
    "    transforms.RandomVerticalFlip(),\n",
    "    transforms.RandomRotation(cfg['augmentation']['rotation']),\n",
    "    transforms.ColorJitter(**cfg['augmentation']['color_jitter']),\n",
    "    transforms.RandAugment(num_ops=2, magnitude=9),\n",
    "    transforms.ToTensor(),\n",
    "    transforms.Normalize(mean=cfg['augmentation']['normalization']['mean'],\n",
    "                         std=cfg['augmentation']['normalization']['std']),\n",
    "    transforms.RandomErasing(**cfg['augmentation']['random_erasing'])\n",
    "])\n",
    "val_transform = transforms.Compose([\n",
    "    transforms.Resize(tuple(cfg['augmentation']['resize'])),\n",
    "    transforms.ToTensor(),\n",
    "    transforms.Normalize(mean=cfg['augmentation']['normalization']['mean'],\n",
    "                         std=cfg['augmentation']['normalization']['std']),\n",
    "])\n",
    "\n",
    "# load dataset\n",
    "dataset = datasets.ImageFolder(root=os.path.join('..', cfg['data']['path']), transform=train_transform)\n",
    "# Ensure config matches data\n",
    "assert cfg['model']['num_classes'] == len(dataset.classes), (\n",
    "    f\"Config num_classes ({cfg['model']['num_classes']}) \"\n",
    "    f\"doesn't match dataset classes ({len(dataset.classes)})\"\n",
    ")\n",
    "# extract groups for StratifiedGroupKFold\n",
    "groups = [os.path.basename(p).split('_')[0] for p,_ in dataset.samples]\n",
    "targets = np.array(dataset.targets)\n",
    "# compute class weights for balanced loss (normalized to average ~1)\n",
    "class_counts = np.bincount(targets)\n",
    "num_classes = len(class_counts)\n",
    "total_samples = len(targets)\n",
    "class_weights = torch.tensor(\n",
    "    total_samples / (class_counts * num_classes),\n",
    "    dtype=torch.float32\n",
    ").to(device)"
   ],
   "id": "689f9ce5904846bd",
   "outputs": [],
   "execution_count": 5
  },
  {
   "metadata": {},
   "cell_type": "markdown",
   "source": "## 3. StratifiedGroupKFold + Weighted Sampler Utility",
   "id": "9412661307a5a047"
  },
  {
   "metadata": {
    "ExecuteTime": {
     "end_time": "2025-07-31T13:23:49.333213Z",
     "start_time": "2025-07-31T13:23:49.321780Z"
    }
   },
   "cell_type": "code",
   "source": [
    "def make_sampler(indices):\n",
    "    # compute class counts in this subset\n",
    "    subset_targets = targets[indices]\n",
    "    class_sample_count = np.bincount(subset_targets)\n",
    "    # weight per class = 1/count\n",
    "    weight_per_class = 1.0 / class_sample_count\n",
    "    # assign a weight to each sample\n",
    "    sample_weights = weight_per_class[subset_targets]\n",
    "    # ensure reproducible sampling\n",
    "    gen = torch.Generator()\n",
    "    gen.manual_seed(seed)\n",
    "    return WeightedRandomSampler(\n",
    "        weights=sample_weights,\n",
    "        num_samples=len(sample_weights),\n",
    "        replacement=True,\n",
    "        generator=gen\n",
    "    )\n",
    "\n",
    "\n",
    "# determine number of splits and initialize splitter\n",
    "n_splits = min(int(np.unique(groups, return_counts=True)[1].min()), 5)\n",
    "sgkf = StratifiedGroupKFold(n_splits=n_splits, shuffle=True, random_state=cfg.get('seed', 42))\n",
    "\n",
    "# enforce balanced validation class ratio\n",
    "overall_pos_frac = np.mean(targets == 1)\n",
    "tolerance = cfg['validation']['tolerance']  # allow ± drift from overall positive fraction\n",
    "good_folds = []\n",
    "for tr, vl in sgkf.split(np.zeros(len(targets)), targets, groups):\n",
    "    val_t = targets[vl]\n",
    "    # require both classes present\n",
    "    if len(np.unique(val_t)) < 2:\n",
    "        continue\n",
    "    val_frac = np.bincount(val_t)[1] / len(val_t)\n",
    "    if abs(val_frac - overall_pos_frac) <= tolerance:\n",
    "        good_folds.append((tr, vl))\n",
    "\n",
    "# if enough balanced folds found, use them; otherwise fallback\n",
    "folds = good_folds\n",
    "\n",
    "# Count positives/negatives in val of fold 1\n",
    "print(len(folds))\n",
    "for i in range(len(folds)):\n",
    "    fold = list(folds)[i]  # Access the first fold\n",
    "    tr_idx, vl_idx = fold  # Unpack the training and validation indices\n",
    "    val_targets = targets[vl_idx]\n",
    "    print(collections.Counter(val_targets))\n",
    "\n",
    "\n",
    "## 4. Model Factory (EfficientNet-B0 only)\n",
    "def get_efficientnet_b0(cfg):\n",
    "    model = models.efficientnet_b0(weights=EfficientNet_B0_Weights.DEFAULT if cfg['model']['pretrained'] else None)\n",
    "    in_feats = model.classifier[1].in_features\n",
    "    model.classifier = nn.Sequential(\n",
    "        nn.Dropout(float(cfg['model']['dropout_prob'])),\n",
    "        nn.Linear(in_feats, cfg['model']['num_classes'])\n",
    "    )\n",
    "    return model.to(device)"
   ],
   "id": "2d57d794fd77993",
   "outputs": [
    {
     "name": "stdout",
     "output_type": "stream",
     "text": [
      "2\n",
      "Counter({np.int64(0): 89, np.int64(1): 51})\n",
      "Counter({np.int64(0): 74, np.int64(1): 63})\n"
     ]
    }
   ],
   "execution_count": 12
  },
  {
   "metadata": {
    "ExecuteTime": {
     "end_time": "2025-07-31T13:23:51.912285Z",
     "start_time": "2025-07-31T13:23:51.909716Z"
    }
   },
   "cell_type": "code",
   "source": [
    "class FocalLoss(nn.Module):\n",
    "    def __init__(self, weight=None, gamma=2, reduction='mean', label_smoothing=0.0):\n",
    "        super().__init__()\n",
    "        self.weight = weight\n",
    "        self.gamma = gamma\n",
    "        self.reduction = reduction\n",
    "        self.label_smoothing = label_smoothing\n",
    "    def forward(self, inputs, targets):\n",
    "        ce_loss = F.cross_entropy(\n",
    "            inputs, targets,\n",
    "            weight=self.weight,\n",
    "            reduction='none',\n",
    "            label_smoothing=self.label_smoothing\n",
    "        )\n",
    "        pt = torch.exp(-ce_loss)\n",
    "        loss = ((1 - pt) ** self.gamma) * ce_loss\n",
    "        if self.reduction == 'mean':\n",
    "            return loss.mean()\n",
    "        return loss.sum()"
   ],
   "id": "8d0c656e98e1ef34",
   "outputs": [],
   "execution_count": 13
  },
  {
   "metadata": {},
   "cell_type": "markdown",
   "source": "## 5. MixUp & CutMix Functions",
   "id": "afe6b174d69765f5"
  },
  {
   "metadata": {
    "ExecuteTime": {
     "end_time": "2025-07-31T13:23:53.335897Z",
     "start_time": "2025-07-31T13:23:53.331751Z"
    }
   },
   "cell_type": "code",
   "source": [
    "def mixcut(x, y, alpha=0.4, cutmix_prob=0.5):\n",
    "    if np.random.rand() < cutmix_prob:\n",
    "        # CutMix\n",
    "        lam = np.random.beta(alpha, alpha)\n",
    "        bs, c, h, w = x.size()\n",
    "        idx = torch.randperm(bs).to(device)\n",
    "        # bounding box\n",
    "        cut_w = int(w * np.sqrt(1-lam))\n",
    "        cut_h = int(h * np.sqrt(1-lam))\n",
    "        cx = np.random.randint(w)\n",
    "        cy = np.random.randint(h)\n",
    "        x0 = max(cx - cut_w//2, 0)\n",
    "        y0 = max(cy - cut_h//2, 0)\n",
    "        x1 = min(cx + cut_w//2, w)\n",
    "        y1 = min(cy + cut_h//2, h)\n",
    "        x[:,:,y0:y1,x0:x1] = x[idx,:,y0:y1,x0:x1]\n",
    "        lam = 1 - ((x1-x0)*(y1-y0)/(w*h))\n",
    "        y_a, y_b = y, y[idx]\n",
    "    else:\n",
    "        # MixUp\n",
    "        lam = np.random.beta(alpha, alpha)\n",
    "        idx = torch.randperm(x.size(0)).to(device)\n",
    "        x = lam*x + (1-lam)*x[idx]\n",
    "        y_a, y_b = y, y[idx]\n",
    "    return x, y_a, y_b, lam"
   ],
   "id": "bde21ba5b6065054",
   "outputs": [],
   "execution_count": 14
  },
  {
   "metadata": {},
   "cell_type": "markdown",
   "source": "## 6. Training & Evaluation Functions",
   "id": "89ad4dc65fdc4035"
  },
  {
   "metadata": {
    "ExecuteTime": {
     "end_time": "2025-07-31T13:23:54.773272Z",
     "start_time": "2025-07-31T13:23:54.769472Z"
    }
   },
   "cell_type": "code",
   "source": [
    "def train_one_epoch(model, loader, optimizer, scheduler, criterion):\n",
    "    model.train()\n",
    "    running_loss = 0.0\n",
    "    for x, y in loader:\n",
    "        x, y = x.to(device), y.to(device)\n",
    "        x, y_a, y_b, lam = mixcut(x,y,\n",
    "                                  alpha=float(cfg['training']['mixup_alpha']),\n",
    "                                  cutmix_prob=0.5 if cfg['training']['use_cutmix'] else 0.0)\n",
    "        optimizer.zero_grad()\n",
    "        logits = model(x)\n",
    "        loss = lam*criterion(logits, y_a) + (1-lam)*criterion(logits, y_b)\n",
    "        loss.backward()\n",
    "        optimizer.step()\n",
    "        running_loss += loss.item()*x.size(0)\n",
    "    return running_loss/len(loader.dataset)\n",
    "\n",
    "@torch.no_grad()\n",
    "def evaluate(model, loader, threshold):\n",
    "    model.eval()\n",
    "    ys, ps = [], []\n",
    "    for x,y in loader:\n",
    "        x = x.to(device)\n",
    "        logits = model(x)\n",
    "        prob = F.softmax(logits, dim=1)[:,1].cpu().numpy()\n",
    "        ys.extend(y.numpy())\n",
    "        ps.extend(prob)\n",
    "    preds = (np.array(ps)>=threshold).astype(int)\n",
    "    return accuracy_score(ys, preds), roc_auc_score(ys, ps), f1_score(ys, preds)"
   ],
   "id": "2c9fba687829d508",
   "outputs": [],
   "execution_count": 15
  },
  {
   "metadata": {},
   "cell_type": "markdown",
   "source": "## 7. Full CV Loop for EfficientNet-B0",
   "id": "731ecc77ce5192b9"
  },
  {
   "metadata": {
    "ExecuteTime": {
     "end_time": "2025-07-31T14:03:45.715170Z",
     "start_time": "2025-07-31T13:23:56.406499Z"
    }
   },
   "cell_type": "code",
   "source": [
    "results = []\n",
    "\n",
    "for fold_idx, (tr_idx, vl_idx) in enumerate(folds, 1):\n",
    "    # initialize history for this fold\n",
    "    history = {'val_loss': []}\n",
    "    print(f\"\\n--- Fold {fold_idx}/{len(folds)} ---\")\n",
    "    # subsets\n",
    "    train_ds = Subset(dataset, tr_idx)\n",
    "    val_ds   = Subset(datasets.ImageFolder(os.path.join('..',cfg['data']['path']), transform=val_transform), vl_idx)\n",
    "    # samplers/loaders\n",
    "    sampler = make_sampler(tr_idx)\n",
    "    train_loader = DataLoader(train_ds, batch_size=cfg['data']['batch_size'], sampler=sampler,\n",
    "                              num_workers=cfg['data']['num_workers'])\n",
    "    val_loader   = DataLoader(val_ds,   batch_size=cfg['data']['batch_size'], shuffle=False,\n",
    "                              num_workers=cfg['data']['num_workers'])\n",
    "    # model\n",
    "    model = get_efficientnet_b0(cfg)\n",
    "    # use focal loss with class weights\n",
    "    criterion = FocalLoss(\n",
    "        weight=class_weights,\n",
    "        gamma=2,\n",
    "        reduction='mean',\n",
    "        label_smoothing=float(cfg['training']['label_smoothing'])\n",
    "    ).to(device)\n",
    "    # optimizer & scheduler\n",
    "    optimizer = optim.AdamW(\n",
    "        model.parameters(),\n",
    "        lr=float(cfg['training']['learning_rate']),\n",
    "        weight_decay=float(cfg['training']['weight_decay'])\n",
    "    )\n",
    "    scheduler = optim.lr_scheduler.CosineAnnealingLR(\n",
    "        optimizer,\n",
    "        T_max=cfg['training']['epochs'],\n",
    "        eta_min=1e-6\n",
    "    )\n",
    "\n",
    "    # -- head warmup --\n",
    "    for name,param in model.named_parameters():\n",
    "        param.requires_grad = name.startswith('classifier')\n",
    "    for epoch in range(3):\n",
    "        loss = train_one_epoch(model, train_loader, optimizer, scheduler, criterion)\n",
    "        print(f\"Warmup E{epoch+1}/3 loss: {loss:.4f}\")\n",
    "    # -- unfreeze all --\n",
    "    for param in model.parameters():\n",
    "        param.requires_grad = True\n",
    "    # re-init optimizer/scheduler\n",
    "    optimizer = optim.AdamW(\n",
    "        model.parameters(),\n",
    "        lr=float(cfg['training']['learning_rate']),\n",
    "        weight_decay=float(cfg['training']['weight_decay'])\n",
    "    )\n",
    "    scheduler = optim.lr_scheduler.CosineAnnealingLR(\n",
    "        optimizer,\n",
    "        T_max=cfg['training']['epochs'],\n",
    "        eta_min=1e-6\n",
    "    )\n",
    "\n",
    "    # fine-tune with early stopping and fixed-threshold validation\n",
    "    best_f1 = 0\n",
    "    best_epoch = -1\n",
    "    best_state = None\n",
    "\n",
    "    for epoch in range(cfg['training']['epochs']):\n",
    "        loss = train_one_epoch(model, train_loader, optimizer, scheduler, criterion)\n",
    "        acc, auc, f1_val = evaluate(model, val_loader, threshold=0.5)\n",
    "        print(f\"Epoch {epoch+1}/{cfg['training']['epochs']}: loss {loss:.4f} | val_acc {acc:.3f} | val_auc {auc:.3f} | val_f1 {f1_val:.3f} (thr=0.50)\")\n",
    "        # Compute and record validation loss\n",
    "        model.eval()\n",
    "        val_losses = []\n",
    "        for x_val, y_val in val_loader:\n",
    "            x_val, y_val = x_val.to(device), y_val.to(device)\n",
    "            logits_val = model(x_val)\n",
    "            loss_val = criterion(logits_val, y_val)\n",
    "            val_losses.append(loss_val.item() * x_val.size(0))\n",
    "        avg_val_loss = sum(val_losses) / len(val_loader.dataset)\n",
    "        history['val_loss'].append(avg_val_loss)\n",
    "        if f1_val > best_f1:\n",
    "            best_f1 = f1_val\n",
    "            best_epoch = epoch\n",
    "            best_state = copy.deepcopy(model.state_dict())\n",
    "        if epoch - best_epoch >= cfg['training']['patience']:\n",
    "            print(f\"Stopping early at epoch {epoch+1}\")\n",
    "            break\n",
    "        # Step LR scheduler per epoch\n",
    "        scheduler.step()\n",
    "    # reload best model state\n",
    "    model.load_state_dict(best_state)\n",
    "    # threshold tuning on best model\n",
    "    best_thr, best_thr_f1 = 0.5, 0\n",
    "    for thr in cfg['inference']['thresholds']:\n",
    "        _, _, f1_val = evaluate(model, val_loader, thr)\n",
    "        if f1_val > best_thr_f1:\n",
    "            best_thr_f1, best_thr = f1_val, thr\n",
    "    acc, auc, f1_val = evaluate(model, val_loader, best_thr)\n",
    "    print(f\"Best tuned threshold: {best_thr:.2f}, F1: {f1_val:.2f}, Acc: {acc:.2f}\")\n",
    "    # Collect per-fold detailed results\n",
    "    # Gather true labels and probabilities\n",
    "    y_true, y_prob = [], []\n",
    "    for x_val, y_val in val_loader:\n",
    "        x_val = x_val.to(device)\n",
    "        logits_val = model(x_val)\n",
    "        probs = torch.softmax(logits_val, dim=1)[:,1].detach().cpu().numpy()\n",
    "        y_true.extend(y_val.numpy())\n",
    "        y_prob.extend(probs)\n",
    "    y_pred = (np.array(y_prob) >= best_thr).astype(int)\n",
    "    # Compute reports and matrices\n",
    "    report = classification_report(y_true, y_pred, output_dict=True)\n",
    "    cm = confusion_matrix(y_true, y_pred)\n",
    "    avg_pr = average_precision_score(y_true, y_prob)\n",
    "\n",
    "    results.append({\n",
    "        'fold': fold_idx,\n",
    "        'roc_auc': auc,\n",
    "        'best_thr': best_thr,\n",
    "        'average_precision': avg_pr,\n",
    "        'accuracy': accuracy_score(y_true, y_pred),\n",
    "        'report': report,\n",
    "        'history': history,\n",
    "        'y_true': y_true,\n",
    "        'y_prob': y_prob,\n",
    "        'confusion_matrix': cm\n",
    "    })\n",
    "\n",
    "    # Save best model for this fold\n",
    "    fold_dir = os.path.join(CP_OUT, f'fold_{fold_idx}')\n",
    "    os.makedirs(fold_dir, exist_ok=True)\n",
    "    torch.save(best_state, os.path.join(fold_dir, 'best_model.pth'))"
   ],
   "id": "5836fd6f5459611f",
   "outputs": [
    {
     "name": "stdout",
     "output_type": "stream",
     "text": [
      "\n",
      "--- Fold 1/2 ---\n",
      "Warmup E1/3 loss: 0.1820\n",
      "Warmup E2/3 loss: 0.1885\n",
      "Warmup E3/3 loss: 0.1832\n",
      "Epoch 1/30: loss 0.1654 | val_acc 0.600 | val_auc 0.619 | val_f1 0.472 (thr=0.50)\n",
      "Epoch 2/30: loss 0.1626 | val_acc 0.650 | val_auc 0.760 | val_f1 0.566 (thr=0.50)\n",
      "Epoch 3/30: loss 0.1601 | val_acc 0.736 | val_auc 0.828 | val_f1 0.667 (thr=0.50)\n",
      "Epoch 4/30: loss 0.1589 | val_acc 0.750 | val_auc 0.844 | val_f1 0.639 (thr=0.50)\n",
      "Epoch 5/30: loss 0.1538 | val_acc 0.843 | val_auc 0.918 | val_f1 0.800 (thr=0.50)\n",
      "Epoch 6/30: loss 0.1452 | val_acc 0.857 | val_auc 0.910 | val_f1 0.815 (thr=0.50)\n",
      "Epoch 7/30: loss 0.1399 | val_acc 0.857 | val_auc 0.924 | val_f1 0.815 (thr=0.50)\n",
      "Epoch 8/30: loss 0.1429 | val_acc 0.850 | val_auc 0.920 | val_f1 0.811 (thr=0.50)\n",
      "Epoch 9/30: loss 0.1512 | val_acc 0.879 | val_auc 0.922 | val_f1 0.841 (thr=0.50)\n",
      "Epoch 10/30: loss 0.1386 | val_acc 0.836 | val_auc 0.918 | val_f1 0.785 (thr=0.50)\n",
      "Epoch 11/30: loss 0.1304 | val_acc 0.843 | val_auc 0.924 | val_f1 0.792 (thr=0.50)\n",
      "Epoch 12/30: loss 0.1371 | val_acc 0.879 | val_auc 0.953 | val_f1 0.838 (thr=0.50)\n",
      "Epoch 13/30: loss 0.1380 | val_acc 0.886 | val_auc 0.955 | val_f1 0.849 (thr=0.50)\n",
      "Epoch 14/30: loss 0.1314 | val_acc 0.871 | val_auc 0.952 | val_f1 0.836 (thr=0.50)\n",
      "Epoch 15/30: loss 0.1297 | val_acc 0.886 | val_auc 0.964 | val_f1 0.855 (thr=0.50)\n",
      "Epoch 16/30: loss 0.1283 | val_acc 0.879 | val_auc 0.955 | val_f1 0.847 (thr=0.50)\n",
      "Epoch 17/30: loss 0.1332 | val_acc 0.864 | val_auc 0.943 | val_f1 0.822 (thr=0.50)\n",
      "Epoch 18/30: loss 0.1276 | val_acc 0.886 | val_auc 0.964 | val_f1 0.852 (thr=0.50)\n",
      "Epoch 19/30: loss 0.1389 | val_acc 0.886 | val_auc 0.958 | val_f1 0.855 (thr=0.50)\n",
      "Epoch 20/30: loss 0.1311 | val_acc 0.900 | val_auc 0.962 | val_f1 0.868 (thr=0.50)\n",
      "Epoch 21/30: loss 0.1333 | val_acc 0.886 | val_auc 0.945 | val_f1 0.846 (thr=0.50)\n",
      "Epoch 22/30: loss 0.1279 | val_acc 0.871 | val_auc 0.946 | val_f1 0.836 (thr=0.50)\n",
      "Epoch 23/30: loss 0.1305 | val_acc 0.850 | val_auc 0.915 | val_f1 0.796 (thr=0.50)\n",
      "Epoch 24/30: loss 0.1267 | val_acc 0.893 | val_auc 0.971 | val_f1 0.865 (thr=0.50)\n",
      "Epoch 25/30: loss 0.1143 | val_acc 0.879 | val_auc 0.954 | val_f1 0.847 (thr=0.50)\n",
      "Stopping early at epoch 25\n",
      "Best tuned threshold: 0.50, F1: 0.87, Acc: 0.90\n",
      "\n",
      "--- Fold 2/2 ---\n",
      "Warmup E1/3 loss: 0.1939\n",
      "Warmup E2/3 loss: 0.1918\n",
      "Warmup E3/3 loss: 0.1888\n",
      "Epoch 1/30: loss 0.1706 | val_acc 0.657 | val_auc 0.767 | val_f1 0.676 (thr=0.50)\n",
      "Epoch 2/30: loss 0.1607 | val_acc 0.745 | val_auc 0.861 | val_f1 0.768 (thr=0.50)\n",
      "Epoch 3/30: loss 0.1529 | val_acc 0.766 | val_auc 0.881 | val_f1 0.781 (thr=0.50)\n",
      "Epoch 4/30: loss 0.1594 | val_acc 0.752 | val_auc 0.837 | val_f1 0.750 (thr=0.50)\n",
      "Epoch 5/30: loss 0.1502 | val_acc 0.774 | val_auc 0.886 | val_f1 0.774 (thr=0.50)\n",
      "Epoch 6/30: loss 0.1446 | val_acc 0.788 | val_auc 0.920 | val_f1 0.797 (thr=0.50)\n",
      "Epoch 7/30: loss 0.1344 | val_acc 0.818 | val_auc 0.931 | val_f1 0.818 (thr=0.50)\n",
      "Epoch 8/30: loss 0.1515 | val_acc 0.869 | val_auc 0.946 | val_f1 0.864 (thr=0.50)\n",
      "Epoch 9/30: loss 0.1458 | val_acc 0.869 | val_auc 0.967 | val_f1 0.871 (thr=0.50)\n",
      "Epoch 10/30: loss 0.1365 | val_acc 0.854 | val_auc 0.936 | val_f1 0.846 (thr=0.50)\n",
      "Epoch 11/30: loss 0.1440 | val_acc 0.825 | val_auc 0.939 | val_f1 0.831 (thr=0.50)\n",
      "Epoch 12/30: loss 0.1310 | val_acc 0.861 | val_auc 0.955 | val_f1 0.859 (thr=0.50)\n",
      "Epoch 13/30: loss 0.1417 | val_acc 0.839 | val_auc 0.958 | val_f1 0.845 (thr=0.50)\n",
      "Epoch 14/30: loss 0.1469 | val_acc 0.847 | val_auc 0.941 | val_f1 0.847 (thr=0.50)\n",
      "Stopping early at epoch 14\n",
      "Best tuned threshold: 0.55, F1: 0.91, Acc: 0.92\n"
     ]
    }
   ],
   "execution_count": 16
  },
  {
   "metadata": {
    "ExecuteTime": {
     "end_time": "2025-07-31T14:15:40.418208Z",
     "start_time": "2025-07-31T14:05:09.452046Z"
    }
   },
   "cell_type": "code",
   "source": [
    "# Compute average threshold across folds\n",
    "best_thrs = [r['best_thr'] for r in results]\n",
    "avg_thr = sum(best_thrs) / len(best_thrs)\n",
    "print(f'Average threshold across folds: {avg_thr:.2f}')\n",
    "\n",
    "clear_memory()\n",
    "\n",
    "# Train final model on all data\n",
    "full_dataset = ImageFolder(root=os.path.join('..', cfg['data']['path']), transform=train_transform)\n",
    "full_loader = DataLoader(full_dataset, batch_size=cfg['data']['batch_size'],\n",
    "                         sampler=make_sampler(range(len(full_dataset))), num_workers=cfg['data']['num_workers'])\n",
    "model = get_efficientnet_b0(cfg)\n",
    "criterion = FocalLoss(\n",
    "    weight=class_weights,\n",
    "    gamma=2,\n",
    "    reduction='mean',\n",
    "    label_smoothing=float(cfg['training']['label_smoothing'])\n",
    ").to(device)\n",
    "optimizer = optim.AdamW(\n",
    "    model.parameters(),\n",
    "    lr=float(cfg['training']['learning_rate']),\n",
    "    weight_decay=float(cfg['training']['weight_decay'])\n",
    ")\n",
    "scheduler = optim.lr_scheduler.CosineAnnealingLR(\n",
    "    optimizer,\n",
    "    T_max=cfg['training']['epochs'],\n",
    "    eta_min=1e-6\n",
    ")\n",
    "for epoch in range(cfg['training']['epochs']):\n",
    "    loss = train_one_epoch(model, full_loader, optimizer, scheduler, criterion)\n",
    "    print(f\"Full training Epoch {epoch + 1}/{cfg['training']['epochs']} loss: {loss:.4f}\")\n",
    "    # Step LR scheduler per epoch\n",
    "    scheduler.step()\n",
    "# Save general model\n",
    "general_model_path = os.path.join(CP_OUT, f'{run_id}_general_model.pth')\n",
    "torch.save(model.state_dict(), general_model_path)\n",
    "print(f'General model saved to {general_model_path}')"
   ],
   "id": "aba2c95b535feaa2",
   "outputs": [
    {
     "name": "stdout",
     "output_type": "stream",
     "text": [
      "Average threshold across folds: 0.53\n",
      "Full training Epoch 1/30 loss: 0.1809\n",
      "Full training Epoch 2/30 loss: 0.1676\n",
      "Full training Epoch 3/30 loss: 0.1534\n",
      "Full training Epoch 4/30 loss: 0.1521\n",
      "Full training Epoch 5/30 loss: 0.1601\n",
      "Full training Epoch 6/30 loss: 0.1511\n",
      "Full training Epoch 7/30 loss: 0.1398\n",
      "Full training Epoch 8/30 loss: 0.1397\n",
      "Full training Epoch 9/30 loss: 0.1370\n",
      "Full training Epoch 10/30 loss: 0.1399\n",
      "Full training Epoch 11/30 loss: 0.1269\n",
      "Full training Epoch 12/30 loss: 0.1328\n",
      "Full training Epoch 13/30 loss: 0.1344\n",
      "Full training Epoch 14/30 loss: 0.1334\n",
      "Full training Epoch 15/30 loss: 0.1353\n",
      "Full training Epoch 16/30 loss: 0.1277\n",
      "Full training Epoch 17/30 loss: 0.1262\n",
      "Full training Epoch 18/30 loss: 0.1216\n",
      "Full training Epoch 19/30 loss: 0.1295\n",
      "Full training Epoch 20/30 loss: 0.1245\n",
      "Full training Epoch 21/30 loss: 0.1213\n",
      "Full training Epoch 22/30 loss: 0.1348\n",
      "Full training Epoch 23/30 loss: 0.1322\n",
      "Full training Epoch 24/30 loss: 0.1288\n",
      "Full training Epoch 25/30 loss: 0.1262\n",
      "Full training Epoch 26/30 loss: 0.1206\n",
      "Full training Epoch 27/30 loss: 0.1343\n",
      "Full training Epoch 28/30 loss: 0.1305\n",
      "Full training Epoch 29/30 loss: 0.1380\n",
      "Full training Epoch 30/30 loss: 0.1259\n",
      "General model saved to ../outputs/checkpoints/Switzerland/finetune_efficientnet_b0/2025-07-31_a40e6c4_general_model.pth\n"
     ]
    }
   ],
   "execution_count": 17
  },
  {
   "metadata": {},
   "cell_type": "markdown",
   "source": "# 8. Metrics Visualization",
   "id": "d4c8ee1e52302656"
  },
  {
   "metadata": {
    "ExecuteTime": {
     "end_time": "2025-07-31T14:17:15.466778Z",
     "start_time": "2025-07-31T14:17:15.307275Z"
    }
   },
   "cell_type": "code",
   "source": [
    "# 8.1 Metrics Summary\n",
    "df_results = pd.DataFrame([{\n",
    "    'fold': r['fold'],\n",
    "    'roc_auc': r['roc_auc'],\n",
    "    'average_precision': r['average_precision'],\n",
    "    'accuracy': r['accuracy']\n",
    "} for r in results]).set_index('fold')\n",
    "\n",
    "csv_path = os.path.join(FIG_OUT, f\"{run_id}_folds_metrics_report.csv\")\n",
    "df_results.to_csv(csv_path, index=True)\n",
    "\n",
    "print(\"\\n=== Summary EfficientNet-B0 ===\")\n",
    "IPythonDisplay(df_results)\n",
    "print(\"\\nMean ± std deviation:\")\n",
    "print(df_results.mean().rename('mean').to_frame().join(df_results.std().rename('std').to_frame()))"
   ],
   "id": "b47a09540aad80cb",
   "outputs": [
    {
     "name": "stdout",
     "output_type": "stream",
     "text": [
      "\n",
      "=== Summary EfficientNet-B0 ===\n"
     ]
    },
    {
     "data": {
      "text/plain": [
       "       roc_auc  average_precision  accuracy\n",
       "fold                                       \n",
       "1     0.962106           0.942996  0.900000\n",
       "2     0.967181           0.965511  0.919708"
      ],
      "text/html": [
       "<div>\n",
       "<style scoped>\n",
       "    .dataframe tbody tr th:only-of-type {\n",
       "        vertical-align: middle;\n",
       "    }\n",
       "\n",
       "    .dataframe tbody tr th {\n",
       "        vertical-align: top;\n",
       "    }\n",
       "\n",
       "    .dataframe thead th {\n",
       "        text-align: right;\n",
       "    }\n",
       "</style>\n",
       "<table border=\"1\" class=\"dataframe\">\n",
       "  <thead>\n",
       "    <tr style=\"text-align: right;\">\n",
       "      <th></th>\n",
       "      <th>roc_auc</th>\n",
       "      <th>average_precision</th>\n",
       "      <th>accuracy</th>\n",
       "    </tr>\n",
       "    <tr>\n",
       "      <th>fold</th>\n",
       "      <th></th>\n",
       "      <th></th>\n",
       "      <th></th>\n",
       "    </tr>\n",
       "  </thead>\n",
       "  <tbody>\n",
       "    <tr>\n",
       "      <th>1</th>\n",
       "      <td>0.962106</td>\n",
       "      <td>0.942996</td>\n",
       "      <td>0.900000</td>\n",
       "    </tr>\n",
       "    <tr>\n",
       "      <th>2</th>\n",
       "      <td>0.967181</td>\n",
       "      <td>0.965511</td>\n",
       "      <td>0.919708</td>\n",
       "    </tr>\n",
       "  </tbody>\n",
       "</table>\n",
       "</div>"
      ]
     },
     "metadata": {},
     "output_type": "display_data"
    },
    {
     "name": "stdout",
     "output_type": "stream",
     "text": [
      "\n",
      "Mean ± std deviation:\n",
      "                       mean       std\n",
      "roc_auc            0.964644  0.003589\n",
      "average_precision  0.954253  0.015920\n",
      "accuracy           0.909854  0.013936\n"
     ]
    }
   ],
   "execution_count": 18
  },
  {
   "metadata": {
    "ExecuteTime": {
     "end_time": "2025-07-31T14:17:30.786255Z",
     "start_time": "2025-07-31T14:17:30.429955Z"
    }
   },
   "cell_type": "code",
   "source": [
    "# 8.2 Metrics Boxplots\n",
    "plt.figure(figsize=(8,5))\n",
    "plt.figure()\n",
    "plt.boxplot([\n",
    "    df_results['roc_auc'],\n",
    "    df_results['average_precision'],\n",
    "    df_results['accuracy']\n",
    "], tick_labels=['ROC AUC', 'Average Precision', 'Accuracy'])\n",
    "plt.title(\"Distribution of metrics across folds\")\n",
    "plt.ylabel(\"Score\")\n",
    "plt.savefig(os.path.join(FIG_OUT, f\"{run_id}_folds_metrics.png\"), dpi=300)\n",
    "plt.show()"
   ],
   "id": "ea1e31b2ef989829",
   "outputs": [
    {
     "data": {
      "text/plain": [
       "<Figure size 800x500 with 0 Axes>"
      ]
     },
     "metadata": {},
     "output_type": "display_data"
    },
    {
     "data": {
      "text/plain": [
       "<Figure size 640x480 with 1 Axes>"
      ],
      "image/png": "[encoded data removed]"
     },
     "metadata": {},
     "output_type": "display_data"
    }
   ],
   "execution_count": 19
  },
  {
   "metadata": {
    "ExecuteTime": {
     "end_time": "2025-07-31T14:17:43.699418Z",
     "start_time": "2025-07-31T14:17:43.556840Z"
    }
   },
   "cell_type": "code",
   "source": [
    "# 7.3 Per-fold Validation Loss Curves\n",
    "plt.figure()\n",
    "for r in results:\n",
    "    epochs = range(1, len(r['history']['val_loss'])+1)\n",
    "    plt.plot(epochs, r['history']['val_loss'], alpha=0.3, label=f\"Fold {r['fold']}\")\n",
    "# Mean validation loss\n",
    "mean_val = pd.DataFrame([r['history']['val_loss'] for r in results]).mean()\n",
    "epochs = mean_val.index\n",
    "plt.plot(epochs, mean_val, color='black', linewidth=2, label='Mean')\n",
    "plt.xlabel(\"Epoch\")\n",
    "plt.ylabel(\"Validation Loss\")\n",
    "plt.title(\"Validation Loss per fold\")\n",
    "plt.legend()\n",
    "plt.savefig(os.path.join(FIG_OUT, f\"{run_id}_folds_loss.png\"), dpi=300)\n",
    "plt.show()"
   ],
   "id": "a5b34cb6723bd8bc",
   "outputs": [
    {
     "data": {
      "text/plain": [
       "<Figure size 640x480 with 1 Axes>"
      ],
      "image/png": "[encoded data removed]"
     },
     "metadata": {},
     "output_type": "display_data"
    }
   ],
   "execution_count": 20
  },
  {
   "metadata": {
    "ExecuteTime": {
     "end_time": "2025-07-31T14:20:13.654971Z",
     "start_time": "2025-07-31T14:20:13.419445Z"
    }
   },
   "cell_type": "code",
   "source": [
    "# 7.4 Per-fold Confusion Matrices\n",
    "fig, axes = plt.subplots(1, len(results), figsize=(5 * len(results), 4))\n",
    "if len(results) == 1:\n",
    "    axes = [axes]\n",
    "for r, ax in zip(results, axes):\n",
    "    sns.heatmap(r['confusion_matrix'], annot=True, fmt='d', cmap='Blues', ax=ax)\n",
    "    ax.set_title(f\"Fold {r['fold']} Confusion Matrix\")\n",
    "    ax.set_xlabel(\"Predicted\")\n",
    "    ax.set_ylabel(\"True\")\n",
    "plt.tight_layout()\n",
    "plt.savefig(os.path.join(FIG_OUT, f\"{run_id}_confusion_matrices.png\"), dpi=300)\n",
    "plt.show()"
   ],
   "id": "9f17d581dfd1a468",
   "outputs": [
    {
     "data": {
      "text/plain": [
       "<Figure size 1000x400 with 4 Axes>"
      ],
      "image/png": "[encoded data removed]"
     },
     "metadata": {},
     "output_type": "display_data"
    }
   ],
   "execution_count": 25
  },
  {
   "metadata": {
    "ExecuteTime": {
     "end_time": "2025-07-31T14:20:26.623023Z",
     "start_time": "2025-07-31T14:20:26.528520Z"
    }
   },
   "cell_type": "code",
   "source": [
    "# 7.5 Aggregate Confusion Matrix\n",
    "agg_cm = sum(r['confusion_matrix'] for r in results)\n",
    "plt.figure(figsize=(5, 4))\n",
    "sns.heatmap(agg_cm, annot=True, fmt='d', cmap='Blues')\n",
    "plt.title(\"Aggregate Confusion Matrix\")\n",
    "plt.xlabel(\"Predicted\")\n",
    "plt.ylabel(\"True\")\n",
    "plt.savefig(os.path.join(FIG_OUT, f\"{run_id}_aggregate_confusion_matrix.png\"), dpi=300)\n",
    "plt.show()"
   ],
   "id": "69e673cb7b00fd96",
   "outputs": [
    {
     "data": {
      "text/plain": [
       "<Figure size 500x400 with 2 Axes>"
      ],
      "image/png": "[encoded data removed]"
     },
     "metadata": {},
     "output_type": "display_data"
    }
   ],
   "execution_count": 26
  },
  {
   "metadata": {},
   "cell_type": "markdown",
   "source": "# 9. Save configuration",
   "id": "d545981db728eba7"
  },
  {
   "metadata": {
    "ExecuteTime": {
     "end_time": "2025-07-31T14:23:30.051943Z",
     "start_time": "2025-07-31T14:23:30.040232Z"
    }
   },
   "cell_type": "code",
   "source": [
    "with open(os.path.join(CFG_OUT, f'{run_id}_config_finetune_efficientnet_b0.yaml'), 'w') as f:\n",
    "    yaml.dump(cfg, f)\n",
    "\n",
    "clear_memory()\n",
    "\n",
    "print('Training complete. Model and config saved.')"
   ],
   "id": "7058ed949d9a18f9",
   "outputs": [
    {
     "name": "stdout",
     "output_type": "stream",
     "text": [
      "Training complete. Model and config saved.\n"
     ]
    }
   ],
   "execution_count": 32
  },
  {
   "metadata": {},
   "cell_type": "markdown",
   "source": "# 10. Testing",
   "id": "a992684663369478"
  },
  {
   "metadata": {
    "ExecuteTime": {
     "end_time": "2025-07-31T14:26:00.874786Z",
     "start_time": "2025-07-31T14:26:00.869290Z"
    }
   },
   "cell_type": "code",
   "source": [
    "# 10.2 Dataset class\n",
    "class OutOfGroupDataset(ImageFolder):\n",
    "    def __init__(self, root, transform=None):\n",
    "        super().__init__(root=root, transform=transform)"
   ],
   "id": "2f5b37834913a2c5",
   "outputs": [],
   "execution_count": 36
  },
  {
   "metadata": {
    "ExecuteTime": {
     "end_time": "2025-07-31T14:26:14.123894Z",
     "start_time": "2025-07-31T14:26:14.117118Z"
    }
   },
   "cell_type": "code",
   "source": [
    "# 10.2 Testing\n",
    "# Load test dataset (out-of-group)\n",
    "test_transform = val_transform\n",
    "test_dataset = OutOfGroupDataset(root=os.path.join('..', 'data/raw/test'), transform=test_transform)\n",
    "test_loader = DataLoader(test_dataset, batch_size=cfg['data']['batch_size'], shuffle=False, num_workers=0)"
   ],
   "id": "cf0b21b68130011a",
   "outputs": [],
   "execution_count": 37
  },
  {
   "metadata": {
    "ExecuteTime": {
     "end_time": "2025-07-31T14:26:34.830475Z",
     "start_time": "2025-07-31T14:26:27.248840Z"
    }
   },
   "cell_type": "code",
   "source": [
    "# 10.2.a Test each fold model\n",
    "print(\"Testing each fold model on out-of-group test set\")\n",
    "\n",
    "for fold_idx in range(1, len(results)+1):\n",
    "    fold_ckpt = os.path.join(CP_OUT, f'fold_{fold_idx}', 'best_model.pth')\n",
    "    model = get_efficientnet_b0(cfg)\n",
    "    model.load_state_dict(torch.load(fold_ckpt))\n",
    "    model.eval()\n",
    "    fold_preds, fold_probs, fold_targets = [], [], []\n",
    "    with torch.no_grad():\n",
    "        for x, y in test_loader:\n",
    "            x = x.to(device)\n",
    "            logits = model(x)\n",
    "            probs = torch.softmax(logits, dim=1)[:, 1].cpu().numpy()\n",
    "            preds = (probs >= avg_thr).astype(int)\n",
    "            fold_preds.extend(preds)\n",
    "            fold_probs.extend(probs)\n",
    "            fold_targets.extend(y.numpy())\n",
    "    print(f\"Fold {fold_idx} Test ROC AUC: {roc_auc_score(fold_targets, fold_probs):.4f} \"\n",
    "          f\"F1: {f1_score(fold_targets, fold_preds):.4f}\")"
   ],
   "id": "da39b97df0989676",
   "outputs": [
    {
     "name": "stdout",
     "output_type": "stream",
     "text": [
      "Testing each fold model on out-of-group test set\n",
      "Fold 1 Test ROC AUC: 0.6481 F1: 0.6667\n",
      "Fold 2 Test ROC AUC: 0.5337 F1: 0.5236\n"
     ]
    }
   ],
   "execution_count": 38
  },
  {
   "metadata": {
    "ExecuteTime": {
     "end_time": "2025-07-31T14:26:51.647308Z",
     "start_time": "2025-07-31T14:26:48.389474Z"
    }
   },
   "cell_type": "code",
   "source": [
    "# 10.2.b Test model\n",
    "# Load model\n",
    "ckpt_path = os.path.join(CP_OUT, f'{run_id}_general_model.pth')\n",
    "model = get_efficientnet_b0(cfg)\n",
    "model.load_state_dict(torch.load(ckpt_path))\n",
    "model = model.to(device)\n",
    "model.eval()\n",
    "\n",
    "# Evaluate on test set\n",
    "print(f\"Testing using average threshold {avg_thr:.2f}\")\n",
    "all_preds = []\n",
    "all_probs = []\n",
    "all_targets = []\n",
    "\n",
    "with torch.no_grad():\n",
    "    for x, y in test_loader:\n",
    "        x = x.to(device)\n",
    "        logits = model(x)\n",
    "        probs = torch.softmax(logits, dim=1)[:, 1].cpu().numpy()\n",
    "        preds = (probs >= avg_thr).astype(int)\n",
    "        all_preds.extend(preds)\n",
    "        all_probs.extend(probs)\n",
    "        all_targets.extend(y.numpy())\n",
    "\n",
    "from sklearn.metrics import classification_report, confusion_matrix, accuracy_score, roc_auc_score, \\\n",
    "    average_precision_score\n",
    "\n",
    "print(\"Test Set Performance:\")\n",
    "print(classification_report(all_targets, all_preds))\n",
    "print(\"Confusion Matrix:\")\n",
    "print(confusion_matrix(all_targets, all_preds))\n",
    "print(f\"Accuracy: {accuracy_score(all_targets, all_preds):.4f}\")\n",
    "print(f\"ROC AUC: {roc_auc_score(all_targets, all_probs):.4f}\")\n",
    "print(f\"Average Precision: {average_precision_score(all_targets, all_probs):.4f}\")"
   ],
   "id": "35fa0537c6fe9d37",
   "outputs": [
    {
     "name": "stdout",
     "output_type": "stream",
     "text": [
      "Testing using average threshold 0.53\n",
      "Test Set Performance:\n",
      "              precision    recall  f1-score   support\n",
      "\n",
      "           0       0.58      0.39      0.47        99\n",
      "           1       0.51      0.69      0.58        90\n",
      "\n",
      "    accuracy                           0.53       189\n",
      "   macro avg       0.55      0.54      0.53       189\n",
      "weighted avg       0.55      0.53      0.52       189\n",
      "\n",
      "Confusion Matrix:\n",
      "[[39 60]\n",
      " [28 62]]\n",
      "Accuracy: 0.5344\n",
      "ROC AUC: 0.5471\n",
      "Average Precision: 0.4937\n"
     ]
    }
   ],
   "execution_count": 39
  }
 ],
 "metadata": {
  "kernelspec": {
   "display_name": "Python 3",
   "language": "python",
   "name": "python3"
  },
  "language_info": {
   "codemirror_mode": {
    "name": "ipython",
    "version": 2
   },
   "file_extension": ".py",
   "mimetype": "text/x-python",
   "name": "python",
   "nbconvert_exporter": "python",
   "pygments_lexer": "ipython2",
   "version": "2.7.6"
  }
 },
 "nbformat": 4,
 "nbformat_minor": 5
}

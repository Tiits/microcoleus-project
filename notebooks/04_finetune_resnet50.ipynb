{
 "cells": [
  {
   "metadata": {},
   "cell_type": "markdown",
   "source": [
    "# Entrainement finetune de modèles pré-entraînés\n",
    "Ce notebook présente :\n",
    "- Pipeline de prétraitement à partir des splits de finetune\n",
    "- Définition d’un modèle pré-entraîné\n",
    "- Entraînement et évaluation\n",
    "- Sauvegarde du meilleur modèle"
   ],
   "id": "2d07658de0762063"
  },
  {
   "metadata": {},
   "cell_type": "markdown",
   "source": "## Imports & Setup",
   "id": "b5054dc7049f42ef"
  },
  {
   "cell_type": "code",
   "id": "initial_id",
   "metadata": {
    "collapsed": true,
    "ExecuteTime": {
     "end_time": "2025-07-07T11:58:02.935026Z",
     "start_time": "2025-07-07T11:57:58.501526Z"
    }
   },
   "source": [
    "import os\n",
    "import warnings\n",
    "import pandas as pd\n",
    "from datetime import date\n",
    "import shutil\n",
    "import subprocess\n",
    "import tensorflow as tf\n",
    "from sklearn.utils import resample\n",
    "from tensorflow.keras import layers, models, callbacks, optimizers, losses, metrics as km\n",
    "from src.config_utils import load_config\n",
    "from src.preprocessing_finetune import get_train_datagen, get_val_datagen, make_dataset\n",
    "import matplotlib.pyplot as plt\n",
    "from sklearn.metrics import classification_report\n",
    "from src.metrics import (\n",
    "    compute_confusion_matrix, plot_confusion_matrix,\n",
    "    compute_roc_pr, plot_roc_pr,\n",
    "    compute_additional_metrics, calibration_plot,\n",
    "    threshold_metrics_curve\n",
    ")"
   ],
   "outputs": [],
   "execution_count": 2
  },
  {
   "metadata": {
    "ExecuteTime": {
     "end_time": "2025-07-07T11:58:03.571575Z",
     "start_time": "2025-07-07T11:58:03.526200Z"
    }
   },
   "cell_type": "code",
   "source": [
    "warnings.filterwarnings(\n",
    "    \"ignore\",\n",
    "    category=UserWarning,\n",
    "    module=\"keras\\\\.src\\\\.trainers\\\\.data_adapters\\\\.py_dataset_adapter\"\n",
    ")\n",
    "\n",
    "CFG_OUT  = os.path.join('..','outputs','configs','all')\n",
    "FIG_OUT  = os.path.join('..','outputs','figures', 'all', 'finetune_resnet50')\n",
    "LOG_OUT  = os.path.join('..','outputs','logs', 'all', 'finetune_resnet50')\n",
    "\n",
    "for d in (CFG_OUT, FIG_OUT, LOG_OUT):\n",
    "    os.makedirs(d, exist_ok=True)\n",
    "\n",
    "# Génération du Run ID: date + git hash\n",
    "today = date.today().isoformat()\n",
    "commit = subprocess.check_output([\"git\",\"rev-parse\",\"--short\",\"HEAD\"]).decode().strip()\n",
    "run_id = f\"{today}_{commit}\"\n",
    "\n",
    "# Chargement de la configuration via un chemin relatif\n",
    "config = load_config('../configs/config_finetune_resnet50.yaml')\n",
    "tf.random.set_seed(config['seed'])\n",
    "\n",
    "print(\"Run ID :\", run_id)"
   ],
   "id": "81698375c8fe39d0",
   "outputs": [
    {
     "name": "stdout",
     "output_type": "stream",
     "text": [
      "Run ID : 2025-07-07_4098e67\n"
     ]
    }
   ],
   "execution_count": 3
  },
  {
   "metadata": {},
   "cell_type": "markdown",
   "source": "##  Lecture des splits et création des DataFrames",
   "id": "5626409dcbf668cc"
  },
  {
   "metadata": {
    "ExecuteTime": {
     "end_time": "2025-07-07T11:58:08.580668Z",
     "start_time": "2025-07-07T11:58:08.564123Z"
    }
   },
   "cell_type": "code",
   "source": [
    "train_txt = \"../splits/all/finetune_resnet50/train.txt\"\n",
    "val_txt   = \"../splits/all/finetune_resnet50/val.txt\"\n",
    "\n",
    "with open(train_txt) as f: train_files = [l.strip() for l in f]\n",
    "with open(val_txt)   as f: val_files   = [l.strip() for l in f]\n",
    "\n",
    "train_df = pd.DataFrame({\n",
    "    'filename': train_files,\n",
    "    'class': [os.path.basename(os.path.dirname(p)) for p in train_files]\n",
    "})\n",
    "\n",
    "# Comptage dynamique\n",
    "counts = train_df['class'].value_counts()\n",
    "majority_class = counts.idxmax()\n",
    "minority_class = counts.idxmin()\n",
    "n_major = counts.max()\n",
    "\n",
    "df_major = train_df[train_df['class'] == majority_class]\n",
    "df_minor = train_df[train_df['class'] == minority_class]\n",
    "\n",
    "if len(df_minor) < n_major:\n",
    "    df_minor_upsampled = resample(\n",
    "        df_minor,\n",
    "        replace=True,\n",
    "        n_samples=n_major,\n",
    "        random_state=config['seed']\n",
    "    )\n",
    "    train_df = pd.concat([df_major, df_minor_upsampled])\n",
    "else:\n",
    "    train_df = train_df.copy()\n",
    "\n",
    "train_df = train_df.sample(frac=1, random_state=config['seed']).reset_index(drop=True)\n",
    "\n",
    "val_df = pd.DataFrame({\n",
    "    'filename': val_files,\n",
    "    'class': [os.path.basename(os.path.dirname(p)) for p in val_files]\n",
    "})\n",
    "\n",
    "cw = config['loss']['class_weights']\n",
    "train_df['weights'] = train_df['class'].map(cw)"
   ],
   "id": "bcafdcc1f1e2d86d",
   "outputs": [],
   "execution_count": 4
  },
  {
   "metadata": {},
   "cell_type": "markdown",
   "source": "## Générateurs Keras",
   "id": "c749a02c2bf5fb3b"
  },
  {
   "metadata": {
    "ExecuteTime": {
     "end_time": "2025-07-07T11:58:10.738129Z",
     "start_time": "2025-07-07T11:58:10.550594Z"
    }
   },
   "cell_type": "code",
   "source": [
    "# Conversion label en int (0/1) si nécessaire\n",
    "label_map = {k: v for v, k in enumerate(sorted(train_df['class'].unique()))}\n",
    "train_df['label'] = train_df['class'].map(label_map)\n",
    "val_df['label'] = val_df['class'].map(label_map)\n",
    "\n",
    "# Construction des datasets\n",
    "train_gen = make_dataset(\n",
    "    train_df,\n",
    "    img_size=tuple(config['input']['size']),\n",
    "    batch_size=config['input']['batch_size'],\n",
    "    shuffle=True,\n",
    "    augment_fn=get_train_datagen(config),\n",
    "    weights='weights'\n",
    ")\n",
    "\n",
    "val_gen = make_dataset(\n",
    "    val_df,\n",
    "    img_size=tuple(config['input']['size']),\n",
    "    batch_size=config['input']['batch_size'],\n",
    "    shuffle=False,\n",
    "    augment_fn=get_val_datagen(),\n",
    "    weights=None\n",
    ")"
   ],
   "id": "d0c3cb8a7c263770",
   "outputs": [],
   "execution_count": 5
  },
  {
   "metadata": {},
   "cell_type": "markdown",
   "source": "## Construction du modèle",
   "id": "9fc418c57525b703"
  },
  {
   "metadata": {
    "ExecuteTime": {
     "end_time": "2025-07-07T11:58:13.437235Z",
     "start_time": "2025-07-07T11:58:12.724435Z"
    }
   },
   "cell_type": "code",
   "source": [
    "base = tf.keras.applications.ResNet50(\n",
    "    include_top=False,\n",
    "    weights='imagenet' if config['model']['pretrained'] else None,\n",
    "    input_shape=tuple(config['input']['size']) + (3,),\n",
    "    pooling='avg'\n",
    ")\n",
    "\n",
    "for layer in base.layers[:100]:\n",
    "    layer.trainable = False\n",
    "\n",
    "x = layers.Dropout(0.6)(base.output)\n",
    "output = layers.Dense(config['model']['num_classes'])(x)\n",
    "model = models.Model(inputs=base.input, outputs=output)"
   ],
   "id": "c69bf9f7df383bb2",
   "outputs": [],
   "execution_count": 6
  },
  {
   "metadata": {},
   "cell_type": "markdown",
   "source": "## Compilation",
   "id": "b5d7b83ebecb1160"
  },
  {
   "metadata": {
    "ExecuteTime": {
     "end_time": "2025-07-07T11:58:14.512497Z",
     "start_time": "2025-07-07T11:58:14.500235Z"
    }
   },
   "cell_type": "code",
   "source": [
    "opt = optimizers.AdamW(\n",
    "    learning_rate=float(config['training']['optimizer']['lr']),\n",
    "    weight_decay=float(config['training']['optimizer']['weight_decay'])\n",
    ")\n",
    "\n",
    "loss_fn = losses.BinaryFocalCrossentropy(from_logits=False)\n",
    "\n",
    "metric_list = [\n",
    "    'accuracy',\n",
    "    km.Precision(name='precision_toxic'),\n",
    "    km.Recall(name='recall_toxic'),\n",
    "    km.AUC(name='roc_auc'),\n",
    "    km.AUC(name='pr_auc', curve='PR')\n",
    "]\n",
    "\n",
    "model.compile(optimizer=opt, loss=loss_fn, metrics=metric_list)\n",
    "\n",
    "# model.summary()"
   ],
   "id": "161654d3dc5b11e6",
   "outputs": [],
   "execution_count": 7
  },
  {
   "metadata": {},
   "cell_type": "markdown",
   "source": "## Callbacks et chemins",
   "id": "912b80948166bfa9"
  },
  {
   "metadata": {
    "ExecuteTime": {
     "end_time": "2025-07-07T11:58:17.244002Z",
     "start_time": "2025-07-07T11:58:17.239594Z"
    }
   },
   "cell_type": "code",
   "source": [
    "ckpt_dir = \"../outputs/checkpoints/all/finetune_resnet50\"\n",
    "os.makedirs(ckpt_dir, exist_ok=True)\n",
    "\n",
    "ckpt_path = os.path.join(ckpt_dir, 'finetune_resnet50.keras')\n",
    "\n",
    "es = callbacks.EarlyStopping(\n",
    "    monitor=config['training']['callbacks']['early_stopping']['monitor'],\n",
    "    mode=config['training']['callbacks']['early_stopping']['mode'],\n",
    "    patience=config['training']['callbacks']['early_stopping']['patience']\n",
    ")\n",
    "\n",
    "mc = callbacks.ModelCheckpoint(\n",
    "    filepath=ckpt_path,\n",
    "    monitor=config['training']['callbacks']['model_checkpoint']['monitor'],\n",
    "    mode=config['training']['callbacks']['model_checkpoint']['mode'],\n",
    "    save_best_only=True\n",
    ")"
   ],
   "id": "d2bc0d04d2d75a3f",
   "outputs": [],
   "execution_count": 8
  },
  {
   "metadata": {},
   "cell_type": "markdown",
   "source": "## Entraînement",
   "id": "a9e0bbb78afd1891"
  },
  {
   "metadata": {
    "ExecuteTime": {
     "end_time": "2025-07-06T21:51:55.030753Z",
     "start_time": "2025-07-06T21:41:42.227537Z"
    }
   },
   "cell_type": "code",
   "source": [
    "history = model.fit(\n",
    "    train_gen,\n",
    "    epochs=config['training']['epochs'],\n",
    "    validation_data=val_gen,\n",
    "    callbacks=[es, mc],\n",
    ")"
   ],
   "id": "9a7536b1a7f0f992",
   "outputs": [
    {
     "name": "stdout",
     "output_type": "stream",
     "text": [
      "Epoch 1/40\n",
      "\u001B[1m15/15\u001B[0m \u001B[32m━━━━━━━━━━━━━━━━━━━━\u001B[0m\u001B[37m\u001B[0m \u001B[1m33s\u001B[0m 2s/step - accuracy: 0.4735 - loss: 13.2863 - pr_auc: 0.4812 - precision_toxic: 0.4563 - recall_toxic: 0.3971 - roc_auc: 0.4803 - val_accuracy: 0.4157 - val_loss: 0.0000e+00 - val_pr_auc: 0.5843 - val_precision_toxic: 0.0000e+00 - val_recall_toxic: 0.0000e+00 - val_roc_auc: 0.5000\n",
      "Epoch 2/40\n",
      "\u001B[1m15/15\u001B[0m \u001B[32m━━━━━━━━━━━━━━━━━━━━\u001B[0m\u001B[37m\u001B[0m \u001B[1m26s\u001B[0m 2s/step - accuracy: 0.5000 - loss: 5.3177 - pr_auc: 0.4729 - precision_toxic: 0.4860 - recall_toxic: 0.3092 - roc_auc: 0.4666 - val_accuracy: 0.4157 - val_loss: 0.0000e+00 - val_pr_auc: 0.5843 - val_precision_toxic: 0.0000e+00 - val_recall_toxic: 0.0000e+00 - val_roc_auc: 0.5000\n",
      "Epoch 3/40\n",
      "\u001B[1m15/15\u001B[0m \u001B[32m━━━━━━━━━━━━━━━━━━━━\u001B[0m\u001B[37m\u001B[0m \u001B[1m25s\u001B[0m 2s/step - accuracy: 0.4850 - loss: 1.6848 - pr_auc: 0.5183 - precision_toxic: 0.4839 - recall_toxic: 0.4777 - roc_auc: 0.5187 - val_accuracy: 0.4157 - val_loss: 0.0000e+00 - val_pr_auc: 0.5843 - val_precision_toxic: 0.0000e+00 - val_recall_toxic: 0.0000e+00 - val_roc_auc: 0.5000\n",
      "Epoch 4/40\n",
      "\u001B[1m15/15\u001B[0m \u001B[32m━━━━━━━━━━━━━━━━━━━━\u001B[0m\u001B[37m\u001B[0m \u001B[1m25s\u001B[0m 2s/step - accuracy: 0.4479 - loss: 2.2476 - pr_auc: 0.4515 - precision_toxic: 0.4226 - recall_toxic: 0.3618 - roc_auc: 0.4485 - val_accuracy: 0.6067 - val_loss: 0.0000e+00 - val_pr_auc: 0.6101 - val_precision_toxic: 0.5977 - val_recall_toxic: 1.0000 - val_roc_auc: 0.6055\n",
      "Epoch 5/40\n",
      "\u001B[1m15/15\u001B[0m \u001B[32m━━━━━━━━━━━━━━━━━━━━\u001B[0m\u001B[37m\u001B[0m \u001B[1m25s\u001B[0m 2s/step - accuracy: 0.4866 - loss: 3.1958 - pr_auc: 0.4968 - precision_toxic: 0.4925 - recall_toxic: 0.5415 - roc_auc: 0.5021 - val_accuracy: 0.6067 - val_loss: 0.0000e+00 - val_pr_auc: 0.6108 - val_precision_toxic: 0.5977 - val_recall_toxic: 1.0000 - val_roc_auc: 0.6104\n",
      "Epoch 6/40\n",
      "\u001B[1m15/15\u001B[0m \u001B[32m━━━━━━━━━━━━━━━━━━━━\u001B[0m\u001B[37m\u001B[0m \u001B[1m25s\u001B[0m 2s/step - accuracy: 0.4913 - loss: 1.6116 - pr_auc: 0.5469 - precision_toxic: 0.5095 - recall_toxic: 0.3879 - roc_auc: 0.5276 - val_accuracy: 0.5843 - val_loss: 0.0000e+00 - val_pr_auc: 0.5897 - val_precision_toxic: 0.5843 - val_recall_toxic: 1.0000 - val_roc_auc: 0.5665\n",
      "Epoch 7/40\n",
      "\u001B[1m15/15\u001B[0m \u001B[32m━━━━━━━━━━━━━━━━━━━━\u001B[0m\u001B[37m\u001B[0m \u001B[1m25s\u001B[0m 2s/step - accuracy: 0.4718 - loss: 1.7859 - pr_auc: 0.4990 - precision_toxic: 0.4939 - recall_toxic: 0.4531 - roc_auc: 0.4567 - val_accuracy: 0.5843 - val_loss: 0.0000e+00 - val_pr_auc: 0.5909 - val_precision_toxic: 0.5843 - val_recall_toxic: 1.0000 - val_roc_auc: 0.5135\n",
      "Epoch 8/40\n",
      "\u001B[1m15/15\u001B[0m \u001B[32m━━━━━━━━━━━━━━━━━━━━\u001B[0m\u001B[37m\u001B[0m \u001B[1m25s\u001B[0m 2s/step - accuracy: 0.5027 - loss: 1.0367 - pr_auc: 0.5199 - precision_toxic: 0.5112 - recall_toxic: 0.4597 - roc_auc: 0.5078 - val_accuracy: 0.5843 - val_loss: 0.0000e+00 - val_pr_auc: 0.5627 - val_precision_toxic: 0.5843 - val_recall_toxic: 1.0000 - val_roc_auc: 0.5356\n",
      "Epoch 9/40\n",
      "\u001B[1m15/15\u001B[0m \u001B[32m━━━━━━━━━━━━━━━━━━━━\u001B[0m\u001B[37m\u001B[0m \u001B[1m25s\u001B[0m 2s/step - accuracy: 0.5025 - loss: 0.4756 - pr_auc: 0.5002 - precision_toxic: 0.4894 - recall_toxic: 0.4293 - roc_auc: 0.5116 - val_accuracy: 0.5843 - val_loss: 0.0000e+00 - val_pr_auc: 0.5993 - val_precision_toxic: 0.5843 - val_recall_toxic: 1.0000 - val_roc_auc: 0.5868\n",
      "Epoch 10/40\n",
      "\u001B[1m15/15\u001B[0m \u001B[32m━━━━━━━━━━━━━━━━━━━━\u001B[0m\u001B[37m\u001B[0m \u001B[1m25s\u001B[0m 2s/step - accuracy: 0.4132 - loss: 0.4106 - pr_auc: 0.4412 - precision_toxic: 0.3694 - recall_toxic: 0.3060 - roc_auc: 0.4191 - val_accuracy: 0.5843 - val_loss: 0.0000e+00 - val_pr_auc: 0.6124 - val_precision_toxic: 0.5843 - val_recall_toxic: 1.0000 - val_roc_auc: 0.5639\n",
      "Epoch 11/40\n",
      "\u001B[1m15/15\u001B[0m \u001B[32m━━━━━━━━━━━━━━━━━━━━\u001B[0m\u001B[37m\u001B[0m \u001B[1m25s\u001B[0m 2s/step - accuracy: 0.4941 - loss: 0.3574 - pr_auc: 0.5146 - precision_toxic: 0.4898 - recall_toxic: 0.3706 - roc_auc: 0.5063 - val_accuracy: 0.5843 - val_loss: 0.0000e+00 - val_pr_auc: 0.6014 - val_precision_toxic: 0.5843 - val_recall_toxic: 1.0000 - val_roc_auc: 0.5574\n",
      "Epoch 12/40\n",
      "\u001B[1m15/15\u001B[0m \u001B[32m━━━━━━━━━━━━━━━━━━━━\u001B[0m\u001B[37m\u001B[0m \u001B[1m25s\u001B[0m 2s/step - accuracy: 0.5008 - loss: 0.2276 - pr_auc: 0.4318 - precision_toxic: 0.4559 - recall_toxic: 0.3574 - roc_auc: 0.4509 - val_accuracy: 0.5843 - val_loss: 0.0000e+00 - val_pr_auc: 0.6033 - val_precision_toxic: 0.5843 - val_recall_toxic: 1.0000 - val_roc_auc: 0.5889\n",
      "Epoch 13/40\n",
      "\u001B[1m15/15\u001B[0m \u001B[32m━━━━━━━━━━━━━━━━━━━━\u001B[0m\u001B[37m\u001B[0m \u001B[1m25s\u001B[0m 2s/step - accuracy: 0.4934 - loss: 0.2388 - pr_auc: 0.5007 - precision_toxic: 0.4953 - recall_toxic: 0.4975 - roc_auc: 0.4705 - val_accuracy: 0.5843 - val_loss: 0.0000e+00 - val_pr_auc: 0.6541 - val_precision_toxic: 0.5843 - val_recall_toxic: 1.0000 - val_roc_auc: 0.6115\n",
      "Epoch 14/40\n",
      "\u001B[1m15/15\u001B[0m \u001B[32m━━━━━━━━━━━━━━━━━━━━\u001B[0m\u001B[37m\u001B[0m \u001B[1m25s\u001B[0m 2s/step - accuracy: 0.5070 - loss: 0.2733 - pr_auc: 0.4929 - precision_toxic: 0.5153 - recall_toxic: 0.4647 - roc_auc: 0.4992 - val_accuracy: 0.5843 - val_loss: 0.0000e+00 - val_pr_auc: 0.5830 - val_precision_toxic: 0.5843 - val_recall_toxic: 1.0000 - val_roc_auc: 0.5712\n",
      "Epoch 15/40\n",
      "\u001B[1m15/15\u001B[0m \u001B[32m━━━━━━━━━━━━━━━━━━━━\u001B[0m\u001B[37m\u001B[0m \u001B[1m25s\u001B[0m 2s/step - accuracy: 0.4989 - loss: 0.1448 - pr_auc: 0.4959 - precision_toxic: 0.4851 - recall_toxic: 0.4343 - roc_auc: 0.5063 - val_accuracy: 0.5843 - val_loss: 0.0000e+00 - val_pr_auc: 0.6119 - val_precision_toxic: 0.5843 - val_recall_toxic: 1.0000 - val_roc_auc: 0.5767\n",
      "Epoch 16/40\n",
      "\u001B[1m15/15\u001B[0m \u001B[32m━━━━━━━━━━━━━━━━━━━━\u001B[0m\u001B[37m\u001B[0m \u001B[1m25s\u001B[0m 2s/step - accuracy: 0.4642 - loss: 0.1645 - pr_auc: 0.4788 - precision_toxic: 0.4636 - recall_toxic: 0.4501 - roc_auc: 0.4561 - val_accuracy: 0.5843 - val_loss: 0.0000e+00 - val_pr_auc: 0.6768 - val_precision_toxic: 0.5843 - val_recall_toxic: 1.0000 - val_roc_auc: 0.6396\n",
      "Epoch 17/40\n",
      "\u001B[1m15/15\u001B[0m \u001B[32m━━━━━━━━━━━━━━━━━━━━\u001B[0m\u001B[37m\u001B[0m \u001B[1m25s\u001B[0m 2s/step - accuracy: 0.4893 - loss: 0.1323 - pr_auc: 0.4915 - precision_toxic: 0.4620 - recall_toxic: 0.3841 - roc_auc: 0.4921 - val_accuracy: 0.5843 - val_loss: 0.0000e+00 - val_pr_auc: 0.6676 - val_precision_toxic: 0.5843 - val_recall_toxic: 1.0000 - val_roc_auc: 0.6237\n",
      "Epoch 18/40\n",
      "\u001B[1m15/15\u001B[0m \u001B[32m━━━━━━━━━━━━━━━━━━━━\u001B[0m\u001B[37m\u001B[0m \u001B[1m25s\u001B[0m 2s/step - accuracy: 0.4770 - loss: 0.1496 - pr_auc: 0.5232 - precision_toxic: 0.4926 - recall_toxic: 0.3552 - roc_auc: 0.4936 - val_accuracy: 0.5843 - val_loss: 0.0000e+00 - val_pr_auc: 0.6584 - val_precision_toxic: 0.5843 - val_recall_toxic: 1.0000 - val_roc_auc: 0.6159\n",
      "Epoch 19/40\n",
      "\u001B[1m15/15\u001B[0m \u001B[32m━━━━━━━━━━━━━━━━━━━━\u001B[0m\u001B[37m\u001B[0m \u001B[1m25s\u001B[0m 2s/step - accuracy: 0.5379 - loss: 0.1268 - pr_auc: 0.5566 - precision_toxic: 0.5140 - recall_toxic: 0.4317 - roc_auc: 0.5394 - val_accuracy: 0.5843 - val_loss: 0.0000e+00 - val_pr_auc: 0.7304 - val_precision_toxic: 0.5843 - val_recall_toxic: 1.0000 - val_roc_auc: 0.6390\n",
      "Epoch 20/40\n",
      "\u001B[1m15/15\u001B[0m \u001B[32m━━━━━━━━━━━━━━━━━━━━\u001B[0m\u001B[37m\u001B[0m \u001B[1m25s\u001B[0m 2s/step - accuracy: 0.4719 - loss: 0.1607 - pr_auc: 0.4686 - precision_toxic: 0.4724 - recall_toxic: 0.2993 - roc_auc: 0.4548 - val_accuracy: 0.5843 - val_loss: 0.0000e+00 - val_pr_auc: 0.6990 - val_precision_toxic: 0.5843 - val_recall_toxic: 1.0000 - val_roc_auc: 0.6396\n",
      "Epoch 21/40\n",
      "\u001B[1m15/15\u001B[0m \u001B[32m━━━━━━━━━━━━━━━━━━━━\u001B[0m\u001B[37m\u001B[0m \u001B[1m25s\u001B[0m 2s/step - accuracy: 0.5202 - loss: 0.1136 - pr_auc: 0.5047 - precision_toxic: 0.4926 - recall_toxic: 0.3218 - roc_auc: 0.5183 - val_accuracy: 0.5843 - val_loss: 0.0000e+00 - val_pr_auc: 0.6506 - val_precision_toxic: 0.5843 - val_recall_toxic: 1.0000 - val_roc_auc: 0.6073\n",
      "Epoch 22/40\n",
      "\u001B[1m15/15\u001B[0m \u001B[32m━━━━━━━━━━━━━━━━━━━━\u001B[0m\u001B[37m\u001B[0m \u001B[1m25s\u001B[0m 2s/step - accuracy: 0.5060 - loss: 0.1201 - pr_auc: 0.4946 - precision_toxic: 0.5089 - recall_toxic: 0.5279 - roc_auc: 0.4968 - val_accuracy: 0.6067 - val_loss: 0.0000e+00 - val_pr_auc: 0.6962 - val_precision_toxic: 0.6076 - val_recall_toxic: 0.9231 - val_roc_auc: 0.6312\n",
      "Epoch 23/40\n",
      "\u001B[1m15/15\u001B[0m \u001B[32m━━━━━━━━━━━━━━━━━━━━\u001B[0m\u001B[37m\u001B[0m \u001B[1m25s\u001B[0m 2s/step - accuracy: 0.5198 - loss: 0.1120 - pr_auc: 0.5395 - precision_toxic: 0.5304 - recall_toxic: 0.4163 - roc_auc: 0.5436 - val_accuracy: 0.4157 - val_loss: 0.0000e+00 - val_pr_auc: 0.6518 - val_precision_toxic: 0.0000e+00 - val_recall_toxic: 0.0000e+00 - val_roc_auc: 0.6047\n",
      "Epoch 24/40\n",
      "\u001B[1m15/15\u001B[0m \u001B[32m━━━━━━━━━━━━━━━━━━━━\u001B[0m\u001B[37m\u001B[0m \u001B[1m25s\u001B[0m 2s/step - accuracy: 0.5472 - loss: 0.1041 - pr_auc: 0.4345 - precision_toxic: 0.4725 - recall_toxic: 0.2701 - roc_auc: 0.4852 - val_accuracy: 0.5843 - val_loss: 0.0000e+00 - val_pr_auc: 0.6758 - val_precision_toxic: 0.5843 - val_recall_toxic: 1.0000 - val_roc_auc: 0.6019\n"
     ]
    }
   ],
   "execution_count": 8
  },
  {
   "metadata": {},
   "cell_type": "markdown",
   "source": "## Sauvegarde de l’historique",
   "id": "e81ea77bb48e5534"
  },
  {
   "metadata": {
    "ExecuteTime": {
     "end_time": "2025-07-06T21:52:48.798614Z",
     "start_time": "2025-07-06T21:52:48.791604Z"
    }
   },
   "cell_type": "code",
   "source": [
    "hist_path = '../outputs/checkpoints/all/finetune_resnet50/history_finetune_resnet50.pkl'\n",
    "pd.to_pickle(history.history, hist_path)\n",
    "\n",
    "# Sauvegarde de la config du run\n",
    "src_cfg = '../configs/config_finetune_resnet50.yaml'\n",
    "dst_cfg = os.path.join(CFG_OUT, f\"{run_id}_config_finetune.yaml\")\n",
    "shutil.copy(src_cfg, dst_cfg)\n",
    "print(\"Config sauvegardée dans :\", dst_cfg)"
   ],
   "id": "d346de2d1a35cdb",
   "outputs": [
    {
     "name": "stdout",
     "output_type": "stream",
     "text": [
      "Config sauvegardée dans : ../outputs/configs/all/2025-07-06_a0f2319_config_finetune.yaml\n"
     ]
    }
   ],
   "execution_count": 9
  },
  {
   "metadata": {},
   "cell_type": "markdown",
   "source": "## Tracé des courbes d’entraînement",
   "id": "de8653d8875d8bfc"
  },
  {
   "metadata": {
    "ExecuteTime": {
     "end_time": "2025-07-07T11:58:23.515443Z",
     "start_time": "2025-07-07T11:58:23.306332Z"
    }
   },
   "cell_type": "code",
   "source": [
    "plt.figure(figsize=(12,5))\n",
    "plt.subplot(1,2,1)\n",
    "plt.plot(history.history[\"accuracy\"], label=\"Train Acc\")\n",
    "plt.plot(history.history[\"val_accuracy\"], label=\"Val Acc\")\n",
    "plt.legend(); plt.title(\"Accuracy\")\n",
    "\n",
    "plt.subplot(1,2,2)\n",
    "plt.plot(history.history[\"loss\"], label=\"Train Loss\")\n",
    "plt.plot(history.history[\"val_loss\"], label=\"Val Loss\")\n",
    "plt.legend(); plt.title(\"Loss\")\n",
    "\n",
    "# Sauvegarde de la figure des courbes\n",
    "fig_path = os.path.join(FIG_OUT, f\"{run_id}_training_curves.png\")\n",
    "plt.savefig(fig_path, dpi=300)\n",
    "print(\"Courbes sauvegardées dans :\", fig_path)\n",
    "\n",
    "plt.show()"
   ],
   "id": "77a24b6b5ee7f6b4",
   "outputs": [
    {
     "ename": "NameError",
     "evalue": "name 'history' is not defined",
     "output_type": "error",
     "traceback": [
      "\u001B[31m---------------------------------------------------------------------------\u001B[39m",
      "\u001B[31mNameError\u001B[39m                                 Traceback (most recent call last)",
      "\u001B[36mCell\u001B[39m\u001B[36m \u001B[39m\u001B[32mIn[9]\u001B[39m\u001B[32m, line 3\u001B[39m\n\u001B[32m      1\u001B[39m plt.figure(figsize=(\u001B[32m12\u001B[39m,\u001B[32m5\u001B[39m))\n\u001B[32m      2\u001B[39m plt.subplot(\u001B[32m1\u001B[39m,\u001B[32m2\u001B[39m,\u001B[32m1\u001B[39m)\n\u001B[32m----> \u001B[39m\u001B[32m3\u001B[39m plt.plot(\u001B[43mhistory\u001B[49m.history[\u001B[33m\"\u001B[39m\u001B[33maccuracy\u001B[39m\u001B[33m\"\u001B[39m], label=\u001B[33m\"\u001B[39m\u001B[33mTrain Acc\u001B[39m\u001B[33m\"\u001B[39m)\n\u001B[32m      4\u001B[39m plt.plot(history.history[\u001B[33m\"\u001B[39m\u001B[33mval_accuracy\u001B[39m\u001B[33m\"\u001B[39m], label=\u001B[33m\"\u001B[39m\u001B[33mVal Acc\u001B[39m\u001B[33m\"\u001B[39m)\n\u001B[32m      5\u001B[39m plt.legend(); plt.title(\u001B[33m\"\u001B[39m\u001B[33mAccuracy\u001B[39m\u001B[33m\"\u001B[39m)\n",
      "\u001B[31mNameError\u001B[39m: name 'history' is not defined"
     ]
    },
    {
     "data": {
      "text/plain": [
       "<Figure size 1200x500 with 1 Axes>"
      ],
      "image/png": "[encoded data removed]"
     },
     "metadata": {},
     "output_type": "display_data"
    }
   ],
   "execution_count": 9
  },
  {
   "metadata": {
    "ExecuteTime": {
     "end_time": "2025-07-06T21:58:51.785249Z",
     "start_time": "2025-07-06T21:58:47.444470Z"
    }
   },
   "cell_type": "code",
   "source": [
    "# 1) Prévisions sur le set de val\n",
    "logits = model.predict(val_gen)\n",
    "y_score = model.predict(val_gen).ravel()\n",
    "y_true = val_df['label'].values\n",
    "\n",
    "thresh_df   = threshold_metrics_curve(y_true, y_score, name='ResNet50', n_thresholds=100, return_df=True)\n",
    "best_row    = thresh_df.loc[thresh_df['f1'].idxmax()]\n",
    "opt_threshold = best_row['threshold']\n",
    "print(f\"Seuil optimal : {opt_threshold:.2f} (F1 = {best_row['f1']:.3f})\")\n",
    "\n",
    "y_pred_opt = (y_score >= opt_threshold).astype(int)\n",
    "\n",
    "# 2) Matrice de confusion\n",
    "cm_opt   = compute_confusion_matrix(y_true, y_pred_opt, normalize=False)\n",
    "\n",
    "plot_confusion_matrix(cm_opt)\n",
    "\n",
    "report_opt = classification_report(y_true, y_pred_opt, output_dict=True, zero_division=0)\n",
    "report_df_opt = pd.DataFrame(report_opt).T\n",
    "display(report_df_opt)\n",
    "\n",
    "# Sauvegarde de la matrice\n",
    "fig_path = os.path.join(FIG_OUT, f\"{run_id}_confusion_matrix.png\")\n",
    "plt.savefig(fig_path, dpi=300, bbox_inches='tight')\n",
    "print(\"Matrice sauvegardée dans :\", fig_path)\n",
    "\n",
    "plt.show()"
   ],
   "id": "1b2639fe9acd2fac",
   "outputs": [
    {
     "name": "stdout",
     "output_type": "stream",
     "text": [
      "\u001B[1m3/3\u001B[0m \u001B[32m━━━━━━━━━━━━━━━━━━━━\u001B[0m\u001B[37m\u001B[0m \u001B[1m2s\u001B[0m 608ms/step\n",
      "\u001B[1m3/3\u001B[0m \u001B[32m━━━━━━━━━━━━━━━━━━━━\u001B[0m\u001B[37m\u001B[0m \u001B[1m2s\u001B[0m 667ms/step\n",
      "Seuil optimal : 0.54 (F1 = 0.750)\n"
     ]
    },
    {
     "data": {
      "text/plain": [
       "              precision    recall  f1-score    support\n",
       "0              0.800000  0.108108  0.190476  37.000000\n",
       "1              0.607143  0.980769  0.750000  52.000000\n",
       "accuracy       0.617978  0.617978  0.617978   0.617978\n",
       "macro avg      0.703571  0.544439  0.470238  89.000000\n",
       "weighted avg   0.687319  0.617978  0.517389  89.000000"
      ],
      "text/html": [
       "<div>\n",
       "<style scoped>\n",
       "    .dataframe tbody tr th:only-of-type {\n",
       "        vertical-align: middle;\n",
       "    }\n",
       "\n",
       "    .dataframe tbody tr th {\n",
       "        vertical-align: top;\n",
       "    }\n",
       "\n",
       "    .dataframe thead th {\n",
       "        text-align: right;\n",
       "    }\n",
       "</style>\n",
       "<table border=\"1\" class=\"dataframe\">\n",
       "  <thead>\n",
       "    <tr style=\"text-align: right;\">\n",
       "      <th></th>\n",
       "      <th>precision</th>\n",
       "      <th>recall</th>\n",
       "      <th>f1-score</th>\n",
       "      <th>support</th>\n",
       "    </tr>\n",
       "  </thead>\n",
       "  <tbody>\n",
       "    <tr>\n",
       "      <th>0</th>\n",
       "      <td>0.800000</td>\n",
       "      <td>0.108108</td>\n",
       "      <td>0.190476</td>\n",
       "      <td>37.000000</td>\n",
       "    </tr>\n",
       "    <tr>\n",
       "      <th>1</th>\n",
       "      <td>0.607143</td>\n",
       "      <td>0.980769</td>\n",
       "      <td>0.750000</td>\n",
       "      <td>52.000000</td>\n",
       "    </tr>\n",
       "    <tr>\n",
       "      <th>accuracy</th>\n",
       "      <td>0.617978</td>\n",
       "      <td>0.617978</td>\n",
       "      <td>0.617978</td>\n",
       "      <td>0.617978</td>\n",
       "    </tr>\n",
       "    <tr>\n",
       "      <th>macro avg</th>\n",
       "      <td>0.703571</td>\n",
       "      <td>0.544439</td>\n",
       "      <td>0.470238</td>\n",
       "      <td>89.000000</td>\n",
       "    </tr>\n",
       "    <tr>\n",
       "      <th>weighted avg</th>\n",
       "      <td>0.687319</td>\n",
       "      <td>0.617978</td>\n",
       "      <td>0.517389</td>\n",
       "      <td>89.000000</td>\n",
       "    </tr>\n",
       "  </tbody>\n",
       "</table>\n",
       "</div>"
      ]
     },
     "metadata": {},
     "output_type": "display_data"
    },
    {
     "name": "stdout",
     "output_type": "stream",
     "text": [
      "Matrice sauvegardée dans : ../outputs/figures/all/finetune/2025-07-06_a0f2319_confusion_matrix.png\n"
     ]
    },
    {
     "data": {
      "text/plain": [
       "<Figure size 640x480 with 2 Axes>"
      ],
      "image/png": "[encoded data removed]"
     },
     "metadata": {},
     "output_type": "display_data"
    }
   ],
   "execution_count": 15
  },
  {
   "metadata": {
    "ExecuteTime": {
     "end_time": "2025-07-07T11:57:52.644886Z",
     "start_time": "2025-07-07T11:57:52.490754Z"
    }
   },
   "cell_type": "code",
   "source": [
    "# 3) Classification report\n",
    "report = classification_report(y_true, y_pred_opt, output_dict=True, zero_division=0)\n",
    "\n",
    "# Sauvegarde du rapport\n",
    "report_df = pd.DataFrame(report).T\n",
    "csv_path = os.path.join(FIG_OUT, f\"{run_id}_classification_report.csv\")\n",
    "report_df.to_csv(csv_path, index=True)\n",
    "print(\"Report CSV sauvegardé dans :\", csv_path)\n",
    "\n",
    "fig, ax = plt.subplots(figsize=(8, len(report_df) * 0.5 + 1))\n",
    "ax.axis('off')\n",
    "\n",
    "table = ax.table(\n",
    "    cellText=report_df.round(2).values,\n",
    "    rowLabels=report_df.index,\n",
    "    colLabels=report_df.columns,\n",
    "    loc='center'\n",
    ")\n",
    "\n",
    "table.auto_set_font_size(False)\n",
    "table.set_fontsize(10)\n",
    "table.scale(1, 1.5)\n",
    "\n",
    "img_path = os.path.join(FIG_OUT, f\"{run_id}_classification_report.png\")\n",
    "fig.savefig(img_path, dpi=300, bbox_inches='tight')\n",
    "print(\"Report image sauvegardé dans :\", img_path)\n",
    "\n",
    "display(report_df)"
   ],
   "id": "9a54f5fec30873cc",
   "outputs": [
    {
     "ename": "NameError",
     "evalue": "name 'classification_report' is not defined",
     "output_type": "error",
     "traceback": [
      "\u001B[31m---------------------------------------------------------------------------\u001B[39m",
      "\u001B[31mNameError\u001B[39m                                 Traceback (most recent call last)",
      "\u001B[36mCell\u001B[39m\u001B[36m \u001B[39m\u001B[32mIn[1]\u001B[39m\u001B[32m, line 2\u001B[39m\n\u001B[32m      1\u001B[39m \u001B[38;5;66;03m# 3) Classification report\u001B[39;00m\n\u001B[32m----> \u001B[39m\u001B[32m2\u001B[39m report = \u001B[43mclassification_report\u001B[49m(y_true, y_pred_opt, output_dict=\u001B[38;5;28;01mTrue\u001B[39;00m, zero_division=\u001B[32m0\u001B[39m)\n\u001B[32m      4\u001B[39m \u001B[38;5;66;03m# Sauvegarde du rapport\u001B[39;00m\n\u001B[32m      5\u001B[39m report_df = pd.DataFrame(report).T\n",
      "\u001B[31mNameError\u001B[39m: name 'classification_report' is not defined"
     ]
    }
   ],
   "execution_count": 1
  },
  {
   "metadata": {
    "ExecuteTime": {
     "end_time": "2025-07-06T21:59:42.125332Z",
     "start_time": "2025-07-06T21:59:41.904275Z"
    }
   },
   "cell_type": "code",
   "source": [
    "# 4) ROC & PR\n",
    "roc_pr, pr = compute_roc_pr(y_true, y_score)\n",
    "\n",
    "plot_roc_pr(roc_pr, pr, name='ResNet50')\n",
    "\n",
    "# Sauvegarde des ROC & PR\n",
    "fig_path = os.path.join(FIG_OUT, f\"{run_id}_ROC_PR.png\")\n",
    "plt.savefig(fig_path, dpi=300)\n",
    "print(\"ROC & PR sauvegardées dans :\", fig_path)\n",
    "\n",
    "plt.show()"
   ],
   "id": "847d685b99a90807",
   "outputs": [
    {
     "name": "stdout",
     "output_type": "stream",
     "text": [
      "ROC & PR sauvegardées dans : ../outputs/figures/all/finetune/2025-07-06_a0f2319_ROC_PR.png\n"
     ]
    },
    {
     "data": {
      "text/plain": [
       "<Figure size 1000x400 with 2 Axes>"
      ],
      "image/png": "[encoded data removed]"
     },
     "metadata": {},
     "output_type": "display_data"
    }
   ],
   "execution_count": 17
  },
  {
   "metadata": {
    "ExecuteTime": {
     "end_time": "2025-07-06T21:59:47.349788Z",
     "start_time": "2025-07-06T21:59:47.216881Z"
    }
   },
   "cell_type": "code",
   "source": [
    "# 5) Calibration\n",
    "calibration_plot(y_true, y_score, n_bins=10)\n",
    "\n",
    "# Sauvegarde de la courbe de calibration\n",
    "fig_path = os.path.join(FIG_OUT, f\"{run_id}_calibration.png\")\n",
    "plt.savefig(fig_path, dpi=300)\n",
    "print(\"Courbe de calibration sauvegardées dans :\", fig_path)\n",
    "\n",
    "plt.show()"
   ],
   "id": "a22348b1bbb6cda4",
   "outputs": [
    {
     "name": "stdout",
     "output_type": "stream",
     "text": [
      "Courbe de calibration sauvegardées dans : ../outputs/figures/all/finetune/2025-07-06_a0f2319_calibration.png\n"
     ]
    },
    {
     "data": {
      "text/plain": [
       "<Figure size 640x480 with 1 Axes>"
      ],
      "image/png": "[encoded data removed]"
     },
     "metadata": {},
     "output_type": "display_data"
    }
   ],
   "execution_count": 18
  },
  {
   "metadata": {
    "ExecuteTime": {
     "end_time": "2025-07-06T21:59:50.660463Z",
     "start_time": "2025-07-06T21:59:50.654589Z"
    }
   },
   "cell_type": "code",
   "source": [
    "# 6) MCC, balanced acc\n",
    "met = compute_additional_metrics(y_true, y_pred, y_score)\n",
    "print(f\"MCC: {met['mcc']:.3f}  —  Balanced acc: {met['balanced_acc']:.3f}\")"
   ],
   "id": "a5f531b6778abefc",
   "outputs": [
    {
     "name": "stdout",
     "output_type": "stream",
     "text": [
      "MCC: 0.190  —  Balanced acc: 0.544\n"
     ]
    }
   ],
   "execution_count": 19
  },
  {
   "metadata": {
    "ExecuteTime": {
     "end_time": "2025-07-06T21:59:53.177185Z",
     "start_time": "2025-07-06T21:59:52.955693Z"
    }
   },
   "cell_type": "code",
   "source": [
    "# 7) Courbes selon seuil\n",
    "threshold_metrics_curve(y_true, y_score, name='ResNet50')\n",
    "\n",
    "# Sauvegarde des Threshold\n",
    "fig_path = os.path.join(FIG_OUT, f\"{run_id}_threshold_mertics.png\")\n",
    "plt.savefig(fig_path, dpi=300)\n",
    "print(\"Threshold metrics sauvegardées dans :\", fig_path)\n",
    "\n",
    "plt.show()"
   ],
   "id": "31095b9fe3a38c7b",
   "outputs": [
    {
     "name": "stdout",
     "output_type": "stream",
     "text": [
      "Threshold metrics sauvegardées dans : ../outputs/figures/all/finetune/2025-07-06_a0f2319_threshold_mertics.png\n"
     ]
    },
    {
     "data": {
      "text/plain": [
       "<Figure size 640x480 with 1 Axes>"
      ],
      "image/png": "[encoded data removed]"
     },
     "metadata": {},
     "output_type": "display_data"
    }
   ],
   "execution_count": 20
  }
 ],
 "metadata": {
  "kernelspec": {
   "display_name": "Python 3",
   "language": "python",
   "name": "python3"
  },
  "language_info": {
   "codemirror_mode": {
    "name": "ipython",
    "version": 2
   },
   "file_extension": ".py",
   "mimetype": "text/x-python",
   "name": "python",
   "nbconvert_exporter": "python",
   "pygments_lexer": "ipython2",
   "version": "2.7.6"
  }
 },
 "nbformat": 4,
 "nbformat_minor": 5
}

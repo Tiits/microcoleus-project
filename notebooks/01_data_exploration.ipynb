{
 "cells": [
  {
   "metadata": {},
   "cell_type": "markdown",
   "source": [
    "# Exploration initiale des images Microcoleus\n",
    "\n",
    "Ce notebook a pour objectif de :\n",
    "- Lister et afficher les images présentes dans le dossier de données.\n",
    "- Vérifier la distribution des classes.\n",
    "- Afficher quelques statistiques et exemples visuels.\n"
   ],
   "id": "7ddcbda3913a5bc6"
  },
  {
   "metadata": {},
   "cell_type": "code",
   "outputs": [],
   "execution_count": null,
   "source": [
    "import os\n",
    "import matplotlib.pyplot as plt\n",
    "import numpy as np\n",
    "from PIL import Image"
   ],
   "id": "1847c69b96d18d7b"
  },
  {
   "metadata": {},
   "cell_type": "code",
   "outputs": [],
   "execution_count": null,
   "source": [
    "data_dir = \"../data/raw\"\n",
    "classes = [d for d in os.listdir(data_dir) if not d.startswith('.') and os.path.isdir(os.path.join(data_dir, d))]\n",
    "print(\"Classes détectées :\", classes)"
   ],
   "id": "c179ec3e955e8a1e"
  },
  {
   "metadata": {},
   "cell_type": "code",
   "outputs": [],
   "execution_count": null,
   "source": [
    "image_count = {}\n",
    "for cls in classes:\n",
    "    folder = os.path.join(data_dir, cls)\n",
    "    image_count[cls] = len([f for f in os.listdir(folder) if f.lower().endswith(('.png', '.jpg', '.jpeg', '.tif', '.tiff'))])\n",
    "print(\"Nombre d'images par classe :\", image_count)"
   ],
   "id": "5fb056f8aa58367e"
  },
  {
   "metadata": {},
   "cell_type": "code",
   "outputs": [],
   "execution_count": null,
   "source": [
    "plt.bar(image_count.keys(), image_count.values())\n",
    "plt.title(\"Répartition du nombre d'images par classe\")\n",
    "plt.xlabel(\"Classe\")\n",
    "plt.ylabel(\"Nombre d'images\")\n",
    "plt.show()"
   ],
   "id": "f6a0c148e54385f6"
  },
  {
   "metadata": {},
   "cell_type": "code",
   "outputs": [],
   "execution_count": null,
   "source": [
    "fig, axes = plt.subplots(1, min(5, len(classes)), figsize=(15, 5))\n",
    "for i, cls in enumerate(classes[:5]):\n",
    "    folder = os.path.join(data_dir, cls)\n",
    "    img_files = [f for f in os.listdir(folder) if f.lower().endswith(('.png', '.jpg', '.jpeg', '.tif', '.tiff'))]\n",
    "    if img_files:\n",
    "        img = Image.open(os.path.join(folder, img_files[0]))\n",
    "        axes[i].imshow(img)\n",
    "        axes[i].set_title(cls)\n",
    "        axes[i].axis(\"off\")\n",
    "plt.suptitle(\"Exemple d'image par classe\")\n",
    "plt.show()"
   ],
   "id": "fa0318fa9019e67"
  },
  {
   "metadata": {},
   "cell_type": "code",
   "outputs": [],
   "execution_count": null,
   "source": [
    "widths, heights = [], []\n",
    "for cls in classes:\n",
    "    folder = os.path.join(data_dir, cls)\n",
    "    img_files = [f for f in os.listdir(folder) if f.lower().endswith(('.png', '.jpg', '.jpeg', '.tif', '.tiff'))]\n",
    "    for img_file in img_files:\n",
    "        try:\n",
    "            img = Image.open(os.path.join(folder, img_file))\n",
    "            widths.append(img.width)\n",
    "            heights.append(img.height)\n",
    "        except Exception as e:\n",
    "            print(f\"Erreur lors de l'ouverture de {img_file} :\", e)\n",
    "\n",
    "print(\"Taille moyenne :\", np.mean(widths), \"x\", np.mean(heights))\n",
    "plt.hist(widths, bins=20, alpha=0.5, label='Largeur')\n",
    "plt.hist(heights, bins=20, alpha=0.5, label='Hauteur')\n",
    "plt.legend()\n",
    "plt.title(\"Distribution des tailles d'images\")\n",
    "plt.show()\n"
   ],
   "id": "f7b1b10ea74772c8"
  }
 ],
 "metadata": {},
 "nbformat": 4,
 "nbformat_minor": 5
}

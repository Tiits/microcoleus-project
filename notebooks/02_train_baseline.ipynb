{
 "cells": [
  {
   "cell_type": "markdown",
   "id": "b1dc8c88372c711",
   "metadata": {},
   "source": [
    "# Entraînement baseline du modèle CNN\n",
    "Ce notebook présente :\n",
    "- Chargement des données prétraitées\n",
    "- Définition d’un modèle CNN simple\n",
    "- Entraînement et évaluation de la baseline\n",
    "- Sauvegarde du meilleur modèle"
   ]
  },
  {
   "cell_type": "markdown",
   "id": "d878f7b31097a4f2",
   "metadata": {},
   "source": [
    "## Imports & Paramètres"
   ]
  },
  {
   "cell_type": "code",
   "execution_count": 17,
   "id": "e44cd157f5d9b003",
   "metadata": {
    "ExecuteTime": {
     "end_time": "2025-04-29T18:39:15.261900Z",
     "start_time": "2025-04-29T18:39:15.257383Z"
    }
   },
   "outputs": [],
   "source": [
    "import os, yaml, random\n",
    "import numpy as np\n",
    "import tensorflow as tf\n",
    "from tensorflow.keras import layers, models, callbacks\n",
    "from tensorflow.keras.preprocessing.image import ImageDataGenerator\n",
    "import matplotlib.pyplot as plt\n",
    "import shutil\n",
    "from tensorflow.keras.models import load_model\n",
    "import numpy as np\n",
    "from PIL import Image\n",
    "import glob\n",
    "from src.data_loader import load_from_splits"
   ]
  },
  {
   "cell_type": "code",
   "execution_count": 20,
   "id": "c087e64fe8586eb6",
   "metadata": {
    "ExecuteTime": {
     "end_time": "2025-04-29T18:39:17.058231Z",
     "start_time": "2025-04-29T18:39:17.051131Z"
    }
   },
   "outputs": [],
   "source": [
    "# Charger la configuration\n",
    "with open('../configs/config_baseline.yaml') as f:\n",
    "    cfg = yaml.safe_load(f)\n",
    "\n",
    "# Fixer les seeds pour la reproductibilité\n",
    "random.seed(cfg['seed'])\n",
    "np.random.seed(cfg['seed'])\n",
    "tf.random.set_seed(cfg['seed'])\n",
    "\n",
    "# Paramètres depuis la config\n",
    "# Répertoires\n",
    "DATA_RAW_DIR       = cfg['data']['raw_dir']\n",
    "DATA_PROCESSED_DIR = cfg['data']['processed_dir']\n",
    "CHECKPOINT_DIR = os.path.join('..', 'outputs', 'checkpoints', 'all')\n",
    "# Hyperparamètres\n",
    "IMG_SIZE           = tuple(cfg['preprocessing']['target_size'])\n",
    "BATCH_SIZE         = cfg['training']['batch_size']\n",
    "EPOCHS             = cfg['training']['epochs']\n",
    "LEARNING_RATE      = cfg['training']['learning_rate']\n",
    "EARLYSTOP_CFG      = cfg['training']['early_stopping']"
   ]
  },
  {
   "cell_type": "markdown",
   "id": "9baebba0e0452bd6",
   "metadata": {},
   "source": [
    "## Chargement des données"
   ]
  },
  {
   "cell_type": "code",
   "execution_count": 10,
   "id": "38137eef4df4dd30",
   "metadata": {
    "ExecuteTime": {
     "end_time": "2025-04-29T18:39:18.956067Z",
     "start_time": "2025-04-29T18:39:18.942645Z"
    }
   },
   "outputs": [
    {
     "name": "stdout",
     "output_type": "stream",
     "text": [
      "Found 112 images belonging to 2 classes.\n",
      "Found 27 images belonging to 2 classes.\n"
     ]
    }
   ],
   "source": [
    "# Chemins vers les fichiers de splits\n",
    "TRAIN_SPLIT = os.path.join('..', 'splits', 'train.txt')\n",
    "VAL_SPLIT   = os.path.join('..', 'splits', 'val.txt')\n",
    "\n",
    "# Construction des tf.data.Datasets\n",
    "train_ds, class_indices = load_from_splits(\n",
    "    TRAIN_SPLIT,\n",
    "    batch_size=BATCH_SIZE,\n",
    "    img_size=IMG_SIZE\n",
    ")\n",
    "val_ds, _ = load_from_splits(\n",
    "    VAL_SPLIT,\n",
    "    batch_size=BATCH_SIZE,\n",
    "    img_size=IMG_SIZE\n",
    ")\n",
    "\n",
    "# Nombre de classes\n",
    "num_classes = len(class_indices)\n",
    "print(\"Classes et indices :\", class_indices)\n",
    "print(\"Taille train:\", train_ds.cardinality().numpy(),\n",
    "      \"— val:\", val_ds.cardinality().numpy())"
   ]
  },
  {
   "cell_type": "markdown",
   "id": "ef06b1380dafc754",
   "metadata": {},
   "source": [
    "## Définition du modèle"
   ]
  },
  {
   "cell_type": "code",
   "execution_count": 11,
   "id": "9054f955aaa76126",
   "metadata": {
    "ExecuteTime": {
     "end_time": "2025-04-29T18:39:21.406459Z",
     "start_time": "2025-04-29T18:39:21.370921Z"
    }
   },
   "outputs": [
    {
     "data": {
      "text/html": [
       "<pre style=\"white-space:pre;overflow-x:auto;line-height:normal;font-family:Menlo,'DejaVu Sans Mono',consolas,'Courier New',monospace\"><span style=\"font-weight: bold\">Model: \"sequential_1\"</span>\n",
       "</pre>\n"
      ],
      "text/plain": [
       "\u001B[1mModel: \"sequential_1\"\u001B[0m\n"
      ]
     },
     "metadata": {},
     "output_type": "display_data"
    },
    {
     "data": {
      "text/html": [
       "<pre style=\"white-space:pre;overflow-x:auto;line-height:normal;font-family:Menlo,'DejaVu Sans Mono',consolas,'Courier New',monospace\">┏━━━━━━━━━━━━━━━━━━━━━━━━━━━━━━━━━┳━━━━━━━━━━━━━━━━━━━━━━━━┳━━━━━━━━━━━━━━━┓\n",
       "┃<span style=\"font-weight: bold\"> Layer (type)                    </span>┃<span style=\"font-weight: bold\"> Output Shape           </span>┃<span style=\"font-weight: bold\">       Param # </span>┃\n",
       "┡━━━━━━━━━━━━━━━━━━━━━━━━━━━━━━━━━╇━━━━━━━━━━━━━━━━━━━━━━━━╇━━━━━━━━━━━━━━━┩\n",
       "│ conv2d_2 (<span style=\"color: #0087ff; text-decoration-color: #0087ff\">Conv2D</span>)               │ (<span style=\"color: #00d7ff; text-decoration-color: #00d7ff\">None</span>, <span style=\"color: #00af00; text-decoration-color: #00af00\">128</span>, <span style=\"color: #00af00; text-decoration-color: #00af00\">128</span>, <span style=\"color: #00af00; text-decoration-color: #00af00\">32</span>)   │           <span style=\"color: #00af00; text-decoration-color: #00af00\">896</span> │\n",
       "├─────────────────────────────────┼────────────────────────┼───────────────┤\n",
       "│ max_pooling2d_2 (<span style=\"color: #0087ff; text-decoration-color: #0087ff\">MaxPooling2D</span>)  │ (<span style=\"color: #00d7ff; text-decoration-color: #00d7ff\">None</span>, <span style=\"color: #00af00; text-decoration-color: #00af00\">64</span>, <span style=\"color: #00af00; text-decoration-color: #00af00\">64</span>, <span style=\"color: #00af00; text-decoration-color: #00af00\">32</span>)     │             <span style=\"color: #00af00; text-decoration-color: #00af00\">0</span> │\n",
       "├─────────────────────────────────┼────────────────────────┼───────────────┤\n",
       "│ conv2d_3 (<span style=\"color: #0087ff; text-decoration-color: #0087ff\">Conv2D</span>)               │ (<span style=\"color: #00d7ff; text-decoration-color: #00d7ff\">None</span>, <span style=\"color: #00af00; text-decoration-color: #00af00\">64</span>, <span style=\"color: #00af00; text-decoration-color: #00af00\">64</span>, <span style=\"color: #00af00; text-decoration-color: #00af00\">64</span>)     │        <span style=\"color: #00af00; text-decoration-color: #00af00\">18,496</span> │\n",
       "├─────────────────────────────────┼────────────────────────┼───────────────┤\n",
       "│ max_pooling2d_3 (<span style=\"color: #0087ff; text-decoration-color: #0087ff\">MaxPooling2D</span>)  │ (<span style=\"color: #00d7ff; text-decoration-color: #00d7ff\">None</span>, <span style=\"color: #00af00; text-decoration-color: #00af00\">32</span>, <span style=\"color: #00af00; text-decoration-color: #00af00\">32</span>, <span style=\"color: #00af00; text-decoration-color: #00af00\">64</span>)     │             <span style=\"color: #00af00; text-decoration-color: #00af00\">0</span> │\n",
       "├─────────────────────────────────┼────────────────────────┼───────────────┤\n",
       "│ global_average_pooling2d_1      │ (<span style=\"color: #00d7ff; text-decoration-color: #00d7ff\">None</span>, <span style=\"color: #00af00; text-decoration-color: #00af00\">64</span>)             │             <span style=\"color: #00af00; text-decoration-color: #00af00\">0</span> │\n",
       "│ (<span style=\"color: #0087ff; text-decoration-color: #0087ff\">GlobalAveragePooling2D</span>)        │                        │               │\n",
       "├─────────────────────────────────┼────────────────────────┼───────────────┤\n",
       "│ dense_2 (<span style=\"color: #0087ff; text-decoration-color: #0087ff\">Dense</span>)                 │ (<span style=\"color: #00d7ff; text-decoration-color: #00d7ff\">None</span>, <span style=\"color: #00af00; text-decoration-color: #00af00\">128</span>)            │         <span style=\"color: #00af00; text-decoration-color: #00af00\">8,320</span> │\n",
       "├─────────────────────────────────┼────────────────────────┼───────────────┤\n",
       "│ dropout_1 (<span style=\"color: #0087ff; text-decoration-color: #0087ff\">Dropout</span>)             │ (<span style=\"color: #00d7ff; text-decoration-color: #00d7ff\">None</span>, <span style=\"color: #00af00; text-decoration-color: #00af00\">128</span>)            │             <span style=\"color: #00af00; text-decoration-color: #00af00\">0</span> │\n",
       "├─────────────────────────────────┼────────────────────────┼───────────────┤\n",
       "│ dense_3 (<span style=\"color: #0087ff; text-decoration-color: #0087ff\">Dense</span>)                 │ (<span style=\"color: #00d7ff; text-decoration-color: #00d7ff\">None</span>, <span style=\"color: #00af00; text-decoration-color: #00af00\">2</span>)              │           <span style=\"color: #00af00; text-decoration-color: #00af00\">258</span> │\n",
       "└─────────────────────────────────┴────────────────────────┴───────────────┘\n",
       "</pre>\n"
      ],
      "text/plain": [
       "┏━━━━━━━━━━━━━━━━━━━━━━━━━━━━━━━━━┳━━━━━━━━━━━━━━━━━━━━━━━━┳━━━━━━━━━━━━━━━┓\n",
       "┃\u001B[1m \u001B[0m\u001B[1mLayer (type)                   \u001B[0m\u001B[1m \u001B[0m┃\u001B[1m \u001B[0m\u001B[1mOutput Shape          \u001B[0m\u001B[1m \u001B[0m┃\u001B[1m \u001B[0m\u001B[1m      Param #\u001B[0m\u001B[1m \u001B[0m┃\n",
       "┡━━━━━━━━━━━━━━━━━━━━━━━━━━━━━━━━━╇━━━━━━━━━━━━━━━━━━━━━━━━╇━━━━━━━━━━━━━━━┩\n",
       "│ conv2d_2 (\u001B[38;5;33mConv2D\u001B[0m)               │ (\u001B[38;5;45mNone\u001B[0m, \u001B[38;5;34m128\u001B[0m, \u001B[38;5;34m128\u001B[0m, \u001B[38;5;34m32\u001B[0m)   │           \u001B[38;5;34m896\u001B[0m │\n",
       "├─────────────────────────────────┼────────────────────────┼───────────────┤\n",
       "│ max_pooling2d_2 (\u001B[38;5;33mMaxPooling2D\u001B[0m)  │ (\u001B[38;5;45mNone\u001B[0m, \u001B[38;5;34m64\u001B[0m, \u001B[38;5;34m64\u001B[0m, \u001B[38;5;34m32\u001B[0m)     │             \u001B[38;5;34m0\u001B[0m │\n",
       "├─────────────────────────────────┼────────────────────────┼───────────────┤\n",
       "│ conv2d_3 (\u001B[38;5;33mConv2D\u001B[0m)               │ (\u001B[38;5;45mNone\u001B[0m, \u001B[38;5;34m64\u001B[0m, \u001B[38;5;34m64\u001B[0m, \u001B[38;5;34m64\u001B[0m)     │        \u001B[38;5;34m18,496\u001B[0m │\n",
       "├─────────────────────────────────┼────────────────────────┼───────────────┤\n",
       "│ max_pooling2d_3 (\u001B[38;5;33mMaxPooling2D\u001B[0m)  │ (\u001B[38;5;45mNone\u001B[0m, \u001B[38;5;34m32\u001B[0m, \u001B[38;5;34m32\u001B[0m, \u001B[38;5;34m64\u001B[0m)     │             \u001B[38;5;34m0\u001B[0m │\n",
       "├─────────────────────────────────┼────────────────────────┼───────────────┤\n",
       "│ global_average_pooling2d_1      │ (\u001B[38;5;45mNone\u001B[0m, \u001B[38;5;34m64\u001B[0m)             │             \u001B[38;5;34m0\u001B[0m │\n",
       "│ (\u001B[38;5;33mGlobalAveragePooling2D\u001B[0m)        │                        │               │\n",
       "├─────────────────────────────────┼────────────────────────┼───────────────┤\n",
       "│ dense_2 (\u001B[38;5;33mDense\u001B[0m)                 │ (\u001B[38;5;45mNone\u001B[0m, \u001B[38;5;34m128\u001B[0m)            │         \u001B[38;5;34m8,320\u001B[0m │\n",
       "├─────────────────────────────────┼────────────────────────┼───────────────┤\n",
       "│ dropout_1 (\u001B[38;5;33mDropout\u001B[0m)             │ (\u001B[38;5;45mNone\u001B[0m, \u001B[38;5;34m128\u001B[0m)            │             \u001B[38;5;34m0\u001B[0m │\n",
       "├─────────────────────────────────┼────────────────────────┼───────────────┤\n",
       "│ dense_3 (\u001B[38;5;33mDense\u001B[0m)                 │ (\u001B[38;5;45mNone\u001B[0m, \u001B[38;5;34m2\u001B[0m)              │           \u001B[38;5;34m258\u001B[0m │\n",
       "└─────────────────────────────────┴────────────────────────┴───────────────┘\n"
      ]
     },
     "metadata": {},
     "output_type": "display_data"
    },
    {
     "data": {
      "text/html": [
       "<pre style=\"white-space:pre;overflow-x:auto;line-height:normal;font-family:Menlo,'DejaVu Sans Mono',consolas,'Courier New',monospace\"><span style=\"font-weight: bold\"> Total params: </span><span style=\"color: #00af00; text-decoration-color: #00af00\">27,970</span> (109.26 KB)\n",
       "</pre>\n"
      ],
      "text/plain": [
       "\u001B[1m Total params: \u001B[0m\u001B[38;5;34m27,970\u001B[0m (109.26 KB)\n"
      ]
     },
     "metadata": {},
     "output_type": "display_data"
    },
    {
     "data": {
      "text/html": [
       "<pre style=\"white-space:pre;overflow-x:auto;line-height:normal;font-family:Menlo,'DejaVu Sans Mono',consolas,'Courier New',monospace\"><span style=\"font-weight: bold\"> Trainable params: </span><span style=\"color: #00af00; text-decoration-color: #00af00\">27,970</span> (109.26 KB)\n",
       "</pre>\n"
      ],
      "text/plain": [
       "\u001B[1m Trainable params: \u001B[0m\u001B[38;5;34m27,970\u001B[0m (109.26 KB)\n"
      ]
     },
     "metadata": {},
     "output_type": "display_data"
    },
    {
     "data": {
      "text/html": [
       "<pre style=\"white-space:pre;overflow-x:auto;line-height:normal;font-family:Menlo,'DejaVu Sans Mono',consolas,'Courier New',monospace\"><span style=\"font-weight: bold\"> Non-trainable params: </span><span style=\"color: #00af00; text-decoration-color: #00af00\">0</span> (0.00 B)\n",
       "</pre>\n"
      ],
      "text/plain": [
       "\u001B[1m Non-trainable params: \u001B[0m\u001B[38;5;34m0\u001B[0m (0.00 B)\n"
      ]
     },
     "metadata": {},
     "output_type": "display_data"
    }
   ],
   "source": [
    "def build_baseline_cnn(input_shape, num_classes):\n",
    "    model = models.Sequential([\n",
    "        tf.keras.Input(shape=input_shape),\n",
    "        layers.Conv2D(32, 3, activation=\"relu\", padding=\"same\"),\n",
    "        layers.MaxPooling2D(),\n",
    "        layers.Conv2D(64, 3, activation=\"relu\", padding=\"same\"),\n",
    "        layers.MaxPooling2D(),\n",
    "        layers.GlobalAveragePooling2D(),\n",
    "        layers.Dense(128, activation=\"relu\"),\n",
    "        layers.Dropout(0.5),\n",
    "        layers.Dense(num_classes, activation=\"softmax\")\n",
    "    ])\n",
    "    return model\n",
    "\n",
    "model = build_baseline_cnn(IMG_SIZE + (3,), num_classes)\n",
    "model.compile(\n",
    "    optimizer=tf.keras.optimizers.Adam(learning_rate=LEARNING_RATE),\n",
    "    loss=\"categorical_crossentropy\",\n",
    "    metrics=[\"accuracy\"]\n",
    ")\n",
    "\n",
    "model.summary()"
   ]
  },
  {
   "cell_type": "markdown",
   "id": "18d2c067a5318572",
   "metadata": {},
   "source": [
    "## Callbacks et entraînement"
   ]
  },
  {
   "cell_type": "code",
   "execution_count": null,
   "id": "56d79829af93d81b",
   "metadata": {
    "ExecuteTime": {
     "end_time": "2025-04-29T18:39:28.865905Z",
     "start_time": "2025-04-29T18:39:24.780100Z"
    }
   },
   "outputs": [
    {
     "name": "stdout",
     "output_type": "stream",
     "text": [
      "Epoch 1/20\n"
     ]
    },
    {
     "name": "stderr",
     "output_type": "stream",
     "text": [
      "/Users/titou/Library/Mobile Documents/com~apple~CloudDocs/Documents/UniNe/Projet de Bachelor/Git/microcoleus-project/venv/lib/python3.12/site-packages/keras/src/trainers/data_adapters/py_dataset_adapter.py:121: UserWarning: Your `PyDataset` class should call `super().__init__(**kwargs)` in its constructor. `**kwargs` can include `workers`, `use_multiprocessing`, `max_queue_size`. Do not pass these arguments to `fit()`, as they will be ignored.\n",
      "  self._warn_if_super_not_called()\n"
     ]
    },
    {
     "name": "stdout",
     "output_type": "stream",
     "text": [
      "\u001B[1m4/4\u001B[0m \u001B[32m━━━━━━━━━━━━━━━━━━━━\u001B[0m\u001B[37m\u001B[0m \u001B[1m1s\u001B[0m 209ms/step - accuracy: 0.4302 - loss: 0.6960 - val_accuracy: 0.5185 - val_loss: 0.6949\n",
      "Epoch 2/20\n",
      "\u001B[1m4/4\u001B[0m \u001B[32m━━━━━━━━━━━━━━━━━━━━\u001B[0m\u001B[37m\u001B[0m \u001B[1m0s\u001B[0m 115ms/step - accuracy: 0.5449 - loss: 0.6907 - val_accuracy: 0.4815 - val_loss: 0.6961\n",
      "Epoch 3/20\n",
      "\u001B[1m4/4\u001B[0m \u001B[32m━━━━━━━━━━━━━━━━━━━━\u001B[0m\u001B[37m\u001B[0m \u001B[1m1s\u001B[0m 125ms/step - accuracy: 0.7071 - loss: 0.6849 - val_accuracy: 0.4444 - val_loss: 0.7048\n",
      "Epoch 4/20\n",
      "\u001B[1m4/4\u001B[0m \u001B[32m━━━━━━━━━━━━━━━━━━━━\u001B[0m\u001B[37m\u001B[0m \u001B[1m1s\u001B[0m 134ms/step - accuracy: 0.6922 - loss: 0.6761 - val_accuracy: 0.3333 - val_loss: 0.7133\n",
      "Epoch 5/20\n",
      "\u001B[1m4/4\u001B[0m \u001B[32m━━━━━━━━━━━━━━━━━━━━\u001B[0m\u001B[37m\u001B[0m \u001B[1m1s\u001B[0m 115ms/step - accuracy: 0.7225 - loss: 0.6635 - val_accuracy: 0.4074 - val_loss: 0.7203\n",
      "Epoch 6/20\n",
      "\u001B[1m4/4\u001B[0m \u001B[32m━━━━━━━━━━━━━━━━━━━━\u001B[0m\u001B[37m\u001B[0m \u001B[1m1s\u001B[0m 119ms/step - accuracy: 0.7207 - loss: 0.6544 - val_accuracy: 0.4815 - val_loss: 0.7242\n"
     ]
    }
   ],
   "source": [
    "# Checkpoint\n",
    "checkpoint_cb = callbacks.ModelCheckpoint(\n",
    "    os.path.join('../outputs/checkpoints/all',\n",
    "                 f\"baseline_{tf.timestamp().numpy():.0f}.keras\"),\n",
    "    save_best_only=True, monitor=\"val_accuracy\", mode=\"max\"\n",
    ")\n",
    "\n",
    "# Early stopping\n",
    "earlystop_cb = callbacks.EarlyStopping(\n",
    "    monitor=EARLYSTOP_CFG['monitor'],\n",
    "    patience=EARLYSTOP_CFG['patience'],\n",
    "    restore_best_weights=True\n",
    ")\n",
    "\n",
    "# Entraînement\n",
    "history = model.fit(\n",
    "    train_ds,\n",
    "    validation_data=val_ds,\n",
    "    epochs=EPOCHS,\n",
    "    callbacks=[checkpoint_cb, earlystop_cb]\n",
    ")"
   ]
  },
  {
   "cell_type": "markdown",
   "id": "250f674237887aa6",
   "metadata": {},
   "source": [
    "## Visualisation des courbes"
   ]
  },
  {
   "cell_type": "code",
   "execution_count": 13,
   "id": "b1d72aa14c1618fb",
   "metadata": {
    "ExecuteTime": {
     "end_time": "2025-04-29T18:39:31.864965Z",
     "start_time": "2025-04-29T18:39:31.752711Z"
    }
   },
   "outputs": [
    {
     "data": {
      "image/png": "[encoded data removed]",
      "text/plain": [
       "<Figure size 1200x500 with 2 Axes>"
      ]
     },
     "metadata": {},
     "output_type": "display_data"
    }
   ],
   "source": [
    "plt.figure(figsize=(12,5))\n",
    "plt.subplot(1,2,1)\n",
    "plt.plot(history.history[\"accuracy\"], label=\"Train Acc\")\n",
    "plt.plot(history.history[\"val_accuracy\"], label=\"Val Acc\")\n",
    "plt.legend(); plt.title(\"Accuracy\")\n",
    "\n",
    "plt.subplot(1,2,2)\n",
    "plt.plot(history.history[\"loss\"], label=\"Train Loss\")\n",
    "plt.plot(history.history[\"val_loss\"], label=\"Val Loss\")\n",
    "plt.legend(); plt.title(\"Loss\")\n",
    "plt.show()"
   ]
  },
  {
   "cell_type": "markdown",
   "id": "db0b9565f8239b9c",
   "metadata": {},
   "source": [
    "## Sauvegarde finale et exemple de prédiction"
   ]
  },
  {
   "cell_type": "code",
   "execution_count": 18,
   "id": "f3bc5ac68487aa5",
   "metadata": {
    "ExecuteTime": {
     "end_time": "2025-04-29T18:39:34.872008Z",
     "start_time": "2025-04-29T18:39:34.697474Z"
    }
   },
   "outputs": [
    {
     "data": {
      "text/plain": [
       "'../outputs/configs/all/config_baselines_1745954094.yaml'"
      ]
     },
     "execution_count": 18,
     "metadata": {},
     "output_type": "execute_result"
    }
   ],
   "source": [
    "# Sauvegarde de la config du run\n",
    "run_id = f\"{int(tf.timestamp().numpy())}\"\n",
    "os.makedirs('../outputs/configs/all', exist_ok=True)\n",
    "shutil.copy('../configs/config_baseline.yaml', f'../outputs/configs/all/config_baselines_{run_id}.yaml')"
   ]
  },
  {
   "cell_type": "code",
   "execution_count": 21,
   "id": "26289128b87b14ef",
   "metadata": {
    "ExecuteTime": {
     "end_time": "2025-04-29T18:30:26.151915Z",
     "start_time": "2025-04-29T18:30:26.058768Z"
    }
   },
   "outputs": [
    {
     "name": "stdout",
     "output_type": "stream",
     "text": [
      "Chargement du modèle depuis : ../outputs/checkpoints/all/baseline_1745952211.keras\n",
      "\u001B[1m1/1\u001B[0m \u001B[32m━━━━━━━━━━━━━━━━━━━━\u001B[0m\u001B[37m\u001B[0m \u001B[1m0s\u001B[0m 45ms/step\n",
      "Classe prédite : toxic (indices : {'non_toxic': 0, 'toxic': 1})\n"
     ]
    }
   ],
   "source": [
    "# Sauvegarde du model\n",
    "ckpt_files = glob.glob(os.path.join(CHECKPOINT_DIR, '*.keras'))\n",
    "latest_ckpt = max(ckpt_files, key=os.path.getctime)\n",
    "print(\"Chargement du modèle depuis :\", latest_ckpt)\n",
    "\n",
    "best_model = load_model(latest_ckpt)\n",
    "\n",
    "# Exemple prédiction\n",
    "img_path = os.path.join('..', 'data', 'processed', 'all', 'toxic', 'Image_4646.tif')\n",
    "img = Image.open(img_path).resize(IMG_SIZE)\n",
    "x = np.array(img) / 255.0\n",
    "\n",
    "pred = best_model.predict(x[np.newaxis])\n",
    "pred_label = list(train_gen.class_indices.keys())[np.argmax(pred)]\n",
    "print(f\"Classe prédite : {pred_label} (indices : {train_gen.class_indices})\")"
   ]
  }
 ],
 "metadata": {
  "kernelspec": {
   "display_name": "venv",
   "language": "python",
   "name": "python3"
  },
  "language_info": {
   "codemirror_mode": {
    "name": "ipython",
    "version": 3
   },
   "file_extension": ".py",
   "mimetype": "text/x-python",
   "name": "python",
   "nbconvert_exporter": "python",
   "pygments_lexer": "ipython3",
   "version": "3.12.0"
  }
 },
 "nbformat": 4,
 "nbformat_minor": 5
}

{
 "cells": [
  {
   "cell_type": "markdown",
   "id": "b1dc8c88372c711",
   "metadata": {},
   "source": [
    "# Entraînement baseline du modèle CNN\n",
    "Ce notebook présente :\n",
    "- Chargement des données prétraitées\n",
    "- Définition d’un modèle CNN simple\n",
    "- Entraînement et évaluation de la baseline\n",
    "- Sauvegarde du meilleur modèle"
   ]
  },
  {
   "cell_type": "markdown",
   "id": "d878f7b31097a4f2",
   "metadata": {},
   "source": [
    "## Imports & Paramètres"
   ]
  },
  {
   "cell_type": "code",
   "id": "e44cd157f5d9b003",
   "metadata": {
    "ExecuteTime": {
     "end_time": "2025-07-04T18:40:08.147210Z",
     "start_time": "2025-07-04T18:40:08.144532Z"
    }
   },
   "source": [
    "import os, yaml, random\n",
    "import numpy as np\n",
    "import tensorflow as tf\n",
    "from tensorflow.keras import layers, models, callbacks\n",
    "from tensorflow.keras.preprocessing.image import ImageDataGenerator\n",
    "import matplotlib.pyplot as plt\n",
    "import shutil\n",
    "from tensorflow.keras.models import load_model\n",
    "import numpy as np\n",
    "from PIL import Image\n",
    "import glob\n",
    "from src.config_utils import load_config\n",
    "from src.data_loader import load_from_splits\n",
    "import subprocess\n",
    "from datetime import date"
   ],
   "outputs": [],
   "execution_count": 2
  },
  {
   "cell_type": "code",
   "id": "c087e64fe8586eb6",
   "metadata": {
    "ExecuteTime": {
     "end_time": "2025-07-04T18:40:09.517342Z",
     "start_time": "2025-07-04T18:40:09.511923Z"
    }
   },
   "source": [
    "# Charger la configuration\n",
    "cfg = load_config('../configs/config_baseline.yaml')\n",
    "\n",
    "# Fixer les seeds pour la reproductibilité\n",
    "random.seed(cfg['seed'])\n",
    "np.random.seed(cfg['seed'])\n",
    "tf.random.set_seed(cfg['seed'])\n",
    "\n",
    "# Paramètres depuis la config\n",
    "# Répertoires\n",
    "DATA_RAW_DIR       = cfg['data']['raw_dir']\n",
    "DATA_PROCESSED_DIR = cfg['data']['processed_dir']\n",
    "CHECKPOINT_DIR = os.path.join('..', 'outputs', 'checkpoints', 'all')\n",
    "# Hyperparamètres\n",
    "IMG_SIZE           = tuple(cfg['preprocessing']['target_size'])\n",
    "BATCH_SIZE         = cfg['training']['batch_size']\n",
    "EPOCHS             = cfg['training']['epochs']\n",
    "LEARNING_RATE      = cfg['training']['learning_rate']\n",
    "EARLYSTOP_CFG      = cfg['training']['early_stopping']\n",
    "\n",
    "# Chemins vers les fichiers de splits\n",
    "TRAIN_SPLIT = os.path.join('..', 'splits', 'train.txt')\n",
    "VAL_SPLIT   = os.path.join('..', 'splits', 'val.txt')"
   ],
   "outputs": [],
   "execution_count": 3
  },
  {
   "metadata": {
    "ExecuteTime": {
     "end_time": "2025-07-04T18:40:14.962764Z",
     "start_time": "2025-07-04T18:40:14.928309Z"
    }
   },
   "cell_type": "code",
   "source": [
    "# Génération d'un run_id unique\n",
    "today = date.today().isoformat()\n",
    "commit_hash = subprocess.check_output(\n",
    "    ['git','rev-parse','--short','HEAD']\n",
    ").decode().strip()\n",
    "run_id = f\"{today}_{commit_hash}\"\n",
    "\n",
    "# Préparation des dossiers de sortie\n",
    "CKPT_DIR = os.path.join('..','outputs','checkpoints','all')\n",
    "CFG_OUT  = os.path.join('..','outputs','configs','all')\n",
    "FIG_OUT  = os.path.join('..','outputs','figures', 'all')\n",
    "LOG_OUT  = os.path.join('..','outputs','logs', 'all')\n",
    "for d in (CKPT_DIR, CFG_OUT, FIG_OUT, LOG_OUT):\n",
    "    os.makedirs(d, exist_ok=True)\n",
    "\n",
    "print(\"Run ID :\", run_id)"
   ],
   "id": "42a31a72c1450fef",
   "outputs": [
    {
     "name": "stdout",
     "output_type": "stream",
     "text": [
      "Run ID : 2025-07-04_5b973d4\n"
     ]
    }
   ],
   "execution_count": 4
  },
  {
   "cell_type": "markdown",
   "id": "9baebba0e0452bd6",
   "metadata": {},
   "source": [
    "## Chargement des données"
   ]
  },
  {
   "cell_type": "code",
   "id": "38137eef4df4dd30",
   "metadata": {
    "ExecuteTime": {
     "end_time": "2025-07-04T18:40:39.347945Z",
     "start_time": "2025-07-04T18:40:39.261691Z"
    }
   },
   "source": [
    "# Construction des tf.data.Datasets\n",
    "train_ds, class_indices = load_from_splits(\n",
    "    TRAIN_SPLIT,\n",
    "    batch_size=BATCH_SIZE,\n",
    "    img_size=IMG_SIZE\n",
    ")\n",
    "\n",
    "val_ds, _ = load_from_splits(\n",
    "    VAL_SPLIT,\n",
    "    batch_size=BATCH_SIZE,\n",
    "    img_size=IMG_SIZE\n",
    ")\n",
    "\n",
    "# Nombre de classes\n",
    "num_classes = len(class_indices)\n",
    "print(\"Classes et indices :\", class_indices)\n",
    "print(\"Taille train:\", train_ds.cardinality().numpy(),\n",
    "      \"— val:\", val_ds.cardinality().numpy())"
   ],
   "outputs": [
    {
     "name": "stdout",
     "output_type": "stream",
     "text": [
      "Classes et indices : {'non-toxic': 0, 'toxic': 1}\n",
      "Taille train: 9 — val: 2\n"
     ]
    }
   ],
   "execution_count": 5
  },
  {
   "cell_type": "markdown",
   "id": "ef06b1380dafc754",
   "metadata": {},
   "source": [
    "## Définition du modèle"
   ]
  },
  {
   "cell_type": "code",
   "id": "9054f955aaa76126",
   "metadata": {
    "ExecuteTime": {
     "end_time": "2025-07-04T18:40:45.622994Z",
     "start_time": "2025-07-04T18:40:45.577237Z"
    }
   },
   "source": [
    "def build_baseline_cnn(input_shape, num_classes):\n",
    "    model = models.Sequential([\n",
    "        tf.keras.Input(shape=input_shape),\n",
    "        layers.Conv2D(32, 3, activation=\"relu\", padding=\"same\"),\n",
    "        layers.MaxPooling2D(),\n",
    "        layers.Conv2D(64, 3, activation=\"relu\", padding=\"same\"),\n",
    "        layers.MaxPooling2D(),\n",
    "        layers.GlobalAveragePooling2D(),\n",
    "        layers.Dense(128, activation=\"relu\"),\n",
    "        layers.Dropout(0.5),\n",
    "        layers.Dense(num_classes, activation=\"softmax\")\n",
    "    ])\n",
    "    return model\n",
    "\n",
    "model = build_baseline_cnn(IMG_SIZE + (3,), num_classes)\n",
    "model.compile(\n",
    "    optimizer=tf.keras.optimizers.Adam(learning_rate=LEARNING_RATE),\n",
    "    loss='sparse_categorical_crossentropy',\n",
    "    metrics=['accuracy']\n",
    ")\n",
    "\n",
    "model.summary()"
   ],
   "outputs": [
    {
     "data": {
      "text/plain": [
       "\u001B[1mModel: \"sequential\"\u001B[0m\n"
      ],
      "text/html": [
       "<pre style=\"white-space:pre;overflow-x:auto;line-height:normal;font-family:Menlo,'DejaVu Sans Mono',consolas,'Courier New',monospace\"><span style=\"font-weight: bold\">Model: \"sequential\"</span>\n",
       "</pre>\n"
      ]
     },
     "metadata": {},
     "output_type": "display_data"
    },
    {
     "data": {
      "text/plain": [
       "┏━━━━━━━━━━━━━━━━━━━━━━━━━━━━━━━━━┳━━━━━━━━━━━━━━━━━━━━━━━━┳━━━━━━━━━━━━━━━┓\n",
       "┃\u001B[1m \u001B[0m\u001B[1mLayer (type)                   \u001B[0m\u001B[1m \u001B[0m┃\u001B[1m \u001B[0m\u001B[1mOutput Shape          \u001B[0m\u001B[1m \u001B[0m┃\u001B[1m \u001B[0m\u001B[1m      Param #\u001B[0m\u001B[1m \u001B[0m┃\n",
       "┡━━━━━━━━━━━━━━━━━━━━━━━━━━━━━━━━━╇━━━━━━━━━━━━━━━━━━━━━━━━╇━━━━━━━━━━━━━━━┩\n",
       "│ conv2d (\u001B[38;5;33mConv2D\u001B[0m)                 │ (\u001B[38;5;45mNone\u001B[0m, \u001B[38;5;34m128\u001B[0m, \u001B[38;5;34m128\u001B[0m, \u001B[38;5;34m32\u001B[0m)   │           \u001B[38;5;34m896\u001B[0m │\n",
       "├─────────────────────────────────┼────────────────────────┼───────────────┤\n",
       "│ max_pooling2d (\u001B[38;5;33mMaxPooling2D\u001B[0m)    │ (\u001B[38;5;45mNone\u001B[0m, \u001B[38;5;34m64\u001B[0m, \u001B[38;5;34m64\u001B[0m, \u001B[38;5;34m32\u001B[0m)     │             \u001B[38;5;34m0\u001B[0m │\n",
       "├─────────────────────────────────┼────────────────────────┼───────────────┤\n",
       "│ conv2d_1 (\u001B[38;5;33mConv2D\u001B[0m)               │ (\u001B[38;5;45mNone\u001B[0m, \u001B[38;5;34m64\u001B[0m, \u001B[38;5;34m64\u001B[0m, \u001B[38;5;34m64\u001B[0m)     │        \u001B[38;5;34m18,496\u001B[0m │\n",
       "├─────────────────────────────────┼────────────────────────┼───────────────┤\n",
       "│ max_pooling2d_1 (\u001B[38;5;33mMaxPooling2D\u001B[0m)  │ (\u001B[38;5;45mNone\u001B[0m, \u001B[38;5;34m32\u001B[0m, \u001B[38;5;34m32\u001B[0m, \u001B[38;5;34m64\u001B[0m)     │             \u001B[38;5;34m0\u001B[0m │\n",
       "├─────────────────────────────────┼────────────────────────┼───────────────┤\n",
       "│ global_average_pooling2d        │ (\u001B[38;5;45mNone\u001B[0m, \u001B[38;5;34m64\u001B[0m)             │             \u001B[38;5;34m0\u001B[0m │\n",
       "│ (\u001B[38;5;33mGlobalAveragePooling2D\u001B[0m)        │                        │               │\n",
       "├─────────────────────────────────┼────────────────────────┼───────────────┤\n",
       "│ dense (\u001B[38;5;33mDense\u001B[0m)                   │ (\u001B[38;5;45mNone\u001B[0m, \u001B[38;5;34m128\u001B[0m)            │         \u001B[38;5;34m8,320\u001B[0m │\n",
       "├─────────────────────────────────┼────────────────────────┼───────────────┤\n",
       "│ dropout (\u001B[38;5;33mDropout\u001B[0m)               │ (\u001B[38;5;45mNone\u001B[0m, \u001B[38;5;34m128\u001B[0m)            │             \u001B[38;5;34m0\u001B[0m │\n",
       "├─────────────────────────────────┼────────────────────────┼───────────────┤\n",
       "│ dense_1 (\u001B[38;5;33mDense\u001B[0m)                 │ (\u001B[38;5;45mNone\u001B[0m, \u001B[38;5;34m2\u001B[0m)              │           \u001B[38;5;34m258\u001B[0m │\n",
       "└─────────────────────────────────┴────────────────────────┴───────────────┘\n"
      ],
      "text/html": [
       "<pre style=\"white-space:pre;overflow-x:auto;line-height:normal;font-family:Menlo,'DejaVu Sans Mono',consolas,'Courier New',monospace\">┏━━━━━━━━━━━━━━━━━━━━━━━━━━━━━━━━━┳━━━━━━━━━━━━━━━━━━━━━━━━┳━━━━━━━━━━━━━━━┓\n",
       "┃<span style=\"font-weight: bold\"> Layer (type)                    </span>┃<span style=\"font-weight: bold\"> Output Shape           </span>┃<span style=\"font-weight: bold\">       Param # </span>┃\n",
       "┡━━━━━━━━━━━━━━━━━━━━━━━━━━━━━━━━━╇━━━━━━━━━━━━━━━━━━━━━━━━╇━━━━━━━━━━━━━━━┩\n",
       "│ conv2d (<span style=\"color: #0087ff; text-decoration-color: #0087ff\">Conv2D</span>)                 │ (<span style=\"color: #00d7ff; text-decoration-color: #00d7ff\">None</span>, <span style=\"color: #00af00; text-decoration-color: #00af00\">128</span>, <span style=\"color: #00af00; text-decoration-color: #00af00\">128</span>, <span style=\"color: #00af00; text-decoration-color: #00af00\">32</span>)   │           <span style=\"color: #00af00; text-decoration-color: #00af00\">896</span> │\n",
       "├─────────────────────────────────┼────────────────────────┼───────────────┤\n",
       "│ max_pooling2d (<span style=\"color: #0087ff; text-decoration-color: #0087ff\">MaxPooling2D</span>)    │ (<span style=\"color: #00d7ff; text-decoration-color: #00d7ff\">None</span>, <span style=\"color: #00af00; text-decoration-color: #00af00\">64</span>, <span style=\"color: #00af00; text-decoration-color: #00af00\">64</span>, <span style=\"color: #00af00; text-decoration-color: #00af00\">32</span>)     │             <span style=\"color: #00af00; text-decoration-color: #00af00\">0</span> │\n",
       "├─────────────────────────────────┼────────────────────────┼───────────────┤\n",
       "│ conv2d_1 (<span style=\"color: #0087ff; text-decoration-color: #0087ff\">Conv2D</span>)               │ (<span style=\"color: #00d7ff; text-decoration-color: #00d7ff\">None</span>, <span style=\"color: #00af00; text-decoration-color: #00af00\">64</span>, <span style=\"color: #00af00; text-decoration-color: #00af00\">64</span>, <span style=\"color: #00af00; text-decoration-color: #00af00\">64</span>)     │        <span style=\"color: #00af00; text-decoration-color: #00af00\">18,496</span> │\n",
       "├─────────────────────────────────┼────────────────────────┼───────────────┤\n",
       "│ max_pooling2d_1 (<span style=\"color: #0087ff; text-decoration-color: #0087ff\">MaxPooling2D</span>)  │ (<span style=\"color: #00d7ff; text-decoration-color: #00d7ff\">None</span>, <span style=\"color: #00af00; text-decoration-color: #00af00\">32</span>, <span style=\"color: #00af00; text-decoration-color: #00af00\">32</span>, <span style=\"color: #00af00; text-decoration-color: #00af00\">64</span>)     │             <span style=\"color: #00af00; text-decoration-color: #00af00\">0</span> │\n",
       "├─────────────────────────────────┼────────────────────────┼───────────────┤\n",
       "│ global_average_pooling2d        │ (<span style=\"color: #00d7ff; text-decoration-color: #00d7ff\">None</span>, <span style=\"color: #00af00; text-decoration-color: #00af00\">64</span>)             │             <span style=\"color: #00af00; text-decoration-color: #00af00\">0</span> │\n",
       "│ (<span style=\"color: #0087ff; text-decoration-color: #0087ff\">GlobalAveragePooling2D</span>)        │                        │               │\n",
       "├─────────────────────────────────┼────────────────────────┼───────────────┤\n",
       "│ dense (<span style=\"color: #0087ff; text-decoration-color: #0087ff\">Dense</span>)                   │ (<span style=\"color: #00d7ff; text-decoration-color: #00d7ff\">None</span>, <span style=\"color: #00af00; text-decoration-color: #00af00\">128</span>)            │         <span style=\"color: #00af00; text-decoration-color: #00af00\">8,320</span> │\n",
       "├─────────────────────────────────┼────────────────────────┼───────────────┤\n",
       "│ dropout (<span style=\"color: #0087ff; text-decoration-color: #0087ff\">Dropout</span>)               │ (<span style=\"color: #00d7ff; text-decoration-color: #00d7ff\">None</span>, <span style=\"color: #00af00; text-decoration-color: #00af00\">128</span>)            │             <span style=\"color: #00af00; text-decoration-color: #00af00\">0</span> │\n",
       "├─────────────────────────────────┼────────────────────────┼───────────────┤\n",
       "│ dense_1 (<span style=\"color: #0087ff; text-decoration-color: #0087ff\">Dense</span>)                 │ (<span style=\"color: #00d7ff; text-decoration-color: #00d7ff\">None</span>, <span style=\"color: #00af00; text-decoration-color: #00af00\">2</span>)              │           <span style=\"color: #00af00; text-decoration-color: #00af00\">258</span> │\n",
       "└─────────────────────────────────┴────────────────────────┴───────────────┘\n",
       "</pre>\n"
      ]
     },
     "metadata": {},
     "output_type": "display_data"
    },
    {
     "data": {
      "text/plain": [
       "\u001B[1m Total params: \u001B[0m\u001B[38;5;34m27,970\u001B[0m (109.26 KB)\n"
      ],
      "text/html": [
       "<pre style=\"white-space:pre;overflow-x:auto;line-height:normal;font-family:Menlo,'DejaVu Sans Mono',consolas,'Courier New',monospace\"><span style=\"font-weight: bold\"> Total params: </span><span style=\"color: #00af00; text-decoration-color: #00af00\">27,970</span> (109.26 KB)\n",
       "</pre>\n"
      ]
     },
     "metadata": {},
     "output_type": "display_data"
    },
    {
     "data": {
      "text/plain": [
       "\u001B[1m Trainable params: \u001B[0m\u001B[38;5;34m27,970\u001B[0m (109.26 KB)\n"
      ],
      "text/html": [
       "<pre style=\"white-space:pre;overflow-x:auto;line-height:normal;font-family:Menlo,'DejaVu Sans Mono',consolas,'Courier New',monospace\"><span style=\"font-weight: bold\"> Trainable params: </span><span style=\"color: #00af00; text-decoration-color: #00af00\">27,970</span> (109.26 KB)\n",
       "</pre>\n"
      ]
     },
     "metadata": {},
     "output_type": "display_data"
    },
    {
     "data": {
      "text/plain": [
       "\u001B[1m Non-trainable params: \u001B[0m\u001B[38;5;34m0\u001B[0m (0.00 B)\n"
      ],
      "text/html": [
       "<pre style=\"white-space:pre;overflow-x:auto;line-height:normal;font-family:Menlo,'DejaVu Sans Mono',consolas,'Courier New',monospace\"><span style=\"font-weight: bold\"> Non-trainable params: </span><span style=\"color: #00af00; text-decoration-color: #00af00\">0</span> (0.00 B)\n",
       "</pre>\n"
      ]
     },
     "metadata": {},
     "output_type": "display_data"
    }
   ],
   "execution_count": 6
  },
  {
   "cell_type": "markdown",
   "id": "18d2c067a5318572",
   "metadata": {},
   "source": [
    "## Callbacks et entraînement"
   ]
  },
  {
   "cell_type": "code",
   "id": "56d79829af93d81b",
   "metadata": {
    "ExecuteTime": {
     "end_time": "2025-07-04T18:41:12.234038Z",
     "start_time": "2025-07-04T18:40:49.143733Z"
    }
   },
   "source": [
    "# Checkpoint\n",
    "checkpoint_path = os.path.join(\n",
    "     CKPT_DIR,\n",
    "     f\"{run_id}_model.keras\"\n",
    " )\n",
    "\n",
    "checkpoint_cb = callbacks.ModelCheckpoint(\n",
    "     checkpoint_path,\n",
    "     save_best_only=True, monitor=\"val_accuracy\", mode=\"max\"\n",
    ")\n",
    "\n",
    "# Early stopping\n",
    "earlystop_cb = callbacks.EarlyStopping(\n",
    "    monitor=EARLYSTOP_CFG['monitor'],\n",
    "    patience=EARLYSTOP_CFG['patience'],\n",
    "    restore_best_weights=True\n",
    ")\n",
    "\n",
    "# Entraînement\n",
    "history = model.fit(\n",
    "    train_ds,\n",
    "    validation_data=val_ds,\n",
    "    epochs=EPOCHS,\n",
    "    callbacks=[checkpoint_cb,\n",
    "               callbacks.EarlyStopping(**EARLYSTOP_CFG, restore_best_weights=True)]\n",
    ")"
   ],
   "outputs": [
    {
     "name": "stdout",
     "output_type": "stream",
     "text": [
      "Epoch 1/20\n",
      "\u001B[1m9/9\u001B[0m \u001B[32m━━━━━━━━━━━━━━━━━━━━\u001B[0m\u001B[37m\u001B[0m \u001B[1m2s\u001B[0m 112ms/step - accuracy: 0.5859 - loss: 0.6852 - val_accuracy: 0.6500 - val_loss: 0.6586\n",
      "Epoch 2/20\n",
      "\u001B[1m9/9\u001B[0m \u001B[32m━━━━━━━━━━━━━━━━━━━━\u001B[0m\u001B[37m\u001B[0m \u001B[1m1s\u001B[0m 112ms/step - accuracy: 0.6522 - loss: 0.6516 - val_accuracy: 0.6500 - val_loss: 0.6484\n",
      "Epoch 3/20\n",
      "\u001B[1m9/9\u001B[0m \u001B[32m━━━━━━━━━━━━━━━━━━━━\u001B[0m\u001B[37m\u001B[0m \u001B[1m1s\u001B[0m 112ms/step - accuracy: 0.6221 - loss: 0.6749 - val_accuracy: 0.6500 - val_loss: 0.6502\n",
      "Epoch 4/20\n",
      "\u001B[1m9/9\u001B[0m \u001B[32m━━━━━━━━━━━━━━━━━━━━\u001B[0m\u001B[37m\u001B[0m \u001B[1m1s\u001B[0m 105ms/step - accuracy: 0.6322 - loss: 0.6532 - val_accuracy: 0.6500 - val_loss: 0.6494\n",
      "Epoch 5/20\n",
      "\u001B[1m9/9\u001B[0m \u001B[32m━━━━━━━━━━━━━━━━━━━━\u001B[0m\u001B[37m\u001B[0m \u001B[1m1s\u001B[0m 107ms/step - accuracy: 0.6406 - loss: 0.6582 - val_accuracy: 0.6500 - val_loss: 0.6478\n",
      "Epoch 6/20\n",
      "\u001B[1m9/9\u001B[0m \u001B[32m━━━━━━━━━━━━━━━━━━━━\u001B[0m\u001B[37m\u001B[0m \u001B[1m1s\u001B[0m 110ms/step - accuracy: 0.6308 - loss: 0.6677 - val_accuracy: 0.6500 - val_loss: 0.6478\n",
      "Epoch 7/20\n",
      "\u001B[1m9/9\u001B[0m \u001B[32m━━━━━━━━━━━━━━━━━━━━\u001B[0m\u001B[37m\u001B[0m \u001B[1m1s\u001B[0m 107ms/step - accuracy: 0.6155 - loss: 0.6669 - val_accuracy: 0.6500 - val_loss: 0.6486\n",
      "Epoch 8/20\n",
      "\u001B[1m9/9\u001B[0m \u001B[32m━━━━━━━━━━━━━━━━━━━━\u001B[0m\u001B[37m\u001B[0m \u001B[1m1s\u001B[0m 109ms/step - accuracy: 0.6376 - loss: 0.6600 - val_accuracy: 0.6500 - val_loss: 0.6472\n",
      "Epoch 9/20\n",
      "\u001B[1m9/9\u001B[0m \u001B[32m━━━━━━━━━━━━━━━━━━━━\u001B[0m\u001B[37m\u001B[0m \u001B[1m1s\u001B[0m 108ms/step - accuracy: 0.6391 - loss: 0.6493 - val_accuracy: 0.6500 - val_loss: 0.6474\n",
      "Epoch 10/20\n",
      "\u001B[1m9/9\u001B[0m \u001B[32m━━━━━━━━━━━━━━━━━━━━\u001B[0m\u001B[37m\u001B[0m \u001B[1m1s\u001B[0m 106ms/step - accuracy: 0.6132 - loss: 0.6590 - val_accuracy: 0.6500 - val_loss: 0.6469\n",
      "Epoch 11/20\n",
      "\u001B[1m9/9\u001B[0m \u001B[32m━━━━━━━━━━━━━━━━━━━━\u001B[0m\u001B[37m\u001B[0m \u001B[1m1s\u001B[0m 107ms/step - accuracy: 0.6211 - loss: 0.6510 - val_accuracy: 0.6500 - val_loss: 0.6467\n",
      "Epoch 12/20\n",
      "\u001B[1m9/9\u001B[0m \u001B[32m━━━━━━━━━━━━━━━━━━━━\u001B[0m\u001B[37m\u001B[0m \u001B[1m1s\u001B[0m 108ms/step - accuracy: 0.6353 - loss: 0.6567 - val_accuracy: 0.6500 - val_loss: 0.6462\n",
      "Epoch 13/20\n",
      "\u001B[1m9/9\u001B[0m \u001B[32m━━━━━━━━━━━━━━━━━━━━\u001B[0m\u001B[37m\u001B[0m \u001B[1m1s\u001B[0m 107ms/step - accuracy: 0.5936 - loss: 0.6793 - val_accuracy: 0.6500 - val_loss: 0.6464\n",
      "Epoch 14/20\n",
      "\u001B[1m9/9\u001B[0m \u001B[32m━━━━━━━━━━━━━━━━━━━━\u001B[0m\u001B[37m\u001B[0m \u001B[1m1s\u001B[0m 106ms/step - accuracy: 0.6259 - loss: 0.6636 - val_accuracy: 0.6500 - val_loss: 0.6467\n",
      "Epoch 15/20\n",
      "\u001B[1m9/9\u001B[0m \u001B[32m━━━━━━━━━━━━━━━━━━━━\u001B[0m\u001B[37m\u001B[0m \u001B[1m1s\u001B[0m 115ms/step - accuracy: 0.6742 - loss: 0.6339 - val_accuracy: 0.6500 - val_loss: 0.6450\n",
      "Epoch 16/20\n",
      "\u001B[1m9/9\u001B[0m \u001B[32m━━━━━━━━━━━━━━━━━━━━\u001B[0m\u001B[37m\u001B[0m \u001B[1m1s\u001B[0m 106ms/step - accuracy: 0.6311 - loss: 0.6595 - val_accuracy: 0.6500 - val_loss: 0.6472\n",
      "Epoch 17/20\n",
      "\u001B[1m9/9\u001B[0m \u001B[32m━━━━━━━━━━━━━━━━━━━━\u001B[0m\u001B[37m\u001B[0m \u001B[1m1s\u001B[0m 109ms/step - accuracy: 0.6450 - loss: 0.6510 - val_accuracy: 0.6500 - val_loss: 0.6448\n",
      "Epoch 18/20\n",
      "\u001B[1m9/9\u001B[0m \u001B[32m━━━━━━━━━━━━━━━━━━━━\u001B[0m\u001B[37m\u001B[0m \u001B[1m1s\u001B[0m 109ms/step - accuracy: 0.6316 - loss: 0.6580 - val_accuracy: 0.6500 - val_loss: 0.6433\n",
      "Epoch 19/20\n",
      "\u001B[1m9/9\u001B[0m \u001B[32m━━━━━━━━━━━━━━━━━━━━\u001B[0m\u001B[37m\u001B[0m \u001B[1m1s\u001B[0m 107ms/step - accuracy: 0.6051 - loss: 0.6708 - val_accuracy: 0.6500 - val_loss: 0.6427\n",
      "Epoch 20/20\n",
      "\u001B[1m9/9\u001B[0m \u001B[32m━━━━━━━━━━━━━━━━━━━━\u001B[0m\u001B[37m\u001B[0m \u001B[1m1s\u001B[0m 107ms/step - accuracy: 0.6466 - loss: 0.6467 - val_accuracy: 0.6500 - val_loss: 0.6412\n"
     ]
    }
   ],
   "execution_count": 7
  },
  {
   "cell_type": "markdown",
   "id": "250f674237887aa6",
   "metadata": {},
   "source": [
    "## Visualisation des courbes"
   ]
  },
  {
   "cell_type": "code",
   "id": "b1d72aa14c1618fb",
   "metadata": {
    "ExecuteTime": {
     "end_time": "2025-07-04T18:41:16.935164Z",
     "start_time": "2025-07-04T18:41:16.669412Z"
    }
   },
   "source": [
    "plt.figure(figsize=(12,5))\n",
    "plt.subplot(1,2,1)\n",
    "plt.plot(history.history[\"accuracy\"], label=\"Train Acc\")\n",
    "plt.plot(history.history[\"val_accuracy\"], label=\"Val Acc\")\n",
    "plt.legend(); plt.title(\"Accuracy\")\n",
    "\n",
    "plt.subplot(1,2,2)\n",
    "plt.plot(history.history[\"loss\"], label=\"Train Loss\")\n",
    "plt.plot(history.history[\"val_loss\"], label=\"Val Loss\")\n",
    "plt.legend(); plt.title(\"Loss\")\n",
    "\n",
    "# Sauvegarde de la figure des courbes\n",
    "fig_path = os.path.join(FIG_OUT, f\"{run_id}_training_curves.png\")\n",
    "plt.savefig(fig_path, dpi=300)\n",
    "print(\"Courbes sauvegardées dans :\", fig_path)\n",
    "\n",
    "plt.show()\n",
    "\n",
    "# Sauvegarde des métriques dans un fichier texte\n",
    "metrics_path = os.path.join(LOG_OUT, f\"{run_id}_metrics.txt\")\n",
    "with open(metrics_path, 'w') as f:\n",
    "    for key, vals in history.history.items():\n",
    "        f.write(f\"{key}: {vals}\\n\")\n",
    "print(\"Metrics sauvegardées dans :\", metrics_path)"
   ],
   "outputs": [
    {
     "name": "stdout",
     "output_type": "stream",
     "text": [
      "Courbes sauvegardées dans : ../outputs/figures/all/2025-07-04_5b973d4_training_curves.png\n"
     ]
    },
    {
     "data": {
      "text/plain": [
       "<Figure size 1200x500 with 2 Axes>"
      ],
      "image/png": "[encoded data removed]"
     },
     "metadata": {},
     "output_type": "display_data"
    },
    {
     "name": "stdout",
     "output_type": "stream",
     "text": [
      "Metrics sauvegardées dans : ../outputs/logs/all/2025-07-04_5b973d4_metrics.txt\n"
     ]
    }
   ],
   "execution_count": 8
  },
  {
   "cell_type": "markdown",
   "id": "db0b9565f8239b9c",
   "metadata": {},
   "source": [
    "## Sauvegarde finale et exemple de prédiction"
   ]
  },
  {
   "cell_type": "code",
   "id": "f3bc5ac68487aa5",
   "metadata": {
    "ExecuteTime": {
     "end_time": "2025-07-04T18:41:25.955025Z",
     "start_time": "2025-07-04T18:41:25.950373Z"
    }
   },
   "source": [
    "# Sauvegarde de la config du run\n",
    "src_cfg = '../configs/config_baseline.yaml'\n",
    "dst_cfg = os.path.join(CFG_OUT, f\"{run_id}_config_baseline.yaml\")\n",
    "shutil.copy(src_cfg, dst_cfg)\n",
    "print(\"Config sauvegardée dans :\", dst_cfg)"
   ],
   "outputs": [
    {
     "name": "stdout",
     "output_type": "stream",
     "text": [
      "Config sauvegardée dans : ../outputs/configs/all/2025-07-04_5b973d4_config_baseline.yaml\n"
     ]
    }
   ],
   "execution_count": 9
  },
  {
   "cell_type": "code",
   "id": "26289128b87b14ef",
   "metadata": {
    "ExecuteTime": {
     "end_time": "2025-07-04T18:41:28.387461Z",
     "start_time": "2025-07-04T18:41:28.279953Z"
    }
   },
   "source": [
    "# 1. Récupérer le dernier checkpoint\n",
    "ckpt_files = glob.glob(os.path.join(CKPT_DIR, '*.keras'))\n",
    "latest_ckpt = max(ckpt_files, key=os.path.getctime)\n",
    "print(\"Chargement du modèle depuis :\", latest_ckpt)\n",
    "\n",
    "# 2. Charger le modèle\n",
    "best_model = load_model(latest_ckpt)\n",
    "\n",
    "# 3. Préparer une image d’exemple\n",
    "img_path = os.path.join('..', 'data', 'processed', 'all', 'toxic', 'Image_4646.tif')\n",
    "img = Image.open(img_path).resize(IMG_SIZE)\n",
    "x = np.array(img) / 255.0\n",
    "\n",
    "# 4. Prédiction\n",
    "pred = best_model.predict(x[np.newaxis])[0]\n",
    "pred_idx = np.argmax(pred)\n",
    "\n",
    "# 5. Conversion indice → nom de classe\n",
    "inv_class_map = {v: k for k, v in class_indices.items()}\n",
    "pred_label = inv_class_map[pred_idx]\n",
    "\n",
    "print(f\"Classe prédite : {pred_label} (indice {pred_idx})\")"
   ],
   "outputs": [
    {
     "name": "stdout",
     "output_type": "stream",
     "text": [
      "Chargement du modèle depuis : ../outputs/checkpoints/all/2025-07-04_5b973d4_model.keras\n",
      "\u001B[1m1/1\u001B[0m \u001B[32m━━━━━━━━━━━━━━━━━━━━\u001B[0m\u001B[37m\u001B[0m \u001B[1m0s\u001B[0m 33ms/step\n",
      "Classe prédite : toxic (indice 1)\n"
     ]
    }
   ],
   "execution_count": 10
  }
 ],
 "metadata": {
  "kernelspec": {
   "display_name": "venv",
   "language": "python",
   "name": "python3"
  },
  "language_info": {
   "codemirror_mode": {
    "name": "ipython",
    "version": 3
   },
   "file_extension": ".py",
   "mimetype": "text/x-python",
   "name": "python",
   "nbconvert_exporter": "python",
   "pygments_lexer": "ipython3",
   "version": "3.12.0"
  }
 },
 "nbformat": 4,
 "nbformat_minor": 5
}

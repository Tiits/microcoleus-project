{
 "cells": [
  {
   "metadata": {},
   "cell_type": "markdown",
   "source": [
    "# Baseline CNN Model Training\n",
    "\n",
    "**Objective:** Train and evaluate a baseline CNN model on the cyanobacteria toxicity\n",
    "classification task. This notebook demonstrates:\n",
    "- Loading and preprocessing data from splits\n",
    "- Defining a simple CNN architecture\n",
    "- Training with proper validation and early stopping\n",
    "- Saving model checkpoints and training artifacts"
   ],
   "id": "33644fef58388ad9"
  },
  {
   "metadata": {},
   "cell_type": "markdown",
   "source": "## 1. Imports & Setup",
   "id": "56414006539f2456"
  },
  {
   "metadata": {
    "ExecuteTime": {
     "end_time": "2025-07-27T16:42:24.020476Z",
     "start_time": "2025-07-27T16:42:19.236020Z"
    }
   },
   "cell_type": "code",
   "source": [
    "import random\n",
    "import shutil\n",
    "import subprocess\n",
    "from datetime import date\n",
    "from pathlib import Path\n",
    "\n",
    "import matplotlib.pyplot as plt\n",
    "import numpy as np\n",
    "import tensorflow as tf\n",
    "from PIL import Image\n",
    "from tensorflow.keras import layers, models, callbacks\n",
    "from tensorflow.keras.models import load_model\n",
    "\n",
    "from src.config_utils import load_config\n",
    "from src.data_loader import load_from_splits"
   ],
   "id": "faa6fd8d219fc4da",
   "outputs": [],
   "execution_count": 1
  },
  {
   "metadata": {},
   "cell_type": "markdown",
   "source": "## 2. Configuration & Parameters",
   "id": "cead8466e9333878"
  },
  {
   "metadata": {
    "ExecuteTime": {
     "end_time": "2025-07-27T16:42:39.877945Z",
     "start_time": "2025-07-27T16:42:39.836235Z"
    }
   },
   "cell_type": "code",
   "source": [
    "# Load configuration\n",
    "cfg = load_config('../configs/config_baseline.yaml')\n",
    "\n",
    "# Set seeds for reproducibility\n",
    "def set_seeds(seed):\n",
    "    \"\"\"Set seeds for reproducibility\"\"\"\n",
    "    random.seed(seed)\n",
    "    np.random.seed(seed)\n",
    "    tf.random.set_seed(seed)\n",
    "\n",
    "set_seeds(cfg['seed'])\n",
    "\n",
    "# Parameters from config\n",
    "DATA_DIRS = {\n",
    "    'raw': Path(cfg['data']['raw_dir']),\n",
    "    'processed': Path(cfg['data']['processed_dir'])\n",
    "}\n",
    "IMG_SIZE = tuple(cfg['preprocessing']['target_size'])\n",
    "BATCH_SIZE = cfg['training']['batch_size']\n",
    "EPOCHS = cfg['training']['epochs']\n",
    "LEARNING_RATE = cfg['training']['learning_rate']\n",
    "\n",
    "# Split files paths\n",
    "SPLITS = {\n",
    "    'train': Path('../splits/all/baseline/train.txt'),\n",
    "    'val': Path('../splits/all/baseline/val.txt')\n",
    "}\n",
    "\n",
    "# Generate unique run ID\n",
    "today = date.today().isoformat()\n",
    "commit = subprocess.check_output(['git','rev-parse','--short','HEAD']).decode().strip()\n",
    "run_id = f\"{today}_{commit}\"\n",
    "\n",
    "# Prepare output directories\n",
    "OUTPUT_DIRS = {\n",
    "    'checkpoints': Path('../outputs/checkpoints/all/baseline'),\n",
    "    'configs': Path('../outputs/configs/all/baseline'),\n",
    "    'figures': Path('../outputs/figures/all/baseline'),\n",
    "    'logs': Path('../outputs/logs/all/baseline')\n",
    "}\n",
    "\n",
    "for dir_path in OUTPUT_DIRS.values():\n",
    "    dir_path.mkdir(parents=True, exist_ok=True)\n",
    "\n",
    "print(f\"Run ID: {run_id}\")"
   ],
   "id": "3ea5cd72aa9df6de",
   "outputs": [
    {
     "name": "stdout",
     "output_type": "stream",
     "text": [
      "Run ID: 2025-07-27_3319866\n"
     ]
    }
   ],
   "execution_count": 2
  },
  {
   "metadata": {},
   "cell_type": "markdown",
   "source": "## 3. Data Loading & Preprocessing",
   "id": "15eb9c65b973d86a"
  },
  {
   "metadata": {
    "ExecuteTime": {
     "end_time": "2025-07-27T16:42:42.554397Z",
     "start_time": "2025-07-27T16:42:42.465548Z"
    }
   },
   "cell_type": "code",
   "source": [
    "# Build tf.data.Datasets from splits\n",
    "train_ds, class_indices = load_from_splits(\n",
    "    SPLITS['train'],\n",
    "    batch_size=BATCH_SIZE,\n",
    "    img_size=IMG_SIZE\n",
    ")\n",
    "\n",
    "val_ds, _ = load_from_splits(\n",
    "    SPLITS['val'],\n",
    "    batch_size=BATCH_SIZE,\n",
    "    img_size=IMG_SIZE\n",
    ")\n",
    "\n",
    "num_classes = len(class_indices)\n",
    "print(f\"Class indices: {class_indices}\")\n",
    "print(f\"Dataset sizes - Train: {train_ds.cardinality().numpy()}, Val: {val_ds.cardinality().numpy()}\")"
   ],
   "id": "597cfbaabc6a5d7d",
   "outputs": [
    {
     "name": "stdout",
     "output_type": "stream",
     "text": [
      "Class indices: {'non_toxic': 0, 'toxic': 1}\n",
      "Dataset sizes - Train: 13, Val: 3\n"
     ]
    }
   ],
   "execution_count": 3
  },
  {
   "metadata": {},
   "cell_type": "markdown",
   "source": "## 4. Model Architecture",
   "id": "5ef4de790cf4e3db"
  },
  {
   "metadata": {
    "ExecuteTime": {
     "end_time": "2025-07-27T16:42:46.508463Z",
     "start_time": "2025-07-27T16:42:46.464748Z"
    }
   },
   "cell_type": "code",
   "source": [
    "def build_baseline_cnn(input_shape: tuple, num_classes: int) -> tf.keras.Model:\n",
    "    \"\"\"\n",
    "    Build a simple baseline CNN architecture for toxicity classification.\n",
    "\n",
    "    Args:\n",
    "        input_shape: Input image shape (height, width, channels)\n",
    "        num_classes: Number of output classes\n",
    "\n",
    "    Returns:\n",
    "        Compiled Keras model\n",
    "    \"\"\"\n",
    "    model = models.Sequential([\n",
    "        tf.keras.Input(shape=input_shape),\n",
    "        # First conv block\n",
    "        layers.Conv2D(32, 3, activation=\"relu\", padding=\"same\"),\n",
    "        layers.MaxPooling2D(),\n",
    "        # Second conv block\n",
    "        layers.Conv2D(64, 3, activation=\"relu\", padding=\"same\"),\n",
    "        layers.MaxPooling2D(),\n",
    "        # Global pooling and dense layers\n",
    "        layers.GlobalAveragePooling2D(),\n",
    "        layers.Dense(128, activation=\"relu\"),\n",
    "        layers.Dropout(0.5),\n",
    "        layers.Dense(num_classes, activation=\"softmax\")\n",
    "    ])\n",
    "\n",
    "    # Compile model\n",
    "    model.compile(\n",
    "        optimizer=tf.keras.optimizers.Adam(learning_rate=LEARNING_RATE),\n",
    "        loss='sparse_categorical_crossentropy',\n",
    "        metrics=['accuracy']\n",
    "    )\n",
    "\n",
    "    return model\n",
    "\n",
    "model = build_baseline_cnn(IMG_SIZE + (3,), num_classes)\n",
    "model.summary()"
   ],
   "id": "25ab357f034559ef",
   "outputs": [
    {
     "data": {
      "text/plain": [
       "\u001B[1mModel: \"sequential\"\u001B[0m\n"
      ],
      "text/html": [
       "<pre style=\"white-space:pre;overflow-x:auto;line-height:normal;font-family:Menlo,'DejaVu Sans Mono',consolas,'Courier New',monospace\"><span style=\"font-weight: bold\">Model: \"sequential\"</span>\n",
       "</pre>\n"
      ]
     },
     "metadata": {},
     "output_type": "display_data"
    },
    {
     "data": {
      "text/plain": [
       "┏━━━━━━━━━━━━━━━━━━━━━━━━━━━━━━━━━┳━━━━━━━━━━━━━━━━━━━━━━━━┳━━━━━━━━━━━━━━━┓\n",
       "┃\u001B[1m \u001B[0m\u001B[1mLayer (type)                   \u001B[0m\u001B[1m \u001B[0m┃\u001B[1m \u001B[0m\u001B[1mOutput Shape          \u001B[0m\u001B[1m \u001B[0m┃\u001B[1m \u001B[0m\u001B[1m      Param #\u001B[0m\u001B[1m \u001B[0m┃\n",
       "┡━━━━━━━━━━━━━━━━━━━━━━━━━━━━━━━━━╇━━━━━━━━━━━━━━━━━━━━━━━━╇━━━━━━━━━━━━━━━┩\n",
       "│ conv2d (\u001B[38;5;33mConv2D\u001B[0m)                 │ (\u001B[38;5;45mNone\u001B[0m, \u001B[38;5;34m128\u001B[0m, \u001B[38;5;34m128\u001B[0m, \u001B[38;5;34m32\u001B[0m)   │           \u001B[38;5;34m896\u001B[0m │\n",
       "├─────────────────────────────────┼────────────────────────┼───────────────┤\n",
       "│ max_pooling2d (\u001B[38;5;33mMaxPooling2D\u001B[0m)    │ (\u001B[38;5;45mNone\u001B[0m, \u001B[38;5;34m64\u001B[0m, \u001B[38;5;34m64\u001B[0m, \u001B[38;5;34m32\u001B[0m)     │             \u001B[38;5;34m0\u001B[0m │\n",
       "├─────────────────────────────────┼────────────────────────┼───────────────┤\n",
       "│ conv2d_1 (\u001B[38;5;33mConv2D\u001B[0m)               │ (\u001B[38;5;45mNone\u001B[0m, \u001B[38;5;34m64\u001B[0m, \u001B[38;5;34m64\u001B[0m, \u001B[38;5;34m64\u001B[0m)     │        \u001B[38;5;34m18,496\u001B[0m │\n",
       "├─────────────────────────────────┼────────────────────────┼───────────────┤\n",
       "│ max_pooling2d_1 (\u001B[38;5;33mMaxPooling2D\u001B[0m)  │ (\u001B[38;5;45mNone\u001B[0m, \u001B[38;5;34m32\u001B[0m, \u001B[38;5;34m32\u001B[0m, \u001B[38;5;34m64\u001B[0m)     │             \u001B[38;5;34m0\u001B[0m │\n",
       "├─────────────────────────────────┼────────────────────────┼───────────────┤\n",
       "│ global_average_pooling2d        │ (\u001B[38;5;45mNone\u001B[0m, \u001B[38;5;34m64\u001B[0m)             │             \u001B[38;5;34m0\u001B[0m │\n",
       "│ (\u001B[38;5;33mGlobalAveragePooling2D\u001B[0m)        │                        │               │\n",
       "├─────────────────────────────────┼────────────────────────┼───────────────┤\n",
       "│ dense (\u001B[38;5;33mDense\u001B[0m)                   │ (\u001B[38;5;45mNone\u001B[0m, \u001B[38;5;34m128\u001B[0m)            │         \u001B[38;5;34m8,320\u001B[0m │\n",
       "├─────────────────────────────────┼────────────────────────┼───────────────┤\n",
       "│ dropout (\u001B[38;5;33mDropout\u001B[0m)               │ (\u001B[38;5;45mNone\u001B[0m, \u001B[38;5;34m128\u001B[0m)            │             \u001B[38;5;34m0\u001B[0m │\n",
       "├─────────────────────────────────┼────────────────────────┼───────────────┤\n",
       "│ dense_1 (\u001B[38;5;33mDense\u001B[0m)                 │ (\u001B[38;5;45mNone\u001B[0m, \u001B[38;5;34m2\u001B[0m)              │           \u001B[38;5;34m258\u001B[0m │\n",
       "└─────────────────────────────────┴────────────────────────┴───────────────┘\n"
      ],
      "text/html": [
       "<pre style=\"white-space:pre;overflow-x:auto;line-height:normal;font-family:Menlo,'DejaVu Sans Mono',consolas,'Courier New',monospace\">┏━━━━━━━━━━━━━━━━━━━━━━━━━━━━━━━━━┳━━━━━━━━━━━━━━━━━━━━━━━━┳━━━━━━━━━━━━━━━┓\n",
       "┃<span style=\"font-weight: bold\"> Layer (type)                    </span>┃<span style=\"font-weight: bold\"> Output Shape           </span>┃<span style=\"font-weight: bold\">       Param # </span>┃\n",
       "┡━━━━━━━━━━━━━━━━━━━━━━━━━━━━━━━━━╇━━━━━━━━━━━━━━━━━━━━━━━━╇━━━━━━━━━━━━━━━┩\n",
       "│ conv2d (<span style=\"color: #0087ff; text-decoration-color: #0087ff\">Conv2D</span>)                 │ (<span style=\"color: #00d7ff; text-decoration-color: #00d7ff\">None</span>, <span style=\"color: #00af00; text-decoration-color: #00af00\">128</span>, <span style=\"color: #00af00; text-decoration-color: #00af00\">128</span>, <span style=\"color: #00af00; text-decoration-color: #00af00\">32</span>)   │           <span style=\"color: #00af00; text-decoration-color: #00af00\">896</span> │\n",
       "├─────────────────────────────────┼────────────────────────┼───────────────┤\n",
       "│ max_pooling2d (<span style=\"color: #0087ff; text-decoration-color: #0087ff\">MaxPooling2D</span>)    │ (<span style=\"color: #00d7ff; text-decoration-color: #00d7ff\">None</span>, <span style=\"color: #00af00; text-decoration-color: #00af00\">64</span>, <span style=\"color: #00af00; text-decoration-color: #00af00\">64</span>, <span style=\"color: #00af00; text-decoration-color: #00af00\">32</span>)     │             <span style=\"color: #00af00; text-decoration-color: #00af00\">0</span> │\n",
       "├─────────────────────────────────┼────────────────────────┼───────────────┤\n",
       "│ conv2d_1 (<span style=\"color: #0087ff; text-decoration-color: #0087ff\">Conv2D</span>)               │ (<span style=\"color: #00d7ff; text-decoration-color: #00d7ff\">None</span>, <span style=\"color: #00af00; text-decoration-color: #00af00\">64</span>, <span style=\"color: #00af00; text-decoration-color: #00af00\">64</span>, <span style=\"color: #00af00; text-decoration-color: #00af00\">64</span>)     │        <span style=\"color: #00af00; text-decoration-color: #00af00\">18,496</span> │\n",
       "├─────────────────────────────────┼────────────────────────┼───────────────┤\n",
       "│ max_pooling2d_1 (<span style=\"color: #0087ff; text-decoration-color: #0087ff\">MaxPooling2D</span>)  │ (<span style=\"color: #00d7ff; text-decoration-color: #00d7ff\">None</span>, <span style=\"color: #00af00; text-decoration-color: #00af00\">32</span>, <span style=\"color: #00af00; text-decoration-color: #00af00\">32</span>, <span style=\"color: #00af00; text-decoration-color: #00af00\">64</span>)     │             <span style=\"color: #00af00; text-decoration-color: #00af00\">0</span> │\n",
       "├─────────────────────────────────┼────────────────────────┼───────────────┤\n",
       "│ global_average_pooling2d        │ (<span style=\"color: #00d7ff; text-decoration-color: #00d7ff\">None</span>, <span style=\"color: #00af00; text-decoration-color: #00af00\">64</span>)             │             <span style=\"color: #00af00; text-decoration-color: #00af00\">0</span> │\n",
       "│ (<span style=\"color: #0087ff; text-decoration-color: #0087ff\">GlobalAveragePooling2D</span>)        │                        │               │\n",
       "├─────────────────────────────────┼────────────────────────┼───────────────┤\n",
       "│ dense (<span style=\"color: #0087ff; text-decoration-color: #0087ff\">Dense</span>)                   │ (<span style=\"color: #00d7ff; text-decoration-color: #00d7ff\">None</span>, <span style=\"color: #00af00; text-decoration-color: #00af00\">128</span>)            │         <span style=\"color: #00af00; text-decoration-color: #00af00\">8,320</span> │\n",
       "├─────────────────────────────────┼────────────────────────┼───────────────┤\n",
       "│ dropout (<span style=\"color: #0087ff; text-decoration-color: #0087ff\">Dropout</span>)               │ (<span style=\"color: #00d7ff; text-decoration-color: #00d7ff\">None</span>, <span style=\"color: #00af00; text-decoration-color: #00af00\">128</span>)            │             <span style=\"color: #00af00; text-decoration-color: #00af00\">0</span> │\n",
       "├─────────────────────────────────┼────────────────────────┼───────────────┤\n",
       "│ dense_1 (<span style=\"color: #0087ff; text-decoration-color: #0087ff\">Dense</span>)                 │ (<span style=\"color: #00d7ff; text-decoration-color: #00d7ff\">None</span>, <span style=\"color: #00af00; text-decoration-color: #00af00\">2</span>)              │           <span style=\"color: #00af00; text-decoration-color: #00af00\">258</span> │\n",
       "└─────────────────────────────────┴────────────────────────┴───────────────┘\n",
       "</pre>\n"
      ]
     },
     "metadata": {},
     "output_type": "display_data"
    },
    {
     "data": {
      "text/plain": [
       "\u001B[1m Total params: \u001B[0m\u001B[38;5;34m27,970\u001B[0m (109.26 KB)\n"
      ],
      "text/html": [
       "<pre style=\"white-space:pre;overflow-x:auto;line-height:normal;font-family:Menlo,'DejaVu Sans Mono',consolas,'Courier New',monospace\"><span style=\"font-weight: bold\"> Total params: </span><span style=\"color: #00af00; text-decoration-color: #00af00\">27,970</span> (109.26 KB)\n",
       "</pre>\n"
      ]
     },
     "metadata": {},
     "output_type": "display_data"
    },
    {
     "data": {
      "text/plain": [
       "\u001B[1m Trainable params: \u001B[0m\u001B[38;5;34m27,970\u001B[0m (109.26 KB)\n"
      ],
      "text/html": [
       "<pre style=\"white-space:pre;overflow-x:auto;line-height:normal;font-family:Menlo,'DejaVu Sans Mono',consolas,'Courier New',monospace\"><span style=\"font-weight: bold\"> Trainable params: </span><span style=\"color: #00af00; text-decoration-color: #00af00\">27,970</span> (109.26 KB)\n",
       "</pre>\n"
      ]
     },
     "metadata": {},
     "output_type": "display_data"
    },
    {
     "data": {
      "text/plain": [
       "\u001B[1m Non-trainable params: \u001B[0m\u001B[38;5;34m0\u001B[0m (0.00 B)\n"
      ],
      "text/html": [
       "<pre style=\"white-space:pre;overflow-x:auto;line-height:normal;font-family:Menlo,'DejaVu Sans Mono',consolas,'Courier New',monospace\"><span style=\"font-weight: bold\"> Non-trainable params: </span><span style=\"color: #00af00; text-decoration-color: #00af00\">0</span> (0.00 B)\n",
       "</pre>\n"
      ]
     },
     "metadata": {},
     "output_type": "display_data"
    }
   ],
   "execution_count": 4
  },
  {
   "metadata": {},
   "cell_type": "markdown",
   "source": "## 5. Training Setup & Execution",
   "id": "eb44e97b54c73149"
  },
  {
   "metadata": {
    "ExecuteTime": {
     "end_time": "2025-07-27T16:43:49.456668Z",
     "start_time": "2025-07-27T16:42:49.070891Z"
    }
   },
   "cell_type": "code",
   "source": [
    "# Prepare callbacks\n",
    "callbacks_list = [\n",
    "    # Model checkpoint - save best weights\n",
    "    callbacks.ModelCheckpoint(\n",
    "        filepath=OUTPUT_DIRS['checkpoints'] / f\"{run_id}_model.keras\",\n",
    "        save_best_only=True,\n",
    "        monitor=\"val_accuracy\",\n",
    "        mode=\"max\"\n",
    "    ),\n",
    "    # Early stopping\n",
    "    callbacks.EarlyStopping(\n",
    "        **cfg['training']['early_stopping'],\n",
    "        restore_best_weights=True\n",
    "    )\n",
    "]\n",
    "\n",
    "# Train model\n",
    "history = model.fit(\n",
    "    train_ds,\n",
    "    validation_data=val_ds,\n",
    "    epochs=EPOCHS,\n",
    "    callbacks=callbacks_list\n",
    ")"
   ],
   "id": "ab181ac530045e9b",
   "outputs": [
    {
     "name": "stdout",
     "output_type": "stream",
     "text": [
      "Epoch 1/40\n",
      "\u001B[1m13/13\u001B[0m \u001B[32m━━━━━━━━━━━━━━━━━━━━\u001B[0m\u001B[37m\u001B[0m \u001B[1m2s\u001B[0m 109ms/step - accuracy: 0.5497 - loss: 0.6898 - val_accuracy: 0.6364 - val_loss: 0.6776\n",
      "Epoch 2/40\n",
      "\u001B[1m13/13\u001B[0m \u001B[32m━━━━━━━━━━━━━━━━━━━━\u001B[0m\u001B[37m\u001B[0m \u001B[1m2s\u001B[0m 107ms/step - accuracy: 0.6052 - loss: 0.6829 - val_accuracy: 0.6364 - val_loss: 0.6770\n",
      "Epoch 3/40\n",
      "\u001B[1m13/13\u001B[0m \u001B[32m━━━━━━━━━━━━━━━━━━━━\u001B[0m\u001B[37m\u001B[0m \u001B[1m2s\u001B[0m 108ms/step - accuracy: 0.5730 - loss: 0.6847 - val_accuracy: 0.6364 - val_loss: 0.6745\n",
      "Epoch 4/40\n",
      "\u001B[1m13/13\u001B[0m \u001B[32m━━━━━━━━━━━━━━━━━━━━\u001B[0m\u001B[37m\u001B[0m \u001B[1m2s\u001B[0m 105ms/step - accuracy: 0.5328 - loss: 0.6929 - val_accuracy: 0.6364 - val_loss: 0.6706\n",
      "Epoch 5/40\n",
      "\u001B[1m13/13\u001B[0m \u001B[32m━━━━━━━━━━━━━━━━━━━━\u001B[0m\u001B[37m\u001B[0m \u001B[1m2s\u001B[0m 108ms/step - accuracy: 0.5665 - loss: 0.6826 - val_accuracy: 0.6364 - val_loss: 0.6638\n",
      "Epoch 6/40\n",
      "\u001B[1m13/13\u001B[0m \u001B[32m━━━━━━━━━━━━━━━━━━━━\u001B[0m\u001B[37m\u001B[0m \u001B[1m2s\u001B[0m 111ms/step - accuracy: 0.5677 - loss: 0.6757 - val_accuracy: 0.6364 - val_loss: 0.6506\n",
      "Epoch 7/40\n",
      "\u001B[1m13/13\u001B[0m \u001B[32m━━━━━━━━━━━━━━━━━━━━\u001B[0m\u001B[37m\u001B[0m \u001B[1m2s\u001B[0m 109ms/step - accuracy: 0.5531 - loss: 0.6882 - val_accuracy: 0.6364 - val_loss: 0.6590\n",
      "Epoch 8/40\n",
      "\u001B[1m13/13\u001B[0m \u001B[32m━━━━━━━━━━━━━━━━━━━━\u001B[0m\u001B[37m\u001B[0m \u001B[1m2s\u001B[0m 113ms/step - accuracy: 0.5943 - loss: 0.6693 - val_accuracy: 0.6591 - val_loss: 0.6455\n",
      "Epoch 9/40\n",
      "\u001B[1m13/13\u001B[0m \u001B[32m━━━━━━━━━━━━━━━━━━━━\u001B[0m\u001B[37m\u001B[0m \u001B[1m2s\u001B[0m 111ms/step - accuracy: 0.6055 - loss: 0.6689 - val_accuracy: 0.6591 - val_loss: 0.6226\n",
      "Epoch 10/40\n",
      "\u001B[1m13/13\u001B[0m \u001B[32m━━━━━━━━━━━━━━━━━━━━\u001B[0m\u001B[37m\u001B[0m \u001B[1m2s\u001B[0m 110ms/step - accuracy: 0.5891 - loss: 0.6726 - val_accuracy: 0.7045 - val_loss: 0.6379\n",
      "Epoch 11/40\n",
      "\u001B[1m13/13\u001B[0m \u001B[32m━━━━━━━━━━━━━━━━━━━━\u001B[0m\u001B[37m\u001B[0m \u001B[1m2s\u001B[0m 111ms/step - accuracy: 0.6716 - loss: 0.6509 - val_accuracy: 0.7045 - val_loss: 0.6005\n",
      "Epoch 12/40\n",
      "\u001B[1m13/13\u001B[0m \u001B[32m━━━━━━━━━━━━━━━━━━━━\u001B[0m\u001B[37m\u001B[0m \u001B[1m2s\u001B[0m 111ms/step - accuracy: 0.6629 - loss: 0.6382 - val_accuracy: 0.7045 - val_loss: 0.5917\n",
      "Epoch 13/40\n",
      "\u001B[1m13/13\u001B[0m \u001B[32m━━━━━━━━━━━━━━━━━━━━\u001B[0m\u001B[37m\u001B[0m \u001B[1m2s\u001B[0m 109ms/step - accuracy: 0.6204 - loss: 0.6704 - val_accuracy: 0.7045 - val_loss: 0.6009\n",
      "Epoch 14/40\n",
      "\u001B[1m13/13\u001B[0m \u001B[32m━━━━━━━━━━━━━━━━━━━━\u001B[0m\u001B[37m\u001B[0m \u001B[1m2s\u001B[0m 111ms/step - accuracy: 0.6372 - loss: 0.6365 - val_accuracy: 0.7386 - val_loss: 0.6167\n",
      "Epoch 15/40\n",
      "\u001B[1m13/13\u001B[0m \u001B[32m━━━━━━━━━━━━━━━━━━━━\u001B[0m\u001B[37m\u001B[0m \u001B[1m2s\u001B[0m 110ms/step - accuracy: 0.6714 - loss: 0.6281 - val_accuracy: 0.7273 - val_loss: 0.5735\n",
      "Epoch 16/40\n",
      "\u001B[1m13/13\u001B[0m \u001B[32m━━━━━━━━━━━━━━━━━━━━\u001B[0m\u001B[37m\u001B[0m \u001B[1m2s\u001B[0m 109ms/step - accuracy: 0.6621 - loss: 0.6448 - val_accuracy: 0.7045 - val_loss: 0.5744\n",
      "Epoch 17/40\n",
      "\u001B[1m13/13\u001B[0m \u001B[32m━━━━━━━━━━━━━━━━━━━━\u001B[0m\u001B[37m\u001B[0m \u001B[1m2s\u001B[0m 110ms/step - accuracy: 0.6457 - loss: 0.6404 - val_accuracy: 0.7273 - val_loss: 0.5707\n",
      "Epoch 18/40\n",
      "\u001B[1m13/13\u001B[0m \u001B[32m━━━━━━━━━━━━━━━━━━━━\u001B[0m\u001B[37m\u001B[0m \u001B[1m2s\u001B[0m 110ms/step - accuracy: 0.6523 - loss: 0.6398 - val_accuracy: 0.6932 - val_loss: 0.5600\n",
      "Epoch 19/40\n",
      "\u001B[1m13/13\u001B[0m \u001B[32m━━━━━━━━━━━━━━━━━━━━\u001B[0m\u001B[37m\u001B[0m \u001B[1m2s\u001B[0m 129ms/step - accuracy: 0.6599 - loss: 0.6191 - val_accuracy: 0.7159 - val_loss: 0.5702\n",
      "Epoch 20/40\n",
      "\u001B[1m13/13\u001B[0m \u001B[32m━━━━━━━━━━━━━━━━━━━━\u001B[0m\u001B[37m\u001B[0m \u001B[1m2s\u001B[0m 110ms/step - accuracy: 0.6497 - loss: 0.6420 - val_accuracy: 0.7386 - val_loss: 0.5495\n",
      "Epoch 21/40\n",
      "\u001B[1m13/13\u001B[0m \u001B[32m━━━━━━━━━━━━━━━━━━━━\u001B[0m\u001B[37m\u001B[0m \u001B[1m2s\u001B[0m 109ms/step - accuracy: 0.6493 - loss: 0.6329 - val_accuracy: 0.7273 - val_loss: 0.5402\n",
      "Epoch 22/40\n",
      "\u001B[1m13/13\u001B[0m \u001B[32m━━━━━━━━━━━━━━━━━━━━\u001B[0m\u001B[37m\u001B[0m \u001B[1m2s\u001B[0m 111ms/step - accuracy: 0.7105 - loss: 0.6001 - val_accuracy: 0.7841 - val_loss: 0.5297\n",
      "Epoch 23/40\n",
      "\u001B[1m13/13\u001B[0m \u001B[32m━━━━━━━━━━━━━━━━━━━━\u001B[0m\u001B[37m\u001B[0m \u001B[1m2s\u001B[0m 109ms/step - accuracy: 0.6653 - loss: 0.6064 - val_accuracy: 0.7841 - val_loss: 0.5201\n",
      "Epoch 24/40\n",
      "\u001B[1m13/13\u001B[0m \u001B[32m━━━━━━━━━━━━━━━━━━━━\u001B[0m\u001B[37m\u001B[0m \u001B[1m2s\u001B[0m 110ms/step - accuracy: 0.6972 - loss: 0.5831 - val_accuracy: 0.7500 - val_loss: 0.5105\n",
      "Epoch 25/40\n",
      "\u001B[1m13/13\u001B[0m \u001B[32m━━━━━━━━━━━━━━━━━━━━\u001B[0m\u001B[37m\u001B[0m \u001B[1m2s\u001B[0m 109ms/step - accuracy: 0.7075 - loss: 0.5923 - val_accuracy: 0.7273 - val_loss: 0.5122\n",
      "Epoch 26/40\n",
      "\u001B[1m13/13\u001B[0m \u001B[32m━━━━━━━━━━━━━━━━━━━━\u001B[0m\u001B[37m\u001B[0m \u001B[1m2s\u001B[0m 111ms/step - accuracy: 0.7170 - loss: 0.5878 - val_accuracy: 0.7955 - val_loss: 0.5103\n",
      "Epoch 27/40\n",
      "\u001B[1m13/13\u001B[0m \u001B[32m━━━━━━━━━━━━━━━━━━━━\u001B[0m\u001B[37m\u001B[0m \u001B[1m2s\u001B[0m 110ms/step - accuracy: 0.7313 - loss: 0.5610 - val_accuracy: 0.7955 - val_loss: 0.4912\n",
      "Epoch 28/40\n",
      "\u001B[1m13/13\u001B[0m \u001B[32m━━━━━━━━━━━━━━━━━━━━\u001B[0m\u001B[37m\u001B[0m \u001B[1m2s\u001B[0m 109ms/step - accuracy: 0.7326 - loss: 0.5512 - val_accuracy: 0.7841 - val_loss: 0.4914\n",
      "Epoch 29/40\n",
      "\u001B[1m13/13\u001B[0m \u001B[32m━━━━━━━━━━━━━━━━━━━━\u001B[0m\u001B[37m\u001B[0m \u001B[1m2s\u001B[0m 109ms/step - accuracy: 0.7150 - loss: 0.5639 - val_accuracy: 0.7841 - val_loss: 0.4751\n",
      "Epoch 30/40\n",
      "\u001B[1m13/13\u001B[0m \u001B[32m━━━━━━━━━━━━━━━━━━━━\u001B[0m\u001B[37m\u001B[0m \u001B[1m2s\u001B[0m 110ms/step - accuracy: 0.6817 - loss: 0.5801 - val_accuracy: 0.8068 - val_loss: 0.4658\n",
      "Epoch 31/40\n",
      "\u001B[1m13/13\u001B[0m \u001B[32m━━━━━━━━━━━━━━━━━━━━\u001B[0m\u001B[37m\u001B[0m \u001B[1m2s\u001B[0m 109ms/step - accuracy: 0.7166 - loss: 0.5277 - val_accuracy: 0.8068 - val_loss: 0.4519\n",
      "Epoch 32/40\n",
      "\u001B[1m13/13\u001B[0m \u001B[32m━━━━━━━━━━━━━━━━━━━━\u001B[0m\u001B[37m\u001B[0m \u001B[1m2s\u001B[0m 125ms/step - accuracy: 0.7511 - loss: 0.5176 - val_accuracy: 0.8182 - val_loss: 0.4535\n",
      "Epoch 33/40\n",
      "\u001B[1m13/13\u001B[0m \u001B[32m━━━━━━━━━━━━━━━━━━━━\u001B[0m\u001B[37m\u001B[0m \u001B[1m2s\u001B[0m 109ms/step - accuracy: 0.7120 - loss: 0.5503 - val_accuracy: 0.7500 - val_loss: 0.4805\n",
      "Epoch 34/40\n",
      "\u001B[1m13/13\u001B[0m \u001B[32m━━━━━━━━━━━━━━━━━━━━\u001B[0m\u001B[37m\u001B[0m \u001B[1m2s\u001B[0m 108ms/step - accuracy: 0.6734 - loss: 0.5854 - val_accuracy: 0.7614 - val_loss: 0.4993\n",
      "Epoch 35/40\n",
      "\u001B[1m13/13\u001B[0m \u001B[32m━━━━━━━━━━━━━━━━━━━━\u001B[0m\u001B[37m\u001B[0m \u001B[1m2s\u001B[0m 111ms/step - accuracy: 0.6495 - loss: 0.5674 - val_accuracy: 0.7955 - val_loss: 0.4987\n",
      "Epoch 36/40\n",
      "\u001B[1m13/13\u001B[0m \u001B[32m━━━━━━━━━━━━━━━━━━━━\u001B[0m\u001B[37m\u001B[0m \u001B[1m2s\u001B[0m 118ms/step - accuracy: 0.7507 - loss: 0.5306 - val_accuracy: 0.8182 - val_loss: 0.4680\n"
     ]
    }
   ],
   "execution_count": 5
  },
  {
   "metadata": {},
   "cell_type": "markdown",
   "source": "## 6. Results Visualization & Saving",
   "id": "7bbc78642c722e97"
  },
  {
   "metadata": {
    "ExecuteTime": {
     "end_time": "2025-07-27T16:43:57.489460Z",
     "start_time": "2025-07-27T16:43:57.137553Z"
    }
   },
   "cell_type": "code",
   "source": [
    "def plot_training_curves(history: dict, save_path: Path) -> None:\n",
    "    \"\"\"\n",
    "    Plot and save training curves.\n",
    "\n",
    "    Args:\n",
    "        history: Training history dictionary\n",
    "        save_path: Path to save the figure\n",
    "    \"\"\"\n",
    "    plt.figure(figsize=(12, 5))\n",
    "\n",
    "    # Accuracy subplot\n",
    "    plt.subplot(1, 2, 1)\n",
    "    plt.plot(history.history[\"accuracy\"], label=\"Train\")\n",
    "    plt.plot(history.history[\"val_accuracy\"], label=\"Val\")\n",
    "    plt.legend()\n",
    "    plt.title(\"Accuracy\")\n",
    "    plt.grid(True, alpha=0.3)\n",
    "\n",
    "    # Loss subplot\n",
    "    plt.subplot(1, 2, 2)\n",
    "    plt.plot(history.history[\"loss\"], label=\"Train\")\n",
    "    plt.plot(history.history[\"val_loss\"], label=\"Val\")\n",
    "    plt.legend()\n",
    "    plt.title(\"Loss\")\n",
    "    plt.grid(True, alpha=0.3)\n",
    "\n",
    "    plt.tight_layout()\n",
    "    plt.savefig(save_path, dpi=300, bbox_inches='tight')\n",
    "    plt.show()\n",
    "\n",
    "# Save training curves\n",
    "curves_path = OUTPUT_DIRS['figures'] / f\"{run_id}_training_curves.png\"\n",
    "plot_training_curves(history, curves_path)\n",
    "print(f\"Training curves saved to: {curves_path}\")\n",
    "\n",
    "# Save metrics\n",
    "metrics_path = OUTPUT_DIRS['logs'] / f\"{run_id}_metrics.txt\"\n",
    "with open(metrics_path, 'w') as f:\n",
    "    for metric, values in history.history.items():\n",
    "        f.write(f\"{metric}: {values}\\n\")\n",
    "print(f\"Metrics saved to: {metrics_path}\")\n",
    "\n",
    "# Save config\n",
    "shutil.copy(\n",
    "    '../configs/config_baseline.yaml',\n",
    "    OUTPUT_DIRS['configs'] / f\"{run_id}_config_baseline.yaml\"\n",
    ")"
   ],
   "id": "8ea6c998c5f92c39",
   "outputs": [
    {
     "data": {
      "text/plain": [
       "<Figure size 1200x500 with 2 Axes>"
      ],
      "image/png": "[encoded data removed]"
     },
     "metadata": {},
     "output_type": "display_data"
    },
    {
     "name": "stdout",
     "output_type": "stream",
     "text": [
      "Training curves saved to: ../outputs/figures/all/2025-07-27_3319866_training_curves.png\n",
      "Metrics saved to: ../outputs/logs/all/2025-07-27_3319866_metrics.txt\n"
     ]
    },
    {
     "data": {
      "text/plain": [
       "PosixPath('../outputs/configs/all/2025-07-27_3319866_config_baseline.yaml')"
      ]
     },
     "execution_count": 6,
     "metadata": {},
     "output_type": "execute_result"
    }
   ],
   "execution_count": 6
  },
  {
   "metadata": {},
   "cell_type": "markdown",
   "source": "## 7. Model Testing",
   "id": "f3beb5ba826850c5"
  },
  {
   "metadata": {
    "ExecuteTime": {
     "end_time": "2025-07-27T16:44:02.125786Z",
     "start_time": "2025-07-27T16:44:02.012193Z"
    }
   },
   "cell_type": "code",
   "source": [
    "def test_prediction(model_path: Path, img_path: Path, class_indices: dict) -> None:\n",
    "    \"\"\"\n",
    "    Test model prediction on a single image.\n",
    "\n",
    "    Args:\n",
    "        model_path: Path to saved model\n",
    "        img_path: Path to test image\n",
    "        class_indices: Dictionary mapping class names to indices\n",
    "    \"\"\"\n",
    "    # Load model\n",
    "    model = load_model(model_path)\n",
    "\n",
    "    # Load and preprocess image\n",
    "    img = Image.open(img_path).resize(IMG_SIZE)\n",
    "    x = np.array(img) / 255.0\n",
    "\n",
    "    # Predict\n",
    "    pred = model.predict(x[np.newaxis])[0]\n",
    "    pred_idx = np.argmax(pred)\n",
    "\n",
    "    # Convert index to class name\n",
    "    inv_class_map = {v: k for k, v in class_indices.items()}\n",
    "    pred_label = inv_class_map[pred_idx]\n",
    "\n",
    "    print(f\"Predicted class: {pred_label} (index {pred_idx})\")\n",
    "    print(f\"Confidence: {pred[pred_idx]:.2%}\")\n",
    "\n",
    "# Test prediction on example image\n",
    "latest_model = max(OUTPUT_DIRS['checkpoints'].glob('*.keras'))\n",
    "test_img = Path('../data/processed/all/toxic/souche_1_scene2_fiji.tif')\n",
    "test_prediction(latest_model, test_img, class_indices)"
   ],
   "id": "81363ad993755120",
   "outputs": [
    {
     "name": "stdout",
     "output_type": "stream",
     "text": [
      "\u001B[1m1/1\u001B[0m \u001B[32m━━━━━━━━━━━━━━━━━━━━\u001B[0m\u001B[37m\u001B[0m \u001B[1m0s\u001B[0m 38ms/step\n",
      "Predicted class: toxic (index 1)\n",
      "Confidence: 67.34%\n"
     ]
    }
   ],
   "execution_count": 7
  }
 ],
 "metadata": {
  "kernelspec": {
   "display_name": "venv",
   "language": "python",
   "name": "python3"
  },
  "language_info": {
   "codemirror_mode": {
    "name": "ipython",
    "version": 3
   },
   "file_extension": ".py",
   "mimetype": "text/x-python",
   "name": "python",
   "nbconvert_exporter": "python",
   "pygments_lexer": "ipython3",
   "version": "3.12.0"
  }
 },
 "nbformat": 4,
 "nbformat_minor": 5
}

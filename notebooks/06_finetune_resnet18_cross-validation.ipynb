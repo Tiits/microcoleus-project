{
 "cells": [
  {
   "metadata": {},
   "cell_type": "markdown",
   "source": [
    "# Fine-tuning ResNet18 with Cross-Validation for Cyanobacteria Toxicity Classification\n",
    "\n",
    "**Objective:** Fine-tune a pretrained ResNet18 model using Stratified Group K-Fold cross-validation to classify *Microcoleus anatoxicus* images, including training, evaluation, calibration, and testing on out-of-group samples."
   ],
   "id": "d7092d229b0b6984"
  },
  {
   "metadata": {},
   "cell_type": "markdown",
   "source": "## 1. Setup & Configuration",
   "id": "9cba75e6b5b629e1"
  },
  {
   "metadata": {
    "ExecuteTime": {
     "end_time": "2025-07-28T12:42:34.648331Z",
     "start_time": "2025-07-28T12:42:31.699736Z"
    }
   },
   "cell_type": "code",
   "source": [
    "import os\n",
    "import subprocess\n",
    "from datetime import date\n",
    "\n",
    "import matplotlib.pyplot as plt\n",
    "import numpy as np\n",
    "import pandas as pd\n",
    "import seaborn as sns\n",
    "import torch\n",
    "import torch.nn as nn\n",
    "import torch.optim as optim\n",
    "import torchvision.transforms as transforms\n",
    "import yaml\n",
    "from PIL import Image\n",
    "from IPython.display import display\n",
    "from sklearn.metrics import (\n",
    "    confusion_matrix,\n",
    "    classification_report,\n",
    "    roc_auc_score,\n",
    "    precision_recall_curve,\n",
    "    average_precision_score,\n",
    "    roc_curve,\n",
    "    accuracy_score\n",
    ")\n",
    "from sklearn.model_selection import StratifiedGroupKFold\n",
    "from torch.optim.lr_scheduler import OneCycleLR\n",
    "from torch.utils.data import DataLoader, Subset\n",
    "from torch.utils.data import Dataset\n",
    "from torchvision import models, datasets\n",
    "from torchvision.models import ResNet18_Weights\n",
    "from tqdm import tqdm\n",
    "\n",
    "from src.config_utils import load_config\n",
    "\n",
    "# 1.1 Device Selection Utility\n",
    "def get_best_device(auto_device='auto'):\n",
    "    \"\"\"Get the best available device with fallback.\"\"\"\n",
    "    if auto_device == 'auto':\n",
    "        if torch.backends.mps.is_available():\n",
    "            try:\n",
    "                test_tensor = torch.randn(1, device='mps')\n",
    "                _ = test_tensor @ test_tensor\n",
    "                print(\"MPS is available and working\")\n",
    "                return torch.device('mps')\n",
    "            except Exception as e:\n",
    "                print(f\"MPS test failed: {e}, falling back to CPU\")\n",
    "        if torch.cuda.is_available():\n",
    "            return torch.device('cuda')\n",
    "        return torch.device('cpu')\n",
    "    else:\n",
    "        return torch.device(auto_device)\n",
    "\n",
    "\n",
    "def get_memory_info(device):\n",
    "    \"\"\"Return memory usage info for the given device.\"\"\"\n",
    "    if device.type == 'cuda':\n",
    "        return f\"CUDA Memory Allocated: {torch.cuda.memory_allocated() / 1e9:.2f} GB\"\n",
    "    elif device.type == 'mps':\n",
    "        return \"Using MPS (Metal Performance Shaders)\"\n",
    "    else:\n",
    "        return \"Using CPU\""
   ],
   "id": "ace0c9e57a273b18",
   "outputs": [],
   "execution_count": 1
  },
  {
   "metadata": {
    "ExecuteTime": {
     "end_time": "2025-07-28T12:43:43.708783Z",
     "start_time": "2025-07-28T12:43:43.269278Z"
    }
   },
   "cell_type": "code",
   "source": [
    "# Load configuration and initialize device\n",
    "config = load_config(path=\"../configs/config_finetune_resnet18.yaml\")\n",
    "device = get_best_device()\n",
    "print(f\"Using device: {device}\")\n",
    "print(get_memory_info(device))\n",
    "\n",
    "# Output directories setup\n",
    "FIG_OUT = os.path.join('..', 'outputs', 'figures', 'Switzerland', 'finetune_resnet18_cross-validation')\n",
    "os.makedirs(FIG_OUT, exist_ok=True)\n",
    "\n",
    "# Generate run ID: date + git commit\n",
    "today = date.today().isoformat()\n",
    "commit = subprocess.check_output(['git', 'rev-parse', '--short', 'HEAD']).decode().strip()\n",
    "run_id = f\"{today}_{commit}\"\n",
    "print(f\"Run ID: {run_id}\")"
   ],
   "id": "ce6706be5f882978",
   "outputs": [
    {
     "name": "stdout",
     "output_type": "stream",
     "text": [
      "MPS is available and working\n",
      "Using device: mps\n",
      "Using MPS (Metal Performance Shaders)\n",
      "Run ID: 2025-07-28_3319866\n"
     ]
    }
   ],
   "execution_count": 4
  },
  {
   "metadata": {},
   "cell_type": "markdown",
   "source": "## 2. Data Preparation",
   "id": "d5d327eb54f1d3ed"
  },
  {
   "metadata": {
    "ExecuteTime": {
     "end_time": "2025-07-28T12:43:51.400461Z",
     "start_time": "2025-07-28T12:43:51.396283Z"
    }
   },
   "cell_type": "code",
   "source": [
    "# 2.1 Data Augmentation Transforms\n",
    "data_cfg = config['augmentation']\n",
    "\n",
    "# RandomResizedCrop for scale and aspect ratio variation\n",
    "train_transform = transforms.Compose([\n",
    "    transforms.RandomResizedCrop(size=tuple(data_cfg['resize']),\n",
    "                                 scale=(0.8, 1.0)),\n",
    "    # Random horizontal flip\n",
    "    transforms.RandomHorizontalFlip(p=0.5 if data_cfg['horizontal_flip'] else 0.0),\n",
    "    # Random vertical flip\n",
    "    transforms.RandomVerticalFlip(p=0.5 if data_cfg['vertical_flip'] else 0.0),\n",
    "    # Small random rotation\n",
    "    transforms.RandomRotation(degrees=data_cfg['rotation']),\n",
    "    # Color jitter for brightness, contrast, saturation, hue\n",
    "    transforms.ColorJitter(\n",
    "        brightness=data_cfg['color_jitter']['brightness'],\n",
    "        contrast=data_cfg['color_jitter']['contrast'],\n",
    "        saturation=data_cfg['color_jitter']['saturation'],\n",
    "        hue=data_cfg['color_jitter']['hue']\n",
    "    ),\n",
    "    # Convert to tensor and normalize\n",
    "    transforms.ToTensor(),\n",
    "    transforms.Normalize(mean=data_cfg['normalization']['mean'],\n",
    "                         std=data_cfg['normalization']['std']),\n",
    "    # Random Erasing for spatial dropout\n",
    "    transforms.RandomErasing(\n",
    "        p=data_cfg['random_erasing']['p'],\n",
    "        scale=tuple(data_cfg['random_erasing']['scale']),\n",
    "        ratio=tuple(data_cfg['random_erasing']['ratio'])\n",
    "    )\n",
    "])\n",
    "\n",
    "# Validation Transforms\n",
    "val_transform = transforms.Compose([\n",
    "    transforms.Resize(tuple(data_cfg['resize'])),\n",
    "    transforms.ToTensor(),\n",
    "    transforms.Normalize(mean=data_cfg['normalization']['mean'],\n",
    "                         std=data_cfg['normalization']['std'])\n",
    "])"
   ],
   "id": "bdb6dbe3f690e20f",
   "outputs": [],
   "execution_count": 5
  },
  {
   "metadata": {
    "ExecuteTime": {
     "end_time": "2025-07-28T12:43:54.522872Z",
     "start_time": "2025-07-28T12:43:54.503558Z"
    }
   },
   "cell_type": "code",
   "source": [
    "# 2.2 Load dataset and prepare Stratified Group K-Fold splits\n",
    "dataset = datasets.ImageFolder(\n",
    "    root=os.path.join('..', config['data']['path']),\n",
    "    transform=train_transform\n",
    ")\n",
    "targets = np.array(dataset.targets)\n",
    "\n",
    "# Extract group labels from filenames\n",
    "paths = [path for path, _ in dataset.samples]\n",
    "groups = [os.path.basename(p).split('_')[0] for p in paths]\n",
    "\n",
    "df = pd.DataFrame({'target': targets, 'group': groups})\n",
    "groups_per_class = df.groupby('target')['group'].nunique().to_dict()\n",
    "n_non_toxic = groups_per_class.get(0, 0)\n",
    "n_toxic = groups_per_class.get(1, 0)\n",
    "print(f\"{n_non_toxic} non-toxic strains, {n_toxic} toxic strains\")\n",
    "\n",
    "# Choose number of splits based on minimum number of groups per class\n",
    "n_splits = min(\n",
    "    df.groupby('target')['group'].nunique().min(),\n",
    "    5\n",
    ")\n",
    "\n",
    "print(f\"Using n_splits = {n_splits}\")\n",
    "\n",
    "sgkf = StratifiedGroupKFold(\n",
    "    n_splits=n_splits,\n",
    "    shuffle=True,\n",
    "    random_state=42\n",
    ")\n",
    "\n",
    "valid_folds = []\n",
    "for fold, (train_idx, val_idx) in enumerate(\n",
    "        sgkf.split(np.zeros(len(targets)), targets, groups)\n",
    "    ):\n",
    "    # Skip folds where validation set is single-class\n",
    "    if len(np.unique(targets[val_idx])) < 2:\n",
    "        print(f\"Skip fold {fold+1} (single class in validation set)\")\n",
    "        continue\n",
    "    valid_folds.append((fold, train_idx, val_idx))\n",
    "\n",
    "print(f\"{len(valid_folds)} valid folds out of {n_splits}\")"
   ],
   "id": "89df698402e03a5a",
   "outputs": [
    {
     "name": "stdout",
     "output_type": "stream",
     "text": [
      "9 non-toxic strains, 8 toxic strains\n",
      "Using n_splits = 5\n",
      "Skip fold 2 (single class in validation set)\n",
      "Skip fold 5 (single class in validation set)\n",
      "3 valid folds out of 5\n"
     ]
    }
   ],
   "execution_count": 6
  },
  {
   "metadata": {},
   "cell_type": "markdown",
   "source": "## 3. Model Definition",
   "id": "1b6a6adc0f0fa5bf"
  },
  {
   "metadata": {
    "ExecuteTime": {
     "end_time": "2025-07-28T12:44:02.113459Z",
     "start_time": "2025-07-28T12:44:02.110920Z"
    }
   },
   "cell_type": "code",
   "source": [
    "# 3.1 EarlyStopping Class\n",
    "class EarlyStopping:\n",
    "    def __init__(self, patience=3, min_delta=1e-4):\n",
    "        self.patience = patience\n",
    "        self.min_delta = min_delta\n",
    "        self.best_loss = float('inf')\n",
    "        self.counter = 0\n",
    "\n",
    "    def __call__(self, val_loss):\n",
    "        if val_loss < self.best_loss - self.min_delta:\n",
    "            self.best_loss = val_loss\n",
    "            self.counter = 0\n",
    "            return False\n",
    "        else:\n",
    "            self.counter += 1\n",
    "            return self.counter >= self.patience"
   ],
   "id": "1b3e6cfd6d403e1d",
   "outputs": [],
   "execution_count": 7
  },
  {
   "metadata": {
    "ExecuteTime": {
     "end_time": "2025-07-28T12:44:04.289854Z",
     "start_time": "2025-07-28T12:44:04.091547Z"
    }
   },
   "cell_type": "code",
   "source": [
    "# 3.2 Model, Loss Function, Optimizer Setup\n",
    "device = torch.device(config['training']['device'])\n",
    "model = models.resnet18(\n",
    "    weights=ResNet18_Weights.DEFAULT if config['model']['pretrained'] else None\n",
    ")\n",
    "\n",
    "# Freeze all layers\n",
    "for param in model.parameters():\n",
    "    param.requires_grad = False\n",
    "\n",
    "# Replace final layer with dropout + new head\n",
    "num_ftrs = model.fc.in_features\n",
    "model.fc = nn.Sequential(\n",
    "    nn.Dropout(config[\"training\"][\"dropout_prob\"]),\n",
    "    nn.Linear(num_ftrs, config['model']['num_classes'])\n",
    ")\n",
    "\n",
    "model = model.to(device)\n",
    "\n",
    "criterion = nn.CrossEntropyLoss(label_smoothing=0.1)"
   ],
   "id": "aff5dea657438f4a",
   "outputs": [],
   "execution_count": 8
  },
  {
   "metadata": {
    "ExecuteTime": {
     "end_time": "2025-07-28T12:44:08.881055Z",
     "start_time": "2025-07-28T12:44:08.869741Z"
    }
   },
   "cell_type": "code",
   "source": [
    "# 3.3 Training & Evaluation Function\n",
    "def train_and_eval_fold(fold, train_idx, val_idx):\n",
    "    # DataLoader Setup\n",
    "    train_subset = Subset(dataset, train_idx)\n",
    "    val_dataset_full = datasets.ImageFolder(\n",
    "        root=os.path.join('..', config['data']['path']),\n",
    "        transform=val_transform\n",
    "    )\n",
    "    val_subset = Subset(val_dataset_full, val_idx)\n",
    "    train_loader = DataLoader(\n",
    "        train_subset, batch_size=config['data']['batch_size'],\n",
    "        shuffle=True, num_workers=config['data']['num_workers']\n",
    "    )\n",
    "    val_loader   = DataLoader(\n",
    "        val_subset, batch_size=config['data']['batch_size'],\n",
    "        shuffle=False, num_workers=config['data']['num_workers']\n",
    "    )\n",
    "\n",
    "    # Warm-up Phase: train only the head\n",
    "    model = models.resnet18(\n",
    "        weights=ResNet18_Weights.DEFAULT if config['model']['pretrained'] else None\n",
    "    )\n",
    "    model.fc = nn.Sequential(\n",
    "        nn.Dropout(config[\"training\"][\"dropout_prob\"]),\n",
    "        nn.Linear(model.fc.in_features, config['model']['num_classes'])\n",
    "    )\n",
    "    model = model.to(device)\n",
    "\n",
    "    history = {'train_loss': [], 'val_loss': []}\n",
    "    num_epochs = config['training']['epochs']\n",
    "    warmup_epochs = 5\n",
    "\n",
    "    print(\"=== Phase 1: Warm-up head only (5 epochs) ===\")\n",
    "\n",
    "    for name, param in model.named_parameters():\n",
    "        param.requires_grad = False\n",
    "    for param in model.fc.parameters():\n",
    "        param.requires_grad = True\n",
    "\n",
    "    optimizer = optim.AdamW(\n",
    "        model.fc.parameters(),\n",
    "        lr=1e-3,\n",
    "        weight_decay=float(config['training']['weight_decay'])\n",
    "    )\n",
    "    scheduler = optim.lr_scheduler.ReduceLROnPlateau(\n",
    "        optimizer,\n",
    "        mode='min',\n",
    "        factor=0.5,\n",
    "        patience=3,\n",
    "        min_lr=1e-6,\n",
    "    )\n",
    "\n",
    "    for epoch in range(1, warmup_epochs+1):\n",
    "        model.train()\n",
    "        running_loss = 0.0\n",
    "        for inputs, labels in tqdm(train_loader, desc=f\"Warmup Epoch {epoch}/{warmup_epochs} - Train\"):\n",
    "            inputs, labels = inputs.to(device), labels.to(device)\n",
    "            optimizer.zero_grad()\n",
    "            outputs = model(inputs)\n",
    "            loss = criterion(outputs, labels)\n",
    "            loss.backward()\n",
    "            optimizer.step()\n",
    "            running_loss += loss.item() * inputs.size(0)\n",
    "        train_loss = running_loss / len(train_loader.dataset)\n",
    "        history['train_loss'].append(train_loss)\n",
    "\n",
    "        model.eval()\n",
    "        running_val = 0.0\n",
    "        with torch.no_grad():\n",
    "            for inputs, labels in tqdm(val_loader, desc=f\"Warmup Epoch {epoch}/{warmup_epochs} - Val\"):\n",
    "                inputs, labels = inputs.to(device), labels.to(device)\n",
    "                outputs = model(inputs)\n",
    "                loss = criterion(outputs, labels)\n",
    "                running_val += loss.item() * inputs.size(0)\n",
    "        val_loss = running_val / len(val_loader.dataset)\n",
    "        history['val_loss'].append(val_loss)\n",
    "        scheduler.step(val_loss)\n",
    "        print(f\"Warmup Epoch {epoch} — Train Loss: {train_loss:.4f} — Val Loss: {val_loss:.4f}\")\n",
    "\n",
    "    # Fine-tuning Phase: unfreeze layer4 + head, use OneCycleLR, MixUp/CutMix\n",
    "    print(f\"=== Phase 2: Fine-tuning layer4 + head (up to {num_epochs} epochs) ===\")\n",
    "\n",
    "    for name, param in model.named_parameters():\n",
    "        if name.startswith(\"layer4\") or name.startswith(\"fc\"):\n",
    "            param.requires_grad = True\n",
    "\n",
    "    base_lr = float(config['training']['learning_rate'])\n",
    "    optimizer = torch.optim.AdamW([\n",
    "        {\"params\": model.layer4.parameters(), \"lr\": base_lr * 0.1},\n",
    "        {\"params\": model.fc.parameters(), \"lr\": base_lr},\n",
    "    ], weight_decay=float(config['training']['weight_decay']))\n",
    "\n",
    "    steps_per_epoch = len(train_loader)\n",
    "    total_epochs = num_epochs - warmup_epochs\n",
    "    scheduler = OneCycleLR(\n",
    "        optimizer,\n",
    "        max_lr=base_lr,\n",
    "        epochs=total_epochs,\n",
    "        steps_per_epoch=steps_per_epoch,\n",
    "        pct_start=float(config['training']['pct_start']),\n",
    "        anneal_strategy='cos'\n",
    "    )\n",
    "\n",
    "    early_stopper = EarlyStopping(patience=3, min_delta=1e-4)\n",
    "\n",
    "    mixup_alpha = float(config['training']['mixup_alpha'])\n",
    "    mixup_prob = float(config['training']['mixup_prob'])\n",
    "    use_cutmix = bool(config['training']['use_cutmix'])\n",
    "    for epoch in range(warmup_epochs + 1, num_epochs + 1):\n",
    "        model.train()\n",
    "        running_loss = 0.0\n",
    "        for inputs, labels in tqdm(train_loader, desc=f\"Epoch {epoch}/{num_epochs} - Train\"):\n",
    "            inputs, labels = inputs.to(device), labels.to(device)\n",
    "\n",
    "            do_mix = (np.random.rand() < mixup_prob)\n",
    "            if do_mix:\n",
    "                lam = np.random.beta(mixup_alpha, mixup_alpha)\n",
    "                idx = torch.randperm(inputs.size(0)).to(device)\n",
    "\n",
    "                if use_cutmix:\n",
    "                    W, H = inputs.size(3), inputs.size(2)\n",
    "                    cx = np.random.randint(W); cy = np.random.randint(H)\n",
    "                    w = int(W * np.sqrt(1 - lam)); h = int(H * np.sqrt(1 - lam))\n",
    "                    x0, x1 = max(cx - w // 2, 0), min(cx + w // 2, W)\n",
    "                    y0, y1 = max(cy - h // 2, 0), min(cy + h // 2, H)\n",
    "                    inputs[:, :, y0:y1, x0:x1] = inputs[idx, :, y0:y1, x0:x1]\n",
    "                else:\n",
    "                    inputs = lam * inputs + (1 - lam) * inputs[idx]\n",
    "            optimizer.zero_grad()\n",
    "            outputs = model(inputs)\n",
    "\n",
    "            if do_mix:\n",
    "                loss = lam * criterion(outputs, labels) \\\n",
    "                     + (1 - lam) * criterion(outputs, labels[idx])\n",
    "            else:\n",
    "                loss = criterion(outputs, labels)\n",
    "\n",
    "            loss.backward()\n",
    "            optimizer.step()\n",
    "            scheduler.step()\n",
    "            running_loss += loss.item() * inputs.size(0)\n",
    "\n",
    "        train_loss = running_loss / len(train_loader.dataset)\n",
    "        history['train_loss'].append(train_loss)\n",
    "\n",
    "        model.eval()\n",
    "        running_val = 0.0\n",
    "        with torch.no_grad():\n",
    "            for inputs, labels in tqdm(val_loader, desc=f\"Epoch {epoch}/{num_epochs} - Validation\"):\n",
    "                inputs, labels = inputs.to(device), labels.to(device)\n",
    "                outputs = model(inputs)\n",
    "                running_val += criterion(outputs, labels).item() * inputs.size(0)\n",
    "        val_loss = running_val / len(val_loader.dataset)\n",
    "        history['val_loss'].append(val_loss)\n",
    "\n",
    "        if early_stopper(val_loss):\n",
    "            print(f\"Early stopping at epoch {epoch}\")\n",
    "            break\n",
    "\n",
    "        print(f\"Epoch {epoch}/{num_epochs} — Train Loss: {train_loss:.4f} — Val Loss: {val_loss:.4f}\")\n",
    "\n",
    "    # Fold Evaluation\n",
    "    model.eval()\n",
    "    y_true, y_pred, y_prob = [], [], []\n",
    "    with torch.no_grad():\n",
    "        for inputs, labels in val_loader:\n",
    "            inputs = inputs.to(device)\n",
    "            logits = model(inputs)\n",
    "            probs = torch.softmax(logits, dim=1)[:, 1].cpu().numpy()\n",
    "            preds = (probs >= 0.5).astype(int)\n",
    "            y_true.extend(labels.numpy())\n",
    "            y_pred.extend(preds)\n",
    "            y_prob.extend(probs)\n",
    "\n",
    "    report = classification_report(\n",
    "        y_true, y_pred, labels=[0, 1], output_dict=True, zero_division=0\n",
    "    )\n",
    "    cm = confusion_matrix(y_true, y_pred, labels=[0, 1])\n",
    "    roc_auc = roc_auc_score(y_true, y_prob)\n",
    "    ap = average_precision_score(y_true, y_prob)\n",
    "\n",
    "    precision, recall, thresholds = precision_recall_curve(y_true, y_prob)\n",
    "    f1_scores = 2 * precision * recall / (precision + recall + 1e-8)\n",
    "    best_idx = np.argmax(f1_scores)\n",
    "    best_threshold = thresholds[best_idx]\n",
    "\n",
    "    return {\n",
    "        'fold': fold + 1,\n",
    "        'history': history,\n",
    "        'report': report,\n",
    "        'confusion_matrix': cm,\n",
    "        'roc_auc': roc_auc,\n",
    "        'average_precision': ap,\n",
    "        'y_true': y_true,\n",
    "        'y_pred': y_pred,\n",
    "        'y_prob': y_prob,\n",
    "        'best_threshold': best_threshold,\n",
    "        'best_idx': best_idx\n",
    "    }"
   ],
   "id": "ed920137aaf20dca",
   "outputs": [],
   "execution_count": 9
  },
  {
   "metadata": {},
   "cell_type": "markdown",
   "source": "## 4. Training Loop",
   "id": "8b6635218ff58265"
  },
  {
   "metadata": {
    "ExecuteTime": {
     "end_time": "2025-07-28T13:23:44.845981Z",
     "start_time": "2025-07-28T12:44:17.440211Z"
    }
   },
   "cell_type": "code",
   "source": [
    "# Run Cross-Validation\n",
    "results = []\n",
    "for i, (fold, train_idx, val_idx) in enumerate(valid_folds):\n",
    "    print(f\"\\n=== Training fold {fold+1} ({i+1}/{len(valid_folds)}) ===\")\n",
    "    res = train_and_eval_fold(fold, train_idx, val_idx)\n",
    "    print(f\"Fold {res['fold']} — ROC AUC: {res['roc_auc']:.3f} — AP: {res['average_precision']:.3f}\")\n",
    "    print(pd.DataFrame(res['report']).T[['precision','recall','f1-score','support']])\n",
    "    results.append(res)\n",
    "    dir_path = f\"../outputs/checkpoints/Switzerland/finetune_resnet18/cross-validation/{run_id}\"\n",
    "    os.makedirs(dir_path, exist_ok=True)\n",
    "    model_path = os.path.join(dir_path, f\"model_fold{fold+1}.pth\")\n",
    "    torch.save(model.state_dict(), model_path)\n",
    "\n",
    "    print(f\"Optimal threshold (max F1) = {res['best_threshold']:.3f}\")\n",
    "\n",
    "# Compute mean and std for metrics\n",
    "roc_aucs = [r['roc_auc'] for r in results]\n",
    "aps = [r['average_precision'] for r in results]\n",
    "print(f\"\\nMean ROC AUC: {np.mean(roc_aucs):.3f} ± {np.std(roc_aucs):.3f}\")\n",
    "print(f\"Mean AP     : {np.mean(aps):.3f} ± {np.std(aps):.3f}\")"
   ],
   "id": "f72afe26305d3e12",
   "outputs": [
    {
     "name": "stdout",
     "output_type": "stream",
     "text": [
      "\n",
      "=== Training fold 1 (1/3) ===\n",
      "=== Phase 1: Warm-up head only (5 epochs) ===\n"
     ]
    },
    {
     "name": "stderr",
     "output_type": "stream",
     "text": [
      "Warmup Epoch 1/5 - Train: 100%|██████████| 29/29 [00:37<00:00,  1.30s/it]\n",
      "Warmup Epoch 1/5 - Val: 100%|██████████| 7/7 [00:25<00:00,  3.67s/it]\n"
     ]
    },
    {
     "name": "stdout",
     "output_type": "stream",
     "text": [
      "Warmup Epoch 1 — Train Loss: 0.6703 — Val Loss: 1.0017\n"
     ]
    },
    {
     "name": "stderr",
     "output_type": "stream",
     "text": [
      "Warmup Epoch 2/5 - Train: 100%|██████████| 29/29 [00:37<00:00,  1.28s/it]\n",
      "Warmup Epoch 2/5 - Val: 100%|██████████| 7/7 [00:25<00:00,  3.64s/it]\n"
     ]
    },
    {
     "name": "stdout",
     "output_type": "stream",
     "text": [
      "Warmup Epoch 2 — Train Loss: 0.5616 — Val Loss: 1.1156\n"
     ]
    },
    {
     "name": "stderr",
     "output_type": "stream",
     "text": [
      "Warmup Epoch 3/5 - Train: 100%|██████████| 29/29 [00:36<00:00,  1.27s/it]\n",
      "Warmup Epoch 3/5 - Val: 100%|██████████| 7/7 [00:25<00:00,  3.63s/it]\n"
     ]
    },
    {
     "name": "stdout",
     "output_type": "stream",
     "text": [
      "Warmup Epoch 3 — Train Loss: 0.5161 — Val Loss: 1.1812\n"
     ]
    },
    {
     "name": "stderr",
     "output_type": "stream",
     "text": [
      "Warmup Epoch 4/5 - Train: 100%|██████████| 29/29 [00:37<00:00,  1.28s/it]\n",
      "Warmup Epoch 4/5 - Val: 100%|██████████| 7/7 [00:25<00:00,  3.64s/it]\n"
     ]
    },
    {
     "name": "stdout",
     "output_type": "stream",
     "text": [
      "Warmup Epoch 4 — Train Loss: 0.5922 — Val Loss: 1.4894\n"
     ]
    },
    {
     "name": "stderr",
     "output_type": "stream",
     "text": [
      "Warmup Epoch 5/5 - Train: 100%|██████████| 29/29 [00:37<00:00,  1.28s/it]\n",
      "Warmup Epoch 5/5 - Val: 100%|██████████| 7/7 [00:25<00:00,  3.64s/it]\n"
     ]
    },
    {
     "name": "stdout",
     "output_type": "stream",
     "text": [
      "Warmup Epoch 5 — Train Loss: 0.4676 — Val Loss: 1.3373\n",
      "=== Phase 2: Fine-tuning layer4 + head (up to 20 epochs) ===\n"
     ]
    },
    {
     "name": "stderr",
     "output_type": "stream",
     "text": [
      "Epoch 6/20 - Train: 100%|██████████| 29/29 [00:39<00:00,  1.36s/it]\n",
      "Epoch 6/20 - Validation: 100%|██████████| 7/7 [00:25<00:00,  3.63s/it]\n"
     ]
    },
    {
     "name": "stdout",
     "output_type": "stream",
     "text": [
      "Epoch 6/20 — Train Loss: 0.4935 — Val Loss: 1.4983\n"
     ]
    },
    {
     "name": "stderr",
     "output_type": "stream",
     "text": [
      "Epoch 7/20 - Train: 100%|██████████| 29/29 [00:39<00:00,  1.35s/it]\n",
      "Epoch 7/20 - Validation: 100%|██████████| 7/7 [00:25<00:00,  3.64s/it]\n"
     ]
    },
    {
     "name": "stdout",
     "output_type": "stream",
     "text": [
      "Epoch 7/20 — Train Loss: 0.4999 — Val Loss: 1.5026\n"
     ]
    },
    {
     "name": "stderr",
     "output_type": "stream",
     "text": [
      "Epoch 8/20 - Train: 100%|██████████| 29/29 [00:39<00:00,  1.35s/it]\n",
      "Epoch 8/20 - Validation: 100%|██████████| 7/7 [00:25<00:00,  3.64s/it]\n"
     ]
    },
    {
     "name": "stdout",
     "output_type": "stream",
     "text": [
      "Epoch 8/20 — Train Loss: 0.5066 — Val Loss: 1.5247\n"
     ]
    },
    {
     "name": "stderr",
     "output_type": "stream",
     "text": [
      "Epoch 9/20 - Train: 100%|██████████| 29/29 [00:39<00:00,  1.36s/it]\n",
      "Epoch 9/20 - Validation: 100%|██████████| 7/7 [00:25<00:00,  3.63s/it]\n"
     ]
    },
    {
     "name": "stdout",
     "output_type": "stream",
     "text": [
      "Epoch 9/20 — Train Loss: 0.4296 — Val Loss: 1.3055\n"
     ]
    },
    {
     "name": "stderr",
     "output_type": "stream",
     "text": [
      "Epoch 10/20 - Train: 100%|██████████| 29/29 [00:39<00:00,  1.35s/it]\n",
      "Epoch 10/20 - Validation: 100%|██████████| 7/7 [00:25<00:00,  3.63s/it]\n"
     ]
    },
    {
     "name": "stdout",
     "output_type": "stream",
     "text": [
      "Epoch 10/20 — Train Loss: 0.4408 — Val Loss: 1.2299\n"
     ]
    },
    {
     "name": "stderr",
     "output_type": "stream",
     "text": [
      "Epoch 11/20 - Train: 100%|██████████| 29/29 [00:39<00:00,  1.35s/it]\n",
      "Epoch 11/20 - Validation: 100%|██████████| 7/7 [00:25<00:00,  3.63s/it]\n"
     ]
    },
    {
     "name": "stdout",
     "output_type": "stream",
     "text": [
      "Epoch 11/20 — Train Loss: 0.3948 — Val Loss: 1.2973\n"
     ]
    },
    {
     "name": "stderr",
     "output_type": "stream",
     "text": [
      "Epoch 12/20 - Train: 100%|██████████| 29/29 [00:39<00:00,  1.35s/it]\n",
      "Epoch 12/20 - Validation: 100%|██████████| 7/7 [00:25<00:00,  3.63s/it]\n"
     ]
    },
    {
     "name": "stdout",
     "output_type": "stream",
     "text": [
      "Epoch 12/20 — Train Loss: 0.4678 — Val Loss: 1.2971\n"
     ]
    },
    {
     "name": "stderr",
     "output_type": "stream",
     "text": [
      "Epoch 13/20 - Train: 100%|██████████| 29/29 [00:39<00:00,  1.35s/it]\n",
      "Epoch 13/20 - Validation: 100%|██████████| 7/7 [00:25<00:00,  3.63s/it]"
     ]
    },
    {
     "name": "stdout",
     "output_type": "stream",
     "text": [
      "Early stopping at epoch 13\n"
     ]
    },
    {
     "name": "stderr",
     "output_type": "stream",
     "text": [
      "\n"
     ]
    },
    {
     "name": "stdout",
     "output_type": "stream",
     "text": [
      "Fold 1 — ROC AUC: 0.227 — AP: 0.511\n",
      "              precision    recall  f1-score    support\n",
      "0              0.321839  0.777778  0.455285  36.000000\n",
      "1              0.333333  0.063492  0.106667  63.000000\n",
      "accuracy       0.323232  0.323232  0.323232   0.323232\n",
      "macro avg      0.327586  0.420635  0.280976  99.000000\n",
      "weighted avg   0.329154  0.323232  0.233437  99.000000\n",
      "Optimal threshold (max F1) = 0.006\n",
      "\n",
      "=== Training fold 3 (2/3) ===\n",
      "=== Phase 1: Warm-up head only (5 epochs) ===\n"
     ]
    },
    {
     "name": "stderr",
     "output_type": "stream",
     "text": [
      "Warmup Epoch 1/5 - Train: 100%|██████████| 27/27 [00:35<00:00,  1.33s/it]\n",
      "Warmup Epoch 1/5 - Val: 100%|██████████| 9/9 [00:26<00:00,  2.96s/it]\n"
     ]
    },
    {
     "name": "stdout",
     "output_type": "stream",
     "text": [
      "Warmup Epoch 1 — Train Loss: 0.7602 — Val Loss: 0.5749\n"
     ]
    },
    {
     "name": "stderr",
     "output_type": "stream",
     "text": [
      "Warmup Epoch 2/5 - Train: 100%|██████████| 27/27 [00:35<00:00,  1.33s/it]\n",
      "Warmup Epoch 2/5 - Val: 100%|██████████| 9/9 [00:26<00:00,  2.98s/it]\n"
     ]
    },
    {
     "name": "stdout",
     "output_type": "stream",
     "text": [
      "Warmup Epoch 2 — Train Loss: 0.6558 — Val Loss: 0.5366\n"
     ]
    },
    {
     "name": "stderr",
     "output_type": "stream",
     "text": [
      "Warmup Epoch 3/5 - Train: 100%|██████████| 27/27 [00:35<00:00,  1.33s/it]\n",
      "Warmup Epoch 3/5 - Val: 100%|██████████| 9/9 [00:26<00:00,  2.96s/it]\n"
     ]
    },
    {
     "name": "stdout",
     "output_type": "stream",
     "text": [
      "Warmup Epoch 3 — Train Loss: 0.6442 — Val Loss: 0.4288\n"
     ]
    },
    {
     "name": "stderr",
     "output_type": "stream",
     "text": [
      "Warmup Epoch 4/5 - Train: 100%|██████████| 27/27 [00:35<00:00,  1.33s/it]\n",
      "Warmup Epoch 4/5 - Val: 100%|██████████| 9/9 [00:26<00:00,  2.95s/it]\n"
     ]
    },
    {
     "name": "stdout",
     "output_type": "stream",
     "text": [
      "Warmup Epoch 4 — Train Loss: 0.6526 — Val Loss: 0.4196\n"
     ]
    },
    {
     "name": "stderr",
     "output_type": "stream",
     "text": [
      "Warmup Epoch 5/5 - Train: 100%|██████████| 27/27 [00:35<00:00,  1.33s/it]\n",
      "Warmup Epoch 5/5 - Val: 100%|██████████| 9/9 [00:26<00:00,  2.96s/it]\n"
     ]
    },
    {
     "name": "stdout",
     "output_type": "stream",
     "text": [
      "Warmup Epoch 5 — Train Loss: 0.5856 — Val Loss: 0.3869\n",
      "=== Phase 2: Fine-tuning layer4 + head (up to 20 epochs) ===\n"
     ]
    },
    {
     "name": "stderr",
     "output_type": "stream",
     "text": [
      "Epoch 6/20 - Train: 100%|██████████| 27/27 [00:37<00:00,  1.40s/it]\n",
      "Epoch 6/20 - Validation: 100%|██████████| 9/9 [00:26<00:00,  2.96s/it]\n"
     ]
    },
    {
     "name": "stdout",
     "output_type": "stream",
     "text": [
      "Epoch 6/20 — Train Loss: 0.6174 — Val Loss: 0.3821\n"
     ]
    },
    {
     "name": "stderr",
     "output_type": "stream",
     "text": [
      "Epoch 7/20 - Train: 100%|██████████| 27/27 [00:37<00:00,  1.40s/it]\n",
      "Epoch 7/20 - Validation: 100%|██████████| 9/9 [00:26<00:00,  2.96s/it]\n"
     ]
    },
    {
     "name": "stdout",
     "output_type": "stream",
     "text": [
      "Epoch 7/20 — Train Loss: 0.5794 — Val Loss: 0.3836\n"
     ]
    },
    {
     "name": "stderr",
     "output_type": "stream",
     "text": [
      "Epoch 8/20 - Train: 100%|██████████| 27/27 [00:37<00:00,  1.40s/it]\n",
      "Epoch 8/20 - Validation: 100%|██████████| 9/9 [00:26<00:00,  2.95s/it]\n"
     ]
    },
    {
     "name": "stdout",
     "output_type": "stream",
     "text": [
      "Epoch 8/20 — Train Loss: 0.5507 — Val Loss: 0.3436\n"
     ]
    },
    {
     "name": "stderr",
     "output_type": "stream",
     "text": [
      "Epoch 9/20 - Train: 100%|██████████| 27/27 [00:37<00:00,  1.41s/it]\n",
      "Epoch 9/20 - Validation: 100%|██████████| 9/9 [00:26<00:00,  2.95s/it]\n"
     ]
    },
    {
     "name": "stdout",
     "output_type": "stream",
     "text": [
      "Epoch 9/20 — Train Loss: 0.5340 — Val Loss: 0.4523\n"
     ]
    },
    {
     "name": "stderr",
     "output_type": "stream",
     "text": [
      "Epoch 10/20 - Train: 100%|██████████| 27/27 [00:37<00:00,  1.40s/it]\n",
      "Epoch 10/20 - Validation: 100%|██████████| 9/9 [00:26<00:00,  2.96s/it]\n"
     ]
    },
    {
     "name": "stdout",
     "output_type": "stream",
     "text": [
      "Epoch 10/20 — Train Loss: 0.4890 — Val Loss: 0.4499\n"
     ]
    },
    {
     "name": "stderr",
     "output_type": "stream",
     "text": [
      "Epoch 11/20 - Train: 100%|██████████| 27/27 [00:37<00:00,  1.40s/it]\n",
      "Epoch 11/20 - Validation: 100%|██████████| 9/9 [00:26<00:00,  2.95s/it]"
     ]
    },
    {
     "name": "stdout",
     "output_type": "stream",
     "text": [
      "Early stopping at epoch 11\n"
     ]
    },
    {
     "name": "stderr",
     "output_type": "stream",
     "text": [
      "\n"
     ]
    },
    {
     "name": "stdout",
     "output_type": "stream",
     "text": [
      "Fold 3 — ROC AUC: 0.934 — AP: 0.892\n",
      "              precision    recall  f1-score     support\n",
      "0              0.944444  0.764045  0.844720   89.000000\n",
      "1              0.691176  0.921569  0.789916   51.000000\n",
      "accuracy       0.821429  0.821429  0.821429    0.821429\n",
      "macro avg      0.817810  0.842807  0.817318  140.000000\n",
      "weighted avg   0.852183  0.821429  0.824756  140.000000\n",
      "Optimal threshold (max F1) = 0.642\n",
      "\n",
      "=== Training fold 4 (3/3) ===\n",
      "=== Phase 1: Warm-up head only (5 epochs) ===\n"
     ]
    },
    {
     "name": "stderr",
     "output_type": "stream",
     "text": [
      "Warmup Epoch 1/5 - Train: 100%|██████████| 27/27 [00:35<00:00,  1.33s/it]\n",
      "Warmup Epoch 1/5 - Val: 100%|██████████| 9/9 [00:26<00:00,  2.95s/it]\n"
     ]
    },
    {
     "name": "stdout",
     "output_type": "stream",
     "text": [
      "Warmup Epoch 1 — Train Loss: 0.7461 — Val Loss: 0.6817\n"
     ]
    },
    {
     "name": "stderr",
     "output_type": "stream",
     "text": [
      "Warmup Epoch 2/5 - Train: 100%|██████████| 27/27 [00:36<00:00,  1.33s/it]\n",
      "Warmup Epoch 2/5 - Val: 100%|██████████| 9/9 [00:26<00:00,  2.95s/it]\n"
     ]
    },
    {
     "name": "stdout",
     "output_type": "stream",
     "text": [
      "Warmup Epoch 2 — Train Loss: 0.6229 — Val Loss: 0.6548\n"
     ]
    },
    {
     "name": "stderr",
     "output_type": "stream",
     "text": [
      "Warmup Epoch 3/5 - Train: 100%|██████████| 27/27 [00:36<00:00,  1.33s/it]\n",
      "Warmup Epoch 3/5 - Val: 100%|██████████| 9/9 [00:26<00:00,  2.94s/it]\n"
     ]
    },
    {
     "name": "stdout",
     "output_type": "stream",
     "text": [
      "Warmup Epoch 3 — Train Loss: 0.6056 — Val Loss: 0.6477\n"
     ]
    },
    {
     "name": "stderr",
     "output_type": "stream",
     "text": [
      "Warmup Epoch 4/5 - Train: 100%|██████████| 27/27 [00:36<00:00,  1.34s/it]\n",
      "Warmup Epoch 4/5 - Val: 100%|██████████| 9/9 [00:26<00:00,  2.95s/it]\n"
     ]
    },
    {
     "name": "stdout",
     "output_type": "stream",
     "text": [
      "Warmup Epoch 4 — Train Loss: 0.5571 — Val Loss: 0.6975\n"
     ]
    },
    {
     "name": "stderr",
     "output_type": "stream",
     "text": [
      "Warmup Epoch 5/5 - Train: 100%|██████████| 27/27 [00:36<00:00,  1.34s/it]\n",
      "Warmup Epoch 5/5 - Val: 100%|██████████| 9/9 [00:26<00:00,  2.95s/it]\n"
     ]
    },
    {
     "name": "stdout",
     "output_type": "stream",
     "text": [
      "Warmup Epoch 5 — Train Loss: 0.5489 — Val Loss: 0.6197\n",
      "=== Phase 2: Fine-tuning layer4 + head (up to 20 epochs) ===\n"
     ]
    },
    {
     "name": "stderr",
     "output_type": "stream",
     "text": [
      "Epoch 6/20 - Train: 100%|██████████| 27/27 [00:37<00:00,  1.38s/it]\n",
      "Epoch 6/20 - Validation: 100%|██████████| 9/9 [00:26<00:00,  2.91s/it]\n"
     ]
    },
    {
     "name": "stdout",
     "output_type": "stream",
     "text": [
      "Epoch 6/20 — Train Loss: 0.5781 — Val Loss: 0.6386\n"
     ]
    },
    {
     "name": "stderr",
     "output_type": "stream",
     "text": [
      "Epoch 7/20 - Train: 100%|██████████| 27/27 [00:37<00:00,  1.39s/it]\n",
      "Epoch 7/20 - Validation: 100%|██████████| 9/9 [00:26<00:00,  2.92s/it]\n"
     ]
    },
    {
     "name": "stdout",
     "output_type": "stream",
     "text": [
      "Epoch 7/20 — Train Loss: 0.5363 — Val Loss: 0.6481\n"
     ]
    },
    {
     "name": "stderr",
     "output_type": "stream",
     "text": [
      "Epoch 8/20 - Train: 100%|██████████| 27/27 [00:37<00:00,  1.39s/it]\n",
      "Epoch 8/20 - Validation: 100%|██████████| 9/9 [00:26<00:00,  2.92s/it]\n"
     ]
    },
    {
     "name": "stdout",
     "output_type": "stream",
     "text": [
      "Epoch 8/20 — Train Loss: 0.5478 — Val Loss: 0.7357\n"
     ]
    },
    {
     "name": "stderr",
     "output_type": "stream",
     "text": [
      "Epoch 9/20 - Train: 100%|██████████| 27/27 [00:37<00:00,  1.39s/it]\n",
      "Epoch 9/20 - Validation: 100%|██████████| 9/9 [00:26<00:00,  2.92s/it]\n"
     ]
    },
    {
     "name": "stdout",
     "output_type": "stream",
     "text": [
      "Epoch 9/20 — Train Loss: 0.4940 — Val Loss: 0.4777\n"
     ]
    },
    {
     "name": "stderr",
     "output_type": "stream",
     "text": [
      "Epoch 10/20 - Train: 100%|██████████| 27/27 [00:37<00:00,  1.39s/it]\n",
      "Epoch 10/20 - Validation: 100%|██████████| 9/9 [00:26<00:00,  2.93s/it]\n"
     ]
    },
    {
     "name": "stdout",
     "output_type": "stream",
     "text": [
      "Epoch 10/20 — Train Loss: 0.4939 — Val Loss: 0.6312\n"
     ]
    },
    {
     "name": "stderr",
     "output_type": "stream",
     "text": [
      "Epoch 11/20 - Train: 100%|██████████| 27/27 [00:37<00:00,  1.39s/it]\n",
      "Epoch 11/20 - Validation: 100%|██████████| 9/9 [00:26<00:00,  2.91s/it]\n"
     ]
    },
    {
     "name": "stdout",
     "output_type": "stream",
     "text": [
      "Epoch 11/20 — Train Loss: 0.4584 — Val Loss: 0.6797\n"
     ]
    },
    {
     "name": "stderr",
     "output_type": "stream",
     "text": [
      "Epoch 12/20 - Train: 100%|██████████| 27/27 [00:37<00:00,  1.39s/it]\n",
      "Epoch 12/20 - Validation: 100%|██████████| 9/9 [00:26<00:00,  2.92s/it]"
     ]
    },
    {
     "name": "stdout",
     "output_type": "stream",
     "text": [
      "Early stopping at epoch 12\n"
     ]
    },
    {
     "name": "stderr",
     "output_type": "stream",
     "text": [
      "\n"
     ]
    },
    {
     "name": "stdout",
     "output_type": "stream",
     "text": [
      "Fold 4 — ROC AUC: 0.799 — AP: 0.814\n",
      "              precision    recall  f1-score     support\n",
      "0              0.731707  0.810811  0.769231   74.000000\n",
      "1              0.745455  0.650794  0.694915   63.000000\n",
      "accuracy       0.737226  0.737226  0.737226    0.737226\n",
      "macro avg      0.738581  0.730802  0.732073  137.000000\n",
      "weighted avg   0.738029  0.737226  0.735056  137.000000\n",
      "Optimal threshold (max F1) = 0.357\n",
      "\n",
      "Mean ROC AUC: 0.653 ± 0.307\n",
      "Mean AP     : 0.739 ± 0.164\n"
     ]
    }
   ],
   "execution_count": 10
  },
  {
   "metadata": {},
   "cell_type": "markdown",
   "source": "## 6. Threshold Calibration and Temperature Scaling",
   "id": "fd2e74cf0496a527"
  },
  {
   "metadata": {
    "ExecuteTime": {
     "end_time": "2025-07-28T13:33:15.955307Z",
     "start_time": "2025-07-28T13:33:15.946191Z"
    }
   },
   "cell_type": "code",
   "source": [
    "# 6.1 Threshold Calibration\n",
    "# Calibration of optimal thresholds per fold (F1-max)\n",
    "thresholds = []\n",
    "for res in results:\n",
    "    y_true = np.array(res['y_true'])\n",
    "    y_prob = np.array(res['y_prob'])\n",
    "    prec, rec, th = precision_recall_curve(y_true, y_prob)\n",
    "    f1 = 2 * (prec * rec) / (prec + rec + 1e-8)\n",
    "    best_idx = np.nanargmax(f1)\n",
    "    best_thresh = th[best_idx]\n",
    "    thresholds.append(best_thresh)\n",
    "    print(f\"→ Fold {res['fold']} : optimal threshold (F1) = {best_thresh:.3f}\")\n",
    "\n",
    "# Global mean threshold\n",
    "global_thresh = float(np.mean(thresholds))\n",
    "print(f\"\\nGlobal mean threshold (across folds) = {global_thresh:.3f}\")\n",
    "\n",
    "# Store thresholds in config for inference\n",
    "config.setdefault('inference', {})\n",
    "config['inference']['threshold_global'] = global_thresh\n",
    "config['inference']['thresholds_per_fold'] = {}\n",
    "for i, thr in enumerate(thresholds):\n",
    "    config['inference']['thresholds_per_fold'][f'fold_{i}'] = float(thr)\n",
    "\n",
    "# Write updated config\n",
    "with open(f'../configs/config_finetune_resnet18.yaml', 'w') as f:\n",
    "    yaml.dump(config, f)\n",
    "print(\"Config updated with optimal thresholds.\")"
   ],
   "id": "d4333c5f42011ef6",
   "outputs": [
    {
     "name": "stdout",
     "output_type": "stream",
     "text": [
      "→ Fold 1 : optimal threshold (F1) = 0.006\n",
      "→ Fold 3 : optimal threshold (F1) = 0.642\n",
      "→ Fold 4 : optimal threshold (F1) = 0.357\n",
      "\n",
      "Global mean threshold (across folds) = 0.335\n",
      "Config updated with optimal thresholds.\n"
     ]
    }
   ],
   "execution_count": 11
  },
  {
   "metadata": {
    "ExecuteTime": {
     "end_time": "2025-07-28T13:33:19.980698Z",
     "start_time": "2025-07-28T13:33:19.976388Z"
    }
   },
   "cell_type": "code",
   "source": [
    "# 6.2 Temperature Scaling\n",
    "class ModelWithTemperature(nn.Module):\n",
    "    \"\"\"\n",
    "    Wrapper around a model to learn a temperature parameter for calibrating logits via NLL on the aggregated validation set.\n",
    "    \"\"\"\n",
    "    def __init__(self, base_model):\n",
    "        super().__init__()\n",
    "        self.model = base_model\n",
    "        # initial temperature = 1\n",
    "        self.temperature = nn.Parameter(torch.ones(1))\n",
    "\n",
    "    def forward(self, x):\n",
    "        logits = self.model(x)\n",
    "        return self.temperature_scale(logits)\n",
    "\n",
    "    def temperature_scale(self, logits):\n",
    "        # Divide each logit by temperature\n",
    "        return logits / self.temperature.expand(logits.size(0), -1)\n",
    "\n",
    "    def set_temperature(self, valid_loader):\n",
    "        \"\"\"\n",
    "        Optimize self.temperature to minimize NLL on valid_loader.\n",
    "        \"\"\"\n",
    "        self.to(device)\n",
    "        logits_list = []\n",
    "        labels_list = []\n",
    "        with torch.no_grad():\n",
    "            for imgs, labs in valid_loader:\n",
    "                imgs = imgs.to(device)\n",
    "                logits = self.model(imgs)\n",
    "                logits_list.append(logits)\n",
    "                labels_list.append(labs.to(device))\n",
    "        logits = torch.cat(logits_list)\n",
    "        labels = torch.cat(labels_list)\n",
    "\n",
    "        nll_criterion = nn.CrossEntropyLoss().to(device)\n",
    "        optimizer = optim.LBFGS([self.temperature], lr=0.01, max_iter=50)\n",
    "\n",
    "        def _eval():\n",
    "            optimizer.zero_grad()\n",
    "            loss = nll_criterion(self.temperature_scale(logits), labels)\n",
    "            loss.backward()\n",
    "            return loss\n",
    "\n",
    "        optimizer.step(_eval)\n",
    "\n",
    "        print(f\"→ Optimal temperature = {self.temperature.item():.3f}\")\n",
    "        return self"
   ],
   "id": "fd86ed4eda096c8c",
   "outputs": [],
   "execution_count": 12
  },
  {
   "metadata": {
    "ExecuteTime": {
     "end_time": "2025-07-28T13:33:58.620303Z",
     "start_time": "2025-07-28T13:33:23.554354Z"
    }
   },
   "cell_type": "code",
   "source": [
    "# 6.3 Prepare aggregated DataLoader for all validation indices\n",
    "all_val_idx = []\n",
    "for _, _, val_idx in valid_folds:\n",
    "    all_val_idx += list(val_idx)\n",
    "\n",
    "val_dataset_for_temp = datasets.ImageFolder(\n",
    "    root=os.path.join('..', config['data']['path']),\n",
    "    transform=val_transform\n",
    ")\n",
    "\n",
    "agg_val_dataset = Subset(val_dataset_for_temp, all_val_idx)\n",
    "agg_val_loader = DataLoader(\n",
    "    agg_val_dataset,\n",
    "    batch_size=config['data']['batch_size'],\n",
    "    shuffle=False,\n",
    "    num_workers=config['data']['num_workers']\n",
    ")\n",
    "\n",
    "# Apply temperature scaling\n",
    "temp_model = ModelWithTemperature(model)\n",
    "temp_model.set_temperature(agg_val_loader)\n",
    "# Save temperature to config\n",
    "config['inference']['temperature'] = float(temp_model.temperature.item())\n",
    "with open(f'../configs/config_finetune_resnet18.yaml', 'w') as f:\n",
    "    yaml.dump(config, f)\n",
    "print(\"Config updated with calibration temperature.\")"
   ],
   "id": "51f52c9f1cfb417f",
   "outputs": [
    {
     "name": "stdout",
     "output_type": "stream",
     "text": [
      "→ Optimal temperature = 1.192\n",
      "Config updated with calibration temperature.\n"
     ]
    }
   ],
   "execution_count": 13
  },
  {
   "metadata": {},
   "cell_type": "markdown",
   "source": "## 7. Results Visualization",
   "id": "b6e4fc97766cc011"
  },
  {
   "metadata": {
    "ExecuteTime": {
     "end_time": "2025-07-28T13:34:04.421680Z",
     "start_time": "2025-07-28T13:34:04.396944Z"
    }
   },
   "cell_type": "code",
   "source": [
    "# 7.1 Metrics Summary\n",
    "rows = []\n",
    "for r in results:\n",
    "    rep = r['report']\n",
    "    rows.append({\n",
    "        'fold':        r['fold'],\n",
    "        'roc_auc':     r['roc_auc'],\n",
    "        'avg_precision': r['average_precision'],\n",
    "        'accuracy':    rep['accuracy'],\n",
    "        'f1_class0':   rep['0']['f1-score'],\n",
    "        'f1_class1':   rep['1']['f1-score']\n",
    "    })\n",
    "df_metrics = pd.DataFrame(rows).set_index('fold')\n",
    "csv_path = os.path.join(FIG_OUT, f\"{run_id}_folds_metrics_report.csv\")\n",
    "df_metrics.to_csv(csv_path, index=True)\n",
    "print(\"=== Metrics summary per fold ===\")\n",
    "display(df_metrics)\n",
    "print(\"\\nMean ± std deviation:\")\n",
    "print(df_metrics.mean().to_frame('mean').join(df_metrics.std().to_frame('std')))"
   ],
   "id": "a0fe2c3cb6bfc141",
   "outputs": [
    {
     "name": "stdout",
     "output_type": "stream",
     "text": [
      "=== Metrics summary per fold ===\n"
     ]
    },
    {
     "data": {
      "text/plain": [
       "       roc_auc  avg_precision  accuracy  f1_class0  f1_class1\n",
       "fold                                                         \n",
       "1     0.226631       0.511389  0.323232   0.455285   0.106667\n",
       "3     0.934126       0.891699  0.821429   0.844720   0.789916\n",
       "4     0.798799       0.814452  0.737226   0.769231   0.694915"
      ],
      "text/html": [
       "<div>\n",
       "<style scoped>\n",
       "    .dataframe tbody tr th:only-of-type {\n",
       "        vertical-align: middle;\n",
       "    }\n",
       "\n",
       "    .dataframe tbody tr th {\n",
       "        vertical-align: top;\n",
       "    }\n",
       "\n",
       "    .dataframe thead th {\n",
       "        text-align: right;\n",
       "    }\n",
       "</style>\n",
       "<table border=\"1\" class=\"dataframe\">\n",
       "  <thead>\n",
       "    <tr style=\"text-align: right;\">\n",
       "      <th></th>\n",
       "      <th>roc_auc</th>\n",
       "      <th>avg_precision</th>\n",
       "      <th>accuracy</th>\n",
       "      <th>f1_class0</th>\n",
       "      <th>f1_class1</th>\n",
       "    </tr>\n",
       "    <tr>\n",
       "      <th>fold</th>\n",
       "      <th></th>\n",
       "      <th></th>\n",
       "      <th></th>\n",
       "      <th></th>\n",
       "      <th></th>\n",
       "    </tr>\n",
       "  </thead>\n",
       "  <tbody>\n",
       "    <tr>\n",
       "      <th>1</th>\n",
       "      <td>0.226631</td>\n",
       "      <td>0.511389</td>\n",
       "      <td>0.323232</td>\n",
       "      <td>0.455285</td>\n",
       "      <td>0.106667</td>\n",
       "    </tr>\n",
       "    <tr>\n",
       "      <th>3</th>\n",
       "      <td>0.934126</td>\n",
       "      <td>0.891699</td>\n",
       "      <td>0.821429</td>\n",
       "      <td>0.844720</td>\n",
       "      <td>0.789916</td>\n",
       "    </tr>\n",
       "    <tr>\n",
       "      <th>4</th>\n",
       "      <td>0.798799</td>\n",
       "      <td>0.814452</td>\n",
       "      <td>0.737226</td>\n",
       "      <td>0.769231</td>\n",
       "      <td>0.694915</td>\n",
       "    </tr>\n",
       "  </tbody>\n",
       "</table>\n",
       "</div>"
      ]
     },
     "metadata": {},
     "output_type": "display_data"
    },
    {
     "name": "stdout",
     "output_type": "stream",
     "text": [
      "\n",
      "Mean ± std deviation:\n",
      "                   mean       std\n",
      "roc_auc        0.653186  0.375553\n",
      "avg_precision  0.739180  0.201019\n",
      "accuracy       0.627296  0.266671\n",
      "f1_class0      0.689745  0.206527\n",
      "f1_class1      0.530499  0.370111\n"
     ]
    }
   ],
   "execution_count": 14
  },
  {
   "metadata": {
    "ExecuteTime": {
     "end_time": "2025-07-28T13:34:25.531951Z",
     "start_time": "2025-07-28T13:34:25.430087Z"
    }
   },
   "cell_type": "code",
   "source": [
    "# 7.2 Performance Plots\n",
    "plt.figure()\n",
    "plt.boxplot(\n",
    "    [df_metrics['roc_auc'], df_metrics['avg_precision'], df_metrics['accuracy']],\n",
    "    tick_labels=['ROC AUC','AP','Accuracy']\n",
    ")\n",
    "plt.title(\"Distribution of metrics across folds\")\n",
    "plt.ylabel(\"Score\")\n",
    "plt.savefig(os.path.join(FIG_OUT, f\"{run_id}_folds_metrics.png\"), dpi=300)\n",
    "plt.show()"
   ],
   "id": "c1882dcaa2fbfd9",
   "outputs": [
    {
     "data": {
      "text/plain": [
       "<Figure size 640x480 with 1 Axes>"
      ],
      "image/png": "[encoded data removed]"
     },
     "metadata": {},
     "output_type": "display_data"
    }
   ],
   "execution_count": 16
  },
  {
   "metadata": {
    "ExecuteTime": {
     "end_time": "2025-07-28T13:34:31.154936Z",
     "start_time": "2025-07-28T13:34:31.005615Z"
    }
   },
   "cell_type": "code",
   "source": [
    "# 7.3 Validation Loss per folds\n",
    "plt.figure()\n",
    "for r in results:\n",
    "    epochs = range(1, len(r['history']['val_loss'])+1)\n",
    "    plt.plot(epochs, r['history']['val_loss'], alpha=0.3, label=f\"Fold {r['fold']}\")\n",
    "# Mean validation loss\n",
    "mean_val = pd.DataFrame([r['history']['val_loss'] for r in results]).mean()\n",
    "epochs = mean_val.index\n",
    "plt.plot(epochs, mean_val, color='black', linewidth=2, label='Mean')\n",
    "plt.xlabel(\"Epoch\")\n",
    "plt.ylabel(\"Validation Loss\")\n",
    "plt.title(\"Validation Loss per fold\")\n",
    "plt.legend()\n",
    "plt.savefig(os.path.join(FIG_OUT, f\"{run_id}_folds_loss.png\"), dpi=300)\n",
    "plt.show()"
   ],
   "id": "b2b71056346a5bf8",
   "outputs": [
    {
     "data": {
      "text/plain": [
       "<Figure size 640x480 with 1 Axes>"
      ],
      "image/png": "[encoded data removed]"
     },
     "metadata": {},
     "output_type": "display_data"
    }
   ],
   "execution_count": 17
  },
  {
   "metadata": {
    "ExecuteTime": {
     "end_time": "2025-07-28T13:34:37.117959Z",
     "start_time": "2025-07-28T13:34:36.976383Z"
    }
   },
   "cell_type": "code",
   "source": [
    "# 7.4 ROC per folds\n",
    "plt.figure()\n",
    "for r in results:\n",
    "    y_true = r['y_true']\n",
    "    y_prob = r['y_prob']\n",
    "    fpr, tpr, _ = roc_curve(y_true, y_prob)\n",
    "    plt.plot(fpr, tpr, alpha=0.3, label=f\"Fold {r['fold']}\")\n",
    "\n",
    "plt.plot([0,1],[0,1],'--', color='gray')\n",
    "plt.xlabel(\"False Positive Rate\")\n",
    "plt.ylabel(\"True Positive Rate\")\n",
    "plt.title(\"ROC Curves per fold\")\n",
    "plt.legend()\n",
    "plt.savefig(os.path.join(FIG_OUT, f\"{run_id}_folds_roc.png\"), dpi=300)\n",
    "plt.show()"
   ],
   "id": "bb5b2fbe747ef81f",
   "outputs": [
    {
     "data": {
      "text/plain": [
       "<Figure size 640x480 with 1 Axes>"
      ],
      "image/png": "[encoded data removed]"
     },
     "metadata": {},
     "output_type": "display_data"
    }
   ],
   "execution_count": 18
  },
  {
   "metadata": {
    "ExecuteTime": {
     "end_time": "2025-07-28T13:34:40.272257Z",
     "start_time": "2025-07-28T13:34:40.169798Z"
    }
   },
   "cell_type": "code",
   "source": [
    "# 7.5 Aggregate Confusion Matrix\n",
    "cm_sum = sum(r['confusion_matrix'] for r in results)\n",
    "plt.figure()\n",
    "sns.heatmap(cm_sum, annot=True, fmt='d', cmap='Blues')\n",
    "plt.xlabel(\"Predicted\")\n",
    "plt.ylabel(\"Actual\")\n",
    "plt.title(\"Aggregate Confusion Matrix\")\n",
    "plt.savefig(os.path.join(FIG_OUT, f\"{run_id}_aggregate_confusion_matrix.png\"), dpi=300)\n",
    "plt.show()"
   ],
   "id": "91f67d915f228b48",
   "outputs": [
    {
     "data": {
      "text/plain": [
       "<Figure size 640x480 with 2 Axes>"
      ],
      "image/png": "[encoded data removed]"
     },
     "metadata": {},
     "output_type": "display_data"
    }
   ],
   "execution_count": 19
  },
  {
   "metadata": {},
   "cell_type": "markdown",
   "source": "## 8. Save Model & Configurations",
   "id": "68a3ec70b1182cd2"
  },
  {
   "metadata": {
    "ExecuteTime": {
     "end_time": "2025-07-28T13:34:44.706365Z",
     "start_time": "2025-07-28T13:34:44.596357Z"
    }
   },
   "cell_type": "code",
   "source": [
    "os.makedirs('../outputs/checkpoints/Switzerland/finetune_resnet18', exist_ok=True)\n",
    "torch.save(model.state_dict(),\n",
    "           f'../outputs/checkpoints/Switzerland/finetune_resnet18/{run_id}_model.pth')\n",
    "os.makedirs('../outputs/configs/Switzerland', exist_ok=True)\n",
    "with open(f'../outputs/configs/Switzerland/{run_id}_config_finetune_resnet18.yaml', 'w') as f:\n",
    "    yaml.dump(config, f)\n",
    "\n",
    "print('Training complete. Model and config saved.')"
   ],
   "id": "d45cf438af27c948",
   "outputs": [
    {
     "name": "stdout",
     "output_type": "stream",
     "text": [
      "Training complete. Model and config saved.\n"
     ]
    }
   ],
   "execution_count": 20
  },
  {
   "metadata": {},
   "cell_type": "markdown",
   "source": "## 9. Out-of-Group Testing",
   "id": "439f2862cbbcf7fa"
  },
  {
   "metadata": {
    "ExecuteTime": {
     "end_time": "2025-07-28T13:34:46.537433Z",
     "start_time": "2025-07-28T13:34:46.533939Z"
    }
   },
   "cell_type": "code",
   "source": [
    "# 9.1 Dataset class\n",
    "class ToxicityDataset(Dataset):\n",
    "    def __init__(self, root_dirs, transform=None):\n",
    "        \"\"\"\n",
    "        Args:\n",
    "            root_dirs: list of paths, e.g., [\"../data/raw/NewZealand\", \"../data/raw/USA\"]\n",
    "                Each subdirectory must contain \"toxic\" and \"non_toxic\" folders.\n",
    "            transform: transformation to apply to each image.\n",
    "        \"\"\"\n",
    "        self.samples = []\n",
    "        self.transform = transform\n",
    "        for country_dir in root_dirs:\n",
    "            for label_name, label_id in [(\"non_toxic\", 0), (\"toxic\", 1)]:\n",
    "                folder = os.path.join(country_dir, label_name)\n",
    "                for fname in os.listdir(folder):\n",
    "                    if fname.lower().endswith(('.png', '.jpg', '.jpeg', '.tif')):\n",
    "                        self.samples.append((os.path.join(folder, fname), label_id))\n",
    "        # Optionally: shuffle samples\n",
    "        # random.shuffle(self.samples)\n",
    "\n",
    "    def __len__(self):\n",
    "        return len(self.samples)\n",
    "\n",
    "    def __getitem__(self, idx):\n",
    "        path, label = self.samples[idx]\n",
    "        img = Image.open(path).convert(\"RGB\")\n",
    "        if self.transform:\n",
    "            img = self.transform(img)\n",
    "        return img, label"
   ],
   "id": "e5dff8d1834fa348",
   "outputs": [],
   "execution_count": 21
  },
  {
   "metadata": {
    "ExecuteTime": {
     "end_time": "2025-07-28T13:34:56.757877Z",
     "start_time": "2025-07-28T13:34:48.948589Z"
    }
   },
   "cell_type": "code",
   "source": [
    "# 9.2 Testing\n",
    "# Model and Data Setup\n",
    "device = torch.device(\"cuda\" if torch.cuda.is_available() else \"cpu\")\n",
    "ckpt_path = \"../models/cv_resnet18/fold1_model.pth\"\n",
    "\n",
    "# Load Model\n",
    "model = models.resnet18(weights=None)\n",
    "in_feats = model.fc.in_features\n",
    "model.fc = torch.nn.Sequential(\n",
    "    torch.nn.Dropout(p=config[\"training\"][\"dropout_prob\"]),\n",
    "    torch.nn.Linear(in_feats, 2)\n",
    ")\n",
    "model.load_state_dict(torch.load(ckpt_path, map_location=device))\n",
    "model.to(device).eval()\n",
    "\n",
    "# Load out-of-group datasets\n",
    "country_dirs = [\"../data/raw/NewZealand\", \"../data/raw/USA\"]\n",
    "dataset = ToxicityDataset(country_dirs, transform=val_transform)\n",
    "loader = DataLoader(dataset, batch_size=32, shuffle=False, num_workers=0)\n",
    "\n",
    "# Inference loop\n",
    "all_probs = []\n",
    "all_preds = []\n",
    "all_labels = []\n",
    "th = config['inference']['thresholds_per_fold']['fold_1']\n",
    "T = config['inference']['temperature']\n",
    "print(f\"Threshold: {th}\")\n",
    "print(f\"Temperature: {T}\")\n",
    "\n",
    "with torch.no_grad():\n",
    "    for imgs, labels in loader:\n",
    "        imgs = imgs.to(device)\n",
    "        logits = model(imgs)\n",
    "        logits = logits / T\n",
    "        probs = torch.softmax(logits, dim=1)[:,1].cpu().numpy()\n",
    "        preds = (probs >= th)\n",
    "        all_probs.extend(probs)\n",
    "        all_preds.extend(preds)\n",
    "        all_labels.extend(labels.numpy())\n",
    "\n",
    "all_probs = np.array(all_probs)\n",
    "all_preds = np.array(all_preds)\n",
    "all_labels = np.array(all_labels)\n",
    "\n",
    "# Evaluation metrics\n",
    "acc = accuracy_score(all_labels, all_preds)\n",
    "auc = roc_auc_score(all_labels, all_probs)\n",
    "class_names = ['non_toxic', 'toxic']\n",
    "report = classification_report(all_labels, all_preds, target_names=class_names)\n",
    "cm = confusion_matrix(all_labels, all_preds)\n",
    "\n",
    "print(f\"Out-of-group (USA+NZ) — Accuracy: {acc:.3f}, AUC: {auc:.3f}\")\n",
    "print(\"Classification Report:\\n\", report)\n",
    "print(\"Confusion Matrix:\\n\", cm)"
   ],
   "id": "ca6494e86ad66b5",
   "outputs": [
    {
     "name": "stdout",
     "output_type": "stream",
     "text": [
      "Threshold: 0.6420585513114929\n",
      "Temperature: 1.1917283535003662\n",
      "Out-of-group (USA+NZ) — Accuracy: 0.503, AUC: 0.541\n",
      "Classification Report:\n",
      "               precision    recall  f1-score   support\n",
      "\n",
      "   non_toxic       0.52      0.60      0.56        99\n",
      "       toxic       0.47      0.40      0.43        90\n",
      "\n",
      "    accuracy                           0.50       189\n",
      "   macro avg       0.50      0.50      0.50       189\n",
      "weighted avg       0.50      0.50      0.50       189\n",
      "\n",
      "Confusion Matrix:\n",
      " [[59 40]\n",
      " [54 36]]\n"
     ]
    }
   ],
   "execution_count": 22
  }
 ],
 "metadata": {
  "kernelspec": {
   "display_name": "Python 3",
   "language": "python",
   "name": "python3"
  },
  "language_info": {
   "codemirror_mode": {
    "name": "ipython",
    "version": 2
   },
   "file_extension": ".py",
   "mimetype": "text/x-python",
   "name": "python",
   "nbconvert_exporter": "python",
   "pygments_lexer": "ipython2",
   "version": "2.7.6"
  }
 },
 "nbformat": 4,
 "nbformat_minor": 5
}

{
 "cells": [
  {
   "metadata": {},
   "cell_type": "markdown",
   "source": "# Cyanobacteria Toxicity Classification Notebook with Cross-Validation",
   "id": "d7092d229b0b6984"
  },
  {
   "metadata": {},
   "cell_type": "markdown",
   "source": "## 1. Setup & Configuration",
   "id": "9cba75e6b5b629e1"
  },
  {
   "metadata": {
    "ExecuteTime": {
     "end_time": "2025-07-24T20:25:42.944471Z",
     "start_time": "2025-07-24T20:25:40.312022Z"
    }
   },
   "cell_type": "code",
   "source": [
    "import os\n",
    "from datetime import date\n",
    "import math\n",
    "import subprocess\n",
    "import yaml\n",
    "import pandas as pd\n",
    "import torch\n",
    "from torchvision.models import ResNet18_Weights\n",
    "import torchvision.transforms as transforms\n",
    "from torch.utils.data import DataLoader, Subset\n",
    "from torchvision import models, datasets\n",
    "import torch.nn as nn\n",
    "import torch.optim as optim\n",
    "import matplotlib.pyplot as plt\n",
    "import numpy as np\n",
    "import seaborn as sns\n",
    "from tqdm import tqdm\n",
    "from src.config_utils import load_config\n",
    "from PIL import Image\n",
    "import torch.nn.functional as F\n",
    "import copy\n",
    "from pytorch_grad_cam import GradCAM\n",
    "from pytorch_grad_cam.utils.image import show_cam_on_image\n",
    "import torchvision.transforms as T\n",
    "from sklearn.model_selection import StratifiedKFold\n",
    "from sklearn.model_selection import StratifiedGroupKFold\n",
    "from sklearn.metrics import (\n",
    "    confusion_matrix,\n",
    "    classification_report,\n",
    "    roc_auc_score,\n",
    "    precision_recall_curve,\n",
    "    average_precision_score,\n",
    "    roc_curve,\n",
    "    brier_score_loss\n",
    ")\n",
    "from sklearn.calibration import calibration_curve\n",
    "from pytorch_grad_cam.utils.model_targets import ClassifierOutputTarget\n",
    "\n",
    "# Chargement de la config\n",
    "config = load_config(path='../configs/config_finetune_resnet18.yaml')\n",
    "\n",
    "# Répertoires de sortie\n",
    "FIG_OUT = os.path.join('..', 'outputs', 'figures', 'Switzerland', 'finetune_resnet18')\n",
    "os.makedirs(FIG_OUT, exist_ok=True)\n",
    "\n",
    "# Génération du Run ID : date + commit Git\n",
    "today = date.today().isoformat()\n",
    "commit = subprocess.check_output([\"git\",\"rev-parse\",\"--short\",\"HEAD\"]).decode().strip()\n",
    "run_id = f\"{today}_{commit}\"\n",
    "\n",
    "print(\"Run ID :\", run_id)\n"
   ],
   "id": "ace0c9e57a273b18",
   "outputs": [
    {
     "name": "stdout",
     "output_type": "stream",
     "text": [
      "Run ID : 2025-07-24_54897b5\n"
     ]
    }
   ],
   "execution_count": 1
  },
  {
   "metadata": {},
   "cell_type": "markdown",
   "source": "## 2. Data Preparation",
   "id": "d5d327eb54f1d3ed"
  },
  {
   "metadata": {
    "ExecuteTime": {
     "end_time": "2025-07-24T20:25:52.356253Z",
     "start_time": "2025-07-24T20:25:52.350160Z"
    }
   },
   "cell_type": "code",
   "source": [
    "# Transforms avec RandomErasing pour dropout spatial\n",
    "data_cfg = config['augmentation']\n",
    "\n",
    "train_transform = T.Compose([\n",
    "    # 1) Crop aléatoire + scale varié\n",
    "    T.RandomResizedCrop(size=tuple(data_cfg['resize']),\n",
    "                        scale=(0.8, 1.0)),\n",
    "    # 2) Flips horizontal + vertical\n",
    "    T.RandomHorizontalFlip(p=0.5 if data_cfg['horizontal_flip'] else 0.0),\n",
    "    T.RandomVerticalFlip(p=0.5 if data_cfg['vertical_flip'] else 0.0),\n",
    "    # 3) Rotation légère\n",
    "    T.RandomRotation(degrees=data_cfg['rotation']),\n",
    "    # 4) Variation colorimétrique\n",
    "    T.ColorJitter(brightness=data_cfg['color_jitter']['brightness'],\n",
    "                  contrast=  data_cfg['color_jitter']['contrast'],\n",
    "                  saturation=data_cfg['color_jitter']['saturation'],\n",
    "                  hue=       data_cfg['color_jitter']['hue']),\n",
    "    # 5) Passage en tenseur + normalisation\n",
    "    T.ToTensor(),\n",
    "    T.Normalize(mean=data_cfg['normalization']['mean'],\n",
    "                std= data_cfg['normalization']['std']),\n",
    "    # 6) Masquage partiel (Random Erasing)\n",
    "    T.RandomErasing(p=data_cfg['random_erasing']['p'],\n",
    "                    scale=tuple(data_cfg['random_erasing']['scale']),\n",
    "                    ratio=tuple(data_cfg['random_erasing']['ratio']))\n",
    "])\n",
    "\n",
    "val_transform = transforms.Compose([\n",
    "    transforms.Resize(tuple(data_cfg['resize'])),\n",
    "    transforms.ToTensor(),\n",
    "    transforms.Normalize(mean=data_cfg['normalization']['mean'],\n",
    "                         std=data_cfg['normalization']['std'])\n",
    "])\n"
   ],
   "id": "bdb6dbe3f690e20f",
   "outputs": [],
   "execution_count": 2
  },
  {
   "metadata": {
    "ExecuteTime": {
     "end_time": "2025-07-24T20:25:54.935353Z",
     "start_time": "2025-07-24T20:25:54.916597Z"
    }
   },
   "cell_type": "code",
   "source": [
    "# Chargement du dataset et Stratified K-Fold\n",
    "dataset = datasets.ImageFolder(\n",
    "    root=os.path.join('..', config['data']['path']),\n",
    "    transform=train_transform\n",
    ")\n",
    "targets = np.array(dataset.targets)\n",
    "\n",
    "\n",
    "paths = [path for path, _ in dataset.samples]\n",
    "groups = [os.path.basename(p).split('_')[0] for p in paths]\n",
    "\n",
    "df = pd.DataFrame({'target': targets, 'group': groups})\n",
    "groups_per_class = df.groupby('target')['group'].nunique().to_dict()\n",
    "n_souches_0 = groups_per_class.get(0, 0)\n",
    "n_souches_1 = groups_per_class.get(1, 0)\n",
    "print(f\"{n_souches_0} souches non‑toxiques, {n_souches_1} souches toxiques.\")\n",
    "\n",
    "n_splits = min(\n",
    "    df.groupby('target')['group'].nunique().min(),\n",
    "    5\n",
    ")\n",
    "\n",
    "print(f\"Utilisation de n_splits = {n_splits}\")\n",
    "\n",
    "sgkf = StratifiedGroupKFold(\n",
    "    n_splits=n_splits,\n",
    "    shuffle=True,\n",
    "    random_state=42\n",
    ")\n",
    "\n",
    "valid_folds = []\n",
    "for fold, (train_idx, val_idx) in enumerate(\n",
    "        sgkf.split(np.zeros(len(targets)), targets, groups)\n",
    "    ):\n",
    "    # on skippe les folds mono‑classe en validation\n",
    "    if len(np.unique(targets[val_idx])) < 2:\n",
    "        print(f\"Skip fold {fold+1} (mono‑classe en val)\")\n",
    "        continue\n",
    "    valid_folds.append((fold, train_idx, val_idx))\n",
    "\n",
    "print(f\"{len(valid_folds)} folds valides sur {n_splits}\")"
   ],
   "id": "89df698402e03a5a",
   "outputs": [
    {
     "name": "stdout",
     "output_type": "stream",
     "text": [
      "9 souches non‑toxiques, 8 souches toxiques.\n",
      "Utilisation de n_splits = 5\n",
      "Skip fold 2 (mono‑classe en val)\n",
      "Skip fold 5 (mono‑classe en val)\n",
      "3 folds valides sur 5\n"
     ]
    }
   ],
   "execution_count": 3
  },
  {
   "metadata": {},
   "cell_type": "markdown",
   "source": "## 3. Model Definition",
   "id": "1b6a6adc0f0fa5bf"
  },
  {
   "metadata": {
    "ExecuteTime": {
     "end_time": "2025-07-24T20:25:57.702590Z",
     "start_time": "2025-07-24T20:25:57.699724Z"
    }
   },
   "cell_type": "code",
   "source": [
    "# === EarlyStopping utility ===\n",
    "class EarlyStopping:\n",
    "    def __init__(self, patience=3, min_delta=1e-4):\n",
    "        self.patience = patience\n",
    "        self.min_delta = min_delta\n",
    "        self.best_loss = float('inf')\n",
    "        self.counter = 0\n",
    "\n",
    "    def __call__(self, val_loss):\n",
    "        if val_loss < self.best_loss - self.min_delta:\n",
    "            self.best_loss = val_loss\n",
    "            self.counter = 0\n",
    "            return False\n",
    "        else:\n",
    "            self.counter += 1\n",
    "            return self.counter >= self.patience\n"
   ],
   "id": "1b3e6cfd6d403e1d",
   "outputs": [],
   "execution_count": 4
  },
  {
   "metadata": {
    "ExecuteTime": {
     "end_time": "2025-07-24T20:25:59.488360Z",
     "start_time": "2025-07-24T20:25:59.279418Z"
    }
   },
   "cell_type": "code",
   "source": [
    "# Définition du modèle, critère et optimizer\n",
    "device = torch.device(config['training']['device'])\n",
    "model = models.resnet18(\n",
    "    weights=ResNet18_Weights.DEFAULT if config['model']['pretrained'] else None\n",
    ")\n",
    "\n",
    "# 1) Tout gèlé\n",
    "for param in model.parameters():\n",
    "    param.requires_grad = False\n",
    "\n",
    "# 2) Nouvelle tête (dropout léger)\n",
    "num_ftrs = model.fc.in_features\n",
    "model.fc = nn.Sequential(\n",
    "    nn.Dropout(p=0.3),\n",
    "    nn.Linear(num_ftrs, config['model']['num_classes'])\n",
    ")\n",
    "\n",
    "model = model.to(device)\n",
    "\n",
    "\n",
    "criterion = nn.CrossEntropyLoss(label_smoothing=0.1)"
   ],
   "id": "aff5dea657438f4a",
   "outputs": [],
   "execution_count": 5
  },
  {
   "metadata": {
    "ExecuteTime": {
     "end_time": "2025-07-24T20:26:01.671799Z",
     "start_time": "2025-07-24T20:26:01.660044Z"
    }
   },
   "cell_type": "code",
   "source": [
    "def train_and_eval_fold(fold, train_idx, val_idx):\n",
    "    # 1) Préparer DataLoaders avec train_idx / val_idx\n",
    "    train_subset = Subset(dataset, train_idx)\n",
    "    val_dataset_full = datasets.ImageFolder(\n",
    "        root=os.path.join('..', config['data']['path']),\n",
    "        transform=val_transform\n",
    "    )\n",
    "    val_subset = Subset(val_dataset_full, val_idx)\n",
    "\n",
    "    train_loader = DataLoader(\n",
    "        train_subset, batch_size=config['data']['batch_size'],\n",
    "        shuffle=True, num_workers=config['data']['num_workers']\n",
    "    )\n",
    "    val_loader   = DataLoader(\n",
    "        val_subset,   batch_size=config['data']['batch_size'],\n",
    "        shuffle=False, num_workers=config['data']['num_workers']\n",
    "    )\n",
    "\n",
    "    # 2) Réinitialiser le modèle\n",
    "    model = models.resnet18(\n",
    "        weights=ResNet18_Weights.DEFAULT if config['model']['pretrained'] else None\n",
    "    )\n",
    "\n",
    "    model = model.to(device)\n",
    "\n",
    "\n",
    "    # 3) Entraînement en Phase 1 & Phase 2\n",
    "    history = {'train_loss': [], 'val_loss': []}\n",
    "    num_epochs = config['training']['epochs']\n",
    "    warmup_epochs = 5\n",
    "\n",
    "    ### PHASE 1 : warm‑up de la tête seule ###\n",
    "    print(\"=== Phase 1 : warm‑up de la tête seule (5 epochs) ===\")\n",
    "\n",
    "    # 1) Geler tout sauf la tête\n",
    "    for name, param in model.named_parameters():\n",
    "        param.requires_grad = False\n",
    "    for param in model.fc.parameters():\n",
    "        param.requires_grad = True\n",
    "\n",
    "    # 2) Optimiseur & scheduler pour la tête\n",
    "    optimizer = optim.AdamW(\n",
    "        model.fc.parameters(),\n",
    "        lr=1e-3,  # LR plus élevé pour la tête\n",
    "        weight_decay=float(config['training']['weight_decay'])\n",
    "    )\n",
    "    scheduler = optim.lr_scheduler.ReduceLROnPlateau(\n",
    "        optimizer,\n",
    "        mode='min',\n",
    "        factor=0.5,\n",
    "        patience=3,\n",
    "        min_lr=1e-6,\n",
    "    )\n",
    "\n",
    "    # 3) Boucle warm‑up\n",
    "    for epoch in range(1, warmup_epochs+1):\n",
    "        # --- TRAIN ---\n",
    "        model.train()\n",
    "        running_loss = 0.0\n",
    "        for inputs, labels in tqdm(train_loader, desc=f\"Warmup Epoch {epoch}/{warmup_epochs} - Train\"):\n",
    "            inputs, labels = inputs.to(device), labels.to(device)\n",
    "            optimizer.zero_grad()\n",
    "            outputs = model(inputs)\n",
    "            loss = criterion(outputs, labels)\n",
    "            loss.backward()\n",
    "            optimizer.step()\n",
    "            running_loss += loss.item() * inputs.size(0)\n",
    "        train_loss = running_loss / len(train_loader.dataset)\n",
    "        history['train_loss'].append(train_loss)\n",
    "\n",
    "        # --- VAL ---\n",
    "        model.eval()\n",
    "        running_val = 0.0\n",
    "        with torch.no_grad():\n",
    "            for inputs, labels in tqdm(val_loader, desc=f\"Warmup Epoch {epoch}/{warmup_epochs} - Val\"):\n",
    "                inputs, labels = inputs.to(device), labels.to(device)\n",
    "                outputs = model(inputs)\n",
    "                loss = criterion(outputs, labels)\n",
    "                running_val += loss.item() * inputs.size(0)\n",
    "        val_loss = running_val / len(val_loader.dataset)\n",
    "        history['val_loss'].append(val_loss)\n",
    "\n",
    "        scheduler.step(val_loss)\n",
    "        print(f\"Warmup Epoch {epoch} — Train Loss: {train_loss:.4f} — Val Loss: {val_loss:.4f}\")\n",
    "\n",
    "    ### PHASE 2 : fine‑tuning de layer4 + tête ###\n",
    "    print(\"=== Phase 2 : fine‑tuning layer4 + tête (up to {} epochs) ===\".format(num_epochs))\n",
    "\n",
    "    # 1) Débloquer layer4 + tête\n",
    "    for name, param in model.named_parameters():\n",
    "        if name.startswith(\"layer4\") or name.startswith(\"fc\"):\n",
    "            param.requires_grad = True\n",
    "\n",
    "    # 2) Nouvel optimiseur à deux groupes\n",
    "    base_lr = float(config['training']['learning_rate'])\n",
    "    optimizer = optim.AdamW([\n",
    "        {\"params\": model.layer4.parameters(), \"lr\": base_lr * 0.1},\n",
    "        {\"params\": model.fc.parameters(),    \"lr\": base_lr},\n",
    "    ], weight_decay=float(config['training']['weight_decay']))\n",
    "\n",
    "    # 3) Scheduler + EarlyStopping\n",
    "    scheduler = optim.lr_scheduler.ReduceLROnPlateau(\n",
    "        optimizer,\n",
    "        mode='min',\n",
    "        factor=0.5,\n",
    "        patience=3,\n",
    "        min_lr=1e-6,\n",
    "    )\n",
    "    early_stopper = EarlyStopping(patience=3, min_delta=1e-4)\n",
    "\n",
    "    # 4) Boucle fine‑tuning\n",
    "    for epoch in range(warmup_epochs+1, num_epochs+1):\n",
    "        # --- TRAIN ---\n",
    "        model.train()\n",
    "        running_loss = 0.0\n",
    "        for inputs, labels in tqdm(train_loader, desc=f\"Epoch {epoch}/{num_epochs} - Train\"):\n",
    "            inputs, labels = inputs.to(device), labels.to(device)\n",
    "            optimizer.zero_grad()\n",
    "            outputs = model(inputs)\n",
    "            loss = criterion(outputs, labels)\n",
    "            loss.backward()\n",
    "            optimizer.step()\n",
    "            running_loss += loss.item() * inputs.size(0)\n",
    "        train_loss = running_loss / len(train_loader.dataset)\n",
    "        history['train_loss'].append(train_loss)\n",
    "\n",
    "        # --- VAL ---\n",
    "        model.eval()\n",
    "        running_val = 0.0\n",
    "        with torch.no_grad():\n",
    "            for inputs, labels in tqdm(val_loader, desc=f\"Epoch {epoch}/{num_epochs} - Validation\"):\n",
    "                inputs, labels = inputs.to(device), labels.to(device)\n",
    "                outputs = model(inputs)\n",
    "                loss = criterion(outputs, labels)\n",
    "                running_val += loss.item() * inputs.size(0)\n",
    "        val_loss = running_val / len(val_loader.dataset)\n",
    "        history['val_loss'].append(val_loss)\n",
    "\n",
    "        scheduler.step(val_loss)\n",
    "        if early_stopper(val_loss):\n",
    "            print(f\"Early stopping à l'epoch {epoch}\")\n",
    "            break\n",
    "\n",
    "        print(f\"Epoch {epoch}/{num_epochs} — Train Loss: {train_loss:.4f} — Val Loss: {val_loss:.4f}\")\n",
    "\n",
    "\n",
    "    # 4) Évaluation finale\n",
    "    model.eval()\n",
    "    y_true, y_pred, y_prob = [], [], []\n",
    "    with torch.no_grad():\n",
    "        for inputs, labels in val_loader:\n",
    "            inputs = inputs.to(device)\n",
    "            logits  = model(inputs)\n",
    "            probs   = torch.softmax(logits, dim=1)[:,1].cpu().numpy()\n",
    "            preds   = (probs >= 0.5).astype(int)  # ou votre seuil optimal\n",
    "            y_true.extend(labels.numpy())\n",
    "            y_pred.extend(preds)\n",
    "            y_prob.extend(probs)\n",
    "\n",
    "    # 5) Calcul des métriques\n",
    "    report = classification_report(\n",
    "        y_true, y_pred, labels=[0,1], output_dict=True, zero_division=0\n",
    "    )\n",
    "    cm = confusion_matrix(y_true, y_pred, labels=[0,1])\n",
    "    roc_auc = roc_auc_score(y_true, y_prob)\n",
    "    ap      = average_precision_score(y_true, y_prob)\n",
    "\n",
    "    return {\n",
    "        'fold': fold+1,\n",
    "        'history': history,\n",
    "        'report': report,\n",
    "        'confusion_matrix': cm,\n",
    "        'roc_auc': roc_auc,\n",
    "        'average_precision': ap,\n",
    "        'y_true' : y_true,\n",
    "        'y_pred' : y_pred,\n",
    "        'y_prob' : y_prob\n",
    "    }"
   ],
   "id": "ed920137aaf20dca",
   "outputs": [],
   "execution_count": 6
  },
  {
   "metadata": {},
   "cell_type": "markdown",
   "source": "## 4. Training Loop",
   "id": "8b6635218ff58265"
  },
  {
   "metadata": {
    "ExecuteTime": {
     "end_time": "2025-07-24T21:16:29.668226Z",
     "start_time": "2025-07-24T20:26:08.699520Z"
    }
   },
   "cell_type": "code",
   "source": [
    "results = []\n",
    "for i, (fold, train_idx, val_idx) in enumerate(valid_folds):\n",
    "    print(f\"\\n=== Training fold {fold+1} ({i+1}/{len(valid_folds)}) ===\")\n",
    "    res = train_and_eval_fold(fold, train_idx, val_idx)\n",
    "    print(f\"Fold {res['fold']} — ROC AUC: {res['roc_auc']:.3f} — AP: {res['average_precision']:.3f}\")\n",
    "    print(pd.DataFrame(res['report']).T[['precision','recall','f1-score','support']])\n",
    "    results.append(res)\n",
    "    dir_path = f\"../outputs/checkpoints/Switzerland/finetune_resnet18/cross-validation/{run_id}\"\n",
    "    os.makedirs(dir_path, exist_ok=True)\n",
    "    model_path = os.path.join(dir_path, f\"model_fold{fold+1}.pth\")\n",
    "    torch.save(model.state_dict(), model_path)\n",
    "\n",
    "# Moyennes et écart‑types\n",
    "roc_aucs = [r['roc_auc'] for r in results]\n",
    "aps      = [r['average_precision'] for r in results]\n",
    "print(f\"\\nMoyenne ROC AUC: {np.mean(roc_aucs):.3f} ± {np.std(roc_aucs):.3f}\")\n",
    "print(f\"Moyenne AP      : {np.mean(aps):.3f} ± {np.std(aps):.3f}\")\n"
   ],
   "id": "f72afe26305d3e12",
   "outputs": [
    {
     "name": "stdout",
     "output_type": "stream",
     "text": [
      "\n",
      "=== Training fold 1 (1/3) ===\n",
      "=== Phase 1 : warm‑up de la tête seule (5 epochs) ===\n"
     ]
    },
    {
     "name": "stderr",
     "output_type": "stream",
     "text": [
      "Warmup Epoch 1/5 - Train: 100%|██████████| 29/29 [00:36<00:00,  1.27s/it]\n",
      "Warmup Epoch 1/5 - Val: 100%|██████████| 7/7 [00:25<00:00,  3.59s/it]\n"
     ]
    },
    {
     "name": "stdout",
     "output_type": "stream",
     "text": [
      "Warmup Epoch 1 — Train Loss: 3.7274 — Val Loss: 2.8125\n"
     ]
    },
    {
     "name": "stderr",
     "output_type": "stream",
     "text": [
      "Warmup Epoch 2/5 - Train: 100%|██████████| 29/29 [00:36<00:00,  1.25s/it]\n",
      "Warmup Epoch 2/5 - Val: 100%|██████████| 7/7 [00:25<00:00,  3.58s/it]\n"
     ]
    },
    {
     "name": "stdout",
     "output_type": "stream",
     "text": [
      "Warmup Epoch 2 — Train Loss: 2.2247 — Val Loss: 2.7010\n"
     ]
    },
    {
     "name": "stderr",
     "output_type": "stream",
     "text": [
      "Warmup Epoch 3/5 - Train: 100%|██████████| 29/29 [00:36<00:00,  1.24s/it]\n",
      "Warmup Epoch 3/5 - Val: 100%|██████████| 7/7 [00:25<00:00,  3.59s/it]\n"
     ]
    },
    {
     "name": "stdout",
     "output_type": "stream",
     "text": [
      "Warmup Epoch 3 — Train Loss: 1.8898 — Val Loss: 2.7399\n"
     ]
    },
    {
     "name": "stderr",
     "output_type": "stream",
     "text": [
      "Warmup Epoch 4/5 - Train: 100%|██████████| 29/29 [00:35<00:00,  1.24s/it]\n",
      "Warmup Epoch 4/5 - Val: 100%|██████████| 7/7 [00:25<00:00,  3.59s/it]\n"
     ]
    },
    {
     "name": "stdout",
     "output_type": "stream",
     "text": [
      "Warmup Epoch 4 — Train Loss: 1.7753 — Val Loss: 2.8164\n"
     ]
    },
    {
     "name": "stderr",
     "output_type": "stream",
     "text": [
      "Warmup Epoch 5/5 - Train: 100%|██████████| 29/29 [00:36<00:00,  1.24s/it]\n",
      "Warmup Epoch 5/5 - Val: 100%|██████████| 7/7 [00:25<00:00,  3.59s/it]\n"
     ]
    },
    {
     "name": "stdout",
     "output_type": "stream",
     "text": [
      "Warmup Epoch 5 — Train Loss: 1.7424 — Val Loss: 2.9716\n",
      "=== Phase 2 : fine‑tuning layer4 + tête (up to 20 epochs) ===\n"
     ]
    },
    {
     "name": "stderr",
     "output_type": "stream",
     "text": [
      "Epoch 6/20 - Train: 100%|██████████| 29/29 [00:38<00:00,  1.31s/it]\n",
      "Epoch 6/20 - Validation: 100%|██████████| 7/7 [00:25<00:00,  3.59s/it]\n"
     ]
    },
    {
     "name": "stdout",
     "output_type": "stream",
     "text": [
      "Epoch 6/20 — Train Loss: 1.6475 — Val Loss: 3.1889\n"
     ]
    },
    {
     "name": "stderr",
     "output_type": "stream",
     "text": [
      "Epoch 7/20 - Train: 100%|██████████| 29/29 [00:37<00:00,  1.31s/it]\n",
      "Epoch 7/20 - Validation: 100%|██████████| 7/7 [00:25<00:00,  3.59s/it]\n"
     ]
    },
    {
     "name": "stdout",
     "output_type": "stream",
     "text": [
      "Epoch 7/20 — Train Loss: 1.5430 — Val Loss: 3.4239\n"
     ]
    },
    {
     "name": "stderr",
     "output_type": "stream",
     "text": [
      "Epoch 8/20 - Train: 100%|██████████| 29/29 [00:38<00:00,  1.34s/it]\n",
      "Epoch 8/20 - Validation: 100%|██████████| 7/7 [00:25<00:00,  3.59s/it]\n"
     ]
    },
    {
     "name": "stdout",
     "output_type": "stream",
     "text": [
      "Epoch 8/20 — Train Loss: 1.5053 — Val Loss: 3.4192\n"
     ]
    },
    {
     "name": "stderr",
     "output_type": "stream",
     "text": [
      "Epoch 9/20 - Train: 100%|██████████| 29/29 [00:37<00:00,  1.31s/it]\n",
      "Epoch 9/20 - Validation: 100%|██████████| 7/7 [00:25<00:00,  3.59s/it]"
     ]
    },
    {
     "name": "stdout",
     "output_type": "stream",
     "text": [
      "Early stopping à l'epoch 9\n"
     ]
    },
    {
     "name": "stderr",
     "output_type": "stream",
     "text": [
      "\n"
     ]
    },
    {
     "name": "stdout",
     "output_type": "stream",
     "text": [
      "Fold 1 — ROC AUC: 0.092 — AP: 0.443\n",
      "              precision    recall  f1-score    support\n",
      "0              0.233766  0.500000  0.318584  36.000000\n",
      "1              0.181818  0.063492  0.094118  63.000000\n",
      "accuracy       0.222222  0.222222  0.222222   0.222222\n",
      "macro avg      0.207792  0.281746  0.206351  99.000000\n",
      "weighted avg   0.200708  0.222222  0.175742  99.000000\n",
      "\n",
      "=== Training fold 3 (2/3) ===\n",
      "=== Phase 1 : warm‑up de la tête seule (5 epochs) ===\n"
     ]
    },
    {
     "name": "stderr",
     "output_type": "stream",
     "text": [
      "Warmup Epoch 1/5 - Train: 100%|██████████| 27/27 [00:34<00:00,  1.29s/it]\n",
      "Warmup Epoch 1/5 - Val: 100%|██████████| 9/9 [00:26<00:00,  2.91s/it]\n"
     ]
    },
    {
     "name": "stdout",
     "output_type": "stream",
     "text": [
      "Warmup Epoch 1 — Train Loss: 3.8375 — Val Loss: 2.5009\n"
     ]
    },
    {
     "name": "stderr",
     "output_type": "stream",
     "text": [
      "Warmup Epoch 2/5 - Train: 100%|██████████| 27/27 [00:34<00:00,  1.29s/it]\n",
      "Warmup Epoch 2/5 - Val: 100%|██████████| 9/9 [00:26<00:00,  2.94s/it]\n"
     ]
    },
    {
     "name": "stdout",
     "output_type": "stream",
     "text": [
      "Warmup Epoch 2 — Train Loss: 2.3724 — Val Loss: 2.1871\n"
     ]
    },
    {
     "name": "stderr",
     "output_type": "stream",
     "text": [
      "Warmup Epoch 3/5 - Train: 100%|██████████| 27/27 [00:34<00:00,  1.29s/it]\n",
      "Warmup Epoch 3/5 - Val: 100%|██████████| 9/9 [00:26<00:00,  2.91s/it]\n"
     ]
    },
    {
     "name": "stdout",
     "output_type": "stream",
     "text": [
      "Warmup Epoch 3 — Train Loss: 2.0809 — Val Loss: 1.9552\n"
     ]
    },
    {
     "name": "stderr",
     "output_type": "stream",
     "text": [
      "Warmup Epoch 4/5 - Train: 100%|██████████| 27/27 [00:34<00:00,  1.29s/it]\n",
      "Warmup Epoch 4/5 - Val: 100%|██████████| 9/9 [00:26<00:00,  2.91s/it]\n"
     ]
    },
    {
     "name": "stdout",
     "output_type": "stream",
     "text": [
      "Warmup Epoch 4 — Train Loss: 1.9550 — Val Loss: 1.8187\n"
     ]
    },
    {
     "name": "stderr",
     "output_type": "stream",
     "text": [
      "Warmup Epoch 5/5 - Train: 100%|██████████| 27/27 [00:34<00:00,  1.29s/it]\n",
      "Warmup Epoch 5/5 - Val: 100%|██████████| 9/9 [00:26<00:00,  2.91s/it]\n"
     ]
    },
    {
     "name": "stdout",
     "output_type": "stream",
     "text": [
      "Warmup Epoch 5 — Train Loss: 1.8981 — Val Loss: 1.7601\n",
      "=== Phase 2 : fine‑tuning layer4 + tête (up to 20 epochs) ===\n"
     ]
    },
    {
     "name": "stderr",
     "output_type": "stream",
     "text": [
      "Epoch 6/20 - Train: 100%|██████████| 27/27 [00:36<00:00,  1.35s/it]\n",
      "Epoch 6/20 - Validation: 100%|██████████| 9/9 [00:26<00:00,  2.91s/it]\n"
     ]
    },
    {
     "name": "stdout",
     "output_type": "stream",
     "text": [
      "Epoch 6/20 — Train Loss: 1.8453 — Val Loss: 1.7022\n"
     ]
    },
    {
     "name": "stderr",
     "output_type": "stream",
     "text": [
      "Epoch 7/20 - Train: 100%|██████████| 27/27 [00:36<00:00,  1.36s/it]\n",
      "Epoch 7/20 - Validation: 100%|██████████| 9/9 [00:26<00:00,  2.91s/it]\n"
     ]
    },
    {
     "name": "stdout",
     "output_type": "stream",
     "text": [
      "Epoch 7/20 — Train Loss: 1.7469 — Val Loss: 1.6296\n"
     ]
    },
    {
     "name": "stderr",
     "output_type": "stream",
     "text": [
      "Epoch 8/20 - Train: 100%|██████████| 27/27 [00:36<00:00,  1.35s/it]\n",
      "Epoch 8/20 - Validation: 100%|██████████| 9/9 [00:26<00:00,  2.90s/it]\n"
     ]
    },
    {
     "name": "stdout",
     "output_type": "stream",
     "text": [
      "Epoch 8/20 — Train Loss: 1.7337 — Val Loss: 1.6227\n"
     ]
    },
    {
     "name": "stderr",
     "output_type": "stream",
     "text": [
      "Epoch 9/20 - Train: 100%|██████████| 27/27 [00:36<00:00,  1.35s/it]\n",
      "Epoch 9/20 - Validation: 100%|██████████| 9/9 [00:26<00:00,  2.90s/it]\n"
     ]
    },
    {
     "name": "stdout",
     "output_type": "stream",
     "text": [
      "Epoch 9/20 — Train Loss: 1.6227 — Val Loss: 1.6315\n"
     ]
    },
    {
     "name": "stderr",
     "output_type": "stream",
     "text": [
      "Epoch 10/20 - Train: 100%|██████████| 27/27 [00:36<00:00,  1.35s/it]\n",
      "Epoch 10/20 - Validation: 100%|██████████| 9/9 [00:26<00:00,  2.91s/it]\n"
     ]
    },
    {
     "name": "stdout",
     "output_type": "stream",
     "text": [
      "Epoch 10/20 — Train Loss: 1.5362 — Val Loss: 1.5904\n"
     ]
    },
    {
     "name": "stderr",
     "output_type": "stream",
     "text": [
      "Epoch 11/20 - Train: 100%|██████████| 27/27 [00:36<00:00,  1.35s/it]\n",
      "Epoch 11/20 - Validation: 100%|██████████| 9/9 [00:26<00:00,  2.91s/it]\n"
     ]
    },
    {
     "name": "stdout",
     "output_type": "stream",
     "text": [
      "Epoch 11/20 — Train Loss: 1.5140 — Val Loss: 1.5644\n"
     ]
    },
    {
     "name": "stderr",
     "output_type": "stream",
     "text": [
      "Epoch 12/20 - Train: 100%|██████████| 27/27 [00:36<00:00,  1.36s/it]\n",
      "Epoch 12/20 - Validation: 100%|██████████| 9/9 [00:26<00:00,  2.91s/it]\n"
     ]
    },
    {
     "name": "stdout",
     "output_type": "stream",
     "text": [
      "Epoch 12/20 — Train Loss: 1.5185 — Val Loss: 1.5486\n"
     ]
    },
    {
     "name": "stderr",
     "output_type": "stream",
     "text": [
      "Epoch 13/20 - Train: 100%|██████████| 27/27 [00:36<00:00,  1.35s/it]\n",
      "Epoch 13/20 - Validation: 100%|██████████| 9/9 [00:26<00:00,  2.92s/it]\n"
     ]
    },
    {
     "name": "stdout",
     "output_type": "stream",
     "text": [
      "Epoch 13/20 — Train Loss: 1.5287 — Val Loss: 1.5539\n"
     ]
    },
    {
     "name": "stderr",
     "output_type": "stream",
     "text": [
      "Epoch 14/20 - Train: 100%|██████████| 27/27 [00:36<00:00,  1.35s/it]\n",
      "Epoch 14/20 - Validation: 100%|██████████| 9/9 [00:26<00:00,  2.94s/it]\n"
     ]
    },
    {
     "name": "stdout",
     "output_type": "stream",
     "text": [
      "Epoch 14/20 — Train Loss: 1.4686 — Val Loss: 1.5305\n"
     ]
    },
    {
     "name": "stderr",
     "output_type": "stream",
     "text": [
      "Epoch 15/20 - Train: 100%|██████████| 27/27 [00:36<00:00,  1.36s/it]\n",
      "Epoch 15/20 - Validation: 100%|██████████| 9/9 [00:26<00:00,  2.91s/it]\n"
     ]
    },
    {
     "name": "stdout",
     "output_type": "stream",
     "text": [
      "Epoch 15/20 — Train Loss: 1.4951 — Val Loss: 1.5111\n"
     ]
    },
    {
     "name": "stderr",
     "output_type": "stream",
     "text": [
      "Epoch 16/20 - Train: 100%|██████████| 27/27 [00:36<00:00,  1.35s/it]\n",
      "Epoch 16/20 - Validation: 100%|██████████| 9/9 [00:26<00:00,  2.91s/it]\n"
     ]
    },
    {
     "name": "stdout",
     "output_type": "stream",
     "text": [
      "Epoch 16/20 — Train Loss: 1.4675 — Val Loss: 1.5141\n"
     ]
    },
    {
     "name": "stderr",
     "output_type": "stream",
     "text": [
      "Epoch 17/20 - Train: 100%|██████████| 27/27 [00:36<00:00,  1.35s/it]\n",
      "Epoch 17/20 - Validation: 100%|██████████| 9/9 [00:26<00:00,  2.93s/it]\n"
     ]
    },
    {
     "name": "stdout",
     "output_type": "stream",
     "text": [
      "Epoch 17/20 — Train Loss: 1.4400 — Val Loss: 1.5107\n"
     ]
    },
    {
     "name": "stderr",
     "output_type": "stream",
     "text": [
      "Epoch 18/20 - Train: 100%|██████████| 27/27 [00:36<00:00,  1.37s/it]\n",
      "Epoch 18/20 - Validation: 100%|██████████| 9/9 [00:26<00:00,  2.92s/it]\n"
     ]
    },
    {
     "name": "stdout",
     "output_type": "stream",
     "text": [
      "Epoch 18/20 — Train Loss: 1.4442 — Val Loss: 1.5200\n"
     ]
    },
    {
     "name": "stderr",
     "output_type": "stream",
     "text": [
      "Epoch 19/20 - Train: 100%|██████████| 27/27 [00:36<00:00,  1.36s/it]\n",
      "Epoch 19/20 - Validation: 100%|██████████| 9/9 [00:26<00:00,  2.91s/it]\n"
     ]
    },
    {
     "name": "stdout",
     "output_type": "stream",
     "text": [
      "Epoch 19/20 — Train Loss: 1.4325 — Val Loss: 1.5157\n"
     ]
    },
    {
     "name": "stderr",
     "output_type": "stream",
     "text": [
      "Epoch 20/20 - Train: 100%|██████████| 27/27 [00:36<00:00,  1.35s/it]\n",
      "Epoch 20/20 - Validation: 100%|██████████| 9/9 [00:26<00:00,  2.92s/it]"
     ]
    },
    {
     "name": "stdout",
     "output_type": "stream",
     "text": [
      "Early stopping à l'epoch 20\n"
     ]
    },
    {
     "name": "stderr",
     "output_type": "stream",
     "text": [
      "\n"
     ]
    },
    {
     "name": "stdout",
     "output_type": "stream",
     "text": [
      "Fold 3 — ROC AUC: 0.924 — AP: 0.889\n",
      "              precision    recall  f1-score     support\n",
      "0              0.845361  0.921348  0.881720   89.000000\n",
      "1              0.837209  0.705882  0.765957   51.000000\n",
      "accuracy       0.842857  0.842857  0.842857    0.842857\n",
      "macro avg      0.841285  0.813615  0.823839  140.000000\n",
      "weighted avg   0.842391  0.842857  0.839550  140.000000\n",
      "\n",
      "=== Training fold 4 (3/3) ===\n",
      "=== Phase 1 : warm‑up de la tête seule (5 epochs) ===\n"
     ]
    },
    {
     "name": "stderr",
     "output_type": "stream",
     "text": [
      "Warmup Epoch 1/5 - Train: 100%|██████████| 27/27 [00:35<00:00,  1.30s/it]\n",
      "Warmup Epoch 1/5 - Val: 100%|██████████| 9/9 [00:26<00:00,  2.91s/it]\n"
     ]
    },
    {
     "name": "stdout",
     "output_type": "stream",
     "text": [
      "Warmup Epoch 1 — Train Loss: 3.8463 — Val Loss: 2.2671\n"
     ]
    },
    {
     "name": "stderr",
     "output_type": "stream",
     "text": [
      "Warmup Epoch 2/5 - Train: 100%|██████████| 27/27 [00:36<00:00,  1.34s/it]\n",
      "Warmup Epoch 2/5 - Val: 100%|██████████| 9/9 [00:26<00:00,  2.95s/it]\n"
     ]
    },
    {
     "name": "stdout",
     "output_type": "stream",
     "text": [
      "Warmup Epoch 2 — Train Loss: 2.3443 — Val Loss: 2.0547\n"
     ]
    },
    {
     "name": "stderr",
     "output_type": "stream",
     "text": [
      "Warmup Epoch 3/5 - Train: 100%|██████████| 27/27 [00:35<00:00,  1.30s/it]\n",
      "Warmup Epoch 3/5 - Val: 100%|██████████| 9/9 [00:26<00:00,  2.92s/it]\n"
     ]
    },
    {
     "name": "stdout",
     "output_type": "stream",
     "text": [
      "Warmup Epoch 3 — Train Loss: 2.0695 — Val Loss: 1.9985\n"
     ]
    },
    {
     "name": "stderr",
     "output_type": "stream",
     "text": [
      "Warmup Epoch 4/5 - Train: 100%|██████████| 27/27 [00:35<00:00,  1.31s/it]\n",
      "Warmup Epoch 4/5 - Val: 100%|██████████| 9/9 [00:26<00:00,  2.90s/it]\n"
     ]
    },
    {
     "name": "stdout",
     "output_type": "stream",
     "text": [
      "Warmup Epoch 4 — Train Loss: 1.9733 — Val Loss: 1.9176\n"
     ]
    },
    {
     "name": "stderr",
     "output_type": "stream",
     "text": [
      "Warmup Epoch 5/5 - Train: 100%|██████████| 27/27 [00:35<00:00,  1.30s/it]\n",
      "Warmup Epoch 5/5 - Val: 100%|██████████| 9/9 [00:26<00:00,  2.90s/it]\n"
     ]
    },
    {
     "name": "stdout",
     "output_type": "stream",
     "text": [
      "Warmup Epoch 5 — Train Loss: 1.8949 — Val Loss: 1.9416\n",
      "=== Phase 2 : fine‑tuning layer4 + tête (up to 20 epochs) ===\n"
     ]
    },
    {
     "name": "stderr",
     "output_type": "stream",
     "text": [
      "Epoch 6/20 - Train: 100%|██████████| 27/27 [00:37<00:00,  1.37s/it]\n",
      "Epoch 6/20 - Validation: 100%|██████████| 9/9 [00:26<00:00,  2.92s/it]\n"
     ]
    },
    {
     "name": "stdout",
     "output_type": "stream",
     "text": [
      "Epoch 6/20 — Train Loss: 1.8358 — Val Loss: 1.8689\n"
     ]
    },
    {
     "name": "stderr",
     "output_type": "stream",
     "text": [
      "Epoch 7/20 - Train: 100%|██████████| 27/27 [00:36<00:00,  1.37s/it]\n",
      "Epoch 7/20 - Validation: 100%|██████████| 9/9 [00:26<00:00,  2.91s/it]\n"
     ]
    },
    {
     "name": "stdout",
     "output_type": "stream",
     "text": [
      "Epoch 7/20 — Train Loss: 1.6784 — Val Loss: 1.8951\n"
     ]
    },
    {
     "name": "stderr",
     "output_type": "stream",
     "text": [
      "Epoch 8/20 - Train: 100%|██████████| 27/27 [00:37<00:00,  1.38s/it]\n",
      "Epoch 8/20 - Validation: 100%|██████████| 9/9 [00:26<00:00,  2.93s/it]\n"
     ]
    },
    {
     "name": "stdout",
     "output_type": "stream",
     "text": [
      "Epoch 8/20 — Train Loss: 1.6880 — Val Loss: 1.8884\n"
     ]
    },
    {
     "name": "stderr",
     "output_type": "stream",
     "text": [
      "Epoch 9/20 - Train: 100%|██████████| 27/27 [00:37<00:00,  1.38s/it]\n",
      "Epoch 9/20 - Validation: 100%|██████████| 9/9 [00:26<00:00,  2.94s/it]\n"
     ]
    },
    {
     "name": "stdout",
     "output_type": "stream",
     "text": [
      "Epoch 9/20 — Train Loss: 1.5741 — Val Loss: 1.8132\n"
     ]
    },
    {
     "name": "stderr",
     "output_type": "stream",
     "text": [
      "Epoch 10/20 - Train: 100%|██████████| 27/27 [00:37<00:00,  1.38s/it]\n",
      "Epoch 10/20 - Validation: 100%|██████████| 9/9 [00:26<00:00,  2.91s/it]\n"
     ]
    },
    {
     "name": "stdout",
     "output_type": "stream",
     "text": [
      "Epoch 10/20 — Train Loss: 1.5883 — Val Loss: 1.8088\n"
     ]
    },
    {
     "name": "stderr",
     "output_type": "stream",
     "text": [
      "Epoch 11/20 - Train: 100%|██████████| 27/27 [00:36<00:00,  1.37s/it]\n",
      "Epoch 11/20 - Validation: 100%|██████████| 9/9 [00:26<00:00,  2.91s/it]\n"
     ]
    },
    {
     "name": "stdout",
     "output_type": "stream",
     "text": [
      "Epoch 11/20 — Train Loss: 1.5318 — Val Loss: 1.8108\n"
     ]
    },
    {
     "name": "stderr",
     "output_type": "stream",
     "text": [
      "Epoch 12/20 - Train: 100%|██████████| 27/27 [00:36<00:00,  1.37s/it]\n",
      "Epoch 12/20 - Validation: 100%|██████████| 9/9 [00:26<00:00,  2.99s/it]\n"
     ]
    },
    {
     "name": "stdout",
     "output_type": "stream",
     "text": [
      "Epoch 12/20 — Train Loss: 1.5208 — Val Loss: 1.7867\n"
     ]
    },
    {
     "name": "stderr",
     "output_type": "stream",
     "text": [
      "Epoch 13/20 - Train: 100%|██████████| 27/27 [00:37<00:00,  1.38s/it]\n",
      "Epoch 13/20 - Validation: 100%|██████████| 9/9 [00:26<00:00,  2.92s/it]\n"
     ]
    },
    {
     "name": "stdout",
     "output_type": "stream",
     "text": [
      "Epoch 13/20 — Train Loss: 1.4848 — Val Loss: 1.7801\n"
     ]
    },
    {
     "name": "stderr",
     "output_type": "stream",
     "text": [
      "Epoch 14/20 - Train: 100%|██████████| 27/27 [00:37<00:00,  1.38s/it]\n",
      "Epoch 14/20 - Validation: 100%|██████████| 9/9 [00:26<00:00,  2.93s/it]\n"
     ]
    },
    {
     "name": "stdout",
     "output_type": "stream",
     "text": [
      "Epoch 14/20 — Train Loss: 1.5036 — Val Loss: 1.7605\n"
     ]
    },
    {
     "name": "stderr",
     "output_type": "stream",
     "text": [
      "Epoch 15/20 - Train: 100%|██████████| 27/27 [00:37<00:00,  1.39s/it]\n",
      "Epoch 15/20 - Validation: 100%|██████████| 9/9 [00:26<00:00,  2.92s/it]\n"
     ]
    },
    {
     "name": "stdout",
     "output_type": "stream",
     "text": [
      "Epoch 15/20 — Train Loss: 1.4779 — Val Loss: 1.7034\n"
     ]
    },
    {
     "name": "stderr",
     "output_type": "stream",
     "text": [
      "Epoch 16/20 - Train: 100%|██████████| 27/27 [00:37<00:00,  1.40s/it]\n",
      "Epoch 16/20 - Validation: 100%|██████████| 9/9 [00:26<00:00,  2.96s/it]\n"
     ]
    },
    {
     "name": "stdout",
     "output_type": "stream",
     "text": [
      "Epoch 16/20 — Train Loss: 1.4536 — Val Loss: 1.8137\n"
     ]
    },
    {
     "name": "stderr",
     "output_type": "stream",
     "text": [
      "Epoch 17/20 - Train: 100%|██████████| 27/27 [00:36<00:00,  1.37s/it]\n",
      "Epoch 17/20 - Validation: 100%|██████████| 9/9 [00:26<00:00,  2.92s/it]\n"
     ]
    },
    {
     "name": "stdout",
     "output_type": "stream",
     "text": [
      "Epoch 17/20 — Train Loss: 1.4780 — Val Loss: 1.7675\n"
     ]
    },
    {
     "name": "stderr",
     "output_type": "stream",
     "text": [
      "Epoch 18/20 - Train: 100%|██████████| 27/27 [00:38<00:00,  1.41s/it]\n",
      "Epoch 18/20 - Validation: 100%|██████████| 9/9 [00:26<00:00,  2.93s/it]"
     ]
    },
    {
     "name": "stdout",
     "output_type": "stream",
     "text": [
      "Early stopping à l'epoch 18\n"
     ]
    },
    {
     "name": "stderr",
     "output_type": "stream",
     "text": [
      "\n"
     ]
    },
    {
     "name": "stdout",
     "output_type": "stream",
     "text": [
      "Fold 4 — ROC AUC: 0.763 — AP: 0.755\n",
      "              precision    recall  f1-score     support\n",
      "0              0.706667  0.716216  0.711409   74.000000\n",
      "1              0.661290  0.650794  0.656000   63.000000\n",
      "accuracy       0.686131  0.686131  0.686131    0.686131\n",
      "macro avg      0.683978  0.683505  0.683705  137.000000\n",
      "weighted avg   0.685800  0.686131  0.685929  137.000000\n",
      "\n",
      "Moyenne ROC AUC: 0.593 ± 0.360\n",
      "Moyenne AP      : 0.696 ± 0.187\n"
     ]
    }
   ],
   "execution_count": 7
  },
  {
   "metadata": {},
   "cell_type": "markdown",
   "source": "## 5. Results Visualization",
   "id": "b6e4fc97766cc011"
  },
  {
   "metadata": {
    "ExecuteTime": {
     "end_time": "2025-07-24T21:20:27.502509Z",
     "start_time": "2025-07-24T21:20:27.445778Z"
    }
   },
   "cell_type": "code",
   "source": [
    "rows = []\n",
    "for r in results:\n",
    "    rep = r['report']\n",
    "    rows.append({\n",
    "        'fold':        r['fold'],\n",
    "        'roc_auc':     r['roc_auc'],\n",
    "        'avg_precision': r['average_precision'],\n",
    "        'accuracy':    rep['accuracy'],\n",
    "        'f1_class0':   rep['0']['f1-score'],\n",
    "        'f1_class1':   rep['1']['f1-score']\n",
    "    })\n",
    "df_metrics = pd.DataFrame(rows).set_index('fold')\n",
    "csv_path = os.path.join(FIG_OUT, f\"{run_id}_folds_metrics_report.csv\")\n",
    "df_metrics.to_csv(csv_path, index=True)\n",
    "print(\"=== Résumé des métriques par fold ===\")\n",
    "display(df_metrics)\n",
    "print(\"\\nMoyenne ± écart‑type :\")\n",
    "print(df_metrics.mean().to_frame('mean').join(df_metrics.std().to_frame('std')))\n"
   ],
   "id": "a0fe2c3cb6bfc141",
   "outputs": [
    {
     "name": "stdout",
     "output_type": "stream",
     "text": [
      "=== Résumé des métriques par fold ===\n"
     ]
    },
    {
     "data": {
      "text/plain": [
       "       roc_auc  avg_precision  accuracy  f1_class0  f1_class1\n",
       "fold                                                         \n",
       "1     0.091711       0.443437  0.222222   0.318584   0.094118\n",
       "3     0.923772       0.889114  0.842857   0.881720   0.765957\n",
       "4     0.762548       0.755466  0.686131   0.711409   0.656000"
      ],
      "text/html": [
       "<div>\n",
       "<style scoped>\n",
       "    .dataframe tbody tr th:only-of-type {\n",
       "        vertical-align: middle;\n",
       "    }\n",
       "\n",
       "    .dataframe tbody tr th {\n",
       "        vertical-align: top;\n",
       "    }\n",
       "\n",
       "    .dataframe thead th {\n",
       "        text-align: right;\n",
       "    }\n",
       "</style>\n",
       "<table border=\"1\" class=\"dataframe\">\n",
       "  <thead>\n",
       "    <tr style=\"text-align: right;\">\n",
       "      <th></th>\n",
       "      <th>roc_auc</th>\n",
       "      <th>avg_precision</th>\n",
       "      <th>accuracy</th>\n",
       "      <th>f1_class0</th>\n",
       "      <th>f1_class1</th>\n",
       "    </tr>\n",
       "    <tr>\n",
       "      <th>fold</th>\n",
       "      <th></th>\n",
       "      <th></th>\n",
       "      <th></th>\n",
       "      <th></th>\n",
       "      <th></th>\n",
       "    </tr>\n",
       "  </thead>\n",
       "  <tbody>\n",
       "    <tr>\n",
       "      <th>1</th>\n",
       "      <td>0.091711</td>\n",
       "      <td>0.443437</td>\n",
       "      <td>0.222222</td>\n",
       "      <td>0.318584</td>\n",
       "      <td>0.094118</td>\n",
       "    </tr>\n",
       "    <tr>\n",
       "      <th>3</th>\n",
       "      <td>0.923772</td>\n",
       "      <td>0.889114</td>\n",
       "      <td>0.842857</td>\n",
       "      <td>0.881720</td>\n",
       "      <td>0.765957</td>\n",
       "    </tr>\n",
       "    <tr>\n",
       "      <th>4</th>\n",
       "      <td>0.762548</td>\n",
       "      <td>0.755466</td>\n",
       "      <td>0.686131</td>\n",
       "      <td>0.711409</td>\n",
       "      <td>0.656000</td>\n",
       "    </tr>\n",
       "  </tbody>\n",
       "</table>\n",
       "</div>"
      ]
     },
     "metadata": {},
     "output_type": "display_data"
    },
    {
     "name": "stdout",
     "output_type": "stream",
     "text": [
      "\n",
      "Moyenne ± écart‑type :\n",
      "                   mean       std\n",
      "roc_auc        0.592677  0.441275\n",
      "avg_precision  0.696006  0.228711\n",
      "accuracy       0.583737  0.322739\n",
      "f1_class0      0.637238  0.288802\n",
      "f1_class1      0.505358  0.360364\n"
     ]
    }
   ],
   "execution_count": 8
  },
  {
   "metadata": {
    "ExecuteTime": {
     "end_time": "2025-07-24T21:20:36.187971Z",
     "start_time": "2025-07-24T21:20:35.634235Z"
    }
   },
   "cell_type": "code",
   "source": [
    "plt.figure()\n",
    "plt.boxplot([df_metrics['roc_auc'], df_metrics['avg_precision'], df_metrics['accuracy']],\n",
    "            tick_labels=['ROC AUC','AP','Accuracy'])\n",
    "plt.title(\"Distribution des métriques sur les folds\")\n",
    "plt.ylabel(\"Score\")\n",
    "plt.savefig(os.path.join(FIG_OUT, f\"{run_id}_folds_metrics.png\"), dpi=300)\n",
    "plt.show()\n"
   ],
   "id": "c1882dcaa2fbfd9",
   "outputs": [
    {
     "data": {
      "text/plain": [
       "<Figure size 640x480 with 1 Axes>"
      ],
      "image/png": "[encoded data removed]"
     },
     "metadata": {},
     "output_type": "display_data"
    }
   ],
   "execution_count": 9
  },
  {
   "metadata": {
    "ExecuteTime": {
     "end_time": "2025-07-24T21:20:38.343649Z",
     "start_time": "2025-07-24T21:20:38.187991Z"
    }
   },
   "cell_type": "code",
   "source": [
    "plt.figure()\n",
    "for r in results:\n",
    "    epochs = range(1, len(r['history']['val_loss'])+1)\n",
    "    plt.plot(epochs, r['history']['val_loss'], alpha=0.3, label=f\"Fold {r['fold']}\")\n",
    "# moyenne\n",
    "mean_val = pd.DataFrame([r['history']['val_loss'] for r in results]).mean()\n",
    "epochs = mean_val.index\n",
    "plt.plot(epochs, mean_val, color='black', linewidth=2, label='Moyenne')\n",
    "plt.xlabel(\"Epoch\")\n",
    "plt.ylabel(\"Validation Loss\")\n",
    "plt.title(\"Validation Loss par fold\")\n",
    "plt.legend()\n",
    "plt.savefig(os.path.join(FIG_OUT, f\"{run_id}_folds_loss.png\"), dpi=300)\n",
    "plt.show()\n"
   ],
   "id": "b2b71056346a5bf8",
   "outputs": [
    {
     "data": {
      "text/plain": [
       "<Figure size 640x480 with 1 Axes>"
      ],
      "image/png": "[encoded data removed]"
     },
     "metadata": {},
     "output_type": "display_data"
    }
   ],
   "execution_count": 10
  },
  {
   "metadata": {
    "ExecuteTime": {
     "end_time": "2025-07-24T21:20:48.277784Z",
     "start_time": "2025-07-24T21:20:48.137380Z"
    }
   },
   "cell_type": "code",
   "source": [
    "plt.figure()\n",
    "for r in results:\n",
    "    y_true = r['y_true']\n",
    "    y_prob = r['y_prob']\n",
    "    fpr, tpr, _ = roc_curve(y_true, y_prob)\n",
    "    plt.plot(fpr, tpr, alpha=0.3, label=f\"Fold {r['fold']}\")\n",
    "\n",
    "plt.plot([0,1],[0,1],'--', color='gray')\n",
    "plt.xlabel(\"False Positive Rate\")\n",
    "plt.ylabel(\"True Positive Rate\")\n",
    "plt.title(\"Courbes ROC par fold\")\n",
    "plt.legend()\n",
    "plt.savefig(os.path.join(FIG_OUT, f\"{run_id}_folds_roc.png\"), dpi=300)\n",
    "plt.show()\n"
   ],
   "id": "bb5b2fbe747ef81f",
   "outputs": [
    {
     "data": {
      "text/plain": [
       "<Figure size 640x480 with 1 Axes>"
      ],
      "image/png": "[encoded data removed]"
     },
     "metadata": {},
     "output_type": "display_data"
    }
   ],
   "execution_count": 11
  },
  {
   "metadata": {
    "ExecuteTime": {
     "end_time": "2025-07-24T21:20:51.798488Z",
     "start_time": "2025-07-24T21:20:51.694738Z"
    }
   },
   "cell_type": "code",
   "source": [
    "cm_sum = sum(r['confusion_matrix'] for r in results)\n",
    "plt.figure()\n",
    "sns.heatmap(cm_sum, annot=True, fmt='d', cmap='Blues')\n",
    "plt.xlabel(\"Prédit\")\n",
    "plt.ylabel(\"Réel\")\n",
    "plt.title(\"Matrice de confusion agrégée\")\n",
    "plt.savefig(os.path.join(FIG_OUT, f\"{run_id}_aggregate_confusion_matrix.png\"), dpi=300)\n",
    "plt.show()\n"
   ],
   "id": "91f67d915f228b48",
   "outputs": [
    {
     "data": {
      "text/plain": [
       "<Figure size 640x480 with 2 Axes>"
      ],
      "image/png": "[encoded data removed]"
     },
     "metadata": {},
     "output_type": "display_data"
    }
   ],
   "execution_count": 12
  },
  {
   "metadata": {},
   "cell_type": "markdown",
   "source": "## 6. Save Model & Config",
   "id": "68a3ec70b1182cd2"
  },
  {
   "metadata": {
    "ExecuteTime": {
     "end_time": "2025-07-24T21:20:55.214586Z",
     "start_time": "2025-07-24T21:20:55.134748Z"
    }
   },
   "cell_type": "code",
   "source": [
    "# Sauvegarde du modèle et de la config\n",
    "os.makedirs('../outputs/checkpoints/Switzerland/finetune_resnet18', exist_ok=True)\n",
    "torch.save(model.state_dict(),\n",
    "           f'../outputs/checkpoints/Switzerland/finetune_resnet18/{run_id}_model.pth')\n",
    "\n",
    "os.makedirs('../outputs/configs/Switzerland', exist_ok=True)\n",
    "with open(f'../outputs/configs/Switzerland/{run_id}_config_finetune_resnet18.yaml', 'w') as f:\n",
    "    yaml.dump(config, f)\n",
    "\n",
    "print('Entraînement terminé. Modèle et config enregistrés.')\n"
   ],
   "id": "d45cf438af27c948",
   "outputs": [
    {
     "name": "stdout",
     "output_type": "stream",
     "text": [
      "Entraînement terminé. Modèle et config enregistrés.\n"
     ]
    }
   ],
   "execution_count": 13
  }
 ],
 "metadata": {
  "kernelspec": {
   "display_name": "Python 3",
   "language": "python",
   "name": "python3"
  },
  "language_info": {
   "codemirror_mode": {
    "name": "ipython",
    "version": 2
   },
   "file_extension": ".py",
   "mimetype": "text/x-python",
   "name": "python",
   "nbconvert_exporter": "python",
   "pygments_lexer": "ipython2",
   "version": "2.7.6"
  }
 },
 "nbformat": 4,
 "nbformat_minor": 5
}

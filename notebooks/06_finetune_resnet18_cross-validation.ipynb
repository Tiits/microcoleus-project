{
 "cells": [
  {
   "metadata": {},
   "cell_type": "markdown",
   "source": "# Cyanobacteria Toxicity Classification Notebook with Cross-Validation",
   "id": "d7092d229b0b6984"
  },
  {
   "metadata": {},
   "cell_type": "markdown",
   "source": "## 1. Setup & Configuration",
   "id": "9cba75e6b5b629e1"
  },
  {
   "metadata": {
    "ExecuteTime": {
     "end_time": "2025-07-25T18:58:07.777963Z",
     "start_time": "2025-07-25T18:58:05.472331Z"
    }
   },
   "cell_type": "code",
   "source": [
    "import os\n",
    "from datetime import date\n",
    "import math\n",
    "import subprocess\n",
    "import yaml\n",
    "import pandas as pd\n",
    "import torch\n",
    "from torchvision.models import ResNet18_Weights\n",
    "import torchvision.transforms as transforms\n",
    "from torch.utils.data import DataLoader, Subset\n",
    "from torchvision import models, datasets\n",
    "import torch.nn as nn\n",
    "import torch.optim as optim\n",
    "import matplotlib.pyplot as plt\n",
    "import numpy as np\n",
    "import seaborn as sns\n",
    "from tqdm import tqdm\n",
    "from src.config_utils import load_config\n",
    "from torch.optim.lr_scheduler import OneCycleLR\n",
    "from PIL import Image\n",
    "import torch.nn.functional as F\n",
    "import copy\n",
    "from pytorch_grad_cam import GradCAM\n",
    "from pytorch_grad_cam.utils.image import show_cam_on_image\n",
    "import torchvision.transforms as T\n",
    "from sklearn.model_selection import StratifiedKFold\n",
    "from sklearn.model_selection import StratifiedGroupKFold\n",
    "from sklearn.metrics import (\n",
    "    confusion_matrix,\n",
    "    classification_report,\n",
    "    roc_auc_score,\n",
    "    precision_recall_curve,\n",
    "    average_precision_score,\n",
    "    roc_curve,\n",
    "    brier_score_loss\n",
    ")\n",
    "from sklearn.calibration import calibration_curve\n",
    "from pytorch_grad_cam.utils.model_targets import ClassifierOutputTarget\n",
    "\n",
    "# Chargement de la config\n",
    "config = load_config(path='../configs/config_finetune_resnet18.yaml')\n",
    "\n",
    "# Répertoires de sortie\n",
    "FIG_OUT = os.path.join('..', 'outputs', 'figures', 'Switzerland', 'finetune_resnet18')\n",
    "os.makedirs(FIG_OUT, exist_ok=True)\n",
    "\n",
    "# Génération du Run ID : date + commit Git\n",
    "today = date.today().isoformat()\n",
    "commit = subprocess.check_output([\"git\",\"rev-parse\",\"--short\",\"HEAD\"]).decode().strip()\n",
    "run_id = f\"{today}_{commit}\"\n",
    "\n",
    "print(\"Run ID :\", run_id)\n"
   ],
   "id": "ace0c9e57a273b18",
   "outputs": [
    {
     "name": "stdout",
     "output_type": "stream",
     "text": [
      "Run ID : 2025-07-25_f0d6835\n"
     ]
    }
   ],
   "execution_count": 1
  },
  {
   "metadata": {},
   "cell_type": "markdown",
   "source": "## 2. Data Preparation",
   "id": "d5d327eb54f1d3ed"
  },
  {
   "metadata": {
    "ExecuteTime": {
     "end_time": "2025-07-25T18:58:07.794416Z",
     "start_time": "2025-07-25T18:58:07.790206Z"
    }
   },
   "cell_type": "code",
   "source": [
    "# Transforms avec RandomErasing pour dropout spatial\n",
    "data_cfg = config['augmentation']\n",
    "\n",
    "train_transform = T.Compose([\n",
    "    # 1) Crop aléatoire + scale varié\n",
    "    T.RandomResizedCrop(size=tuple(data_cfg['resize']),\n",
    "                        scale=(0.8, 1.0)),\n",
    "    # 2) Flips horizontal + vertical\n",
    "    T.RandomHorizontalFlip(p=0.5 if data_cfg['horizontal_flip'] else 0.0),\n",
    "    T.RandomVerticalFlip(p=0.5 if data_cfg['vertical_flip'] else 0.0),\n",
    "    # 3) Rotation légère\n",
    "    T.RandomRotation(degrees=data_cfg['rotation']),\n",
    "    # 4) Variation colorimétrique\n",
    "    T.ColorJitter(brightness=data_cfg['color_jitter']['brightness'],\n",
    "                  contrast=  data_cfg['color_jitter']['contrast'],\n",
    "                  saturation=data_cfg['color_jitter']['saturation'],\n",
    "                  hue=       data_cfg['color_jitter']['hue']),\n",
    "    # 5) Passage en tenseur + normalisation\n",
    "    T.ToTensor(),\n",
    "    T.Normalize(mean=data_cfg['normalization']['mean'],\n",
    "                std= data_cfg['normalization']['std']),\n",
    "    # 6) Masquage partiel (Random Erasing)\n",
    "    T.RandomErasing(p=data_cfg['random_erasing']['p'],\n",
    "                    scale=tuple(data_cfg['random_erasing']['scale']),\n",
    "                    ratio=tuple(data_cfg['random_erasing']['ratio']))\n",
    "])\n",
    "\n",
    "val_transform = transforms.Compose([\n",
    "    transforms.Resize(tuple(data_cfg['resize'])),\n",
    "    transforms.ToTensor(),\n",
    "    transforms.Normalize(mean=data_cfg['normalization']['mean'],\n",
    "                         std=data_cfg['normalization']['std'])\n",
    "])\n"
   ],
   "id": "bdb6dbe3f690e20f",
   "outputs": [],
   "execution_count": 2
  },
  {
   "metadata": {
    "ExecuteTime": {
     "end_time": "2025-07-25T18:58:07.955338Z",
     "start_time": "2025-07-25T18:58:07.939911Z"
    }
   },
   "cell_type": "code",
   "source": [
    "# Chargement du dataset et Stratified K-Fold\n",
    "dataset = datasets.ImageFolder(\n",
    "    root=os.path.join('..', config['data']['path']),\n",
    "    transform=train_transform\n",
    ")\n",
    "targets = np.array(dataset.targets)\n",
    "\n",
    "\n",
    "paths = [path for path, _ in dataset.samples]\n",
    "groups = [os.path.basename(p).split('_')[0] for p in paths]\n",
    "\n",
    "df = pd.DataFrame({'target': targets, 'group': groups})\n",
    "groups_per_class = df.groupby('target')['group'].nunique().to_dict()\n",
    "n_souches_0 = groups_per_class.get(0, 0)\n",
    "n_souches_1 = groups_per_class.get(1, 0)\n",
    "print(f\"{n_souches_0} souches non‑toxiques, {n_souches_1} souches toxiques.\")\n",
    "\n",
    "n_splits = min(\n",
    "    df.groupby('target')['group'].nunique().min(),\n",
    "    5\n",
    ")\n",
    "\n",
    "print(f\"Utilisation de n_splits = {n_splits}\")\n",
    "\n",
    "sgkf = StratifiedGroupKFold(\n",
    "    n_splits=n_splits,\n",
    "    shuffle=True,\n",
    "    random_state=42\n",
    ")\n",
    "\n",
    "valid_folds = []\n",
    "for fold, (train_idx, val_idx) in enumerate(\n",
    "        sgkf.split(np.zeros(len(targets)), targets, groups)\n",
    "    ):\n",
    "    # on skippe les folds mono‑classe en validation\n",
    "    if len(np.unique(targets[val_idx])) < 2:\n",
    "        print(f\"Skip fold {fold+1} (mono‑classe en val)\")\n",
    "        continue\n",
    "    valid_folds.append((fold, train_idx, val_idx))\n",
    "\n",
    "print(f\"{len(valid_folds)} folds valides sur {n_splits}\")"
   ],
   "id": "89df698402e03a5a",
   "outputs": [
    {
     "name": "stdout",
     "output_type": "stream",
     "text": [
      "9 souches non‑toxiques, 8 souches toxiques.\n",
      "Utilisation de n_splits = 5\n",
      "Skip fold 2 (mono‑classe en val)\n",
      "Skip fold 5 (mono‑classe en val)\n",
      "3 folds valides sur 5\n"
     ]
    }
   ],
   "execution_count": 3
  },
  {
   "metadata": {},
   "cell_type": "markdown",
   "source": "## 3. Model Definition",
   "id": "1b6a6adc0f0fa5bf"
  },
  {
   "metadata": {
    "ExecuteTime": {
     "end_time": "2025-07-25T18:58:08.075293Z",
     "start_time": "2025-07-25T18:58:08.072823Z"
    }
   },
   "cell_type": "code",
   "source": [
    "# === EarlyStopping utility ===\n",
    "class EarlyStopping:\n",
    "    def __init__(self, patience=3, min_delta=1e-4):\n",
    "        self.patience = patience\n",
    "        self.min_delta = min_delta\n",
    "        self.best_loss = float('inf')\n",
    "        self.counter = 0\n",
    "\n",
    "    def __call__(self, val_loss):\n",
    "        if val_loss < self.best_loss - self.min_delta:\n",
    "            self.best_loss = val_loss\n",
    "            self.counter = 0\n",
    "            return False\n",
    "        else:\n",
    "            self.counter += 1\n",
    "            return self.counter >= self.patience\n"
   ],
   "id": "1b3e6cfd6d403e1d",
   "outputs": [],
   "execution_count": 4
  },
  {
   "metadata": {
    "ExecuteTime": {
     "end_time": "2025-07-25T18:58:08.314578Z",
     "start_time": "2025-07-25T18:58:08.126366Z"
    }
   },
   "cell_type": "code",
   "source": [
    "# Définition du modèle, critère et optimizer\n",
    "device = torch.device(config['training']['device'])\n",
    "model = models.resnet18(\n",
    "    weights=ResNet18_Weights.DEFAULT if config['model']['pretrained'] else None\n",
    ")\n",
    "\n",
    "# 1) Tout gèlé\n",
    "for param in model.parameters():\n",
    "    param.requires_grad = False\n",
    "\n",
    "# 2) Nouvelle tête (dropout léger)\n",
    "num_ftrs = model.fc.in_features\n",
    "model.fc = nn.Sequential(\n",
    "    nn.Dropout(p=0.3),\n",
    "    nn.Linear(num_ftrs, config['model']['num_classes'])\n",
    ")\n",
    "\n",
    "model = model.to(device)\n",
    "\n",
    "\n",
    "criterion = nn.CrossEntropyLoss(label_smoothing=0.1)"
   ],
   "id": "aff5dea657438f4a",
   "outputs": [],
   "execution_count": 5
  },
  {
   "metadata": {
    "ExecuteTime": {
     "end_time": "2025-07-25T18:58:08.344805Z",
     "start_time": "2025-07-25T18:58:08.333629Z"
    }
   },
   "cell_type": "code",
   "source": [
    "def train_and_eval_fold(fold, train_idx, val_idx):\n",
    "    # 1) Préparer DataLoaders avec train_idx / val_idx\n",
    "    train_subset = Subset(dataset, train_idx)\n",
    "    val_dataset_full = datasets.ImageFolder(\n",
    "        root=os.path.join('..', config['data']['path']),\n",
    "        transform=val_transform\n",
    "    )\n",
    "    val_subset = Subset(val_dataset_full, val_idx)\n",
    "\n",
    "    train_loader = DataLoader(\n",
    "        train_subset, batch_size=config['data']['batch_size'],\n",
    "        shuffle=True, num_workers=config['data']['num_workers']\n",
    "    )\n",
    "    val_loader   = DataLoader(\n",
    "        val_subset,   batch_size=config['data']['batch_size'],\n",
    "        shuffle=False, num_workers=config['data']['num_workers']\n",
    "    )\n",
    "\n",
    "    # 2) Réinitialiser le modèle\n",
    "    model = models.resnet18(\n",
    "        weights=ResNet18_Weights.DEFAULT if config['model']['pretrained'] else None\n",
    "    )\n",
    "\n",
    "    model = model.to(device)\n",
    "\n",
    "\n",
    "    # 3) Entraînement en Phase 1 & Phase 2\n",
    "    history = {'train_loss': [], 'val_loss': []}\n",
    "    num_epochs = config['training']['epochs']\n",
    "    warmup_epochs = 5\n",
    "\n",
    "    ### PHASE 1 : warm‑up de la tête seule ###\n",
    "    print(\"=== Phase 1 : warm‑up de la tête seule (5 epochs) ===\")\n",
    "\n",
    "    # 1) Geler tout sauf la tête\n",
    "    for name, param in model.named_parameters():\n",
    "        param.requires_grad = False\n",
    "    for param in model.fc.parameters():\n",
    "        param.requires_grad = True\n",
    "\n",
    "    # 2) Optimiseur & scheduler pour la tête\n",
    "    optimizer = optim.AdamW(\n",
    "        model.fc.parameters(),\n",
    "        lr=1e-3,  # LR plus élevé pour la tête\n",
    "        weight_decay=float(config['training']['weight_decay'])\n",
    "    )\n",
    "    scheduler = optim.lr_scheduler.ReduceLROnPlateau(\n",
    "        optimizer,\n",
    "        mode='min',\n",
    "        factor=0.5,\n",
    "        patience=3,\n",
    "        min_lr=1e-6,\n",
    "    )\n",
    "\n",
    "    # 3) Boucle warm‑up\n",
    "    for epoch in range(1, warmup_epochs+1):\n",
    "        # --- TRAIN ---\n",
    "        model.train()\n",
    "        running_loss = 0.0\n",
    "        for inputs, labels in tqdm(train_loader, desc=f\"Warmup Epoch {epoch}/{warmup_epochs} - Train\"):\n",
    "            inputs, labels = inputs.to(device), labels.to(device)\n",
    "            optimizer.zero_grad()\n",
    "            outputs = model(inputs)\n",
    "            loss = criterion(outputs, labels)\n",
    "            loss.backward()\n",
    "            optimizer.step()\n",
    "            running_loss += loss.item() * inputs.size(0)\n",
    "        train_loss = running_loss / len(train_loader.dataset)\n",
    "        history['train_loss'].append(train_loss)\n",
    "\n",
    "        # --- VAL ---\n",
    "        model.eval()\n",
    "        running_val = 0.0\n",
    "        with torch.no_grad():\n",
    "            for inputs, labels in tqdm(val_loader, desc=f\"Warmup Epoch {epoch}/{warmup_epochs} - Val\"):\n",
    "                inputs, labels = inputs.to(device), labels.to(device)\n",
    "                outputs = model(inputs)\n",
    "                loss = criterion(outputs, labels)\n",
    "                running_val += loss.item() * inputs.size(0)\n",
    "        val_loss = running_val / len(val_loader.dataset)\n",
    "        history['val_loss'].append(val_loss)\n",
    "\n",
    "        scheduler.step(val_loss)\n",
    "        print(f\"Warmup Epoch {epoch} — Train Loss: {train_loss:.4f} — Val Loss: {val_loss:.4f}\")\n",
    "\n",
    "    # --- PHASE 2 : fine‑tuning layer4 + tête + OneCycleLR + MixUp/CutMix ---\n",
    "    print(\"=== Phase 2 : fine‑tuning layer4 + tête (up to {} epochs) ===\".format(num_epochs))\n",
    "\n",
    "    # 1) Débloquer layer4 + tête\n",
    "    for name, param in model.named_parameters():\n",
    "        if name.startswith(\"layer4\") or name.startswith(\"fc\"):\n",
    "            param.requires_grad = True\n",
    "\n",
    "    # 2) Optimiseur à deux groupes\n",
    "    base_lr = float(config['training']['learning_rate'])\n",
    "    optimizer = torch.optim.AdamW([\n",
    "        {\"params\": model.layer4.parameters(), \"lr\": base_lr * 0.1},\n",
    "        {\"params\": model.fc.parameters(),    \"lr\": base_lr},\n",
    "    ], weight_decay=float(config['training']['weight_decay']))\n",
    "\n",
    "    # 3) OneCycleLR scheduler\n",
    "    steps_per_epoch = len(train_loader)\n",
    "    total_epochs = num_epochs - warmup_epochs\n",
    "    scheduler = OneCycleLR(\n",
    "        optimizer,\n",
    "        max_lr=base_lr,\n",
    "        epochs=total_epochs,\n",
    "        steps_per_epoch=steps_per_epoch,\n",
    "        pct_start=float(config['training']['pct_start']),\n",
    "        anneal_strategy='cos'\n",
    "    )\n",
    "\n",
    "    # 4) EarlyStopping inchangé\n",
    "    early_stopper = EarlyStopping(patience=3, min_delta=1e-4)\n",
    "\n",
    "    # 5) Paramètres MixUp/CutMix\n",
    "    mixup_alpha = float(config['training']['mixup_alpha'])\n",
    "    mixup_prob  = float(config['training']['mixup_prob'])\n",
    "    use_cutmix  = bool(config['training']['use_cutmix'])\n",
    "\n",
    "    # 6) Boucle fine‑tuning\n",
    "    for epoch in range(warmup_epochs+1, num_epochs+1):\n",
    "        model.train()\n",
    "        running_loss = 0.0\n",
    "        for inputs, labels in tqdm(train_loader, desc=f\"Epoch {epoch}/{num_epochs} - Train\"):\n",
    "            inputs, labels = inputs.to(device), labels.to(device)\n",
    "\n",
    "            # Décision unique de mix\n",
    "            do_mix = (np.random.rand() < mixup_prob)\n",
    "            if do_mix:\n",
    "                lam = np.random.beta(mixup_alpha, mixup_alpha)\n",
    "                idx = torch.randperm(inputs.size(0)).to(device)\n",
    "\n",
    "                if use_cutmix:\n",
    "                    # -- CutMix --\n",
    "                    W, H = inputs.size(3), inputs.size(2)\n",
    "                    cx = np.random.randint(W); cy = np.random.randint(H)\n",
    "                    w = int(W * np.sqrt(1-lam)); h = int(H * np.sqrt(1-lam))\n",
    "                    x0, x1 = max(cx-w//2,0), min(cx+w//2, W)\n",
    "                    y0, y1 = max(cy-h//2,0), min(cy+h//2, H)\n",
    "                    inputs[:, :, y0:y1, x0:x1] = inputs[idx, :, y0:y1, x0:x1]\n",
    "                else:\n",
    "                    # -- MixUp --\n",
    "                    inputs = lam * inputs + (1 - lam) * inputs[idx]\n",
    "\n",
    "            optimizer.zero_grad()\n",
    "            outputs = model(inputs)\n",
    "\n",
    "            # Loss cohérente avec le mix\n",
    "            if do_mix:\n",
    "                loss = lam * criterion(outputs, labels) \\\n",
    "                     + (1 - lam) * criterion(outputs, labels[idx])\n",
    "            else:\n",
    "                loss = criterion(outputs, labels)\n",
    "\n",
    "            loss.backward()\n",
    "            optimizer.step()\n",
    "            scheduler.step()\n",
    "            running_loss += loss.item() * inputs.size(0)\n",
    "\n",
    "\n",
    "        train_loss = running_loss / len(train_loader.dataset)\n",
    "        history['train_loss'].append(train_loss)\n",
    "\n",
    "        # — Validation (inchangé) —\n",
    "        model.eval()\n",
    "        running_val = 0.0\n",
    "        with torch.no_grad():\n",
    "            for inputs, labels in tqdm(val_loader, desc=f\"Epoch {epoch}/{num_epochs} - Validation\"):\n",
    "                inputs, labels = inputs.to(device), labels.to(device)\n",
    "                outputs = model(inputs)\n",
    "                running_val += criterion(outputs, labels).item() * inputs.size(0)\n",
    "        val_loss = running_val / len(val_loader.dataset)\n",
    "        history['val_loss'].append(val_loss)\n",
    "\n",
    "        if early_stopper(val_loss):\n",
    "            print(f\"Early stopping à l'epoch {epoch}\")\n",
    "            break\n",
    "\n",
    "        print(f\"Epoch {epoch}/{num_epochs} — Train Loss: {train_loss:.4f} — Val Loss: {val_loss:.4f}\")\n",
    "\n",
    "    # 4) Évaluation finale\n",
    "    model.eval()\n",
    "    y_true, y_pred, y_prob = [], [], []\n",
    "    with torch.no_grad():\n",
    "        for inputs, labels in val_loader:\n",
    "            inputs = inputs.to(device)\n",
    "            logits  = model(inputs)\n",
    "            probs   = torch.softmax(logits, dim=1)[:,1].cpu().numpy()\n",
    "            preds   = (probs >= 0.5).astype(int)  # ou votre seuil optimal\n",
    "            y_true.extend(labels.numpy())\n",
    "            y_pred.extend(preds)\n",
    "            y_prob.extend(probs)\n",
    "\n",
    "    # 5) Calcul des métriques\n",
    "    report = classification_report(\n",
    "        y_true, y_pred, labels=[0,1], output_dict=True, zero_division=0\n",
    "    )\n",
    "    cm = confusion_matrix(y_true, y_pred, labels=[0,1])\n",
    "    roc_auc = roc_auc_score(y_true, y_prob)\n",
    "    ap      = average_precision_score(y_true, y_prob)\n",
    "\n",
    "    precision, recall, thresholds = precision_recall_curve(y_true, y_prob)\n",
    "    f1_scores = 2 * precision * recall / (precision + recall + 1e-8)\n",
    "    best_idx = np.argmax(f1_scores)\n",
    "    best_threshold = thresholds[best_idx]\n",
    "\n",
    "    return {\n",
    "        'fold': fold+1,\n",
    "        'history': history,\n",
    "        'report': report,\n",
    "        'confusion_matrix': cm,\n",
    "        'roc_auc': roc_auc,\n",
    "        'average_precision': ap,\n",
    "        'y_true' : y_true,\n",
    "        'y_pred' : y_pred,\n",
    "        'y_prob' : y_prob,\n",
    "        'best_threshold': best_threshold,\n",
    "        'best_idx': best_idx\n",
    "    }"
   ],
   "id": "ed920137aaf20dca",
   "outputs": [],
   "execution_count": 6
  },
  {
   "metadata": {},
   "cell_type": "markdown",
   "source": "## 4. Training Loop",
   "id": "8b6635218ff58265"
  },
  {
   "metadata": {
    "ExecuteTime": {
     "end_time": "2025-07-25T19:46:02.381221Z",
     "start_time": "2025-07-25T18:58:08.370339Z"
    }
   },
   "cell_type": "code",
   "source": [
    "results = []\n",
    "for i, (fold, train_idx, val_idx) in enumerate(valid_folds):\n",
    "    print(f\"\\n=== Training fold {fold+1} ({i+1}/{len(valid_folds)}) ===\")\n",
    "    res = train_and_eval_fold(fold, train_idx, val_idx)\n",
    "    print(f\"Fold {res['fold']} — ROC AUC: {res['roc_auc']:.3f} — AP: {res['average_precision']:.3f}\")\n",
    "    print(pd.DataFrame(res['report']).T[['precision','recall','f1-score','support']])\n",
    "    results.append(res)\n",
    "    dir_path = f\"../outputs/checkpoints/Switzerland/finetune_resnet18/cross-validation/{run_id}\"\n",
    "    os.makedirs(dir_path, exist_ok=True)\n",
    "    model_path = os.path.join(dir_path, f\"model_fold{fold+1}.pth\")\n",
    "    torch.save(model.state_dict(), model_path)\n",
    "\n",
    "    print(f\"Seuil optimal (max F1) = {res['best_threshold']:.3f}\")\n",
    "\n",
    "# Moyennes et écart‑types\n",
    "roc_aucs = [r['roc_auc'] for r in results]\n",
    "aps      = [r['average_precision'] for r in results]\n",
    "print(f\"\\nMoyenne ROC AUC: {np.mean(roc_aucs):.3f} ± {np.std(roc_aucs):.3f}\")\n",
    "print(f\"Moyenne AP      : {np.mean(aps):.3f} ± {np.std(aps):.3f}\")\n"
   ],
   "id": "f72afe26305d3e12",
   "outputs": [
    {
     "name": "stdout",
     "output_type": "stream",
     "text": [
      "\n",
      "=== Training fold 1 (1/3) ===\n",
      "=== Phase 1 : warm‑up de la tête seule (5 epochs) ===\n"
     ]
    },
    {
     "name": "stderr",
     "output_type": "stream",
     "text": [
      "Warmup Epoch 1/5 - Train: 100%|██████████| 29/29 [00:37<00:00,  1.29s/it]\n",
      "Warmup Epoch 1/5 - Val: 100%|██████████| 7/7 [00:25<00:00,  3.64s/it]\n"
     ]
    },
    {
     "name": "stdout",
     "output_type": "stream",
     "text": [
      "Warmup Epoch 1 — Train Loss: 3.6833 — Val Loss: 2.8572\n"
     ]
    },
    {
     "name": "stderr",
     "output_type": "stream",
     "text": [
      "Warmup Epoch 2/5 - Train: 100%|██████████| 29/29 [00:36<00:00,  1.27s/it]\n",
      "Warmup Epoch 2/5 - Val: 100%|██████████| 7/7 [00:25<00:00,  3.64s/it]\n"
     ]
    },
    {
     "name": "stdout",
     "output_type": "stream",
     "text": [
      "Warmup Epoch 2 — Train Loss: 2.1692 — Val Loss: 2.7933\n"
     ]
    },
    {
     "name": "stderr",
     "output_type": "stream",
     "text": [
      "Warmup Epoch 3/5 - Train: 100%|██████████| 29/29 [00:36<00:00,  1.27s/it]\n",
      "Warmup Epoch 3/5 - Val: 100%|██████████| 7/7 [00:25<00:00,  3.61s/it]\n"
     ]
    },
    {
     "name": "stdout",
     "output_type": "stream",
     "text": [
      "Warmup Epoch 3 — Train Loss: 1.9385 — Val Loss: 2.9190\n"
     ]
    },
    {
     "name": "stderr",
     "output_type": "stream",
     "text": [
      "Warmup Epoch 4/5 - Train: 100%|██████████| 29/29 [00:36<00:00,  1.27s/it]\n",
      "Warmup Epoch 4/5 - Val: 100%|██████████| 7/7 [00:25<00:00,  3.61s/it]\n"
     ]
    },
    {
     "name": "stdout",
     "output_type": "stream",
     "text": [
      "Warmup Epoch 4 — Train Loss: 1.7556 — Val Loss: 3.0295\n"
     ]
    },
    {
     "name": "stderr",
     "output_type": "stream",
     "text": [
      "Warmup Epoch 5/5 - Train: 100%|██████████| 29/29 [00:36<00:00,  1.27s/it]\n",
      "Warmup Epoch 5/5 - Val: 100%|██████████| 7/7 [00:25<00:00,  3.61s/it]\n"
     ]
    },
    {
     "name": "stdout",
     "output_type": "stream",
     "text": [
      "Warmup Epoch 5 — Train Loss: 1.7209 — Val Loss: 3.1647\n",
      "=== Phase 2 : fine‑tuning layer4 + tête (up to 20 epochs) ===\n"
     ]
    },
    {
     "name": "stderr",
     "output_type": "stream",
     "text": [
      "Epoch 6/20 - Train: 100%|██████████| 29/29 [00:38<00:00,  1.34s/it]\n",
      "Epoch 6/20 - Validation: 100%|██████████| 7/7 [00:25<00:00,  3.61s/it]\n"
     ]
    },
    {
     "name": "stdout",
     "output_type": "stream",
     "text": [
      "Epoch 6/20 — Train Loss: 1.6857 — Val Loss: 3.3546\n"
     ]
    },
    {
     "name": "stderr",
     "output_type": "stream",
     "text": [
      "Epoch 7/20 - Train: 100%|██████████| 29/29 [00:39<00:00,  1.35s/it]\n",
      "Epoch 7/20 - Validation: 100%|██████████| 7/7 [00:25<00:00,  3.62s/it]\n"
     ]
    },
    {
     "name": "stdout",
     "output_type": "stream",
     "text": [
      "Epoch 7/20 — Train Loss: 1.6544 — Val Loss: 3.2898\n"
     ]
    },
    {
     "name": "stderr",
     "output_type": "stream",
     "text": [
      "Epoch 8/20 - Train: 100%|██████████| 29/29 [00:38<00:00,  1.34s/it]\n",
      "Epoch 8/20 - Validation: 100%|██████████| 7/7 [00:25<00:00,  3.60s/it]\n"
     ]
    },
    {
     "name": "stdout",
     "output_type": "stream",
     "text": [
      "Epoch 8/20 — Train Loss: 1.5113 — Val Loss: 2.8664\n"
     ]
    },
    {
     "name": "stderr",
     "output_type": "stream",
     "text": [
      "Epoch 9/20 - Train: 100%|██████████| 29/29 [00:39<00:00,  1.35s/it]\n",
      "Epoch 9/20 - Validation: 100%|██████████| 7/7 [00:25<00:00,  3.61s/it]\n"
     ]
    },
    {
     "name": "stdout",
     "output_type": "stream",
     "text": [
      "Epoch 9/20 — Train Loss: 1.4534 — Val Loss: 2.7936\n"
     ]
    },
    {
     "name": "stderr",
     "output_type": "stream",
     "text": [
      "Epoch 10/20 - Train: 100%|██████████| 29/29 [00:39<00:00,  1.34s/it]\n",
      "Epoch 10/20 - Validation: 100%|██████████| 7/7 [00:25<00:00,  3.61s/it]\n"
     ]
    },
    {
     "name": "stdout",
     "output_type": "stream",
     "text": [
      "Epoch 10/20 — Train Loss: 1.4644 — Val Loss: 3.1271\n"
     ]
    },
    {
     "name": "stderr",
     "output_type": "stream",
     "text": [
      "Epoch 11/20 - Train: 100%|██████████| 29/29 [00:39<00:00,  1.35s/it]\n",
      "Epoch 11/20 - Validation: 100%|██████████| 7/7 [00:25<00:00,  3.61s/it]\n"
     ]
    },
    {
     "name": "stdout",
     "output_type": "stream",
     "text": [
      "Epoch 11/20 — Train Loss: 1.4424 — Val Loss: 3.0660\n"
     ]
    },
    {
     "name": "stderr",
     "output_type": "stream",
     "text": [
      "Epoch 12/20 - Train: 100%|██████████| 29/29 [00:38<00:00,  1.33s/it]\n",
      "Epoch 12/20 - Validation: 100%|██████████| 7/7 [00:25<00:00,  3.61s/it]\n"
     ]
    },
    {
     "name": "stdout",
     "output_type": "stream",
     "text": [
      "Epoch 12/20 — Train Loss: 1.3837 — Val Loss: 2.7360\n"
     ]
    },
    {
     "name": "stderr",
     "output_type": "stream",
     "text": [
      "Epoch 13/20 - Train: 100%|██████████| 29/29 [00:39<00:00,  1.35s/it]\n",
      "Epoch 13/20 - Validation: 100%|██████████| 7/7 [00:25<00:00,  3.61s/it]\n"
     ]
    },
    {
     "name": "stdout",
     "output_type": "stream",
     "text": [
      "Epoch 13/20 — Train Loss: 1.3116 — Val Loss: 3.2632\n"
     ]
    },
    {
     "name": "stderr",
     "output_type": "stream",
     "text": [
      "Epoch 14/20 - Train: 100%|██████████| 29/29 [00:38<00:00,  1.34s/it]\n",
      "Epoch 14/20 - Validation: 100%|██████████| 7/7 [00:25<00:00,  3.61s/it]\n"
     ]
    },
    {
     "name": "stdout",
     "output_type": "stream",
     "text": [
      "Epoch 14/20 — Train Loss: 1.3656 — Val Loss: 2.7973\n"
     ]
    },
    {
     "name": "stderr",
     "output_type": "stream",
     "text": [
      "Epoch 15/20 - Train: 100%|██████████| 29/29 [00:38<00:00,  1.34s/it]\n",
      "Epoch 15/20 - Validation: 100%|██████████| 7/7 [00:25<00:00,  3.61s/it]"
     ]
    },
    {
     "name": "stdout",
     "output_type": "stream",
     "text": [
      "Early stopping à l'epoch 15\n"
     ]
    },
    {
     "name": "stderr",
     "output_type": "stream",
     "text": [
      "\n"
     ]
    },
    {
     "name": "stdout",
     "output_type": "stream",
     "text": [
      "Fold 1 — ROC AUC: 0.375 — AP: 0.600\n",
      "              precision    recall  f1-score    support\n",
      "0              0.348837  0.833333  0.491803  36.000000\n",
      "1              0.538462  0.111111  0.184211  63.000000\n",
      "accuracy       0.373737  0.373737  0.373737   0.373737\n",
      "macro avg      0.443649  0.472222  0.338007  99.000000\n",
      "weighted avg   0.469507  0.373737  0.296062  99.000000\n",
      "Seuil optimal (max F1) = 0.003\n",
      "\n",
      "=== Training fold 3 (2/3) ===\n",
      "=== Phase 1 : warm‑up de la tête seule (5 epochs) ===\n"
     ]
    },
    {
     "name": "stderr",
     "output_type": "stream",
     "text": [
      "Warmup Epoch 1/5 - Train: 100%|██████████| 27/27 [00:35<00:00,  1.32s/it]\n",
      "Warmup Epoch 1/5 - Val: 100%|██████████| 9/9 [00:26<00:00,  2.95s/it]\n"
     ]
    },
    {
     "name": "stdout",
     "output_type": "stream",
     "text": [
      "Warmup Epoch 1 — Train Loss: 3.8357 — Val Loss: 2.4330\n"
     ]
    },
    {
     "name": "stderr",
     "output_type": "stream",
     "text": [
      "Warmup Epoch 2/5 - Train: 100%|██████████| 27/27 [00:35<00:00,  1.32s/it]\n",
      "Warmup Epoch 2/5 - Val: 100%|██████████| 9/9 [00:26<00:00,  2.93s/it]\n"
     ]
    },
    {
     "name": "stdout",
     "output_type": "stream",
     "text": [
      "Warmup Epoch 2 — Train Loss: 2.2209 — Val Loss: 2.1576\n"
     ]
    },
    {
     "name": "stderr",
     "output_type": "stream",
     "text": [
      "Warmup Epoch 3/5 - Train: 100%|██████████| 27/27 [00:35<00:00,  1.32s/it]\n",
      "Warmup Epoch 3/5 - Val: 100%|██████████| 9/9 [00:26<00:00,  2.95s/it]\n"
     ]
    },
    {
     "name": "stdout",
     "output_type": "stream",
     "text": [
      "Warmup Epoch 3 — Train Loss: 2.0505 — Val Loss: 1.9986\n"
     ]
    },
    {
     "name": "stderr",
     "output_type": "stream",
     "text": [
      "Warmup Epoch 4/5 - Train: 100%|██████████| 27/27 [00:35<00:00,  1.32s/it]\n",
      "Warmup Epoch 4/5 - Val: 100%|██████████| 9/9 [00:26<00:00,  2.93s/it]\n"
     ]
    },
    {
     "name": "stdout",
     "output_type": "stream",
     "text": [
      "Warmup Epoch 4 — Train Loss: 1.9777 — Val Loss: 1.8801\n"
     ]
    },
    {
     "name": "stderr",
     "output_type": "stream",
     "text": [
      "Warmup Epoch 5/5 - Train: 100%|██████████| 27/27 [00:35<00:00,  1.32s/it]\n",
      "Warmup Epoch 5/5 - Val: 100%|██████████| 9/9 [00:26<00:00,  2.93s/it]\n"
     ]
    },
    {
     "name": "stdout",
     "output_type": "stream",
     "text": [
      "Warmup Epoch 5 — Train Loss: 1.9235 — Val Loss: 1.7969\n",
      "=== Phase 2 : fine‑tuning layer4 + tête (up to 20 epochs) ===\n"
     ]
    },
    {
     "name": "stderr",
     "output_type": "stream",
     "text": [
      "Epoch 6/20 - Train: 100%|██████████| 27/27 [00:37<00:00,  1.39s/it]\n",
      "Epoch 6/20 - Validation: 100%|██████████| 9/9 [00:26<00:00,  2.93s/it]\n"
     ]
    },
    {
     "name": "stdout",
     "output_type": "stream",
     "text": [
      "Epoch 6/20 — Train Loss: 1.9078 — Val Loss: 1.7845\n"
     ]
    },
    {
     "name": "stderr",
     "output_type": "stream",
     "text": [
      "Epoch 7/20 - Train: 100%|██████████| 27/27 [00:37<00:00,  1.38s/it]\n",
      "Epoch 7/20 - Validation: 100%|██████████| 9/9 [00:26<00:00,  2.93s/it]\n"
     ]
    },
    {
     "name": "stdout",
     "output_type": "stream",
     "text": [
      "Epoch 7/20 — Train Loss: 1.7936 — Val Loss: 1.6665\n"
     ]
    },
    {
     "name": "stderr",
     "output_type": "stream",
     "text": [
      "Epoch 8/20 - Train: 100%|██████████| 27/27 [00:37<00:00,  1.40s/it]\n",
      "Epoch 8/20 - Validation: 100%|██████████| 9/9 [00:26<00:00,  2.93s/it]\n"
     ]
    },
    {
     "name": "stdout",
     "output_type": "stream",
     "text": [
      "Epoch 8/20 — Train Loss: 1.6608 — Val Loss: 1.6663\n"
     ]
    },
    {
     "name": "stderr",
     "output_type": "stream",
     "text": [
      "Epoch 9/20 - Train: 100%|██████████| 27/27 [00:37<00:00,  1.39s/it]\n",
      "Epoch 9/20 - Validation: 100%|██████████| 9/9 [00:26<00:00,  2.93s/it]\n"
     ]
    },
    {
     "name": "stdout",
     "output_type": "stream",
     "text": [
      "Epoch 9/20 — Train Loss: 1.5959 — Val Loss: 1.6505\n"
     ]
    },
    {
     "name": "stderr",
     "output_type": "stream",
     "text": [
      "Epoch 10/20 - Train: 100%|██████████| 27/27 [00:37<00:00,  1.40s/it]\n",
      "Epoch 10/20 - Validation: 100%|██████████| 9/9 [00:26<00:00,  2.93s/it]\n"
     ]
    },
    {
     "name": "stdout",
     "output_type": "stream",
     "text": [
      "Epoch 10/20 — Train Loss: 1.5238 — Val Loss: 1.5545\n"
     ]
    },
    {
     "name": "stderr",
     "output_type": "stream",
     "text": [
      "Epoch 11/20 - Train: 100%|██████████| 27/27 [00:37<00:00,  1.39s/it]\n",
      "Epoch 11/20 - Validation: 100%|██████████| 9/9 [00:26<00:00,  2.93s/it]\n"
     ]
    },
    {
     "name": "stdout",
     "output_type": "stream",
     "text": [
      "Epoch 11/20 — Train Loss: 1.5092 — Val Loss: 1.5478\n"
     ]
    },
    {
     "name": "stderr",
     "output_type": "stream",
     "text": [
      "Epoch 12/20 - Train: 100%|██████████| 27/27 [00:37<00:00,  1.40s/it]\n",
      "Epoch 12/20 - Validation: 100%|██████████| 9/9 [00:26<00:00,  2.93s/it]\n"
     ]
    },
    {
     "name": "stdout",
     "output_type": "stream",
     "text": [
      "Epoch 12/20 — Train Loss: 1.5133 — Val Loss: 1.5463\n"
     ]
    },
    {
     "name": "stderr",
     "output_type": "stream",
     "text": [
      "Epoch 13/20 - Train: 100%|██████████| 27/27 [00:37<00:00,  1.38s/it]\n",
      "Epoch 13/20 - Validation: 100%|██████████| 9/9 [00:26<00:00,  2.92s/it]\n"
     ]
    },
    {
     "name": "stdout",
     "output_type": "stream",
     "text": [
      "Epoch 13/20 — Train Loss: 1.4417 — Val Loss: 1.5915\n"
     ]
    },
    {
     "name": "stderr",
     "output_type": "stream",
     "text": [
      "Epoch 14/20 - Train: 100%|██████████| 27/27 [00:37<00:00,  1.39s/it]\n",
      "Epoch 14/20 - Validation: 100%|██████████| 9/9 [00:26<00:00,  2.93s/it]\n"
     ]
    },
    {
     "name": "stdout",
     "output_type": "stream",
     "text": [
      "Epoch 14/20 — Train Loss: 1.4258 — Val Loss: 1.5019\n"
     ]
    },
    {
     "name": "stderr",
     "output_type": "stream",
     "text": [
      "Epoch 15/20 - Train: 100%|██████████| 27/27 [00:37<00:00,  1.39s/it]\n",
      "Epoch 15/20 - Validation: 100%|██████████| 9/9 [00:26<00:00,  2.95s/it]\n"
     ]
    },
    {
     "name": "stdout",
     "output_type": "stream",
     "text": [
      "Epoch 15/20 — Train Loss: 1.3954 — Val Loss: 1.4949\n"
     ]
    },
    {
     "name": "stderr",
     "output_type": "stream",
     "text": [
      "Epoch 16/20 - Train: 100%|██████████| 27/27 [00:37<00:00,  1.39s/it]\n",
      "Epoch 16/20 - Validation: 100%|██████████| 9/9 [00:26<00:00,  2.93s/it]\n"
     ]
    },
    {
     "name": "stdout",
     "output_type": "stream",
     "text": [
      "Epoch 16/20 — Train Loss: 1.3898 — Val Loss: 1.4920\n"
     ]
    },
    {
     "name": "stderr",
     "output_type": "stream",
     "text": [
      "Epoch 17/20 - Train: 100%|██████████| 27/27 [00:37<00:00,  1.39s/it]\n",
      "Epoch 17/20 - Validation: 100%|██████████| 9/9 [00:26<00:00,  2.93s/it]\n"
     ]
    },
    {
     "name": "stdout",
     "output_type": "stream",
     "text": [
      "Epoch 17/20 — Train Loss: 1.4202 — Val Loss: 1.4955\n"
     ]
    },
    {
     "name": "stderr",
     "output_type": "stream",
     "text": [
      "Epoch 18/20 - Train: 100%|██████████| 27/27 [00:37<00:00,  1.39s/it]\n",
      "Epoch 18/20 - Validation: 100%|██████████| 9/9 [00:26<00:00,  2.97s/it]\n"
     ]
    },
    {
     "name": "stdout",
     "output_type": "stream",
     "text": [
      "Epoch 18/20 — Train Loss: 1.3826 — Val Loss: 1.4742\n"
     ]
    },
    {
     "name": "stderr",
     "output_type": "stream",
     "text": [
      "Epoch 19/20 - Train: 100%|██████████| 27/27 [00:38<00:00,  1.42s/it]\n",
      "Epoch 19/20 - Validation: 100%|██████████| 9/9 [00:26<00:00,  2.93s/it]\n"
     ]
    },
    {
     "name": "stdout",
     "output_type": "stream",
     "text": [
      "Epoch 19/20 — Train Loss: 1.3376 — Val Loss: 1.4779\n"
     ]
    },
    {
     "name": "stderr",
     "output_type": "stream",
     "text": [
      "Epoch 20/20 - Train: 100%|██████████| 27/27 [00:38<00:00,  1.42s/it]\n",
      "Epoch 20/20 - Validation: 100%|██████████| 9/9 [00:26<00:00,  2.95s/it]"
     ]
    },
    {
     "name": "stdout",
     "output_type": "stream",
     "text": [
      "Epoch 20/20 — Train Loss: 1.3572 — Val Loss: 1.4945\n"
     ]
    },
    {
     "name": "stderr",
     "output_type": "stream",
     "text": [
      "\n"
     ]
    },
    {
     "name": "stdout",
     "output_type": "stream",
     "text": [
      "Fold 3 — ROC AUC: 0.911 — AP: 0.826\n",
      "              precision    recall  f1-score     support\n",
      "0              0.868132  0.887640  0.877778   89.000000\n",
      "1              0.795918  0.764706  0.780000   51.000000\n",
      "accuracy       0.842857  0.842857  0.842857    0.842857\n",
      "macro avg      0.832025  0.826173  0.828889  140.000000\n",
      "weighted avg   0.841826  0.842857  0.842159  140.000000\n",
      "Seuil optimal (max F1) = 0.401\n",
      "\n",
      "=== Training fold 4 (3/3) ===\n",
      "=== Phase 1 : warm‑up de la tête seule (5 epochs) ===\n"
     ]
    },
    {
     "name": "stderr",
     "output_type": "stream",
     "text": [
      "Warmup Epoch 1/5 - Train: 100%|██████████| 27/27 [00:36<00:00,  1.35s/it]\n",
      "Warmup Epoch 1/5 - Val: 100%|██████████| 9/9 [00:26<00:00,  2.95s/it]\n"
     ]
    },
    {
     "name": "stdout",
     "output_type": "stream",
     "text": [
      "Warmup Epoch 1 — Train Loss: 3.8854 — Val Loss: 2.2519\n"
     ]
    },
    {
     "name": "stderr",
     "output_type": "stream",
     "text": [
      "Warmup Epoch 2/5 - Train: 100%|██████████| 27/27 [00:36<00:00,  1.35s/it]\n",
      "Warmup Epoch 2/5 - Val: 100%|██████████| 9/9 [00:26<00:00,  2.95s/it]\n"
     ]
    },
    {
     "name": "stdout",
     "output_type": "stream",
     "text": [
      "Warmup Epoch 2 — Train Loss: 2.3094 — Val Loss: 2.0792\n"
     ]
    },
    {
     "name": "stderr",
     "output_type": "stream",
     "text": [
      "Warmup Epoch 3/5 - Train: 100%|██████████| 27/27 [00:36<00:00,  1.35s/it]\n",
      "Warmup Epoch 3/5 - Val: 100%|██████████| 9/9 [00:26<00:00,  2.93s/it]\n"
     ]
    },
    {
     "name": "stdout",
     "output_type": "stream",
     "text": [
      "Warmup Epoch 3 — Train Loss: 2.0885 — Val Loss: 2.0143\n"
     ]
    },
    {
     "name": "stderr",
     "output_type": "stream",
     "text": [
      "Warmup Epoch 4/5 - Train: 100%|██████████| 27/27 [00:36<00:00,  1.34s/it]\n",
      "Warmup Epoch 4/5 - Val: 100%|██████████| 9/9 [00:26<00:00,  2.95s/it]\n"
     ]
    },
    {
     "name": "stdout",
     "output_type": "stream",
     "text": [
      "Warmup Epoch 4 — Train Loss: 1.9852 — Val Loss: 1.9131\n"
     ]
    },
    {
     "name": "stderr",
     "output_type": "stream",
     "text": [
      "Warmup Epoch 5/5 - Train: 100%|██████████| 27/27 [00:35<00:00,  1.33s/it]\n",
      "Warmup Epoch 5/5 - Val: 100%|██████████| 9/9 [00:26<00:00,  2.92s/it]\n"
     ]
    },
    {
     "name": "stdout",
     "output_type": "stream",
     "text": [
      "Warmup Epoch 5 — Train Loss: 1.8852 — Val Loss: 1.8993\n",
      "=== Phase 2 : fine‑tuning layer4 + tête (up to 20 epochs) ===\n"
     ]
    },
    {
     "name": "stderr",
     "output_type": "stream",
     "text": [
      "Epoch 6/20 - Train: 100%|██████████| 27/27 [00:37<00:00,  1.40s/it]\n",
      "Epoch 6/20 - Validation: 100%|██████████| 9/9 [00:26<00:00,  2.95s/it]\n"
     ]
    },
    {
     "name": "stdout",
     "output_type": "stream",
     "text": [
      "Epoch 6/20 — Train Loss: 1.8833 — Val Loss: 1.8443\n"
     ]
    },
    {
     "name": "stderr",
     "output_type": "stream",
     "text": [
      "Epoch 7/20 - Train: 100%|██████████| 27/27 [00:37<00:00,  1.40s/it]\n",
      "Epoch 7/20 - Validation: 100%|██████████| 9/9 [00:26<00:00,  2.93s/it]\n"
     ]
    },
    {
     "name": "stdout",
     "output_type": "stream",
     "text": [
      "Epoch 7/20 — Train Loss: 1.8099 — Val Loss: 1.8666\n"
     ]
    },
    {
     "name": "stderr",
     "output_type": "stream",
     "text": [
      "Epoch 8/20 - Train: 100%|██████████| 27/27 [00:38<00:00,  1.41s/it]\n",
      "Epoch 8/20 - Validation: 100%|██████████| 9/9 [00:26<00:00,  2.93s/it]\n"
     ]
    },
    {
     "name": "stdout",
     "output_type": "stream",
     "text": [
      "Epoch 8/20 — Train Loss: 1.5863 — Val Loss: 1.9640\n"
     ]
    },
    {
     "name": "stderr",
     "output_type": "stream",
     "text": [
      "Epoch 9/20 - Train: 100%|██████████| 27/27 [00:37<00:00,  1.41s/it]\n",
      "Epoch 9/20 - Validation: 100%|██████████| 9/9 [00:26<00:00,  2.94s/it]"
     ]
    },
    {
     "name": "stdout",
     "output_type": "stream",
     "text": [
      "Early stopping à l'epoch 9\n"
     ]
    },
    {
     "name": "stderr",
     "output_type": "stream",
     "text": [
      "\n"
     ]
    },
    {
     "name": "stdout",
     "output_type": "stream",
     "text": [
      "Fold 4 — ROC AUC: 0.713 — AP: 0.690\n",
      "              precision    recall  f1-score     support\n",
      "0              0.756098  0.418919  0.539130   74.000000\n",
      "1              0.552083  0.841270  0.666667   63.000000\n",
      "accuracy       0.613139  0.613139  0.613139    0.613139\n",
      "macro avg      0.654090  0.630094  0.602899  137.000000\n",
      "weighted avg   0.662281  0.613139  0.597778  137.000000\n",
      "Seuil optimal (max F1) = 0.550\n",
      "\n",
      "Moyenne ROC AUC: 0.666 ± 0.221\n",
      "Moyenne AP      : 0.705 ± 0.093\n"
     ]
    }
   ],
   "execution_count": 7
  },
  {
   "metadata": {},
   "cell_type": "markdown",
   "source": "## 5. Results Visualization",
   "id": "b6e4fc97766cc011"
  },
  {
   "metadata": {
    "ExecuteTime": {
     "end_time": "2025-07-25T19:46:02.516541Z",
     "start_time": "2025-07-25T19:46:02.477714Z"
    }
   },
   "cell_type": "code",
   "source": [
    "rows = []\n",
    "for r in results:\n",
    "    rep = r['report']\n",
    "    rows.append({\n",
    "        'fold':        r['fold'],\n",
    "        'roc_auc':     r['roc_auc'],\n",
    "        'avg_precision': r['average_precision'],\n",
    "        'accuracy':    rep['accuracy'],\n",
    "        'f1_class0':   rep['0']['f1-score'],\n",
    "        'f1_class1':   rep['1']['f1-score']\n",
    "    })\n",
    "df_metrics = pd.DataFrame(rows).set_index('fold')\n",
    "csv_path = os.path.join(FIG_OUT, f\"{run_id}_folds_metrics_report.csv\")\n",
    "df_metrics.to_csv(csv_path, index=True)\n",
    "print(\"=== Résumé des métriques par fold ===\")\n",
    "display(df_metrics)\n",
    "print(\"\\nMoyenne ± écart‑type :\")\n",
    "print(df_metrics.mean().to_frame('mean').join(df_metrics.std().to_frame('std')))\n"
   ],
   "id": "a0fe2c3cb6bfc141",
   "outputs": [
    {
     "name": "stdout",
     "output_type": "stream",
     "text": [
      "=== Résumé des métriques par fold ===\n"
     ]
    },
    {
     "data": {
      "text/plain": [
       "       roc_auc  avg_precision  accuracy  f1_class0  f1_class1\n",
       "fold                                                         \n",
       "1     0.375220       0.600089  0.373737   0.491803   0.184211\n",
       "3     0.910773       0.826162  0.842857   0.877778   0.780000\n",
       "4     0.712570       0.689609  0.613139   0.539130   0.666667"
      ],
      "text/html": [
       "<div>\n",
       "<style scoped>\n",
       "    .dataframe tbody tr th:only-of-type {\n",
       "        vertical-align: middle;\n",
       "    }\n",
       "\n",
       "    .dataframe tbody tr th {\n",
       "        vertical-align: top;\n",
       "    }\n",
       "\n",
       "    .dataframe thead th {\n",
       "        text-align: right;\n",
       "    }\n",
       "</style>\n",
       "<table border=\"1\" class=\"dataframe\">\n",
       "  <thead>\n",
       "    <tr style=\"text-align: right;\">\n",
       "      <th></th>\n",
       "      <th>roc_auc</th>\n",
       "      <th>avg_precision</th>\n",
       "      <th>accuracy</th>\n",
       "      <th>f1_class0</th>\n",
       "      <th>f1_class1</th>\n",
       "    </tr>\n",
       "    <tr>\n",
       "      <th>fold</th>\n",
       "      <th></th>\n",
       "      <th></th>\n",
       "      <th></th>\n",
       "      <th></th>\n",
       "      <th></th>\n",
       "    </tr>\n",
       "  </thead>\n",
       "  <tbody>\n",
       "    <tr>\n",
       "      <th>1</th>\n",
       "      <td>0.375220</td>\n",
       "      <td>0.600089</td>\n",
       "      <td>0.373737</td>\n",
       "      <td>0.491803</td>\n",
       "      <td>0.184211</td>\n",
       "    </tr>\n",
       "    <tr>\n",
       "      <th>3</th>\n",
       "      <td>0.910773</td>\n",
       "      <td>0.826162</td>\n",
       "      <td>0.842857</td>\n",
       "      <td>0.877778</td>\n",
       "      <td>0.780000</td>\n",
       "    </tr>\n",
       "    <tr>\n",
       "      <th>4</th>\n",
       "      <td>0.712570</td>\n",
       "      <td>0.689609</td>\n",
       "      <td>0.613139</td>\n",
       "      <td>0.539130</td>\n",
       "      <td>0.666667</td>\n",
       "    </tr>\n",
       "  </tbody>\n",
       "</table>\n",
       "</div>"
      ]
     },
     "metadata": {},
     "output_type": "display_data"
    },
    {
     "name": "stdout",
     "output_type": "stream",
     "text": [
      "\n",
      "Moyenne ± écart‑type :\n",
      "                   mean       std\n",
      "roc_auc        0.666188  0.270772\n",
      "avg_precision  0.705287  0.113849\n",
      "accuracy       0.609911  0.234577\n",
      "f1_class0      0.636237  0.210515\n",
      "f1_class1      0.543626  0.316379\n"
     ]
    }
   ],
   "execution_count": 8
  },
  {
   "metadata": {
    "ExecuteTime": {
     "end_time": "2025-07-25T19:46:03.117832Z",
     "start_time": "2025-07-25T19:46:02.644079Z"
    }
   },
   "cell_type": "code",
   "source": [
    "plt.figure()\n",
    "plt.boxplot([df_metrics['roc_auc'], df_metrics['avg_precision'], df_metrics['accuracy']],\n",
    "            tick_labels=['ROC AUC','AP','Accuracy'])\n",
    "plt.title(\"Distribution des métriques sur les folds\")\n",
    "plt.ylabel(\"Score\")\n",
    "plt.savefig(os.path.join(FIG_OUT, f\"{run_id}_folds_metrics.png\"), dpi=300)\n",
    "plt.show()\n"
   ],
   "id": "c1882dcaa2fbfd9",
   "outputs": [
    {
     "data": {
      "text/plain": [
       "<Figure size 640x480 with 1 Axes>"
      ],
      "image/png": "[encoded data removed]"
     },
     "metadata": {},
     "output_type": "display_data"
    }
   ],
   "execution_count": 9
  },
  {
   "metadata": {
    "ExecuteTime": {
     "end_time": "2025-07-25T19:46:03.291648Z",
     "start_time": "2025-07-25T19:46:03.134676Z"
    }
   },
   "cell_type": "code",
   "source": [
    "plt.figure()\n",
    "for r in results:\n",
    "    epochs = range(1, len(r['history']['val_loss'])+1)\n",
    "    plt.plot(epochs, r['history']['val_loss'], alpha=0.3, label=f\"Fold {r['fold']}\")\n",
    "# moyenne\n",
    "mean_val = pd.DataFrame([r['history']['val_loss'] for r in results]).mean()\n",
    "epochs = mean_val.index\n",
    "plt.plot(epochs, mean_val, color='black', linewidth=2, label='Moyenne')\n",
    "plt.xlabel(\"Epoch\")\n",
    "plt.ylabel(\"Validation Loss\")\n",
    "plt.title(\"Validation Loss par fold\")\n",
    "plt.legend()\n",
    "plt.savefig(os.path.join(FIG_OUT, f\"{run_id}_folds_loss.png\"), dpi=300)\n",
    "plt.show()\n"
   ],
   "id": "b2b71056346a5bf8",
   "outputs": [
    {
     "data": {
      "text/plain": [
       "<Figure size 640x480 with 1 Axes>"
      ],
      "image/png": "[encoded data removed]"
     },
     "metadata": {},
     "output_type": "display_data"
    }
   ],
   "execution_count": 10
  },
  {
   "metadata": {
    "ExecuteTime": {
     "end_time": "2025-07-25T19:46:03.446923Z",
     "start_time": "2025-07-25T19:46:03.312149Z"
    }
   },
   "cell_type": "code",
   "source": [
    "plt.figure()\n",
    "for r in results:\n",
    "    y_true = r['y_true']\n",
    "    y_prob = r['y_prob']\n",
    "    fpr, tpr, _ = roc_curve(y_true, y_prob)\n",
    "    plt.plot(fpr, tpr, alpha=0.3, label=f\"Fold {r['fold']}\")\n",
    "\n",
    "plt.plot([0,1],[0,1],'--', color='gray')\n",
    "plt.xlabel(\"False Positive Rate\")\n",
    "plt.ylabel(\"True Positive Rate\")\n",
    "plt.title(\"Courbes ROC par fold\")\n",
    "plt.legend()\n",
    "plt.savefig(os.path.join(FIG_OUT, f\"{run_id}_folds_roc.png\"), dpi=300)\n",
    "plt.show()\n"
   ],
   "id": "bb5b2fbe747ef81f",
   "outputs": [
    {
     "data": {
      "text/plain": [
       "<Figure size 640x480 with 1 Axes>"
      ],
      "image/png": "[encoded data removed]"
     },
     "metadata": {},
     "output_type": "display_data"
    }
   ],
   "execution_count": 11
  },
  {
   "metadata": {
    "ExecuteTime": {
     "end_time": "2025-07-25T19:46:03.579113Z",
     "start_time": "2025-07-25T19:46:03.464179Z"
    }
   },
   "cell_type": "code",
   "source": [
    "cm_sum = sum(r['confusion_matrix'] for r in results)\n",
    "plt.figure()\n",
    "sns.heatmap(cm_sum, annot=True, fmt='d', cmap='Blues')\n",
    "plt.xlabel(\"Prédit\")\n",
    "plt.ylabel(\"Réel\")\n",
    "plt.title(\"Matrice de confusion agrégée\")\n",
    "plt.savefig(os.path.join(FIG_OUT, f\"{run_id}_aggregate_confusion_matrix.png\"), dpi=300)\n",
    "plt.show()\n"
   ],
   "id": "91f67d915f228b48",
   "outputs": [
    {
     "data": {
      "text/plain": [
       "<Figure size 640x480 with 2 Axes>"
      ],
      "image/png": "[encoded data removed]"
     },
     "metadata": {},
     "output_type": "display_data"
    }
   ],
   "execution_count": 12
  },
  {
   "metadata": {},
   "cell_type": "markdown",
   "source": "## 6. Save Model & Config",
   "id": "68a3ec70b1182cd2"
  },
  {
   "metadata": {
    "ExecuteTime": {
     "end_time": "2025-07-25T19:46:03.675936Z",
     "start_time": "2025-07-25T19:46:03.601071Z"
    }
   },
   "cell_type": "code",
   "source": [
    "# Sauvegarde du modèle et de la config\n",
    "os.makedirs('../outputs/checkpoints/Switzerland/finetune_resnet18', exist_ok=True)\n",
    "torch.save(model.state_dict(),\n",
    "           f'../outputs/checkpoints/Switzerland/finetune_resnet18/{run_id}_model.pth')\n",
    "\n",
    "os.makedirs('../outputs/configs/Switzerland', exist_ok=True)\n",
    "with open(f'../outputs/configs/Switzerland/{run_id}_config_finetune_resnet18.yaml', 'w') as f:\n",
    "    yaml.dump(config, f)\n",
    "\n",
    "print('Entraînement terminé. Modèle et config enregistrés.')\n"
   ],
   "id": "d45cf438af27c948",
   "outputs": [
    {
     "name": "stdout",
     "output_type": "stream",
     "text": [
      "Entraînement terminé. Modèle et config enregistrés.\n"
     ]
    }
   ],
   "execution_count": 13
  }
 ],
 "metadata": {
  "kernelspec": {
   "display_name": "Python 3",
   "language": "python",
   "name": "python3"
  },
  "language_info": {
   "codemirror_mode": {
    "name": "ipython",
    "version": 2
   },
   "file_extension": ".py",
   "mimetype": "text/x-python",
   "name": "python",
   "nbconvert_exporter": "python",
   "pygments_lexer": "ipython2",
   "version": "2.7.6"
  }
 },
 "nbformat": 4,
 "nbformat_minor": 5
}

{
 "cells": [
  {
   "metadata": {},
   "cell_type": "markdown",
   "source": "# Cyanobacteria Toxicity Classification Notebook with Cross-Validation",
   "id": "d7092d229b0b6984"
  },
  {
   "metadata": {},
   "cell_type": "markdown",
   "source": "## 1. Setup & Configuration",
   "id": "9cba75e6b5b629e1"
  },
  {
   "metadata": {
    "ExecuteTime": {
     "end_time": "2025-07-26T11:19:36.842434Z",
     "start_time": "2025-07-26T11:19:36.806265Z"
    }
   },
   "cell_type": "code",
   "source": [
    "import os\n",
    "from datetime import date\n",
    "import math\n",
    "import subprocess\n",
    "import yaml\n",
    "import pandas as pd\n",
    "import torch\n",
    "from torchvision.models import ResNet18_Weights\n",
    "import torchvision.transforms as transforms\n",
    "from torch.utils.data import DataLoader, Subset\n",
    "from torchvision import models, datasets\n",
    "import torch.nn as nn\n",
    "import torch.optim as optim\n",
    "import matplotlib.pyplot as plt\n",
    "import numpy as np\n",
    "import seaborn as sns\n",
    "from tqdm import tqdm\n",
    "from src.config_utils import load_config\n",
    "from torch.optim.lr_scheduler import OneCycleLR\n",
    "from torch.utils.data import Dataset\n",
    "import torch.optim as optim\n",
    "from PIL import Image\n",
    "import torch.nn.functional as F\n",
    "import copy\n",
    "from pytorch_grad_cam import GradCAM\n",
    "from pytorch_grad_cam.utils.image import show_cam_on_image\n",
    "import torchvision.transforms as T\n",
    "from sklearn.model_selection import StratifiedKFold\n",
    "from sklearn.model_selection import StratifiedGroupKFold\n",
    "from sklearn.metrics import (\n",
    "    confusion_matrix,\n",
    "    classification_report,\n",
    "    roc_auc_score,\n",
    "    precision_recall_curve,\n",
    "    average_precision_score,\n",
    "    roc_curve,\n",
    "    brier_score_loss,\n",
    "    accuracy_score\n",
    ")\n",
    "from sklearn.calibration import calibration_curve\n",
    "from pytorch_grad_cam.utils.model_targets import ClassifierOutputTarget\n",
    "\n",
    "# Chargement de la config\n",
    "config = load_config(path='../configs/config_finetune_resnet18.yaml')\n",
    "\n",
    "# Répertoires de sortie\n",
    "FIG_OUT = os.path.join('..', 'outputs', 'figures', 'Switzerland', 'finetune_resnet18')\n",
    "os.makedirs(FIG_OUT, exist_ok=True)\n",
    "\n",
    "# Génération du Run ID : date + commit Git\n",
    "today = date.today().isoformat()\n",
    "commit = subprocess.check_output([\"git\",\"rev-parse\",\"--short\",\"HEAD\"]).decode().strip()\n",
    "run_id = f\"{today}_{commit}\"\n",
    "\n",
    "print(\"Run ID :\", run_id)\n"
   ],
   "id": "ace0c9e57a273b18",
   "outputs": [
    {
     "name": "stdout",
     "output_type": "stream",
     "text": [
      "Run ID : 2025-07-26_65513ae\n"
     ]
    }
   ],
   "execution_count": 7
  },
  {
   "metadata": {},
   "cell_type": "markdown",
   "source": "## 2. Data Preparation",
   "id": "d5d327eb54f1d3ed"
  },
  {
   "metadata": {
    "ExecuteTime": {
     "end_time": "2025-07-26T11:19:38.298524Z",
     "start_time": "2025-07-26T11:19:38.294232Z"
    }
   },
   "cell_type": "code",
   "source": [
    "# Transforms avec RandomErasing pour dropout spatial\n",
    "data_cfg = config['augmentation']\n",
    "\n",
    "train_transform = T.Compose([\n",
    "    # 1) Crop aléatoire + scale varié\n",
    "    T.RandomResizedCrop(size=tuple(data_cfg['resize']),\n",
    "                        scale=(0.8, 1.0)),\n",
    "    # 2) Flips horizontal + vertical\n",
    "    T.RandomHorizontalFlip(p=0.5 if data_cfg['horizontal_flip'] else 0.0),\n",
    "    T.RandomVerticalFlip(p=0.5 if data_cfg['vertical_flip'] else 0.0),\n",
    "    # 3) Rotation légère\n",
    "    T.RandomRotation(degrees=data_cfg['rotation']),\n",
    "    # 4) Variation colorimétrique\n",
    "    T.ColorJitter(brightness=data_cfg['color_jitter']['brightness'],\n",
    "                  contrast=  data_cfg['color_jitter']['contrast'],\n",
    "                  saturation=data_cfg['color_jitter']['saturation'],\n",
    "                  hue=       data_cfg['color_jitter']['hue']),\n",
    "    # 5) Passage en tenseur + normalisation\n",
    "    T.ToTensor(),\n",
    "    T.Normalize(mean=data_cfg['normalization']['mean'],\n",
    "                std= data_cfg['normalization']['std']),\n",
    "    # 6) Masquage partiel (Random Erasing)\n",
    "    T.RandomErasing(p=data_cfg['random_erasing']['p'],\n",
    "                    scale=tuple(data_cfg['random_erasing']['scale']),\n",
    "                    ratio=tuple(data_cfg['random_erasing']['ratio']))\n",
    "])\n",
    "\n",
    "val_transform = transforms.Compose([\n",
    "    transforms.Resize(tuple(data_cfg['resize'])),\n",
    "    transforms.ToTensor(),\n",
    "    transforms.Normalize(mean=data_cfg['normalization']['mean'],\n",
    "                         std=data_cfg['normalization']['std'])\n",
    "])\n"
   ],
   "id": "bdb6dbe3f690e20f",
   "outputs": [],
   "execution_count": 8
  },
  {
   "metadata": {
    "ExecuteTime": {
     "end_time": "2025-07-26T11:19:40.329004Z",
     "start_time": "2025-07-26T11:19:40.316425Z"
    }
   },
   "cell_type": "code",
   "source": [
    "# Chargement du dataset et Stratified K-Fold\n",
    "dataset = datasets.ImageFolder(\n",
    "    root=os.path.join('..', config['data']['path']),\n",
    "    transform=train_transform\n",
    ")\n",
    "targets = np.array(dataset.targets)\n",
    "\n",
    "\n",
    "paths = [path for path, _ in dataset.samples]\n",
    "groups = [os.path.basename(p).split('_')[0] for p in paths]\n",
    "\n",
    "df = pd.DataFrame({'target': targets, 'group': groups})\n",
    "groups_per_class = df.groupby('target')['group'].nunique().to_dict()\n",
    "n_souches_0 = groups_per_class.get(0, 0)\n",
    "n_souches_1 = groups_per_class.get(1, 0)\n",
    "print(f\"{n_souches_0} souches non‑toxiques, {n_souches_1} souches toxiques.\")\n",
    "\n",
    "n_splits = min(\n",
    "    df.groupby('target')['group'].nunique().min(),\n",
    "    5\n",
    ")\n",
    "\n",
    "print(f\"Utilisation de n_splits = {n_splits}\")\n",
    "\n",
    "sgkf = StratifiedGroupKFold(\n",
    "    n_splits=n_splits,\n",
    "    shuffle=True,\n",
    "    random_state=42\n",
    ")\n",
    "\n",
    "valid_folds = []\n",
    "for fold, (train_idx, val_idx) in enumerate(\n",
    "        sgkf.split(np.zeros(len(targets)), targets, groups)\n",
    "    ):\n",
    "    # on skippe les folds mono‑classe en validation\n",
    "    if len(np.unique(targets[val_idx])) < 2:\n",
    "        print(f\"Skip fold {fold+1} (mono‑classe en val)\")\n",
    "        continue\n",
    "    valid_folds.append((fold, train_idx, val_idx))\n",
    "\n",
    "print(f\"{len(valid_folds)} folds valides sur {n_splits}\")"
   ],
   "id": "89df698402e03a5a",
   "outputs": [
    {
     "name": "stdout",
     "output_type": "stream",
     "text": [
      "9 souches non‑toxiques, 8 souches toxiques.\n",
      "Utilisation de n_splits = 5\n",
      "Skip fold 2 (mono‑classe en val)\n",
      "Skip fold 5 (mono‑classe en val)\n",
      "3 folds valides sur 5\n"
     ]
    }
   ],
   "execution_count": 9
  },
  {
   "metadata": {},
   "cell_type": "markdown",
   "source": "## 3. Model Definition",
   "id": "1b6a6adc0f0fa5bf"
  },
  {
   "metadata": {
    "ExecuteTime": {
     "end_time": "2025-07-26T11:19:42.011476Z",
     "start_time": "2025-07-26T11:19:42.008456Z"
    }
   },
   "cell_type": "code",
   "source": [
    "# === EarlyStopping utility ===\n",
    "class EarlyStopping:\n",
    "    def __init__(self, patience=3, min_delta=1e-4):\n",
    "        self.patience = patience\n",
    "        self.min_delta = min_delta\n",
    "        self.best_loss = float('inf')\n",
    "        self.counter = 0\n",
    "\n",
    "    def __call__(self, val_loss):\n",
    "        if val_loss < self.best_loss - self.min_delta:\n",
    "            self.best_loss = val_loss\n",
    "            self.counter = 0\n",
    "            return False\n",
    "        else:\n",
    "            self.counter += 1\n",
    "            return self.counter >= self.patience\n"
   ],
   "id": "1b3e6cfd6d403e1d",
   "outputs": [],
   "execution_count": 10
  },
  {
   "metadata": {
    "ExecuteTime": {
     "end_time": "2025-07-26T11:19:43.770532Z",
     "start_time": "2025-07-26T11:19:43.594464Z"
    }
   },
   "cell_type": "code",
   "source": [
    "# Définition du modèle, critère et optimizer\n",
    "device = torch.device(config['training']['device'])\n",
    "model = models.resnet18(\n",
    "    weights=ResNet18_Weights.DEFAULT if config['model']['pretrained'] else None\n",
    ")\n",
    "\n",
    "# 1) Tout gèlé\n",
    "for param in model.parameters():\n",
    "    param.requires_grad = False\n",
    "\n",
    "# 2) Nouvelle tête (dropout léger)\n",
    "num_ftrs = model.fc.in_features\n",
    "model.fc = nn.Sequential(\n",
    "    nn.Dropout(config[\"training\"][\"dropout_prob\"]),\n",
    "    nn.Linear(num_ftrs, config['model']['num_classes'])\n",
    ")\n",
    "\n",
    "model = model.to(device)\n",
    "\n",
    "\n",
    "criterion = nn.CrossEntropyLoss(label_smoothing=0.1)"
   ],
   "id": "aff5dea657438f4a",
   "outputs": [],
   "execution_count": 11
  },
  {
   "metadata": {
    "ExecuteTime": {
     "end_time": "2025-07-26T11:19:45.129310Z",
     "start_time": "2025-07-26T11:19:45.114461Z"
    }
   },
   "cell_type": "code",
   "source": [
    "def train_and_eval_fold(fold, train_idx, val_idx):\n",
    "    # 1) Préparer DataLoaders avec train_idx / val_idx\n",
    "    train_subset = Subset(dataset, train_idx)\n",
    "    val_dataset_full = datasets.ImageFolder(\n",
    "        root=os.path.join('..', config['data']['path']),\n",
    "        transform=val_transform\n",
    "    )\n",
    "    val_subset = Subset(val_dataset_full, val_idx)\n",
    "\n",
    "    train_loader = DataLoader(\n",
    "        train_subset, batch_size=config['data']['batch_size'],\n",
    "        shuffle=True, num_workers=config['data']['num_workers']\n",
    "    )\n",
    "    val_loader   = DataLoader(\n",
    "        val_subset,   batch_size=config['data']['batch_size'],\n",
    "        shuffle=False, num_workers=config['data']['num_workers']\n",
    "    )\n",
    "\n",
    "    # 2) Réinitialiser le modèle\n",
    "    model = models.resnet18(\n",
    "        weights=ResNet18_Weights.DEFAULT if config['model']['pretrained'] else None\n",
    "    )\n",
    "\n",
    "    model = model.to(device)\n",
    "\n",
    "\n",
    "    # 3) Entraînement en Phase 1 & Phase 2\n",
    "    history = {'train_loss': [], 'val_loss': []}\n",
    "    num_epochs = config['training']['epochs']\n",
    "    warmup_epochs = 5\n",
    "\n",
    "    ### PHASE 1 : warm‑up de la tête seule ###\n",
    "    print(\"=== Phase 1 : warm‑up de la tête seule (5 epochs) ===\")\n",
    "\n",
    "    # 1) Geler tout sauf la tête\n",
    "    for name, param in model.named_parameters():\n",
    "        param.requires_grad = False\n",
    "    for param in model.fc.parameters():\n",
    "        param.requires_grad = True\n",
    "\n",
    "    # 2) Optimiseur & scheduler pour la tête\n",
    "    optimizer = optim.AdamW(\n",
    "        model.fc.parameters(),\n",
    "        lr=1e-3,  # LR plus élevé pour la tête\n",
    "        weight_decay=float(config['training']['weight_decay'])\n",
    "    )\n",
    "    scheduler = optim.lr_scheduler.ReduceLROnPlateau(\n",
    "        optimizer,\n",
    "        mode='min',\n",
    "        factor=0.5,\n",
    "        patience=3,\n",
    "        min_lr=1e-6,\n",
    "    )\n",
    "\n",
    "    # 3) Boucle warm‑up\n",
    "    for epoch in range(1, warmup_epochs+1):\n",
    "        # --- TRAIN ---\n",
    "        model.train()\n",
    "        running_loss = 0.0\n",
    "        for inputs, labels in tqdm(train_loader, desc=f\"Warmup Epoch {epoch}/{warmup_epochs} - Train\"):\n",
    "            inputs, labels = inputs.to(device), labels.to(device)\n",
    "            optimizer.zero_grad()\n",
    "            outputs = model(inputs)\n",
    "            loss = criterion(outputs, labels)\n",
    "            loss.backward()\n",
    "            optimizer.step()\n",
    "            running_loss += loss.item() * inputs.size(0)\n",
    "        train_loss = running_loss / len(train_loader.dataset)\n",
    "        history['train_loss'].append(train_loss)\n",
    "\n",
    "        # --- VAL ---\n",
    "        model.eval()\n",
    "        running_val = 0.0\n",
    "        with torch.no_grad():\n",
    "            for inputs, labels in tqdm(val_loader, desc=f\"Warmup Epoch {epoch}/{warmup_epochs} - Val\"):\n",
    "                inputs, labels = inputs.to(device), labels.to(device)\n",
    "                outputs = model(inputs)\n",
    "                loss = criterion(outputs, labels)\n",
    "                running_val += loss.item() * inputs.size(0)\n",
    "        val_loss = running_val / len(val_loader.dataset)\n",
    "        history['val_loss'].append(val_loss)\n",
    "\n",
    "        scheduler.step(val_loss)\n",
    "        print(f\"Warmup Epoch {epoch} — Train Loss: {train_loss:.4f} — Val Loss: {val_loss:.4f}\")\n",
    "\n",
    "    # --- PHASE 2 : fine‑tuning layer4 + tête + OneCycleLR + MixUp/CutMix ---\n",
    "    print(\"=== Phase 2 : fine‑tuning layer4 + tête (up to {} epochs) ===\".format(num_epochs))\n",
    "\n",
    "    # 1) Débloquer layer4 + tête\n",
    "    for name, param in model.named_parameters():\n",
    "        if name.startswith(\"layer4\") or name.startswith(\"fc\"):\n",
    "            param.requires_grad = True\n",
    "\n",
    "    # 2) Optimiseur à deux groupes\n",
    "    base_lr = float(config['training']['learning_rate'])\n",
    "    optimizer = torch.optim.AdamW([\n",
    "        {\"params\": model.layer4.parameters(), \"lr\": base_lr * 0.1},\n",
    "        {\"params\": model.fc.parameters(),    \"lr\": base_lr},\n",
    "    ], weight_decay=float(config['training']['weight_decay']))\n",
    "\n",
    "    # 3) OneCycleLR scheduler\n",
    "    steps_per_epoch = len(train_loader)\n",
    "    total_epochs = num_epochs - warmup_epochs\n",
    "    scheduler = OneCycleLR(\n",
    "        optimizer,\n",
    "        max_lr=base_lr,\n",
    "        epochs=total_epochs,\n",
    "        steps_per_epoch=steps_per_epoch,\n",
    "        pct_start=float(config['training']['pct_start']),\n",
    "        anneal_strategy='cos'\n",
    "    )\n",
    "\n",
    "    # 4) EarlyStopping inchangé\n",
    "    early_stopper = EarlyStopping(patience=3, min_delta=1e-4)\n",
    "\n",
    "    # 5) Paramètres MixUp/CutMix\n",
    "    mixup_alpha = float(config['training']['mixup_alpha'])\n",
    "    mixup_prob  = float(config['training']['mixup_prob'])\n",
    "    use_cutmix  = bool(config['training']['use_cutmix'])\n",
    "\n",
    "    # 6) Boucle fine‑tuning\n",
    "    for epoch in range(warmup_epochs+1, num_epochs+1):\n",
    "        model.train()\n",
    "        running_loss = 0.0\n",
    "        for inputs, labels in tqdm(train_loader, desc=f\"Epoch {epoch}/{num_epochs} - Train\"):\n",
    "            inputs, labels = inputs.to(device), labels.to(device)\n",
    "\n",
    "            # Décision unique de mix\n",
    "            do_mix = (np.random.rand() < mixup_prob)\n",
    "            if do_mix:\n",
    "                lam = np.random.beta(mixup_alpha, mixup_alpha)\n",
    "                idx = torch.randperm(inputs.size(0)).to(device)\n",
    "\n",
    "                if use_cutmix:\n",
    "                    # -- CutMix --\n",
    "                    W, H = inputs.size(3), inputs.size(2)\n",
    "                    cx = np.random.randint(W); cy = np.random.randint(H)\n",
    "                    w = int(W * np.sqrt(1-lam)); h = int(H * np.sqrt(1-lam))\n",
    "                    x0, x1 = max(cx-w//2,0), min(cx+w//2, W)\n",
    "                    y0, y1 = max(cy-h//2,0), min(cy+h//2, H)\n",
    "                    inputs[:, :, y0:y1, x0:x1] = inputs[idx, :, y0:y1, x0:x1]\n",
    "                else:\n",
    "                    # -- MixUp --\n",
    "                    inputs = lam * inputs + (1 - lam) * inputs[idx]\n",
    "\n",
    "            optimizer.zero_grad()\n",
    "            outputs = model(inputs)\n",
    "\n",
    "            # Loss cohérente avec le mix\n",
    "            if do_mix:\n",
    "                loss = lam * criterion(outputs, labels) \\\n",
    "                     + (1 - lam) * criterion(outputs, labels[idx])\n",
    "            else:\n",
    "                loss = criterion(outputs, labels)\n",
    "\n",
    "            loss.backward()\n",
    "            optimizer.step()\n",
    "            scheduler.step()\n",
    "            running_loss += loss.item() * inputs.size(0)\n",
    "\n",
    "\n",
    "        train_loss = running_loss / len(train_loader.dataset)\n",
    "        history['train_loss'].append(train_loss)\n",
    "\n",
    "        # — Validation (inchangé) —\n",
    "        model.eval()\n",
    "        running_val = 0.0\n",
    "        with torch.no_grad():\n",
    "            for inputs, labels in tqdm(val_loader, desc=f\"Epoch {epoch}/{num_epochs} - Validation\"):\n",
    "                inputs, labels = inputs.to(device), labels.to(device)\n",
    "                outputs = model(inputs)\n",
    "                running_val += criterion(outputs, labels).item() * inputs.size(0)\n",
    "        val_loss = running_val / len(val_loader.dataset)\n",
    "        history['val_loss'].append(val_loss)\n",
    "\n",
    "        if early_stopper(val_loss):\n",
    "            print(f\"Early stopping à l'epoch {epoch}\")\n",
    "            break\n",
    "\n",
    "        print(f\"Epoch {epoch}/{num_epochs} — Train Loss: {train_loss:.4f} — Val Loss: {val_loss:.4f}\")\n",
    "\n",
    "    # 4) Évaluation finale\n",
    "    model.eval()\n",
    "    y_true, y_pred, y_prob = [], [], []\n",
    "    with torch.no_grad():\n",
    "        for inputs, labels in val_loader:\n",
    "            inputs = inputs.to(device)\n",
    "            logits  = model(inputs)\n",
    "            probs   = torch.softmax(logits, dim=1)[:,1].cpu().numpy()\n",
    "            preds   = (probs >= 0.5).astype(int)  # ou votre seuil optimal\n",
    "            y_true.extend(labels.numpy())\n",
    "            y_pred.extend(preds)\n",
    "            y_prob.extend(probs)\n",
    "\n",
    "    # 5) Calcul des métriques\n",
    "    report = classification_report(\n",
    "        y_true, y_pred, labels=[0,1], output_dict=True, zero_division=0\n",
    "    )\n",
    "    cm = confusion_matrix(y_true, y_pred, labels=[0,1])\n",
    "    roc_auc = roc_auc_score(y_true, y_prob)\n",
    "    ap      = average_precision_score(y_true, y_prob)\n",
    "\n",
    "    precision, recall, thresholds = precision_recall_curve(y_true, y_prob)\n",
    "    f1_scores = 2 * precision * recall / (precision + recall + 1e-8)\n",
    "    best_idx = np.argmax(f1_scores)\n",
    "    best_threshold = thresholds[best_idx]\n",
    "\n",
    "    return {\n",
    "        'fold': fold+1,\n",
    "        'history': history,\n",
    "        'report': report,\n",
    "        'confusion_matrix': cm,\n",
    "        'roc_auc': roc_auc,\n",
    "        'average_precision': ap,\n",
    "        'y_true' : y_true,\n",
    "        'y_pred' : y_pred,\n",
    "        'y_prob' : y_prob,\n",
    "        'best_threshold': best_threshold,\n",
    "        'best_idx': best_idx\n",
    "    }"
   ],
   "id": "ed920137aaf20dca",
   "outputs": [],
   "execution_count": 12
  },
  {
   "metadata": {},
   "cell_type": "markdown",
   "source": "## 4. Training Loop",
   "id": "8b6635218ff58265"
  },
  {
   "metadata": {
    "ExecuteTime": {
     "end_time": "2025-07-26T12:11:02.777917Z",
     "start_time": "2025-07-26T11:19:48.959352Z"
    }
   },
   "cell_type": "code",
   "source": [
    "results = []\n",
    "for i, (fold, train_idx, val_idx) in enumerate(valid_folds):\n",
    "    print(f\"\\n=== Training fold {fold+1} ({i+1}/{len(valid_folds)}) ===\")\n",
    "    res = train_and_eval_fold(fold, train_idx, val_idx)\n",
    "    print(f\"Fold {res['fold']} — ROC AUC: {res['roc_auc']:.3f} — AP: {res['average_precision']:.3f}\")\n",
    "    print(pd.DataFrame(res['report']).T[['precision','recall','f1-score','support']])\n",
    "    results.append(res)\n",
    "    dir_path = f\"../outputs/checkpoints/Switzerland/finetune_resnet18/cross-validation/{run_id}\"\n",
    "    os.makedirs(dir_path, exist_ok=True)\n",
    "    model_path = os.path.join(dir_path, f\"model_fold{fold+1}.pth\")\n",
    "    torch.save(model.state_dict(), model_path)\n",
    "\n",
    "    print(f\"Seuil optimal (max F1) = {res['best_threshold']:.3f}\")\n",
    "\n",
    "# Moyennes et écart‑types\n",
    "roc_aucs = [r['roc_auc'] for r in results]\n",
    "aps      = [r['average_precision'] for r in results]\n",
    "print(f\"\\nMoyenne ROC AUC: {np.mean(roc_aucs):.3f} ± {np.std(roc_aucs):.3f}\")\n",
    "print(f\"Moyenne AP      : {np.mean(aps):.3f} ± {np.std(aps):.3f}\")\n"
   ],
   "id": "f72afe26305d3e12",
   "outputs": [
    {
     "name": "stdout",
     "output_type": "stream",
     "text": [
      "\n",
      "=== Training fold 1 (1/3) ===\n",
      "=== Phase 1 : warm‑up de la tête seule (5 epochs) ===\n"
     ]
    },
    {
     "name": "stderr",
     "output_type": "stream",
     "text": [
      "Warmup Epoch 1/5 - Train: 100%|██████████| 29/29 [00:37<00:00,  1.29s/it]\n",
      "Warmup Epoch 1/5 - Val: 100%|██████████| 7/7 [00:25<00:00,  3.61s/it]\n"
     ]
    },
    {
     "name": "stdout",
     "output_type": "stream",
     "text": [
      "Warmup Epoch 1 — Train Loss: 3.6506 — Val Loss: 2.7914\n"
     ]
    },
    {
     "name": "stderr",
     "output_type": "stream",
     "text": [
      "Warmup Epoch 2/5 - Train: 100%|██████████| 29/29 [00:36<00:00,  1.26s/it]\n",
      "Warmup Epoch 2/5 - Val: 100%|██████████| 7/7 [00:25<00:00,  3.61s/it]\n"
     ]
    },
    {
     "name": "stdout",
     "output_type": "stream",
     "text": [
      "Warmup Epoch 2 — Train Loss: 2.1546 — Val Loss: 2.7584\n"
     ]
    },
    {
     "name": "stderr",
     "output_type": "stream",
     "text": [
      "Warmup Epoch 3/5 - Train: 100%|██████████| 29/29 [00:36<00:00,  1.27s/it]\n",
      "Warmup Epoch 3/5 - Val: 100%|██████████| 7/7 [00:25<00:00,  3.60s/it]\n"
     ]
    },
    {
     "name": "stdout",
     "output_type": "stream",
     "text": [
      "Warmup Epoch 3 — Train Loss: 1.9369 — Val Loss: 2.9245\n"
     ]
    },
    {
     "name": "stderr",
     "output_type": "stream",
     "text": [
      "Warmup Epoch 4/5 - Train: 100%|██████████| 29/29 [00:36<00:00,  1.26s/it]\n",
      "Warmup Epoch 4/5 - Val: 100%|██████████| 7/7 [00:25<00:00,  3.60s/it]\n"
     ]
    },
    {
     "name": "stdout",
     "output_type": "stream",
     "text": [
      "Warmup Epoch 4 — Train Loss: 1.8000 — Val Loss: 2.8617\n"
     ]
    },
    {
     "name": "stderr",
     "output_type": "stream",
     "text": [
      "Warmup Epoch 5/5 - Train: 100%|██████████| 29/29 [00:36<00:00,  1.27s/it]\n",
      "Warmup Epoch 5/5 - Val: 100%|██████████| 7/7 [00:25<00:00,  3.61s/it]\n"
     ]
    },
    {
     "name": "stdout",
     "output_type": "stream",
     "text": [
      "Warmup Epoch 5 — Train Loss: 1.6728 — Val Loss: 3.1393\n",
      "=== Phase 2 : fine‑tuning layer4 + tête (up to 20 epochs) ===\n"
     ]
    },
    {
     "name": "stderr",
     "output_type": "stream",
     "text": [
      "Epoch 6/20 - Train: 100%|██████████| 29/29 [00:38<00:00,  1.33s/it]\n",
      "Epoch 6/20 - Validation: 100%|██████████| 7/7 [00:25<00:00,  3.60s/it]\n"
     ]
    },
    {
     "name": "stdout",
     "output_type": "stream",
     "text": [
      "Epoch 6/20 — Train Loss: 1.6871 — Val Loss: 3.5926\n"
     ]
    },
    {
     "name": "stderr",
     "output_type": "stream",
     "text": [
      "Epoch 7/20 - Train: 100%|██████████| 29/29 [00:38<00:00,  1.33s/it]\n",
      "Epoch 7/20 - Validation: 100%|██████████| 7/7 [00:25<00:00,  3.61s/it]\n"
     ]
    },
    {
     "name": "stdout",
     "output_type": "stream",
     "text": [
      "Epoch 7/20 — Train Loss: 1.6490 — Val Loss: 3.4607\n"
     ]
    },
    {
     "name": "stderr",
     "output_type": "stream",
     "text": [
      "Epoch 8/20 - Train: 100%|██████████| 29/29 [00:38<00:00,  1.33s/it]\n",
      "Epoch 8/20 - Validation: 100%|██████████| 7/7 [00:25<00:00,  3.60s/it]\n"
     ]
    },
    {
     "name": "stdout",
     "output_type": "stream",
     "text": [
      "Epoch 8/20 — Train Loss: 1.5513 — Val Loss: 3.0541\n"
     ]
    },
    {
     "name": "stderr",
     "output_type": "stream",
     "text": [
      "Epoch 9/20 - Train: 100%|██████████| 29/29 [00:38<00:00,  1.34s/it]\n",
      "Epoch 9/20 - Validation: 100%|██████████| 7/7 [00:25<00:00,  3.60s/it]\n"
     ]
    },
    {
     "name": "stdout",
     "output_type": "stream",
     "text": [
      "Epoch 9/20 — Train Loss: 1.4505 — Val Loss: 3.2623\n"
     ]
    },
    {
     "name": "stderr",
     "output_type": "stream",
     "text": [
      "Epoch 10/20 - Train: 100%|██████████| 29/29 [00:38<00:00,  1.34s/it]\n",
      "Epoch 10/20 - Validation: 100%|██████████| 7/7 [00:25<00:00,  3.61s/it]\n"
     ]
    },
    {
     "name": "stdout",
     "output_type": "stream",
     "text": [
      "Epoch 10/20 — Train Loss: 1.5081 — Val Loss: 3.4790\n"
     ]
    },
    {
     "name": "stderr",
     "output_type": "stream",
     "text": [
      "Epoch 11/20 - Train: 100%|██████████| 29/29 [00:39<00:00,  1.36s/it]\n",
      "Epoch 11/20 - Validation: 100%|██████████| 7/7 [00:25<00:00,  3.60s/it]"
     ]
    },
    {
     "name": "stdout",
     "output_type": "stream",
     "text": [
      "Early stopping à l'epoch 11\n"
     ]
    },
    {
     "name": "stderr",
     "output_type": "stream",
     "text": [
      "\n"
     ]
    },
    {
     "name": "stdout",
     "output_type": "stream",
     "text": [
      "Fold 1 — ROC AUC: 0.137 — AP: 0.474\n",
      "              precision    recall  f1-score    support\n",
      "0              0.329670  0.833333  0.472441  36.000000\n",
      "1              0.250000  0.031746  0.056338  63.000000\n",
      "accuracy       0.323232  0.323232  0.323232   0.323232\n",
      "macro avg      0.289835  0.432540  0.264389  99.000000\n",
      "weighted avg   0.278971  0.323232  0.207648  99.000000\n",
      "Seuil optimal (max F1) = 0.000\n",
      "\n",
      "=== Training fold 3 (2/3) ===\n",
      "=== Phase 1 : warm‑up de la tête seule (5 epochs) ===\n"
     ]
    },
    {
     "name": "stderr",
     "output_type": "stream",
     "text": [
      "Warmup Epoch 1/5 - Train: 100%|██████████| 27/27 [00:35<00:00,  1.31s/it]\n",
      "Warmup Epoch 1/5 - Val: 100%|██████████| 9/9 [00:26<00:00,  2.94s/it]\n"
     ]
    },
    {
     "name": "stdout",
     "output_type": "stream",
     "text": [
      "Warmup Epoch 1 — Train Loss: 3.8555 — Val Loss: 2.4379\n"
     ]
    },
    {
     "name": "stderr",
     "output_type": "stream",
     "text": [
      "Warmup Epoch 2/5 - Train: 100%|██████████| 27/27 [00:35<00:00,  1.31s/it]\n",
      "Warmup Epoch 2/5 - Val: 100%|██████████| 9/9 [00:26<00:00,  2.96s/it]\n"
     ]
    },
    {
     "name": "stdout",
     "output_type": "stream",
     "text": [
      "Warmup Epoch 2 — Train Loss: 2.2166 — Val Loss: 2.0704\n"
     ]
    },
    {
     "name": "stderr",
     "output_type": "stream",
     "text": [
      "Warmup Epoch 3/5 - Train: 100%|██████████| 27/27 [00:35<00:00,  1.31s/it]\n",
      "Warmup Epoch 3/5 - Val: 100%|██████████| 9/9 [00:26<00:00,  2.93s/it]\n"
     ]
    },
    {
     "name": "stdout",
     "output_type": "stream",
     "text": [
      "Warmup Epoch 3 — Train Loss: 2.2083 — Val Loss: 1.9474\n"
     ]
    },
    {
     "name": "stderr",
     "output_type": "stream",
     "text": [
      "Warmup Epoch 4/5 - Train: 100%|██████████| 27/27 [00:35<00:00,  1.31s/it]\n",
      "Warmup Epoch 4/5 - Val: 100%|██████████| 9/9 [00:26<00:00,  2.93s/it]\n"
     ]
    },
    {
     "name": "stdout",
     "output_type": "stream",
     "text": [
      "Warmup Epoch 4 — Train Loss: 1.9108 — Val Loss: 1.8965\n"
     ]
    },
    {
     "name": "stderr",
     "output_type": "stream",
     "text": [
      "Warmup Epoch 5/5 - Train: 100%|██████████| 27/27 [00:35<00:00,  1.31s/it]\n",
      "Warmup Epoch 5/5 - Val: 100%|██████████| 9/9 [00:26<00:00,  2.93s/it]\n"
     ]
    },
    {
     "name": "stdout",
     "output_type": "stream",
     "text": [
      "Warmup Epoch 5 — Train Loss: 1.9177 — Val Loss: 1.8123\n",
      "=== Phase 2 : fine‑tuning layer4 + tête (up to 20 epochs) ===\n"
     ]
    },
    {
     "name": "stderr",
     "output_type": "stream",
     "text": [
      "Epoch 6/20 - Train: 100%|██████████| 27/27 [00:37<00:00,  1.38s/it]\n",
      "Epoch 6/20 - Validation: 100%|██████████| 9/9 [00:26<00:00,  2.98s/it]\n"
     ]
    },
    {
     "name": "stdout",
     "output_type": "stream",
     "text": [
      "Epoch 6/20 — Train Loss: 1.8655 — Val Loss: 1.7765\n"
     ]
    },
    {
     "name": "stderr",
     "output_type": "stream",
     "text": [
      "Epoch 7/20 - Train: 100%|██████████| 27/27 [00:37<00:00,  1.38s/it]\n",
      "Epoch 7/20 - Validation: 100%|██████████| 9/9 [00:26<00:00,  2.92s/it]\n"
     ]
    },
    {
     "name": "stdout",
     "output_type": "stream",
     "text": [
      "Epoch 7/20 — Train Loss: 1.7808 — Val Loss: 1.6854\n"
     ]
    },
    {
     "name": "stderr",
     "output_type": "stream",
     "text": [
      "Epoch 8/20 - Train: 100%|██████████| 27/27 [00:37<00:00,  1.38s/it]\n",
      "Epoch 8/20 - Validation: 100%|██████████| 9/9 [00:26<00:00,  2.92s/it]\n"
     ]
    },
    {
     "name": "stdout",
     "output_type": "stream",
     "text": [
      "Epoch 8/20 — Train Loss: 1.6365 — Val Loss: 1.6690\n"
     ]
    },
    {
     "name": "stderr",
     "output_type": "stream",
     "text": [
      "Epoch 9/20 - Train: 100%|██████████| 27/27 [00:37<00:00,  1.38s/it]\n",
      "Epoch 9/20 - Validation: 100%|██████████| 9/9 [00:26<00:00,  2.93s/it]\n"
     ]
    },
    {
     "name": "stdout",
     "output_type": "stream",
     "text": [
      "Epoch 9/20 — Train Loss: 1.5535 — Val Loss: 1.5779\n"
     ]
    },
    {
     "name": "stderr",
     "output_type": "stream",
     "text": [
      "Epoch 10/20 - Train: 100%|██████████| 27/27 [00:37<00:00,  1.38s/it]\n",
      "Epoch 10/20 - Validation: 100%|██████████| 9/9 [00:26<00:00,  2.94s/it]\n"
     ]
    },
    {
     "name": "stdout",
     "output_type": "stream",
     "text": [
      "Epoch 10/20 — Train Loss: 1.5424 — Val Loss: 1.5995\n"
     ]
    },
    {
     "name": "stderr",
     "output_type": "stream",
     "text": [
      "Epoch 11/20 - Train: 100%|██████████| 27/27 [00:37<00:00,  1.39s/it]\n",
      "Epoch 11/20 - Validation: 100%|██████████| 9/9 [00:26<00:00,  2.93s/it]\n"
     ]
    },
    {
     "name": "stdout",
     "output_type": "stream",
     "text": [
      "Epoch 11/20 — Train Loss: 1.5326 — Val Loss: 1.5664\n"
     ]
    },
    {
     "name": "stderr",
     "output_type": "stream",
     "text": [
      "Epoch 12/20 - Train: 100%|██████████| 27/27 [00:37<00:00,  1.38s/it]\n",
      "Epoch 12/20 - Validation: 100%|██████████| 9/9 [00:26<00:00,  2.96s/it]\n"
     ]
    },
    {
     "name": "stdout",
     "output_type": "stream",
     "text": [
      "Epoch 12/20 — Train Loss: 1.4858 — Val Loss: 1.5961\n"
     ]
    },
    {
     "name": "stderr",
     "output_type": "stream",
     "text": [
      "Epoch 13/20 - Train: 100%|██████████| 27/27 [00:38<00:00,  1.42s/it]\n",
      "Epoch 13/20 - Validation: 100%|██████████| 9/9 [00:26<00:00,  2.95s/it]\n"
     ]
    },
    {
     "name": "stdout",
     "output_type": "stream",
     "text": [
      "Epoch 13/20 — Train Loss: 1.4123 — Val Loss: 1.4644\n"
     ]
    },
    {
     "name": "stderr",
     "output_type": "stream",
     "text": [
      "Epoch 14/20 - Train: 100%|██████████| 27/27 [00:37<00:00,  1.41s/it]\n",
      "Epoch 14/20 - Validation: 100%|██████████| 9/9 [00:26<00:00,  2.95s/it]\n"
     ]
    },
    {
     "name": "stdout",
     "output_type": "stream",
     "text": [
      "Epoch 14/20 — Train Loss: 1.4391 — Val Loss: 1.4529\n"
     ]
    },
    {
     "name": "stderr",
     "output_type": "stream",
     "text": [
      "Epoch 15/20 - Train: 100%|██████████| 27/27 [00:37<00:00,  1.39s/it]\n",
      "Epoch 15/20 - Validation: 100%|██████████| 9/9 [00:26<00:00,  2.95s/it]\n"
     ]
    },
    {
     "name": "stdout",
     "output_type": "stream",
     "text": [
      "Epoch 15/20 — Train Loss: 1.4076 — Val Loss: 1.4485\n"
     ]
    },
    {
     "name": "stderr",
     "output_type": "stream",
     "text": [
      "Epoch 16/20 - Train: 100%|██████████| 27/27 [00:38<00:00,  1.42s/it]\n",
      "Epoch 16/20 - Validation: 100%|██████████| 9/9 [00:26<00:00,  2.94s/it]\n"
     ]
    },
    {
     "name": "stdout",
     "output_type": "stream",
     "text": [
      "Epoch 16/20 — Train Loss: 1.3934 — Val Loss: 1.4374\n"
     ]
    },
    {
     "name": "stderr",
     "output_type": "stream",
     "text": [
      "Epoch 17/20 - Train: 100%|██████████| 27/27 [00:37<00:00,  1.38s/it]\n",
      "Epoch 17/20 - Validation: 100%|██████████| 9/9 [00:26<00:00,  2.93s/it]\n"
     ]
    },
    {
     "name": "stdout",
     "output_type": "stream",
     "text": [
      "Epoch 17/20 — Train Loss: 1.3633 — Val Loss: 1.4366\n"
     ]
    },
    {
     "name": "stderr",
     "output_type": "stream",
     "text": [
      "Epoch 18/20 - Train: 100%|██████████| 27/27 [00:37<00:00,  1.38s/it]\n",
      "Epoch 18/20 - Validation: 100%|██████████| 9/9 [00:26<00:00,  2.96s/it]\n"
     ]
    },
    {
     "name": "stdout",
     "output_type": "stream",
     "text": [
      "Epoch 18/20 — Train Loss: 1.3572 — Val Loss: 1.4328\n"
     ]
    },
    {
     "name": "stderr",
     "output_type": "stream",
     "text": [
      "Epoch 19/20 - Train: 100%|██████████| 27/27 [00:37<00:00,  1.39s/it]\n",
      "Epoch 19/20 - Validation: 100%|██████████| 9/9 [00:26<00:00,  2.93s/it]\n"
     ]
    },
    {
     "name": "stdout",
     "output_type": "stream",
     "text": [
      "Epoch 19/20 — Train Loss: 1.3925 — Val Loss: 1.4545\n"
     ]
    },
    {
     "name": "stderr",
     "output_type": "stream",
     "text": [
      "Epoch 20/20 - Train: 100%|██████████| 27/27 [00:37<00:00,  1.39s/it]\n",
      "Epoch 20/20 - Validation: 100%|██████████| 9/9 [00:26<00:00,  2.94s/it]"
     ]
    },
    {
     "name": "stdout",
     "output_type": "stream",
     "text": [
      "Epoch 20/20 — Train Loss: 1.3748 — Val Loss: 1.4023\n"
     ]
    },
    {
     "name": "stderr",
     "output_type": "stream",
     "text": [
      "\n"
     ]
    },
    {
     "name": "stdout",
     "output_type": "stream",
     "text": [
      "Fold 3 — ROC AUC: 0.950 — AP: 0.916\n",
      "              precision    recall  f1-score     support\n",
      "0              0.892473  0.932584  0.912088   89.000000\n",
      "1              0.872340  0.803922  0.836735   51.000000\n",
      "accuracy       0.885714  0.885714  0.885714    0.885714\n",
      "macro avg      0.882407  0.868253  0.874411  140.000000\n",
      "weighted avg   0.885139  0.885714  0.884638  140.000000\n",
      "Seuil optimal (max F1) = 0.493\n",
      "\n",
      "=== Training fold 4 (3/3) ===\n",
      "=== Phase 1 : warm‑up de la tête seule (5 epochs) ===\n"
     ]
    },
    {
     "name": "stderr",
     "output_type": "stream",
     "text": [
      "Warmup Epoch 1/5 - Train: 100%|██████████| 27/27 [00:35<00:00,  1.32s/it]\n",
      "Warmup Epoch 1/5 - Val: 100%|██████████| 9/9 [00:26<00:00,  2.93s/it]\n"
     ]
    },
    {
     "name": "stdout",
     "output_type": "stream",
     "text": [
      "Warmup Epoch 1 — Train Loss: 3.8863 — Val Loss: 2.2191\n"
     ]
    },
    {
     "name": "stderr",
     "output_type": "stream",
     "text": [
      "Warmup Epoch 2/5 - Train: 100%|██████████| 27/27 [00:35<00:00,  1.32s/it]\n",
      "Warmup Epoch 2/5 - Val: 100%|██████████| 9/9 [00:26<00:00,  2.94s/it]\n"
     ]
    },
    {
     "name": "stdout",
     "output_type": "stream",
     "text": [
      "Warmup Epoch 2 — Train Loss: 2.3192 — Val Loss: 2.0662\n"
     ]
    },
    {
     "name": "stderr",
     "output_type": "stream",
     "text": [
      "Warmup Epoch 3/5 - Train: 100%|██████████| 27/27 [00:35<00:00,  1.33s/it]\n",
      "Warmup Epoch 3/5 - Val: 100%|██████████| 9/9 [00:26<00:00,  2.93s/it]\n"
     ]
    },
    {
     "name": "stdout",
     "output_type": "stream",
     "text": [
      "Warmup Epoch 3 — Train Loss: 2.1029 — Val Loss: 1.9252\n"
     ]
    },
    {
     "name": "stderr",
     "output_type": "stream",
     "text": [
      "Warmup Epoch 4/5 - Train: 100%|██████████| 27/27 [00:35<00:00,  1.32s/it]\n",
      "Warmup Epoch 4/5 - Val: 100%|██████████| 9/9 [00:26<00:00,  2.92s/it]\n"
     ]
    },
    {
     "name": "stdout",
     "output_type": "stream",
     "text": [
      "Warmup Epoch 4 — Train Loss: 1.9410 — Val Loss: 1.8368\n"
     ]
    },
    {
     "name": "stderr",
     "output_type": "stream",
     "text": [
      "Warmup Epoch 5/5 - Train: 100%|██████████| 27/27 [00:35<00:00,  1.32s/it]\n",
      "Warmup Epoch 5/5 - Val: 100%|██████████| 9/9 [00:26<00:00,  2.92s/it]\n"
     ]
    },
    {
     "name": "stdout",
     "output_type": "stream",
     "text": [
      "Warmup Epoch 5 — Train Loss: 1.9340 — Val Loss: 1.8356\n",
      "=== Phase 2 : fine‑tuning layer4 + tête (up to 20 epochs) ===\n"
     ]
    },
    {
     "name": "stderr",
     "output_type": "stream",
     "text": [
      "Epoch 6/20 - Train: 100%|██████████| 27/27 [00:37<00:00,  1.39s/it]\n",
      "Epoch 6/20 - Validation: 100%|██████████| 9/9 [00:26<00:00,  2.92s/it]\n"
     ]
    },
    {
     "name": "stdout",
     "output_type": "stream",
     "text": [
      "Epoch 6/20 — Train Loss: 1.7672 — Val Loss: 1.8395\n"
     ]
    },
    {
     "name": "stderr",
     "output_type": "stream",
     "text": [
      "Epoch 7/20 - Train: 100%|██████████| 27/27 [00:37<00:00,  1.39s/it]\n",
      "Epoch 7/20 - Validation: 100%|██████████| 9/9 [00:26<00:00,  2.92s/it]\n"
     ]
    },
    {
     "name": "stdout",
     "output_type": "stream",
     "text": [
      "Epoch 7/20 — Train Loss: 1.7935 — Val Loss: 1.8287\n"
     ]
    },
    {
     "name": "stderr",
     "output_type": "stream",
     "text": [
      "Epoch 8/20 - Train: 100%|██████████| 27/27 [00:37<00:00,  1.39s/it]\n",
      "Epoch 8/20 - Validation: 100%|██████████| 9/9 [00:26<00:00,  2.96s/it]\n"
     ]
    },
    {
     "name": "stdout",
     "output_type": "stream",
     "text": [
      "Epoch 8/20 — Train Loss: 1.6573 — Val Loss: 1.8307\n"
     ]
    },
    {
     "name": "stderr",
     "output_type": "stream",
     "text": [
      "Epoch 9/20 - Train: 100%|██████████| 27/27 [00:38<00:00,  1.41s/it]\n",
      "Epoch 9/20 - Validation: 100%|██████████| 9/9 [00:26<00:00,  2.93s/it]\n"
     ]
    },
    {
     "name": "stdout",
     "output_type": "stream",
     "text": [
      "Epoch 9/20 — Train Loss: 1.5610 — Val Loss: 2.0395\n"
     ]
    },
    {
     "name": "stderr",
     "output_type": "stream",
     "text": [
      "Epoch 10/20 - Train: 100%|██████████| 27/27 [00:37<00:00,  1.40s/it]\n",
      "Epoch 10/20 - Validation: 100%|██████████| 9/9 [00:26<00:00,  3.00s/it]\n"
     ]
    },
    {
     "name": "stdout",
     "output_type": "stream",
     "text": [
      "Epoch 10/20 — Train Loss: 1.5305 — Val Loss: 1.7281\n"
     ]
    },
    {
     "name": "stderr",
     "output_type": "stream",
     "text": [
      "Epoch 11/20 - Train: 100%|██████████| 27/27 [00:43<00:00,  1.62s/it]\n",
      "Epoch 11/20 - Validation: 100%|██████████| 9/9 [00:27<00:00,  3.03s/it]\n"
     ]
    },
    {
     "name": "stdout",
     "output_type": "stream",
     "text": [
      "Epoch 11/20 — Train Loss: 1.4825 — Val Loss: 1.9633\n"
     ]
    },
    {
     "name": "stderr",
     "output_type": "stream",
     "text": [
      "Epoch 12/20 - Train: 100%|██████████| 27/27 [00:38<00:00,  1.43s/it]\n",
      "Epoch 12/20 - Validation: 100%|██████████| 9/9 [00:26<00:00,  2.95s/it]\n"
     ]
    },
    {
     "name": "stdout",
     "output_type": "stream",
     "text": [
      "Epoch 12/20 — Train Loss: 1.4815 — Val Loss: 2.1720\n"
     ]
    },
    {
     "name": "stderr",
     "output_type": "stream",
     "text": [
      "Epoch 13/20 - Train: 100%|██████████| 27/27 [00:39<00:00,  1.45s/it]\n",
      "Epoch 13/20 - Validation: 100%|██████████| 9/9 [00:26<00:00,  2.99s/it]\n"
     ]
    },
    {
     "name": "stdout",
     "output_type": "stream",
     "text": [
      "Epoch 13/20 — Train Loss: 1.4662 — Val Loss: 1.5547\n"
     ]
    },
    {
     "name": "stderr",
     "output_type": "stream",
     "text": [
      "Epoch 14/20 - Train: 100%|██████████| 27/27 [00:39<00:00,  1.45s/it]\n",
      "Epoch 14/20 - Validation: 100%|██████████| 9/9 [00:26<00:00,  2.96s/it]\n"
     ]
    },
    {
     "name": "stdout",
     "output_type": "stream",
     "text": [
      "Epoch 14/20 — Train Loss: 1.4397 — Val Loss: 1.7243\n"
     ]
    },
    {
     "name": "stderr",
     "output_type": "stream",
     "text": [
      "Epoch 15/20 - Train: 100%|██████████| 27/27 [00:38<00:00,  1.43s/it]\n",
      "Epoch 15/20 - Validation: 100%|██████████| 9/9 [00:27<00:00,  3.08s/it]\n"
     ]
    },
    {
     "name": "stdout",
     "output_type": "stream",
     "text": [
      "Epoch 15/20 — Train Loss: 1.4214 — Val Loss: 1.9395\n"
     ]
    },
    {
     "name": "stderr",
     "output_type": "stream",
     "text": [
      "Epoch 16/20 - Train: 100%|██████████| 27/27 [00:39<00:00,  1.47s/it]\n",
      "Epoch 16/20 - Validation: 100%|██████████| 9/9 [00:26<00:00,  2.93s/it]"
     ]
    },
    {
     "name": "stdout",
     "output_type": "stream",
     "text": [
      "Early stopping à l'epoch 16\n"
     ]
    },
    {
     "name": "stderr",
     "output_type": "stream",
     "text": [
      "\n"
     ]
    },
    {
     "name": "stdout",
     "output_type": "stream",
     "text": [
      "Fold 4 — ROC AUC: 0.772 — AP: 0.790\n",
      "              precision    recall  f1-score     support\n",
      "0              0.710526  0.729730  0.720000   74.000000\n",
      "1              0.672131  0.650794  0.661290   63.000000\n",
      "accuracy       0.693431  0.693431  0.693431    0.693431\n",
      "macro avg      0.691329  0.690262  0.690645  137.000000\n",
      "weighted avg   0.692870  0.693431  0.693002  137.000000\n",
      "Seuil optimal (max F1) = 0.681\n",
      "\n",
      "Moyenne ROC AUC: 0.620 ± 0.349\n",
      "Moyenne AP      : 0.727 ± 0.186\n"
     ]
    }
   ],
   "execution_count": 13
  },
  {
   "metadata": {},
   "cell_type": "markdown",
   "source": "### Calibration des seuils optimaux par fold (F1‑max)",
   "id": "fd2e74cf0496a527"
  },
  {
   "metadata": {
    "ExecuteTime": {
     "end_time": "2025-07-26T12:11:10.831584Z",
     "start_time": "2025-07-26T12:11:10.807540Z"
    }
   },
   "cell_type": "code",
   "source": [
    "# Récupérer les thresholds optimaux pour chaque fold\n",
    "thresholds = []\n",
    "for res in results:\n",
    "    y_true = np.array(res['y_true'])\n",
    "    y_prob = np.array(res['y_prob'])\n",
    "    prec, rec, th = precision_recall_curve(y_true, y_prob)\n",
    "    # calcul du F1 pour chaque seuil\n",
    "    f1 = 2 * (prec * rec) / (prec + rec + 1e-8)\n",
    "    best_idx = np.nanargmax(f1)\n",
    "    best_thresh = th[best_idx]\n",
    "    thresholds.append(best_thresh)\n",
    "    print(f\"→ Fold {res['fold']} : seuil optimal (F1) = {best_thresh:.3f}\")\n",
    "\n",
    "# Seuil global moyen\n",
    "global_thresh = float(np.mean(thresholds))\n",
    "print(f\"\\nSeuil global moyen (moyenne des folds) = {global_thresh:.3f}\")\n",
    "\n",
    "# On injecte dans la config pour l’inférence\n",
    "config.setdefault('inference', {})\n",
    "config['inference']['threshold_global'] = global_thresh\n",
    "\n",
    "config['inference']['thresholds_per_fold'] = {}\n",
    "config['inference'].setdefault('thresholds_per_fold', {})\n",
    "for i, thr in enumerate(thresholds):\n",
    "    config['inference']['thresholds_per_fold'][f'fold_{i}'] = float(thr)\n",
    "\n",
    "# Ré‑écrire la config enrichie\n",
    "with open(f'../configs/config_finetune_resnet18.yaml', 'w') as f:\n",
    "    yaml.dump(config, f)\n",
    "print(\"Config mise à jour avec thresholds optimaux.\")"
   ],
   "id": "d4333c5f42011ef6",
   "outputs": [
    {
     "name": "stdout",
     "output_type": "stream",
     "text": [
      "→ Fold 1 : seuil optimal (F1) = 0.000\n",
      "→ Fold 3 : seuil optimal (F1) = 0.493\n",
      "→ Fold 4 : seuil optimal (F1) = 0.681\n",
      "\n",
      "Seuil global moyen (moyenne des folds) = 0.391\n",
      "Config mise à jour avec thresholds optimaux.\n"
     ]
    }
   ],
   "execution_count": 14
  },
  {
   "metadata": {},
   "cell_type": "markdown",
   "source": "### Temperature Scaling pour affiner la calibration",
   "id": "85cd3556e49dd421"
  },
  {
   "metadata": {
    "ExecuteTime": {
     "end_time": "2025-07-26T12:11:18.654433Z",
     "start_time": "2025-07-26T12:11:18.643262Z"
    }
   },
   "cell_type": "code",
   "source": [
    "class ModelWithTemperature(nn.Module):\n",
    "    \"\"\"\n",
    "    Wrapper autour du modèle pour apprendre un paramètre de température\n",
    "    afin de calibrer les logits via NLL sur l’ensemble de validation agrégé.\n",
    "    \"\"\"\n",
    "    def __init__(self, base_model):\n",
    "        super().__init__()\n",
    "        self.model = base_model\n",
    "        # température initiale = 1\n",
    "        self.temperature = nn.Parameter(torch.ones(1))\n",
    "\n",
    "    def forward(self, x):\n",
    "        logits = self.model(x)\n",
    "        return self.temperature_scale(logits)\n",
    "\n",
    "    def temperature_scale(self, logits):\n",
    "        # divise chaque logit par T\n",
    "        return logits / self.temperature.expand(logits.size(0), -1)\n",
    "\n",
    "    def set_temperature(self, valid_loader):\n",
    "        \"\"\"\n",
    "        Optimise self.temperature pour minimiser la NLL sur valid_loader.\n",
    "        \"\"\"\n",
    "        self.to(device)\n",
    "        # recueillir tous les logits et labels\n",
    "        logits_list = []\n",
    "        labels_list = []\n",
    "        with torch.no_grad():\n",
    "            for imgs, labs in valid_loader:\n",
    "                imgs = imgs.to(device)\n",
    "                logits = self.model(imgs)\n",
    "                logits_list.append(logits)\n",
    "                labels_list.append(labs.to(device))\n",
    "        logits = torch.cat(logits_list)\n",
    "        labels = torch.cat(labels_list)\n",
    "\n",
    "        nll_criterion = nn.CrossEntropyLoss().to(device)\n",
    "        # LBFGS est souvent utilisé pour ce problème convexe\n",
    "        optimizer = optim.LBFGS([self.temperature], lr=0.01, max_iter=50)\n",
    "\n",
    "        def _eval():\n",
    "            optimizer.zero_grad()\n",
    "            loss = nll_criterion(self.temperature_scale(logits), labels)\n",
    "            loss.backward()\n",
    "            return loss\n",
    "\n",
    "        optimizer.step(_eval)\n",
    "\n",
    "        print(f\"→ Température optimale = {self.temperature.item():.3f}\")\n",
    "        return self"
   ],
   "id": "fd86ed4eda096c8c",
   "outputs": [],
   "execution_count": 15
  },
  {
   "metadata": {
    "ExecuteTime": {
     "end_time": "2025-07-26T12:11:57.570564Z",
     "start_time": "2025-07-26T12:11:22.952452Z"
    }
   },
   "cell_type": "code",
   "source": [
    "# --- Préparer le DataLoader agrégé de toutes les validations\n",
    "all_val_idx = []\n",
    "for _, _, val_idx in valid_folds:\n",
    "    all_val_idx += list(val_idx)\n",
    "\n",
    "val_dataset_for_temp = datasets.ImageFolder(\n",
    "    root=os.path.join('..', config['data']['path']),\n",
    "    transform=val_transform  # Use validation transforms for consistency\n",
    ")\n",
    "\n",
    "agg_val_dataset = Subset(val_dataset_for_temp, all_val_idx)\n",
    "agg_val_loader  = DataLoader(\n",
    "    agg_val_dataset,\n",
    "    batch_size=config['data']['batch_size'],\n",
    "    shuffle=False,\n",
    "    num_workers=config['data']['num_workers']\n",
    ")\n",
    "\n",
    "# --- Appliquer temperature scaling\n",
    "temp_model = ModelWithTemperature(model)\n",
    "temp_model.set_temperature(agg_val_loader)\n",
    "\n",
    "# --- Sauvegarder la température dans la config\n",
    "config['inference']['temperature'] = float(temp_model.temperature.item())\n",
    "with open(f'../configs/config_finetune_resnet18.yaml', 'w') as f:\n",
    "    yaml.dump(config, f)\n",
    "print(\"Config mise à jour avec la température de calibration.\")"
   ],
   "id": "51f52c9f1cfb417f",
   "outputs": [
    {
     "name": "stdout",
     "output_type": "stream",
     "text": [
      "→ Température optimale = 1.196\n",
      "Config mise à jour avec la température de calibration.\n"
     ]
    }
   ],
   "execution_count": 16
  },
  {
   "metadata": {},
   "cell_type": "markdown",
   "source": "## 5. Results Visualization",
   "id": "b6e4fc97766cc011"
  },
  {
   "metadata": {
    "ExecuteTime": {
     "end_time": "2025-07-26T12:12:16.088565Z",
     "start_time": "2025-07-26T12:12:15.847679Z"
    }
   },
   "cell_type": "code",
   "source": [
    "rows = []\n",
    "for r in results:\n",
    "    rep = r['report']\n",
    "    rows.append({\n",
    "        'fold':        r['fold'],\n",
    "        'roc_auc':     r['roc_auc'],\n",
    "        'avg_precision': r['average_precision'],\n",
    "        'accuracy':    rep['accuracy'],\n",
    "        'f1_class0':   rep['0']['f1-score'],\n",
    "        'f1_class1':   rep['1']['f1-score']\n",
    "    })\n",
    "df_metrics = pd.DataFrame(rows).set_index('fold')\n",
    "csv_path = os.path.join(FIG_OUT, f\"{run_id}_folds_metrics_report.csv\")\n",
    "df_metrics.to_csv(csv_path, index=True)\n",
    "print(\"=== Résumé des métriques par fold ===\")\n",
    "display(df_metrics)\n",
    "print(\"\\nMoyenne ± écart‑type :\")\n",
    "print(df_metrics.mean().to_frame('mean').join(df_metrics.std().to_frame('std')))\n"
   ],
   "id": "a0fe2c3cb6bfc141",
   "outputs": [
    {
     "name": "stdout",
     "output_type": "stream",
     "text": [
      "=== Résumé des métriques par fold ===\n"
     ]
    },
    {
     "data": {
      "text/plain": [
       "       roc_auc  avg_precision  accuracy  f1_class0  f1_class1\n",
       "fold                                                         \n",
       "1     0.136684       0.473646  0.323232   0.472441   0.056338\n",
       "3     0.949548       0.916312  0.885714   0.912088   0.836735\n",
       "4     0.772415       0.789968  0.693431   0.720000   0.661290"
      ],
      "text/html": [
       "<div>\n",
       "<style scoped>\n",
       "    .dataframe tbody tr th:only-of-type {\n",
       "        vertical-align: middle;\n",
       "    }\n",
       "\n",
       "    .dataframe tbody tr th {\n",
       "        vertical-align: top;\n",
       "    }\n",
       "\n",
       "    .dataframe thead th {\n",
       "        text-align: right;\n",
       "    }\n",
       "</style>\n",
       "<table border=\"1\" class=\"dataframe\">\n",
       "  <thead>\n",
       "    <tr style=\"text-align: right;\">\n",
       "      <th></th>\n",
       "      <th>roc_auc</th>\n",
       "      <th>avg_precision</th>\n",
       "      <th>accuracy</th>\n",
       "      <th>f1_class0</th>\n",
       "      <th>f1_class1</th>\n",
       "    </tr>\n",
       "    <tr>\n",
       "      <th>fold</th>\n",
       "      <th></th>\n",
       "      <th></th>\n",
       "      <th></th>\n",
       "      <th></th>\n",
       "      <th></th>\n",
       "    </tr>\n",
       "  </thead>\n",
       "  <tbody>\n",
       "    <tr>\n",
       "      <th>1</th>\n",
       "      <td>0.136684</td>\n",
       "      <td>0.473646</td>\n",
       "      <td>0.323232</td>\n",
       "      <td>0.472441</td>\n",
       "      <td>0.056338</td>\n",
       "    </tr>\n",
       "    <tr>\n",
       "      <th>3</th>\n",
       "      <td>0.949548</td>\n",
       "      <td>0.916312</td>\n",
       "      <td>0.885714</td>\n",
       "      <td>0.912088</td>\n",
       "      <td>0.836735</td>\n",
       "    </tr>\n",
       "    <tr>\n",
       "      <th>4</th>\n",
       "      <td>0.772415</td>\n",
       "      <td>0.789968</td>\n",
       "      <td>0.693431</td>\n",
       "      <td>0.720000</td>\n",
       "      <td>0.661290</td>\n",
       "    </tr>\n",
       "  </tbody>\n",
       "</table>\n",
       "</div>"
      ]
     },
     "metadata": {},
     "output_type": "display_data"
    },
    {
     "name": "stdout",
     "output_type": "stream",
     "text": [
      "\n",
      "Moyenne ± écart‑type :\n",
      "                   mean       std\n",
      "roc_auc        0.619549  0.427449\n",
      "avg_precision  0.726642  0.228026\n",
      "accuracy       0.634126  0.285892\n",
      "f1_class0      0.701510  0.220406\n",
      "f1_class1      0.518121  0.409424\n"
     ]
    }
   ],
   "execution_count": 17
  },
  {
   "metadata": {
    "ExecuteTime": {
     "end_time": "2025-07-26T12:12:28.689164Z",
     "start_time": "2025-07-26T12:12:28.405545Z"
    }
   },
   "cell_type": "code",
   "source": [
    "plt.figure()\n",
    "plt.boxplot([df_metrics['roc_auc'], df_metrics['avg_precision'], df_metrics['accuracy']],\n",
    "            tick_labels=['ROC AUC','AP','Accuracy'])\n",
    "plt.title(\"Distribution des métriques sur les folds\")\n",
    "plt.ylabel(\"Score\")\n",
    "plt.savefig(os.path.join(FIG_OUT, f\"{run_id}_folds_metrics.png\"), dpi=300)\n",
    "plt.show()\n"
   ],
   "id": "c1882dcaa2fbfd9",
   "outputs": [
    {
     "data": {
      "text/plain": [
       "<Figure size 640x480 with 1 Axes>"
      ],
      "image/png": "[encoded data removed]"
     },
     "metadata": {},
     "output_type": "display_data"
    }
   ],
   "execution_count": 18
  },
  {
   "metadata": {
    "ExecuteTime": {
     "end_time": "2025-07-26T12:12:32.547746Z",
     "start_time": "2025-07-26T12:12:32.399466Z"
    }
   },
   "cell_type": "code",
   "source": [
    "plt.figure()\n",
    "for r in results:\n",
    "    epochs = range(1, len(r['history']['val_loss'])+1)\n",
    "    plt.plot(epochs, r['history']['val_loss'], alpha=0.3, label=f\"Fold {r['fold']}\")\n",
    "# moyenne\n",
    "mean_val = pd.DataFrame([r['history']['val_loss'] for r in results]).mean()\n",
    "epochs = mean_val.index\n",
    "plt.plot(epochs, mean_val, color='black', linewidth=2, label='Moyenne')\n",
    "plt.xlabel(\"Epoch\")\n",
    "plt.ylabel(\"Validation Loss\")\n",
    "plt.title(\"Validation Loss par fold\")\n",
    "plt.legend()\n",
    "plt.savefig(os.path.join(FIG_OUT, f\"{run_id}_folds_loss.png\"), dpi=300)\n",
    "plt.show()\n"
   ],
   "id": "b2b71056346a5bf8",
   "outputs": [
    {
     "data": {
      "text/plain": [
       "<Figure size 640x480 with 1 Axes>"
      ],
      "image/png": "[encoded data removed]"
     },
     "metadata": {},
     "output_type": "display_data"
    }
   ],
   "execution_count": 19
  },
  {
   "metadata": {
    "ExecuteTime": {
     "end_time": "2025-07-26T12:12:40.768785Z",
     "start_time": "2025-07-26T12:12:40.630740Z"
    }
   },
   "cell_type": "code",
   "source": [
    "plt.figure()\n",
    "for r in results:\n",
    "    y_true = r['y_true']\n",
    "    y_prob = r['y_prob']\n",
    "    fpr, tpr, _ = roc_curve(y_true, y_prob)\n",
    "    plt.plot(fpr, tpr, alpha=0.3, label=f\"Fold {r['fold']}\")\n",
    "\n",
    "plt.plot([0,1],[0,1],'--', color='gray')\n",
    "plt.xlabel(\"False Positive Rate\")\n",
    "plt.ylabel(\"True Positive Rate\")\n",
    "plt.title(\"Courbes ROC par fold\")\n",
    "plt.legend()\n",
    "plt.savefig(os.path.join(FIG_OUT, f\"{run_id}_folds_roc.png\"), dpi=300)\n",
    "plt.show()\n"
   ],
   "id": "bb5b2fbe747ef81f",
   "outputs": [
    {
     "data": {
      "text/plain": [
       "<Figure size 640x480 with 1 Axes>"
      ],
      "image/png": "[encoded data removed]"
     },
     "metadata": {},
     "output_type": "display_data"
    }
   ],
   "execution_count": 20
  },
  {
   "metadata": {
    "ExecuteTime": {
     "end_time": "2025-07-26T12:12:45.109902Z",
     "start_time": "2025-07-26T12:12:44.997453Z"
    }
   },
   "cell_type": "code",
   "source": [
    "cm_sum = sum(r['confusion_matrix'] for r in results)\n",
    "plt.figure()\n",
    "sns.heatmap(cm_sum, annot=True, fmt='d', cmap='Blues')\n",
    "plt.xlabel(\"Prédit\")\n",
    "plt.ylabel(\"Réel\")\n",
    "plt.title(\"Matrice de confusion agrégée\")\n",
    "plt.savefig(os.path.join(FIG_OUT, f\"{run_id}_aggregate_confusion_matrix.png\"), dpi=300)\n",
    "plt.show()\n"
   ],
   "id": "91f67d915f228b48",
   "outputs": [
    {
     "data": {
      "text/plain": [
       "<Figure size 640x480 with 2 Axes>"
      ],
      "image/png": "[encoded data removed]"
     },
     "metadata": {},
     "output_type": "display_data"
    }
   ],
   "execution_count": 21
  },
  {
   "metadata": {},
   "cell_type": "markdown",
   "source": "## 6. Save Model & Config",
   "id": "68a3ec70b1182cd2"
  },
  {
   "metadata": {
    "ExecuteTime": {
     "end_time": "2025-07-26T12:12:47.993939Z",
     "start_time": "2025-07-26T12:12:47.889646Z"
    }
   },
   "cell_type": "code",
   "source": [
    "# Sauvegarde du modèle et de la config\n",
    "os.makedirs('../outputs/checkpoints/Switzerland/finetune_resnet18', exist_ok=True)\n",
    "torch.save(model.state_dict(),\n",
    "           f'../outputs/checkpoints/Switzerland/finetune_resnet18/{run_id}_model.pth')\n",
    "\n",
    "os.makedirs('../outputs/configs/Switzerland', exist_ok=True)\n",
    "with open(f'../outputs/configs/Switzerland/{run_id}_config_finetune_resnet18.yaml', 'w') as f:\n",
    "    yaml.dump(config, f)\n",
    "\n",
    "print('Entraînement terminé. Modèle et config enregistrés.')\n"
   ],
   "id": "d45cf438af27c948",
   "outputs": [
    {
     "name": "stdout",
     "output_type": "stream",
     "text": [
      "Entraînement terminé. Modèle et config enregistrés.\n"
     ]
    }
   ],
   "execution_count": 22
  },
  {
   "metadata": {},
   "cell_type": "markdown",
   "source": "## 7. Test",
   "id": "439f2862cbbcf7fa"
  },
  {
   "metadata": {
    "ExecuteTime": {
     "end_time": "2025-07-26T12:12:49.924456Z",
     "start_time": "2025-07-26T12:12:49.919074Z"
    }
   },
   "cell_type": "code",
   "source": [
    "class ToxicityDataset(Dataset):\n",
    "    def __init__(self, root_dirs, transform=None):\n",
    "        \"\"\"\n",
    "        root_dirs : list de chemins, par ex. [\"../data/raw/NewZealand\", \"../data/raw/USA\"]\n",
    "        Chaque sous-dossier contient deux dossiers \"toxic\" et \"non_toxic\".\n",
    "        \"\"\"\n",
    "        self.samples = []\n",
    "        self.transform = transform\n",
    "        for country_dir in root_dirs:\n",
    "            for label_name, label_id in [(\"non_toxic\", 0), (\"toxic\", 1)]:\n",
    "                folder = os.path.join(country_dir, label_name)\n",
    "                for fname in os.listdir(folder):\n",
    "                    if fname.lower().endswith(('.png','.jpg','.jpeg','.tif')):\n",
    "                        self.samples.append((os.path.join(folder, fname), label_id))\n",
    "        # optionnel : shuffle pour mélanger\n",
    "        # random.shuffle(self.samples)\n",
    "\n",
    "    def __len__(self):\n",
    "        return len(self.samples)\n",
    "\n",
    "    def __getitem__(self, idx):\n",
    "        path, label = self.samples[idx]\n",
    "        img = Image.open(path).convert(\"RGB\")\n",
    "        if self.transform:\n",
    "            img = self.transform(img)\n",
    "        return img, label"
   ],
   "id": "e5dff8d1834fa348",
   "outputs": [],
   "execution_count": 23
  },
  {
   "metadata": {
    "ExecuteTime": {
     "end_time": "2025-07-26T12:19:52.884302Z",
     "start_time": "2025-07-26T12:19:44.307554Z"
    }
   },
   "cell_type": "code",
   "source": [
    "# --- 1. Config et device\n",
    "device = torch.device(\"cuda\" if torch.cuda.is_available() else \"cpu\")\n",
    "ckpt_path = \"../models/cv_resnet18/fold1_model.pth\"  # ajuster le chemin vers le .pth\n",
    "\n",
    "# --- 3. Chargement du modèle\n",
    "model = models.resnet18(weights=None)\n",
    "in_feats = model.fc.in_features\n",
    "model.fc = torch.nn.Sequential(\n",
    "    torch.nn.Dropout(p=config[\"training\"][\"dropout_prob\"]),\n",
    "    torch.nn.Linear(in_feats, 2)\n",
    ")\n",
    "model.load_state_dict(torch.load(ckpt_path, map_location=device))\n",
    "model.to(device).eval()\n",
    "\n",
    "# --- 4. Chargement des datasets hors-souche\n",
    "country_dirs = [\"../data/raw/NewZealand\", \"../data/raw/USA\"]\n",
    "dataset = ToxicityDataset(country_dirs, transform=val_transform)\n",
    "loader  = DataLoader(dataset, batch_size=32, shuffle=False, num_workers=0)\n",
    "\n",
    "# --- 5. Boucle d'inférence\n",
    "all_probs = []\n",
    "all_preds = []\n",
    "all_labels = []\n",
    "\n",
    "th = config['inference']['thresholds_per_fold']['fold_1']\n",
    "T  = config['inference']['temperature']\n",
    "\n",
    "print(th)\n",
    "print(T)\n",
    "\n",
    "with torch.no_grad():\n",
    "    for imgs, labels in loader:\n",
    "        imgs = imgs.to(device)\n",
    "        logits = model(imgs)\n",
    "        logits = logits / T\n",
    "        probs = torch.softmax(logits, dim=1)[:,1].cpu().numpy()\n",
    "        preds = (probs >= th)\n",
    "        all_probs.extend(probs)\n",
    "        all_preds.extend(preds)\n",
    "        all_labels.extend(labels.numpy())\n",
    "\n",
    "all_probs = np.array(all_probs)\n",
    "all_preds = np.array(all_preds)\n",
    "all_labels = np.array(all_labels)\n",
    "\n",
    "# --- 6. Metrics\n",
    "acc = accuracy_score(all_labels, all_preds)\n",
    "auc = roc_auc_score(all_labels, all_probs)\n",
    "class_names = ['non_toxic', 'toxic']\n",
    "report = classification_report(all_labels, all_preds, target_names=class_names)\n",
    "cm = confusion_matrix(all_labels, all_preds)\n",
    "\n",
    "print(f\"Hors‑souche (USA+NZ) — Accuracy: {acc:.3f}, AUC: {auc:.3f}\")\n",
    "print(\"Classification Report :\\n\", report)\n",
    "print(\"Confusion Matrix :\\n\", cm)"
   ],
   "id": "ca6494e86ad66b5",
   "outputs": [
    {
     "name": "stdout",
     "output_type": "stream",
     "text": [
      "0.4927164614200592\n",
      "1.1955986022949219\n",
      "Hors‑souche (USA+NZ) — Accuracy: 0.423, AUC: 0.327\n",
      "Classification Report :\n",
      "               precision    recall  f1-score   support\n",
      "\n",
      "   non_toxic       0.27      0.06      0.10        99\n",
      "       toxic       0.44      0.82      0.58        90\n",
      "\n",
      "    accuracy                           0.42       189\n",
      "   macro avg       0.36      0.44      0.34       189\n",
      "weighted avg       0.35      0.42      0.33       189\n",
      "\n",
      "Confusion Matrix :\n",
      " [[ 6 93]\n",
      " [16 74]]\n"
     ]
    }
   ],
   "execution_count": 27
  }
 ],
 "metadata": {
  "kernelspec": {
   "display_name": "Python 3",
   "language": "python",
   "name": "python3"
  },
  "language_info": {
   "codemirror_mode": {
    "name": "ipython",
    "version": 2
   },
   "file_extension": ".py",
   "mimetype": "text/x-python",
   "name": "python",
   "nbconvert_exporter": "python",
   "pygments_lexer": "ipython2",
   "version": "2.7.6"
  }
 },
 "nbformat": 4,
 "nbformat_minor": 5
}

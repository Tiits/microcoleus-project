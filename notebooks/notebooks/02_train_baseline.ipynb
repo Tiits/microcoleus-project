{
 "cells": [
  {
   "metadata": {},
   "cell_type": "markdown",
   "source": [
    "# Entraînement baseline du modèle CNN\n",
    "Ce notebook présente :\n",
    "- Chargement des données prétraitées\n",
    "- Définition d’un modèle CNN simple\n",
    "- Entraînement et évaluation de la baseline\n",
    "- Sauvegarde du meilleur modèle"
   ],
   "id": "b1dc8c88372c711"
  },
  {
   "metadata": {},
   "cell_type": "markdown",
   "source": "## Imports & Paramètres",
   "id": "d878f7b31097a4f2"
  },
  {
   "metadata": {},
   "cell_type": "code",
   "outputs": [],
   "execution_count": null,
   "source": [
    "import os\n",
    "import tensorflow as tf\n",
    "from tensorflow.keras import layers, models, callbacks\n",
    "import matplotlib.pyplot as plt\n",
    "from tensorflow.keras.preprocessing.image import ImageDataGenerator"
   ],
   "id": "e44cd157f5d9b003"
  },
  {
   "metadata": {},
   "cell_type": "code",
   "outputs": [],
   "execution_count": null,
   "source": [
    "# Répertoires\n",
    "DATA_DIR = \"../data/processed\"\n",
    "CHECKPOINT_DIR = \"../outputs/checkpoints\"\n",
    "os.makedirs(CHECKPOINT_DIR, exist_ok=True)\n",
    "\n",
    "# Hyperparamètres\n",
    "IMG_SIZE = (128, 128)\n",
    "BATCH_SIZE = 32\n",
    "EPOCHS = 20\n",
    "LEARNING_RATE = 1e-3"
   ],
   "id": "c087e64fe8586eb6"
  },
  {
   "metadata": {},
   "cell_type": "markdown",
   "source": "## Chargement des données",
   "id": "9baebba0e0452bd6"
  },
  {
   "metadata": {},
   "cell_type": "code",
   "outputs": [],
   "execution_count": null,
   "source": [
    "datagen = ImageDataGenerator(validation_split=0.2)\n",
    "\n",
    "train_gen = datagen.flow_from_directory(\n",
    "    DATA_DIR, target_size=IMG_SIZE, batch_size=BATCH_SIZE,\n",
    "    class_mode=\"categorical\", subset=\"training\", shuffle=True\n",
    ")\n",
    "val_gen = datagen.flow_from_directory(\n",
    "    DATA_DIR, target_size=IMG_SIZE, batch_size=BATCH_SIZE,\n",
    "    class_mode=\"categorical\", subset=\"validation\", shuffle=False\n",
    ")"
   ],
   "id": "38137eef4df4dd30"
  },
  {
   "metadata": {},
   "cell_type": "markdown",
   "source": "## Définition du modèle",
   "id": "ef06b1380dafc754"
  },
  {
   "metadata": {},
   "cell_type": "code",
   "outputs": [],
   "execution_count": null,
   "source": [
    "def build_baseline_cnn(input_shape, num_classes):\n",
    "    model = models.Sequential([\n",
    "        tf.keras.Input(shape=input_shape),\n",
    "        layers.Conv2D(32, 3, activation=\"relu\", padding=\"same\"),\n",
    "        layers.MaxPooling2D(),\n",
    "        layers.Conv2D(64, 3, activation=\"relu\", padding=\"same\"),\n",
    "        layers.MaxPooling2D(),\n",
    "        layers.GlobalAveragePooling2D(),\n",
    "        layers.Dense(128, activation=\"relu\"),\n",
    "        layers.Dropout(0.5),\n",
    "        layers.Dense(num_classes, activation=\"softmax\")\n",
    "    ])\n",
    "    return model\n",
    "\n",
    "model = build_baseline_cnn(IMG_SIZE + (3,), len(train_gen.class_indices))\n",
    "model.compile(\n",
    "    optimizer=tf.keras.optimizers.Adam(learning_rate=LEARNING_RATE),\n",
    "    loss=\"categorical_crossentropy\",\n",
    "    metrics=[\"accuracy\"]\n",
    ")\n",
    "\n",
    "model.summary()"
   ],
   "id": "9054f955aaa76126"
  },
  {
   "metadata": {},
   "cell_type": "markdown",
   "source": "## Callbacks et entraînement",
   "id": "18d2c067a5318572"
  },
  {
   "metadata": {},
   "cell_type": "code",
   "outputs": [],
   "execution_count": null,
   "source": [
    "checkpoint_cb = callbacks.ModelCheckpoint(\n",
    "    os.path.join(CHECKPOINT_DIR, \"baseline_model.keras\"),\n",
    "    save_best_only=True, monitor=\"val_accuracy\", mode=\"max\"\n",
    ")\n",
    "earlystop_cb = callbacks.EarlyStopping(\n",
    "    monitor=\"val_loss\", patience=5, restore_best_weights=True\n",
    ")\n",
    "\n",
    "history = model.fit(\n",
    "    train_gen,\n",
    "    validation_data=val_gen,\n",
    "    epochs=EPOCHS,\n",
    "    callbacks=[checkpoint_cb, earlystop_cb]\n",
    ")"
   ],
   "id": "56d79829af93d81b"
  },
  {
   "metadata": {},
   "cell_type": "markdown",
   "source": "## Visualisation des courbes",
   "id": "250f674237887aa6"
  },
  {
   "metadata": {},
   "cell_type": "code",
   "outputs": [],
   "execution_count": null,
   "source": [
    "plt.figure(figsize=(12,5))\n",
    "plt.subplot(1,2,1)\n",
    "plt.plot(history.history[\"accuracy\"], label=\"Train Acc\")\n",
    "plt.plot(history.history[\"val_accuracy\"], label=\"Val Acc\")\n",
    "plt.legend(); plt.title(\"Accuracy\")\n",
    "\n",
    "plt.subplot(1,2,2)\n",
    "plt.plot(history.history[\"loss\"], label=\"Train Loss\")\n",
    "plt.plot(history.history[\"val_loss\"], label=\"Val Loss\")\n",
    "plt.legend(); plt.title(\"Loss\")\n",
    "plt.show()"
   ],
   "id": "b1d72aa14c1618fb"
  },
  {
   "metadata": {},
   "cell_type": "markdown",
   "source": "## Sauvegarde finale et exemple de prédiction",
   "id": "db0b9565f8239b9c"
  },
  {
   "metadata": {},
   "cell_type": "code",
   "outputs": [],
   "execution_count": null,
   "source": [
    "from tensorflow.keras.models import load_model\n",
    "import numpy as np\n",
    "from PIL import Image"
   ],
   "id": "1c2654fcf9e74f65"
  },
  {
   "metadata": {},
   "cell_type": "code",
   "outputs": [],
   "execution_count": null,
   "source": [
    "best_model = load_model(os.path.join(CHECKPOINT_DIR, \"baseline_model.keras\"))\n",
    "\n",
    "# Exemple prédiction\n",
    "img = Image.open(\"../data/processed/<classe>/<exemple>.jpg\").resize(IMG_SIZE)\n",
    "x = np.array(img) / 255.0\n",
    "pred = best_model.predict(x[np.newaxis])\n",
    "print(\"Classe prédite :\", train_gen.class_indices, \"->\", np.argmax(pred))\n"
   ],
   "id": "f3bc5ac68487aa5"
  }
 ],
 "metadata": {},
 "nbformat": 4,
 "nbformat_minor": 5
}

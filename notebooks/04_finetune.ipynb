{
 "cells": [
  {
   "metadata": {},
   "cell_type": "markdown",
   "source": [
    "# Entrainement finetune de modèles pré-entraînés\n",
    "Ce notebook présente :\n",
    "- Pipeline de prétraitement à partir des splits de finetune\n",
    "- Définition d’un modèle pré-entraîné\n",
    "- Entraînement et évaluation\n",
    "- Sauvegarde du meilleur modèle"
   ],
   "id": "2d07658de0762063"
  },
  {
   "metadata": {},
   "cell_type": "markdown",
   "source": "## Imports & Setup",
   "id": "b5054dc7049f42ef"
  },
  {
   "cell_type": "code",
   "id": "initial_id",
   "metadata": {
    "collapsed": true,
    "ExecuteTime": {
     "end_time": "2025-07-05T19:01:37.825778Z",
     "start_time": "2025-07-05T19:01:37.813985Z"
    }
   },
   "source": [
    "import os\n",
    "import pandas as pd\n",
    "from datetime import date\n",
    "import subprocess\n",
    "import tensorflow as tf\n",
    "from tensorflow.keras import layers, models, callbacks, optimizers, losses, metrics as km\n",
    "from src.config_utils import load_config\n",
    "from src.preprocessing_finetune import get_train_datagen, get_val_datagen\n",
    "import matplotlib.pyplot as plt\n",
    "import numpy as np\n",
    "from sklearn.metrics import f1_score"
   ],
   "outputs": [],
   "execution_count": 2
  },
  {
   "metadata": {
    "ExecuteTime": {
     "end_time": "2025-07-05T19:01:39.768069Z",
     "start_time": "2025-07-05T19:01:39.733097Z"
    }
   },
   "cell_type": "code",
   "source": [
    "# Génération du Run ID: date + git hash\n",
    "today = date.today().isoformat()\n",
    "commit = subprocess.check_output([\"git\",\"rev-parse\",\"--short\",\"HEAD\"]).decode().strip()\n",
    "RUN_ID = f\"{today}_{commit}\"\n",
    "\n",
    "# Chargement de la configuration via un chemin relatif\n",
    "config = load_config('../configs/config_finetune.yaml')\n",
    "tf.random.set_seed(config['seed'])\n",
    "\n",
    "print(\"Run ID :\", RUN_ID)"
   ],
   "id": "81698375c8fe39d0",
   "outputs": [
    {
     "name": "stdout",
     "output_type": "stream",
     "text": [
      "Run ID : 2025-07-05_a0570fa\n"
     ]
    }
   ],
   "execution_count": 3
  },
  {
   "metadata": {},
   "cell_type": "markdown",
   "source": "##  Lecture des splits et création des DataFrames",
   "id": "5626409dcbf668cc"
  },
  {
   "metadata": {
    "ExecuteTime": {
     "end_time": "2025-07-05T19:01:44.993944Z",
     "start_time": "2025-07-05T19:01:44.988846Z"
    }
   },
   "cell_type": "code",
   "source": [
    "train_txt = \"../splits/all/finetune/train.txt\"\n",
    "val_txt   = \"../splits/all/finetune/val.txt\"\n",
    "\n",
    "with open(train_txt) as f: train_files = [l.strip() for l in f]\n",
    "with open(val_txt)   as f: val_files   = [l.strip() for l in f]\n",
    "\n",
    "train_df = pd.DataFrame({\n",
    "    'filename': train_files,\n",
    "    'class': [os.path.basename(os.path.dirname(p)) for p in train_files]\n",
    "})\n",
    "\n",
    "val_df = pd.DataFrame({\n",
    "    'filename': val_files,\n",
    "    'class': [os.path.basename(os.path.dirname(p)) for p in val_files]\n",
    "})"
   ],
   "id": "bcafdcc1f1e2d86d",
   "outputs": [],
   "execution_count": 4
  },
  {
   "metadata": {},
   "cell_type": "markdown",
   "source": "## Générateurs Keras",
   "id": "c749a02c2bf5fb3b"
  },
  {
   "metadata": {
    "ExecuteTime": {
     "end_time": "2025-07-05T19:01:47.315086Z",
     "start_time": "2025-07-05T19:01:47.297418Z"
    }
   },
   "cell_type": "code",
   "source": [
    "train_datagen = get_train_datagen(config)\n",
    "val_datagen   = get_val_datagen()\n",
    "\n",
    "train_gen = train_datagen.flow_from_dataframe(\n",
    "    train_df, x_col='filename', y_col='class',\n",
    "    target_size=tuple(config['input']['size']),\n",
    "    batch_size=config['input']['batch_size'],\n",
    "    class_mode='binary',\n",
    "    shuffle=True\n",
    ")\n",
    "\n",
    "val_gen = val_datagen.flow_from_dataframe(\n",
    "    val_df, x_col='filename', y_col='class',\n",
    "    target_size=tuple(config['input']['size']),\n",
    "    batch_size=config['input']['batch_size'],\n",
    "    class_mode='binary',\n",
    "    shuffle=False\n",
    ")"
   ],
   "id": "d0c3cb8a7c263770",
   "outputs": [
    {
     "name": "stdout",
     "output_type": "stream",
     "text": [
      "Found 413 validated image filenames belonging to 2 classes.\n",
      "Found 89 validated image filenames belonging to 2 classes.\n"
     ]
    }
   ],
   "execution_count": 5
  },
  {
   "metadata": {},
   "cell_type": "markdown",
   "source": "## Construction du modèle",
   "id": "9fc418c57525b703"
  },
  {
   "metadata": {
    "ExecuteTime": {
     "end_time": "2025-07-05T19:01:50.067341Z",
     "start_time": "2025-07-05T19:01:49.481272Z"
    }
   },
   "cell_type": "code",
   "source": [
    "base = tf.keras.applications.ResNet50(\n",
    "    include_top=False,\n",
    "    weights='imagenet' if config['model']['pretrained'] else None,\n",
    "    input_shape=tuple(config['input']['size']) + (3,),\n",
    "    pooling='avg'\n",
    ")\n",
    "\n",
    "x = layers.Dropout(0.4)(base.output)\n",
    "output = layers.Dense(config['model']['num_classes'])(x)\n",
    "model = models.Model(inputs=base.input, outputs=output)"
   ],
   "id": "c69bf9f7df383bb2",
   "outputs": [],
   "execution_count": 6
  },
  {
   "metadata": {},
   "cell_type": "markdown",
   "source": "## Compilation",
   "id": "b5d7b83ebecb1160"
  },
  {
   "metadata": {
    "ExecuteTime": {
     "end_time": "2025-07-05T19:01:52.110563Z",
     "start_time": "2025-07-05T19:01:52.098712Z"
    }
   },
   "cell_type": "code",
   "source": [
    "opt = optimizers.AdamW(\n",
    "    learning_rate=float(config['training']['optimizer']['lr']),\n",
    "    weight_decay=float(config['training']['optimizer']['weight_decay'])\n",
    ")\n",
    "\n",
    "loss_fn = losses.BinaryCrossentropy(from_logits=True)\n",
    "\n",
    "metric_list = [\n",
    "    'accuracy',\n",
    "    km.Precision(name='precision_toxic'),\n",
    "    km.Recall(name='recall_toxic'),\n",
    "    km.AUC(name='roc_auc'),\n",
    "    km.AUC(name='pr_auc', curve='PR')\n",
    "]\n",
    "\n",
    "model.compile(optimizer=opt, loss=loss_fn, metrics=metric_list)"
   ],
   "id": "161654d3dc5b11e6",
   "outputs": [],
   "execution_count": 7
  },
  {
   "metadata": {},
   "cell_type": "markdown",
   "source": "## Callbacks et chemins",
   "id": "912b80948166bfa9"
  },
  {
   "metadata": {
    "ExecuteTime": {
     "end_time": "2025-07-05T19:02:43.159082Z",
     "start_time": "2025-07-05T19:02:43.155849Z"
    }
   },
   "cell_type": "code",
   "source": [
    "ckpt_dir = \"../outputs/checkpoints/all/finetune\"\n",
    "os.makedirs(ckpt_dir, exist_ok=True)\n",
    "\n",
    "ckpt_path = os.path.join(ckpt_dir, 'finetune_resnet50.keras')\n",
    "\n",
    "es = callbacks.EarlyStopping(\n",
    "    monitor=config['training']['callbacks']['early_stopping']['monitor'],\n",
    "    mode=config['training']['callbacks']['early_stopping']['mode'],\n",
    "    patience=config['training']['callbacks']['early_stopping']['patience']\n",
    ")\n",
    "\n",
    "mc = callbacks.ModelCheckpoint(\n",
    "    filepath=ckpt_path,\n",
    "    monitor=config['training']['callbacks']['model_checkpoint']['monitor'],\n",
    "    mode=config['training']['callbacks']['model_checkpoint']['mode'],\n",
    "    save_best_only=True\n",
    ")"
   ],
   "id": "d2bc0d04d2d75a3f",
   "outputs": [],
   "execution_count": 10
  },
  {
   "metadata": {},
   "cell_type": "markdown",
   "source": "## Calcul des poids de classes",
   "id": "bbc502bf0108c11f"
  },
  {
   "metadata": {
    "ExecuteTime": {
     "end_time": "2025-07-05T19:03:09.318519Z",
     "start_time": "2025-07-05T19:03:09.316465Z"
    }
   },
   "cell_type": "code",
   "source": [
    "cw = {\n",
    "    0: config['loss']['class_weights']['non_toxic'],\n",
    "    1: config['loss']['class_weights']['toxic']\n",
    "}"
   ],
   "id": "4224e29d94baf7f9",
   "outputs": [],
   "execution_count": 12
  },
  {
   "metadata": {},
   "cell_type": "markdown",
   "source": "## Entraînement",
   "id": "a9e0bbb78afd1891"
  },
  {
   "metadata": {
    "ExecuteTime": {
     "end_time": "2025-07-05T19:12:56.464773Z",
     "start_time": "2025-07-05T19:03:12.611790Z"
    }
   },
   "cell_type": "code",
   "source": [
    "history = model.fit(\n",
    "    train_gen,\n",
    "    epochs=config['training']['epochs'],\n",
    "    validation_data=val_gen,\n",
    "    callbacks=[es, mc],\n",
    "    class_weight=cw\n",
    ")"
   ],
   "id": "9a7536b1a7f0f992",
   "outputs": [
    {
     "name": "stderr",
     "output_type": "stream",
     "text": [
      "/Users/titou/Library/Mobile Documents/com~apple~CloudDocs/Documents/UniNe/Projet de Bachelor/Git/microcoleus-project/venv/lib/python3.12/site-packages/keras/src/trainers/data_adapters/py_dataset_adapter.py:121: UserWarning: Your `PyDataset` class should call `super().__init__(**kwargs)` in its constructor. `**kwargs` can include `workers`, `use_multiprocessing`, `max_queue_size`. Do not pass these arguments to `fit()`, as they will be ignored.\n",
      "  self._warn_if_super_not_called()\n"
     ]
    },
    {
     "name": "stdout",
     "output_type": "stream",
     "text": [
      "Epoch 1/40\n",
      "\u001B[1m13/13\u001B[0m \u001B[32m━━━━━━━━━━━━━━━━━━━━\u001B[0m\u001B[37m\u001B[0m \u001B[1m57s\u001B[0m 3s/step - accuracy: 0.5569 - loss: 0.3494 - pr_auc: 0.6612 - precision_toxic: 0.6561 - recall_toxic: 0.4509 - roc_auc: 0.6133 - val_accuracy: 0.5843 - val_loss: 1.3707 - val_pr_auc: 0.5843 - val_precision_toxic: 0.5843 - val_recall_toxic: 1.0000 - val_roc_auc: 0.5000\n",
      "Epoch 2/40\n",
      "\u001B[1m13/13\u001B[0m \u001B[32m━━━━━━━━━━━━━━━━━━━━\u001B[0m\u001B[37m\u001B[0m \u001B[1m45s\u001B[0m 3s/step - accuracy: 0.8288 - loss: 0.2172 - pr_auc: 0.8681 - precision_toxic: 0.8833 - recall_toxic: 0.8039 - roc_auc: 0.8512 - val_accuracy: 0.4157 - val_loss: 1.2446 - val_pr_auc: 0.5843 - val_precision_toxic: 0.0000e+00 - val_recall_toxic: 0.0000e+00 - val_roc_auc: 0.5000\n",
      "Epoch 3/40\n",
      "\u001B[1m13/13\u001B[0m \u001B[32m━━━━━━━━━━━━━━━━━━━━\u001B[0m\u001B[37m\u001B[0m \u001B[1m44s\u001B[0m 3s/step - accuracy: 0.8926 - loss: 0.1195 - pr_auc: 0.9445 - precision_toxic: 0.9544 - recall_toxic: 0.8654 - roc_auc: 0.9243 - val_accuracy: 0.5843 - val_loss: 0.7748 - val_pr_auc: 0.5843 - val_precision_toxic: 0.5843 - val_recall_toxic: 1.0000 - val_roc_auc: 0.5000\n",
      "Epoch 4/40\n",
      "\u001B[1m13/13\u001B[0m \u001B[32m━━━━━━━━━━━━━━━━━━━━\u001B[0m\u001B[37m\u001B[0m \u001B[1m43s\u001B[0m 3s/step - accuracy: 0.9209 - loss: 0.0891 - pr_auc: 0.9660 - precision_toxic: 0.9754 - recall_toxic: 0.8817 - roc_auc: 0.9491 - val_accuracy: 0.5843 - val_loss: 1.3406 - val_pr_auc: 0.5843 - val_precision_toxic: 0.5843 - val_recall_toxic: 1.0000 - val_roc_auc: 0.5000\n",
      "Epoch 5/40\n",
      "\u001B[1m13/13\u001B[0m \u001B[32m━━━━━━━━━━━━━━━━━━━━\u001B[0m\u001B[37m\u001B[0m \u001B[1m44s\u001B[0m 3s/step - accuracy: 0.9218 - loss: 0.0996 - pr_auc: 0.9433 - precision_toxic: 0.9527 - recall_toxic: 0.9131 - roc_auc: 0.9358 - val_accuracy: 0.5843 - val_loss: 1.5528 - val_pr_auc: 0.5843 - val_precision_toxic: 0.5843 - val_recall_toxic: 1.0000 - val_roc_auc: 0.5000\n",
      "Epoch 6/40\n",
      "\u001B[1m13/13\u001B[0m \u001B[32m━━━━━━━━━━━━━━━━━━━━\u001B[0m\u001B[37m\u001B[0m \u001B[1m43s\u001B[0m 3s/step - accuracy: 0.9333 - loss: 0.0789 - pr_auc: 0.9773 - precision_toxic: 0.9785 - recall_toxic: 0.9097 - roc_auc: 0.9616 - val_accuracy: 0.5843 - val_loss: 1.0180 - val_pr_auc: 0.5843 - val_precision_toxic: 0.5843 - val_recall_toxic: 1.0000 - val_roc_auc: 0.5000\n",
      "Epoch 7/40\n",
      "\u001B[1m13/13\u001B[0m \u001B[32m━━━━━━━━━━━━━━━━━━━━\u001B[0m\u001B[37m\u001B[0m \u001B[1m43s\u001B[0m 3s/step - accuracy: 0.9545 - loss: 0.0736 - pr_auc: 0.9640 - precision_toxic: 0.9614 - recall_toxic: 0.9606 - roc_auc: 0.9658 - val_accuracy: 0.5843 - val_loss: 3.2364 - val_pr_auc: 0.5843 - val_precision_toxic: 0.5843 - val_recall_toxic: 1.0000 - val_roc_auc: 0.5000\n",
      "Epoch 8/40\n",
      "\u001B[1m13/13\u001B[0m \u001B[32m━━━━━━━━━━━━━━━━━━━━\u001B[0m\u001B[37m\u001B[0m \u001B[1m44s\u001B[0m 3s/step - accuracy: 0.9383 - loss: 0.0756 - pr_auc: 0.9684 - precision_toxic: 0.9820 - recall_toxic: 0.9085 - roc_auc: 0.9617 - val_accuracy: 0.3371 - val_loss: 0.6968 - val_pr_auc: 0.4441 - val_precision_toxic: 0.3478 - val_recall_toxic: 0.1538 - val_roc_auc: 0.2716\n",
      "Epoch 9/40\n",
      "\u001B[1m13/13\u001B[0m \u001B[32m━━━━━━━━━━━━━━━━━━━━\u001B[0m\u001B[37m\u001B[0m \u001B[1m44s\u001B[0m 3s/step - accuracy: 0.9337 - loss: 0.0779 - pr_auc: 0.9609 - precision_toxic: 0.9650 - recall_toxic: 0.9182 - roc_auc: 0.9549 - val_accuracy: 0.4157 - val_loss: 0.7906 - val_pr_auc: 0.5843 - val_precision_toxic: 0.0000e+00 - val_recall_toxic: 0.0000e+00 - val_roc_auc: 0.5000\n",
      "Epoch 10/40\n",
      "\u001B[1m13/13\u001B[0m \u001B[32m━━━━━━━━━━━━━━━━━━━━\u001B[0m\u001B[37m\u001B[0m \u001B[1m44s\u001B[0m 3s/step - accuracy: 0.9291 - loss: 0.1052 - pr_auc: 0.9489 - precision_toxic: 0.9565 - recall_toxic: 0.9270 - roc_auc: 0.9444 - val_accuracy: 0.4157 - val_loss: 5.8058 - val_pr_auc: 0.5843 - val_precision_toxic: 0.0000e+00 - val_recall_toxic: 0.0000e+00 - val_roc_auc: 0.5000\n",
      "Epoch 11/40\n",
      "\u001B[1m13/13\u001B[0m \u001B[32m━━━━━━━━━━━━━━━━━━━━\u001B[0m\u001B[37m\u001B[0m \u001B[1m44s\u001B[0m 3s/step - accuracy: 0.9275 - loss: 0.0787 - pr_auc: 0.9697 - precision_toxic: 0.9603 - recall_toxic: 0.9158 - roc_auc: 0.9605 - val_accuracy: 0.5843 - val_loss: 0.7122 - val_pr_auc: 0.6043 - val_precision_toxic: 0.5843 - val_recall_toxic: 1.0000 - val_roc_auc: 0.5728\n",
      "Epoch 12/40\n",
      "\u001B[1m13/13\u001B[0m \u001B[32m━━━━━━━━━━━━━━━━━━━━\u001B[0m\u001B[37m\u001B[0m \u001B[1m44s\u001B[0m 3s/step - accuracy: 0.9736 - loss: 0.0565 - pr_auc: 0.9719 - precision_toxic: 0.9774 - recall_toxic: 0.9756 - roc_auc: 0.9772 - val_accuracy: 0.4157 - val_loss: 1.9686 - val_pr_auc: 0.5843 - val_precision_toxic: 0.0000e+00 - val_recall_toxic: 0.0000e+00 - val_roc_auc: 0.5000\n",
      "Epoch 13/40\n",
      "\u001B[1m13/13\u001B[0m \u001B[32m━━━━━━━━━━━━━━━━━━━━\u001B[0m\u001B[37m\u001B[0m \u001B[1m45s\u001B[0m 3s/step - accuracy: 0.9648 - loss: 0.0437 - pr_auc: 0.9796 - precision_toxic: 0.9816 - recall_toxic: 0.9591 - roc_auc: 0.9757 - val_accuracy: 0.4157 - val_loss: 2.0534 - val_pr_auc: 0.5843 - val_precision_toxic: 0.0000e+00 - val_recall_toxic: 0.0000e+00 - val_roc_auc: 0.5000\n"
     ]
    }
   ],
   "execution_count": 13
  },
  {
   "metadata": {},
   "cell_type": "markdown",
   "source": "## Sauvegarde de l’historique",
   "id": "e81ea77bb48e5534"
  },
  {
   "metadata": {
    "ExecuteTime": {
     "end_time": "2025-07-05T19:13:39.083388Z",
     "start_time": "2025-07-05T19:13:39.077448Z"
    }
   },
   "cell_type": "code",
   "source": [
    "hist_path = '../outputs/checkpoints/all/finetune/history_finetune_resnet50.pkl'\n",
    "pd.to_pickle(history.history, hist_path)"
   ],
   "id": "d346de2d1a35cdb",
   "outputs": [],
   "execution_count": 14
  },
  {
   "metadata": {},
   "cell_type": "markdown",
   "source": "## Tracé des courbes d’entraînement",
   "id": "de8653d8875d8bfc"
  },
  {
   "metadata": {
    "ExecuteTime": {
     "end_time": "2025-07-05T19:13:58.131577Z",
     "start_time": "2025-07-05T19:13:58.054129Z"
    }
   },
   "cell_type": "code",
   "source": [
    "hist = pd.read_pickle('../outputs/checkpoints/all/finetune/history_finetune_resnet50.pkl')\n",
    "plt.plot(hist['loss'], label='train_loss')\n",
    "plt.plot(hist['val_loss'], label='val_loss')\n",
    "plt.plot(hist['recall_toxic'], label='train_recall_toxic')\n",
    "plt.plot(hist['val_recall_toxic'], label='val_recall_toxic')\n",
    "plt.legend()\n",
    "plt.show()\n"
   ],
   "id": "5138023486e1d07a",
   "outputs": [
    {
     "data": {
      "text/plain": [
       "<Figure size 640x480 with 1 Axes>"
      ],
      "image/png": "[encoded data removed]"
     },
     "metadata": {},
     "output_type": "display_data"
    }
   ],
   "execution_count": 16
  }
 ],
 "metadata": {
  "kernelspec": {
   "display_name": "Python 3",
   "language": "python",
   "name": "python3"
  },
  "language_info": {
   "codemirror_mode": {
    "name": "ipython",
    "version": 2
   },
   "file_extension": ".py",
   "mimetype": "text/x-python",
   "name": "python",
   "nbconvert_exporter": "python",
   "pygments_lexer": "ipython2",
   "version": "2.7.6"
  }
 },
 "nbformat": 4,
 "nbformat_minor": 5
}
